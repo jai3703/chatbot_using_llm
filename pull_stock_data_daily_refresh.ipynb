{
 "cells": [
  {
   "cell_type": "code",
   "execution_count": 1,
   "metadata": {},
   "outputs": [],
   "source": [
    "import pandas as pd\n",
    "import numpy as np\n",
    "import warnings\n",
    "warnings.filterwarnings(\"ignore\")\n",
    "import datetime\n",
    "from jugaad_data.nse import stock_df\n",
    "import os\n",
    "from dotenv import load_dotenv\n",
    "from sqlalchemy import create_engine"
   ]
  },
  {
   "cell_type": "code",
   "execution_count": 2,
   "metadata": {},
   "outputs": [],
   "source": [
    "# Load environment variables from .env file\n",
    "load_dotenv()\n",
    "# Access the database URL\n",
    "db_url = os.getenv('DB_URL')"
   ]
  },
  {
   "cell_type": "code",
   "execution_count": 4,
   "metadata": {},
   "outputs": [
    {
     "name": "stdout",
     "output_type": "stream",
     "text": [
      "data pulled from sql table\n",
      "latest stocks data pulled\n",
      "0 rows successfully added in nifty_top_500_stocks\n"
     ]
    }
   ],
   "source": [
    "# Create connect sql database\n",
    "def create_connection_database(db_url):\n",
    "    # Database connection string\n",
    "    db_url = db_url\n",
    "    # Create an SQLAlchemy engine\n",
    "    return create_engine(db_url)\n",
    "\n",
    "# read data from the PostgreSQL table\n",
    "try:\n",
    "   with create_connection_database(db_url).connect() as connection:\n",
    "    table_name = \"nifty_top_500_stocks\"\n",
    "    query = f\"SELECT * from {table_name};\"\n",
    "    df = pd.read_sql_query(query, con=create_connection_database(db_url))\n",
    "    print(\"data pulled from sql table\")\n",
    "except Exception as e:\n",
    "    print(f\"Error: {e}\")\n",
    "\n",
    "\n",
    "def pull_stock_data(stock_symbol:str,start_date:datetime) -> pd.DataFrame:\n",
    "    today = datetime.date.today()\n",
    "    data = stock_df(symbol=stock_symbol, from_date=start_date,\n",
    "            to_date=today, series=\"EQ\")\n",
    "    return data\n",
    "\n",
    "# check last updated date for each stock and add data till current date\n",
    "master_data = pd.DataFrame()\n",
    "for symbol in df.SYMBOL.unique():\n",
    "    start_date = df[df.SYMBOL == symbol].DATE.max()\n",
    "    try:\n",
    "        data = pull_stock_data(stock_symbol=symbol,start_date=start_date)\n",
    "        master_data = pd.concat([master_data,data],axis=0)\n",
    "    except:\n",
    "        pass\n",
    "\n",
    "print(\"latest stocks data pulled\")\n",
    "\n",
    "# add new data in database\n",
    "try:\n",
    "   with create_connection_database(db_url).connect() as connection:\n",
    "    table_name = \"nifty_top_500_stocks\"\n",
    "    master_data.to_sql(table_name,create_connection_database(db_url),index=False,if_exists='append')\n",
    "    print(f\"{len(master_data)} rows successfully added in {table_name}\")\n",
    "except Exception as e:\n",
    "    print(f\"Error: {e}\")"
   ]
  }
 ],
 "metadata": {
  "kernelspec": {
   "display_name": "Python 3",
   "language": "python",
   "name": "python3"
  },
  "language_info": {
   "codemirror_mode": {
    "name": "ipython",
    "version": 3
   },
   "file_extension": ".py",
   "mimetype": "text/x-python",
   "name": "python",
   "nbconvert_exporter": "python",
   "pygments_lexer": "ipython3",
   "version": "3.12.8"
  }
 },
 "nbformat": 4,
 "nbformat_minor": 2
}
