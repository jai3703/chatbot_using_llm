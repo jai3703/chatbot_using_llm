{
 "cells": [
  {
   "cell_type": "code",
   "execution_count": 1,
   "metadata": {},
   "outputs": [],
   "source": [
    "import pandas as pd"
   ]
  },
  {
   "cell_type": "code",
   "execution_count": 3,
   "metadata": {},
   "outputs": [
    {
     "name": "stdout",
     "output_type": "stream",
     "text": [
      "<class 'pandas.core.frame.DataFrame'>\n",
      "RangeIndex: 45296 entries, 0 to 45295\n",
      "Data columns (total 20 columns):\n",
      " #   Column               Non-Null Count  Dtype  \n",
      "---  ------               --------------  -----  \n",
      " 0   Unnamed: 0           45296 non-null  int64  \n",
      " 1   Series               45296 non-null  object \n",
      " 2   Date                 45296 non-null  object \n",
      " 3   PrevClose            45296 non-null  float64\n",
      " 4   OpenPrice            45296 non-null  float64\n",
      " 5   HighPrice            45296 non-null  float64\n",
      " 6   LowPrice             45296 non-null  float64\n",
      " 7   LastPrice            45296 non-null  float64\n",
      " 8   ClosePrice           45296 non-null  float64\n",
      " 9   AveragePrice         45296 non-null  float64\n",
      " 10  TotalTradedQuantity  45296 non-null  int64  \n",
      " 11  TurnoverInRs         45296 non-null  float64\n",
      " 12  No.ofTrades          45296 non-null  int64  \n",
      " 13  DeliverableQty       39388 non-null  float64\n",
      " 14  %DlyQttoTradedQty    39388 non-null  float64\n",
      " 15  Symbol               45296 non-null  object \n",
      " 16  real_body            45296 non-null  float64\n",
      " 17  lower_shadow         45296 non-null  float64\n",
      " 18  upper_shadow         45296 non-null  float64\n",
      " 19  bullish_murubuzo     45296 non-null  bool   \n",
      "dtypes: bool(1), float64(13), int64(3), object(3)\n",
      "memory usage: 6.6+ MB\n"
     ]
    }
   ],
   "source": [
    "stocks_data = pd.read_excel(\"master_data_ta.xlsx\")\n",
    "stocks_data.info()"
   ]
  }
 ],
 "metadata": {
  "kernelspec": {
   "display_name": "Python 3",
   "language": "python",
   "name": "python3"
  },
  "language_info": {
   "codemirror_mode": {
    "name": "ipython",
    "version": 3
   },
   "file_extension": ".py",
   "mimetype": "text/x-python",
   "name": "python",
   "nbconvert_exporter": "python",
   "pygments_lexer": "ipython3",
   "version": "3.12.8"
  }
 },
 "nbformat": 4,
 "nbformat_minor": 2
}
