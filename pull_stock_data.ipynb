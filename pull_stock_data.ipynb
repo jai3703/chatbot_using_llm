{
 "cells": [
  {
   "cell_type": "code",
   "execution_count": 2,
   "metadata": {},
   "outputs": [],
   "source": [
    "from nselib import capital_market\n",
    "import pandas as pd\n",
    "import warnings\n",
    "warnings.filterwarnings(\"ignore\")\n",
    "import plotly.express as px"
   ]
  },
  {
   "cell_type": "code",
   "execution_count": 3,
   "metadata": {},
   "outputs": [
    {
     "data": {
      "text/plain": [
       "['20MICRONS',\n",
       " '21STCENMGM',\n",
       " '360ONE',\n",
       " '3IINFOLTD',\n",
       " '3MINDIA',\n",
       " '3PLAND',\n",
       " '5PAISA',\n",
       " '63MOONS',\n",
       " 'A2ZINFRA',\n",
       " 'AAATECH',\n",
       " 'AADHARHFC',\n",
       " 'AAKASH',\n",
       " 'AAREYDRUGS',\n",
       " 'AARON',\n",
       " 'AARTECH',\n",
       " 'AARTIDRUGS',\n",
       " 'AARTIIND',\n",
       " 'AARTIPHARM',\n",
       " 'AARTISURF',\n",
       " 'AARVEEDEN',\n",
       " 'AARVI',\n",
       " 'AAVAS',\n",
       " 'ABAN',\n",
       " 'ABB',\n",
       " 'ABBOTINDIA',\n",
       " 'ABCAPITAL',\n",
       " 'ABDL',\n",
       " 'ABFRL',\n",
       " 'ABMINTLLTD',\n",
       " 'ABSLAMC',\n",
       " 'ACC',\n",
       " 'ACCELYA',\n",
       " 'ACCURACY',\n",
       " 'ACE',\n",
       " 'ACEINTEG',\n",
       " 'ACI',\n",
       " 'ACL',\n",
       " 'ACLGATI',\n",
       " 'ADANIENSOL',\n",
       " 'ADANIENT',\n",
       " 'ADANIGREEN',\n",
       " 'ADANIPORTS',\n",
       " 'ADANIPOWER',\n",
       " 'ADFFOODS',\n",
       " 'ADL',\n",
       " 'ADORWELD',\n",
       " 'ADROITINFO',\n",
       " 'ADSL',\n",
       " 'ADVANIHOTR',\n",
       " 'ADVENZYMES',\n",
       " 'AEGISLOG',\n",
       " 'AEROFLEX',\n",
       " 'AETHER',\n",
       " 'AFFLE',\n",
       " 'AFIL',\n",
       " 'AGARIND',\n",
       " 'AGI',\n",
       " 'AGIIL',\n",
       " 'AGRITECH',\n",
       " 'AGROPHOS',\n",
       " 'AGSTRA',\n",
       " 'AHL',\n",
       " 'AHLADA',\n",
       " 'AHLEAST',\n",
       " 'AHLUCONT',\n",
       " 'AIAENG',\n",
       " 'AIIL',\n",
       " 'AIRAN',\n",
       " 'AIROLAM',\n",
       " 'AJANTPHARM',\n",
       " 'AJMERA',\n",
       " 'AJOONI',\n",
       " 'AKASH',\n",
       " 'AKG',\n",
       " 'AKI',\n",
       " 'AKSH-RE',\n",
       " 'AKSHAR',\n",
       " 'AKSHARCHEM',\n",
       " 'AKSHOPTFBR',\n",
       " 'AKUMS',\n",
       " 'AKZOINDIA',\n",
       " 'ALANKIT',\n",
       " 'ALBERTDAVD',\n",
       " 'ALEMBICLTD',\n",
       " 'ALICON',\n",
       " 'ALKALI',\n",
       " 'ALKEM',\n",
       " 'ALKYLAMINE',\n",
       " 'ALLCARGO',\n",
       " 'ALLSEC',\n",
       " 'ALMONDZ',\n",
       " 'ALOKINDS',\n",
       " 'ALPA',\n",
       " 'ALPHAGEO',\n",
       " 'ALPSINDUS',\n",
       " 'AMBER',\n",
       " 'AMBICAAGAR',\n",
       " 'AMBIKCO',\n",
       " 'AMBUJACEM',\n",
       " 'AMDIND',\n",
       " 'AMIORG',\n",
       " 'AMJLAND',\n",
       " 'AMNPLST',\n",
       " 'AMRUTANJAN',\n",
       " 'ANANDRATHI',\n",
       " 'ANANTRAJ',\n",
       " 'ANDHRAPAP',\n",
       " 'ANDHRSUGAR',\n",
       " 'ANGELONE',\n",
       " 'ANIKINDS',\n",
       " 'ANMOL',\n",
       " 'ANSALAPI',\n",
       " 'ANTGRAPHIC',\n",
       " 'ANUP',\n",
       " 'ANURAS',\n",
       " 'APARINDS',\n",
       " 'APCL',\n",
       " 'APCOTEXIND',\n",
       " 'APEX',\n",
       " 'APLAPOLLO',\n",
       " 'APLLTD',\n",
       " 'APOLLO',\n",
       " 'APOLLOHOSP',\n",
       " 'APOLLOPIPE',\n",
       " 'APOLLOTYRE',\n",
       " 'APOLSINHOT',\n",
       " 'APTECHT',\n",
       " 'APTUS',\n",
       " 'ARCHIDPLY',\n",
       " 'ARCHIES',\n",
       " 'ARE&M',\n",
       " 'ARENTERP',\n",
       " 'ARIES',\n",
       " 'ARIHANTCAP',\n",
       " 'ARIHANTSUP',\n",
       " 'ARMANFIN',\n",
       " 'AROGRANITE',\n",
       " 'ARROWGREEN',\n",
       " 'ARSSINFRA',\n",
       " 'ARTEMISMED',\n",
       " 'ARTNIRMAN',\n",
       " 'ARVEE',\n",
       " 'ARVIND',\n",
       " 'ARVINDFASN',\n",
       " 'ARVSMART',\n",
       " 'ASAHIINDIA',\n",
       " 'ASAHISONG',\n",
       " 'ASAL',\n",
       " 'ASALCBR',\n",
       " 'ASHAPURMIN',\n",
       " 'ASHIANA',\n",
       " 'ASHIMASYN',\n",
       " 'ASHOKA',\n",
       " 'ASHOKAMET',\n",
       " 'ASHOKLEY',\n",
       " 'ASIANENE',\n",
       " 'ASIANHOTNR',\n",
       " 'ASIANPAINT',\n",
       " 'ASIANTILES',\n",
       " 'ASKAUTOLTD',\n",
       " 'ASMS',\n",
       " 'ASPINWALL',\n",
       " 'ASTEC',\n",
       " 'ASTERDM',\n",
       " 'ASTRAL',\n",
       " 'ASTRAMICRO',\n",
       " 'ASTRAZEN',\n",
       " 'ASTRON',\n",
       " 'ATALREAL',\n",
       " 'ATAM',\n",
       " 'ATFL',\n",
       " 'ATGL',\n",
       " 'ATL',\n",
       " 'ATLANTAA',\n",
       " 'ATUL',\n",
       " 'ATULAUTO',\n",
       " 'AUBANK',\n",
       " 'AURIONPRO',\n",
       " 'AUROPHARMA',\n",
       " 'AURUM',\n",
       " 'AUSOMENT',\n",
       " 'AUTOAXLES',\n",
       " 'AUTOIND',\n",
       " 'AVADHSUGAR',\n",
       " 'AVALON',\n",
       " 'AVANTEL',\n",
       " 'AVANTIFEED',\n",
       " 'AVG',\n",
       " 'AVONMORE',\n",
       " 'AVROIND',\n",
       " 'AVTNPL',\n",
       " 'AWFIS',\n",
       " 'AWHCL',\n",
       " 'AWL',\n",
       " 'AXISBANK',\n",
       " 'AXISCADES',\n",
       " 'AXITA',\n",
       " 'AYMSYNTEX',\n",
       " 'AZAD',\n",
       " 'BAFNAPH',\n",
       " 'BAGFILMS',\n",
       " 'BAIDFIN',\n",
       " 'BAJAJ-AUTO',\n",
       " 'BAJAJCON',\n",
       " 'BAJAJELEC',\n",
       " 'BAJAJFINSV',\n",
       " 'BAJAJHCARE',\n",
       " 'BAJAJHFL',\n",
       " 'BAJAJHIND',\n",
       " 'BAJAJHLDNG',\n",
       " 'BAJEL',\n",
       " 'BAJFINANCE',\n",
       " 'BALAJEE',\n",
       " 'BALAJITELE',\n",
       " 'BALAMINES',\n",
       " 'BALAXI',\n",
       " 'BALKRISHNA',\n",
       " 'BALKRISIND',\n",
       " 'BALMLAWRIE',\n",
       " 'BALPHARMA',\n",
       " 'BALRAMCHIN',\n",
       " 'BALUFORGE',\n",
       " 'BANARBEADS',\n",
       " 'BANARISUG',\n",
       " 'BANCOINDIA',\n",
       " 'BANDHANBNK',\n",
       " 'BANG',\n",
       " 'BANKA',\n",
       " 'BANKBARODA',\n",
       " 'BANKINDIA',\n",
       " 'BANSALWIRE',\n",
       " 'BANSWRAS',\n",
       " 'BARBEQUE',\n",
       " 'BASF',\n",
       " 'BASML',\n",
       " 'BATAINDIA',\n",
       " 'BAYERCROP',\n",
       " 'BBL',\n",
       " 'BBOX',\n",
       " 'BBTC',\n",
       " 'BBTCL',\n",
       " 'BCLIND',\n",
       " 'BCONCEPTS',\n",
       " 'BDL',\n",
       " 'BEARDSELL',\n",
       " 'BECTORFOOD',\n",
       " 'BEDMUTHA',\n",
       " 'BEL',\n",
       " 'BEML',\n",
       " 'BEPL',\n",
       " 'BERGEPAINT',\n",
       " 'BESTAGRO',\n",
       " 'BFINVEST',\n",
       " 'BFUTILITIE',\n",
       " 'BGRENERGY',\n",
       " 'BHAGCHEM',\n",
       " 'BHAGERIA',\n",
       " 'BHAGYANGR',\n",
       " 'BHANDARI',\n",
       " 'BHARATFORG',\n",
       " 'BHARATGEAR',\n",
       " 'BHARATRAS',\n",
       " 'BHARATWIRE',\n",
       " 'BHARTIARTL',\n",
       " 'BHARTIHEXA',\n",
       " 'BHEL',\n",
       " 'BIGBLOC',\n",
       " 'BIKAJI',\n",
       " 'BIL',\n",
       " 'BINANIIND',\n",
       " 'BIOCON',\n",
       " 'BIOFILCHEM',\n",
       " 'BIRLACABLE',\n",
       " 'BIRLACORPN',\n",
       " 'BIRLAMONEY',\n",
       " 'BLAL',\n",
       " 'BLBLIMITED',\n",
       " 'BLISSGVS',\n",
       " 'BLKASHYAP',\n",
       " 'BLS',\n",
       " 'BLSE',\n",
       " 'BLUECHIP',\n",
       " 'BLUEDART',\n",
       " 'BLUEJET',\n",
       " 'BLUESTARCO',\n",
       " 'BODALCHEM',\n",
       " 'BOMDYEING',\n",
       " 'BOROLTD',\n",
       " 'BORORENEW',\n",
       " 'BOROSCI',\n",
       " 'BOSCHLTD',\n",
       " 'BPCL',\n",
       " 'BPL',\n",
       " 'BRIGADE',\n",
       " 'BRITANNIA',\n",
       " 'BRNL',\n",
       " 'BROOKS',\n",
       " 'BSE',\n",
       " 'BSHSL',\n",
       " 'BSL',\n",
       " 'BSOFT',\n",
       " 'BTML',\n",
       " 'BURNPUR',\n",
       " 'BUTTERFLY',\n",
       " 'BVCL',\n",
       " 'BYKE',\n",
       " 'CALSOFT',\n",
       " 'CAMLINFINE',\n",
       " 'CAMPUS',\n",
       " 'CAMS',\n",
       " 'CANBK',\n",
       " 'CANFINHOME',\n",
       " 'CANTABIL',\n",
       " 'CAPACITE',\n",
       " 'CAPITALSFB',\n",
       " 'CAPLIPOINT',\n",
       " 'CAPTRUST',\n",
       " 'CARBORUNIV',\n",
       " 'CAREERP',\n",
       " 'CARERATING',\n",
       " 'CARTRADE',\n",
       " 'CARYSIL',\n",
       " 'CASTROLIND',\n",
       " 'CCCL',\n",
       " 'CCHHL',\n",
       " 'CCL',\n",
       " 'CDSL',\n",
       " 'CEATLTD',\n",
       " 'CEIGALL',\n",
       " 'CELEBRITY',\n",
       " 'CELLO',\n",
       " 'CENTENKA',\n",
       " 'CENTEXT',\n",
       " 'CENTRALBK',\n",
       " 'CENTRUM',\n",
       " 'CENTUM',\n",
       " 'CENTURYPLY',\n",
       " 'CENTURYTEX',\n",
       " 'CERA',\n",
       " 'CEREBRAINT',\n",
       " 'CESC',\n",
       " 'CGCL',\n",
       " 'CGPOWER',\n",
       " 'CHALET',\n",
       " 'CHAMBLFERT',\n",
       " 'CHEMBOND',\n",
       " 'CHEMCON',\n",
       " 'CHEMFAB',\n",
       " 'CHEMPLASTS',\n",
       " 'CHENNPETRO',\n",
       " 'CHEVIOT',\n",
       " 'CHOICEIN',\n",
       " 'CHOLAFIN',\n",
       " 'CHOLAHLDNG',\n",
       " 'CIEINDIA',\n",
       " 'CIGNITITEC',\n",
       " 'CINELINE',\n",
       " 'CINEVISTA',\n",
       " 'CIPLA',\n",
       " 'CLEAN',\n",
       " 'CLEDUCATE',\n",
       " 'CLSEL',\n",
       " 'CMSINFO',\n",
       " 'COALINDIA',\n",
       " 'COASTCORP',\n",
       " 'COCHINSHIP',\n",
       " 'COFFEEDAY',\n",
       " 'COFORGE',\n",
       " 'COLPAL',\n",
       " 'COMPUSOFT',\n",
       " 'COMSYN',\n",
       " 'CONCOR',\n",
       " 'CONCORDBIO',\n",
       " 'CONFIPET',\n",
       " 'CONSOFINVT',\n",
       " 'CONTROLPR',\n",
       " 'CORALFINAC',\n",
       " 'CORDSCABLE',\n",
       " 'COROMANDEL',\n",
       " 'COSMOFIRST',\n",
       " 'COUNCODOS',\n",
       " 'CRAFTSMAN',\n",
       " 'CREATIVE',\n",
       " 'CREATIVEYE',\n",
       " 'CREDITACC',\n",
       " 'CREST',\n",
       " 'CRISIL',\n",
       " 'CROMPTON',\n",
       " 'CROWN',\n",
       " 'CSBBANK',\n",
       " 'CSLFINANCE',\n",
       " 'CTE',\n",
       " 'CUB',\n",
       " 'CUBEXTUB',\n",
       " 'CUMMINSIND',\n",
       " 'CUPID',\n",
       " 'CYBERMEDIA',\n",
       " 'CYBERTECH',\n",
       " 'CYIENT',\n",
       " 'CYIENTDLM',\n",
       " 'DABUR',\n",
       " 'DALBHARAT',\n",
       " 'DALMIASUG',\n",
       " 'DAMODARIND',\n",
       " 'DANGEE',\n",
       " 'DATAMATICS',\n",
       " 'DATAPATTNS',\n",
       " 'DAVANGERE',\n",
       " 'DBCORP',\n",
       " 'DBL',\n",
       " 'DBOL',\n",
       " 'DBREALTY',\n",
       " 'DBSTOCKBRO',\n",
       " 'DCAL',\n",
       " 'DCBBANK',\n",
       " 'DCI',\n",
       " 'DCM',\n",
       " 'DCMFINSERV',\n",
       " 'DCMNVL',\n",
       " 'DCMSHRIRAM',\n",
       " 'DCMSRIND',\n",
       " 'DCW',\n",
       " 'DCXINDIA',\n",
       " 'DECCANCE',\n",
       " 'DEEDEV',\n",
       " 'DEEPAKFERT',\n",
       " 'DEEPAKNTR',\n",
       " 'DEEPENR',\n",
       " 'DEEPINDS',\n",
       " 'DELHIVERY',\n",
       " 'DELPHIFX',\n",
       " 'DELTACORP',\n",
       " 'DELTAMAGNT',\n",
       " 'DEN',\n",
       " 'DENORA',\n",
       " 'DEVIT',\n",
       " 'DEVYANI',\n",
       " 'DGCONTENT',\n",
       " 'DHAMPURSUG',\n",
       " 'DHANBANK',\n",
       " 'DHANI',\n",
       " 'DHANUKA',\n",
       " 'DHARMAJ',\n",
       " 'DHRUV',\n",
       " 'DHUNINV',\n",
       " 'DIACABS',\n",
       " 'DIAMINESQ',\n",
       " 'DIAMONDYD',\n",
       " 'DICIND',\n",
       " 'DIGIDRIVE',\n",
       " 'DIGISPICE',\n",
       " 'DIGJAMLMTD',\n",
       " 'DIL',\n",
       " 'DISHTV',\n",
       " 'DIVGIITTS',\n",
       " 'DIVISLAB',\n",
       " 'DIXON',\n",
       " 'DJML',\n",
       " 'DLF',\n",
       " 'DLINKINDIA',\n",
       " 'DMART',\n",
       " 'DMCC',\n",
       " 'DNAMEDIA',\n",
       " 'DODLA',\n",
       " 'DOLATALGO',\n",
       " 'DOLLAR',\n",
       " 'DOLPHIN',\n",
       " 'DOMS',\n",
       " 'DONEAR',\n",
       " 'DPABHUSHAN',\n",
       " 'DPSCLTD',\n",
       " 'DPWIRES',\n",
       " 'DRCSYSTEMS',\n",
       " 'DREAMFOLKS',\n",
       " 'DREDGECORP',\n",
       " 'DRREDDY',\n",
       " 'DSSL',\n",
       " 'DTIL',\n",
       " 'DUCON',\n",
       " 'DVL',\n",
       " 'DWARKESH',\n",
       " 'DYCL',\n",
       " 'DYNAMATECH',\n",
       " 'DYNPRO',\n",
       " 'E2E',\n",
       " 'EASEMYTRIP',\n",
       " 'ECLERX',\n",
       " 'ECOSMOBLTY',\n",
       " 'EDELWEISS',\n",
       " 'EICHERMOT',\n",
       " 'EIDPARRY',\n",
       " 'EIFFL',\n",
       " 'EIHAHOTELS',\n",
       " 'EIHOTEL',\n",
       " 'EIMCOELECO',\n",
       " 'EKC',\n",
       " 'ELDEHSG',\n",
       " 'ELECON',\n",
       " 'ELECTCAST',\n",
       " 'ELECTHERM',\n",
       " 'ELGIEQUIP',\n",
       " 'ELGIRUBCO',\n",
       " 'ELIN',\n",
       " 'EMAMILTD',\n",
       " 'EMAMIPAP',\n",
       " 'EMAMIREAL',\n",
       " 'EMBDL',\n",
       " 'EMCURE',\n",
       " 'EMIL',\n",
       " 'EMKAY',\n",
       " 'EMMBI',\n",
       " 'EMSLIMITED',\n",
       " 'EMUDHRA',\n",
       " 'ENDURANCE',\n",
       " 'ENERGYDEV',\n",
       " 'ENGINERSIN',\n",
       " 'ENIL',\n",
       " 'ENTERO',\n",
       " 'EPACK',\n",
       " 'EPIGRAL',\n",
       " 'EPL',\n",
       " 'EQUIPPP',\n",
       " 'EQUITASBNK',\n",
       " 'ERIS',\n",
       " 'EROSMEDIA',\n",
       " 'ESABINDIA',\n",
       " 'ESAFSFB',\n",
       " 'ESCORTS',\n",
       " 'ESSARSHPNG',\n",
       " 'ESSENTIA',\n",
       " 'ESTER',\n",
       " 'ETHOSLTD',\n",
       " 'EUREKAFORB',\n",
       " 'EUROTEXIND',\n",
       " 'EVEREADY',\n",
       " 'EVERESTIND',\n",
       " 'EXCEL',\n",
       " 'EXCELINDUS',\n",
       " 'EXICOM',\n",
       " 'EXIDEIND',\n",
       " 'EXPLEOSOL',\n",
       " 'EXXARO',\n",
       " 'FACT',\n",
       " 'FAIRCHEMOR',\n",
       " 'FAZE3Q',\n",
       " 'FCL',\n",
       " 'FCSSOFT',\n",
       " 'FDC',\n",
       " 'FEDERALBNK',\n",
       " 'FEDFINA',\n",
       " 'FEL',\n",
       " 'FELDVR',\n",
       " 'FIBERWEB',\n",
       " 'FIEMIND',\n",
       " 'FILATEX',\n",
       " 'FILATFASH',\n",
       " 'FINCABLES',\n",
       " 'FINEORG',\n",
       " 'FINOPB',\n",
       " 'FINPIPE',\n",
       " 'FIRSTCRY',\n",
       " 'FIVESTAR',\n",
       " 'FLAIR',\n",
       " 'FLEXITUFF',\n",
       " 'FLFL',\n",
       " 'FLUOROCHEM',\n",
       " 'FMGOETZE',\n",
       " 'FMNL',\n",
       " 'FOCUS',\n",
       " 'FOODSIN',\n",
       " 'FORCEMOT',\n",
       " 'FORTIS',\n",
       " 'FOSECOIND',\n",
       " 'FSC',\n",
       " 'FSL',\n",
       " 'FUSION',\n",
       " 'GABRIEL',\n",
       " 'GAEL',\n",
       " 'GAIL',\n",
       " 'GALAPREC',\n",
       " 'GALAXYSURF',\n",
       " 'GALLANTT',\n",
       " 'GANDHAR',\n",
       " 'GANDHITUBE',\n",
       " 'GANECOS',\n",
       " 'GANESHBE',\n",
       " 'GANESHHOUC',\n",
       " 'GANGAFORGE',\n",
       " 'GANGESSECU',\n",
       " 'GARFIBRES',\n",
       " 'GATECH',\n",
       " 'GATECHDVR',\n",
       " 'GATEWAY',\n",
       " 'GAYAHWS',\n",
       " 'GEECEE',\n",
       " 'GEEKAYWIRE',\n",
       " 'GENCON',\n",
       " 'GENESYS',\n",
       " 'GENSOL',\n",
       " 'GENUSPAPER',\n",
       " 'GENUSPOWER',\n",
       " 'GEOJITFSL',\n",
       " 'GEPIL',\n",
       " 'GESHIP',\n",
       " 'GET&D',\n",
       " 'GFLLIMITED',\n",
       " 'GHCL',\n",
       " 'GHCLTEXTIL',\n",
       " 'GICHSGFIN',\n",
       " 'GICRE',\n",
       " 'GILLANDERS',\n",
       " 'GILLETTE',\n",
       " 'GINNIFILA',\n",
       " 'GIPCL',\n",
       " 'GKWLIMITED',\n",
       " 'GLAND',\n",
       " 'GLAXO',\n",
       " 'GLENMARK',\n",
       " 'GLFL',\n",
       " 'GLOBAL',\n",
       " 'GLOBALE',\n",
       " 'GLOBALVECT',\n",
       " 'GLOBE',\n",
       " 'GLOBUSSPR',\n",
       " 'GLOSTERLTD',\n",
       " 'GLS',\n",
       " 'GMBREW',\n",
       " 'GMDCLTD',\n",
       " 'GMMPFAUDLR',\n",
       " 'GMRINFRA',\n",
       " 'GMRP&UI',\n",
       " 'GNA',\n",
       " 'GNFC',\n",
       " 'GOACARBON',\n",
       " 'GOCLCORP',\n",
       " 'GOCOLORS',\n",
       " 'GODFRYPHLP',\n",
       " 'GODHA',\n",
       " 'GODIGIT',\n",
       " 'GODREJAGRO',\n",
       " 'GODREJCP',\n",
       " 'GODREJIND',\n",
       " 'GODREJPROP',\n",
       " 'GOENKA',\n",
       " 'GOKEX',\n",
       " 'GOKUL',\n",
       " 'GOKULAGRO',\n",
       " 'GOLDENTOBC',\n",
       " 'GOLDIAM',\n",
       " 'GOLDTECH',\n",
       " 'GOODLUCK',\n",
       " 'GOPAL',\n",
       " 'GOYALALUM',\n",
       " 'GPIL',\n",
       " 'GPPL',\n",
       " 'GPTHEALTH',\n",
       " 'GPTINFRA',\n",
       " 'GRANULES',\n",
       " 'GRAPHITE',\n",
       " 'GRASIM',\n",
       " 'GRAVITA',\n",
       " 'GREAVESCOT',\n",
       " 'GREENLAM',\n",
       " 'GREENPANEL',\n",
       " 'GREENPLY',\n",
       " 'GREENPOWER',\n",
       " 'GRINDWELL',\n",
       " 'GRINFRA',\n",
       " 'GRMOVER',\n",
       " 'GROBTEA',\n",
       " 'GRPLTD',\n",
       " 'GRSE',\n",
       " 'GRWRHITECH',\n",
       " 'GSFC',\n",
       " 'GSLSU',\n",
       " 'GSPL',\n",
       " 'GSS',\n",
       " 'GTECJAINX',\n",
       " 'GTL',\n",
       " 'GTLINFRA',\n",
       " 'GTPL',\n",
       " 'GUFICBIO',\n",
       " 'GUJALKALI',\n",
       " 'GUJAPOLLO',\n",
       " 'GUJGASLTD',\n",
       " 'GUJRAFFIA',\n",
       " 'GULFOILLUB',\n",
       " 'GULFPETRO',\n",
       " 'GULPOLY',\n",
       " 'GVKPIL',\n",
       " 'GVPTECH',\n",
       " 'HAL',\n",
       " 'HAPPSTMNDS',\n",
       " 'HAPPYFORGE',\n",
       " 'HARDWYN',\n",
       " 'HARIOMPIPE',\n",
       " 'HARRMALAYA',\n",
       " 'HARSHA',\n",
       " 'HATHWAY',\n",
       " 'HATSUN',\n",
       " 'HAVELLS',\n",
       " 'HAVISHA',\n",
       " 'HBLPOWER',\n",
       " 'HBSL',\n",
       " 'HCC',\n",
       " 'HCG',\n",
       " 'HCL-INSYS',\n",
       " 'HCLTECH',\n",
       " 'HDFCAMC',\n",
       " 'HDFCBANK',\n",
       " 'HDFCLIFE',\n",
       " 'HEADSUP',\n",
       " 'HECPROJECT',\n",
       " 'HEG',\n",
       " 'HEIDELBERG',\n",
       " 'HEMIPROP',\n",
       " 'HERANBA',\n",
       " 'HERCULES',\n",
       " 'HERITGFOOD',\n",
       " 'HEROMOTOCO',\n",
       " 'HESTERBIO',\n",
       " 'HEUBACHIND',\n",
       " 'HEXATRADEX',\n",
       " 'HFCL',\n",
       " 'HGINFRA',\n",
       " 'HGS',\n",
       " 'HIKAL',\n",
       " 'HIL',\n",
       " 'HILTON',\n",
       " 'HIMATSEIDE',\n",
       " 'HINDALCO',\n",
       " 'HINDCOMPOS',\n",
       " 'HINDCON',\n",
       " 'HINDCOPPER',\n",
       " 'HINDMOTORS',\n",
       " 'HINDNATGLS',\n",
       " 'HINDOILEXP',\n",
       " 'HINDPETRO',\n",
       " 'HINDUNILVR',\n",
       " 'HINDWAREAP',\n",
       " 'HINDZINC',\n",
       " 'HIRECT',\n",
       " 'HISARMETAL',\n",
       " 'HITECH',\n",
       " 'HITECHCORP',\n",
       " 'HITECHGEAR',\n",
       " 'HLEGLAS',\n",
       " 'HLVLTD',\n",
       " 'HMAAGRO',\n",
       " 'HMT',\n",
       " 'HMVL',\n",
       " 'HNDFDS',\n",
       " 'HOMEFIRST',\n",
       " 'HONASA',\n",
       " 'HONAUT',\n",
       " 'HONDAPOWER',\n",
       " 'HOVS',\n",
       " 'HPAL',\n",
       " 'HPIL',\n",
       " 'HPL',\n",
       " 'HSCL',\n",
       " 'HTMEDIA',\n",
       " 'HUBTOWN',\n",
       " 'HUDCO',\n",
       " 'HUHTAMAKI',\n",
       " 'HYBRIDFIN',\n",
       " 'ICDSLTD',\n",
       " 'ICEMAKE',\n",
       " 'ICICIBANK',\n",
       " 'ICICIGI',\n",
       " 'ICICIPRULI',\n",
       " 'ICIL',\n",
       " 'ICRA',\n",
       " 'IDBI',\n",
       " 'IDEA',\n",
       " 'IDEAFORGE',\n",
       " 'IDFC',\n",
       " 'IDFCFIRSTB',\n",
       " 'IEL',\n",
       " 'IEX',\n",
       " 'IFBAGRO',\n",
       " 'IFBIND',\n",
       " 'IFCI',\n",
       " 'IFGLEXPOR',\n",
       " 'IGARASHI',\n",
       " 'IGL',\n",
       " 'IGPL',\n",
       " 'IIFL',\n",
       " 'IIFLSEC',\n",
       " 'IITL',\n",
       " 'IKIO',\n",
       " 'IL&FSENGG',\n",
       " 'IL&FSTRANS',\n",
       " 'IMAGICAA',\n",
       " 'IMFA',\n",
       " 'IMPAL',\n",
       " 'IMPEXFERRO',\n",
       " 'INCREDIBLE',\n",
       " 'INDBANK',\n",
       " 'INDGN',\n",
       " 'INDHOTEL',\n",
       " 'INDIACEM',\n",
       " 'INDIAGLYCO',\n",
       " 'INDIAMART',\n",
       " 'INDIANB',\n",
       " 'INDIANCARD',\n",
       " 'INDIANHUME',\n",
       " 'INDIASHLTR',\n",
       " 'INDIGO',\n",
       " 'INDIGOPNTS',\n",
       " 'INDNIPPON',\n",
       " 'INDOAMIN',\n",
       " 'INDOBORAX',\n",
       " 'INDOCO',\n",
       " 'INDORAMA',\n",
       " 'INDOSTAR',\n",
       " 'INDOTECH',\n",
       " 'INDOTHAI',\n",
       " 'INDOWIND',\n",
       " 'INDRAMEDCO',\n",
       " 'INDSWFTLAB',\n",
       " 'INDSWFTLTD',\n",
       " 'INDTERRAIN',\n",
       " 'INDUSINDBK',\n",
       " 'INDUSTOWER',\n",
       " 'INFIBEAM',\n",
       " 'INFOBEAN',\n",
       " 'INFOMEDIA',\n",
       " 'INFY',\n",
       " 'INGERRAND',\n",
       " 'INNOVACAP',\n",
       " 'INOXGREEN',\n",
       " 'INOXINDIA',\n",
       " 'INOXWIND',\n",
       " 'INSECTICID',\n",
       " 'INSPIRISYS',\n",
       " 'INTELLECT',\n",
       " 'INTENTECH',\n",
       " 'INTERARCH',\n",
       " 'INTLCONV',\n",
       " 'INVENTURE',\n",
       " 'IOB',\n",
       " 'IOC',\n",
       " 'IOLCP',\n",
       " 'IONEXCHANG',\n",
       " 'IPCALAB',\n",
       " 'IPL',\n",
       " 'IRB',\n",
       " 'IRCON',\n",
       " 'IRCTC',\n",
       " 'IREDA',\n",
       " 'IRFC',\n",
       " 'IRIS',\n",
       " 'IRISDOREME',\n",
       " 'IRMENERGY',\n",
       " 'ISEC',\n",
       " 'ISFT',\n",
       " 'ISGEC',\n",
       " 'ITC',\n",
       " 'ITDC',\n",
       " 'ITDCEM',\n",
       " 'ITI',\n",
       " 'IVC',\n",
       " 'IVP',\n",
       " 'IWEL',\n",
       " 'IXIGO',\n",
       " 'IZMO',\n",
       " 'J&KBANK',\n",
       " 'JAGRAN',\n",
       " 'JAGSNPHARM',\n",
       " 'JAIBALAJI',\n",
       " 'JAICORPLTD',\n",
       " 'JAIPURKURT',\n",
       " 'JAMNAAUTO',\n",
       " 'JASH',\n",
       " 'JAYAGROGN',\n",
       " 'JAYBARMARU',\n",
       " 'JAYNECOIND',\n",
       " 'JAYSREETEA',\n",
       " 'JBCHEPHARM',\n",
       " 'JBMA',\n",
       " 'JCHAC',\n",
       " 'JETAIRWAYS',\n",
       " 'JETFREIGHT',\n",
       " 'JGCHEM',\n",
       " 'JHS',\n",
       " 'JINDALPHOT',\n",
       " 'JINDALPOLY',\n",
       " 'JINDALSAW',\n",
       " 'JINDALSTEL',\n",
       " 'JINDRILL',\n",
       " 'JINDWORLD',\n",
       " 'JIOFIN',\n",
       " 'JISLDVREQS',\n",
       " 'JISLJALEQS',\n",
       " 'JITFINFRA',\n",
       " 'JKCEMENT',\n",
       " 'JKIL',\n",
       " 'JKLAKSHMI',\n",
       " 'JKPAPER',\n",
       " 'JKTYRE',\n",
       " 'JLHL',\n",
       " 'JMA',\n",
       " 'JMFINANCIL',\n",
       " 'JNKINDIA',\n",
       " 'JOCIL',\n",
       " 'JPOLYINVST',\n",
       " 'JPPOWER',\n",
       " 'JSFB',\n",
       " 'JSL',\n",
       " 'JSWENERGY',\n",
       " 'JSWHL',\n",
       " 'JSWINFRA',\n",
       " 'JSWSTEEL',\n",
       " 'JTEKTINDIA',\n",
       " 'JTLIND',\n",
       " 'JUBLFOOD',\n",
       " 'JUBLINDS',\n",
       " 'JUBLINGREA',\n",
       " 'JUBLPHARMA',\n",
       " 'JUNIPER',\n",
       " 'JUSTDIAL',\n",
       " 'JWL',\n",
       " 'JYOTHYLAB',\n",
       " 'JYOTICNC',\n",
       " 'JYOTISTRUC',\n",
       " 'KABRAEXTRU',\n",
       " 'KAJARIACER',\n",
       " 'KAKATCEM',\n",
       " 'KALAMANDIR',\n",
       " 'KALYANI',\n",
       " 'KALYANIFRG',\n",
       " 'KALYANKJIL',\n",
       " 'KAMATHOTEL',\n",
       " 'KAMDHENU',\n",
       " 'KAMOPAINTS',\n",
       " 'KANANIIND',\n",
       " 'KANORICHEM',\n",
       " 'KANPRPLA',\n",
       " 'KANSAINER',\n",
       " 'KAPSTON',\n",
       " 'KARMAENG',\n",
       " 'KARURVYSYA',\n",
       " 'KAUSHALYA',\n",
       " 'KAVVERITEL',\n",
       " 'KAYA',\n",
       " 'KAYNES',\n",
       " 'KBCGLOBAL',\n",
       " 'KCP',\n",
       " 'KCPSUGIND',\n",
       " 'KDDL',\n",
       " 'KEC',\n",
       " 'KECL',\n",
       " 'KEEPLEARN',\n",
       " 'KEI',\n",
       " 'KELLTONTEC',\n",
       " 'KERNEX',\n",
       " 'KESORAMIND',\n",
       " 'KEYFINSERV',\n",
       " 'KFINTECH',\n",
       " 'KHADIM',\n",
       " 'KHAICHEM',\n",
       " 'KHAITANLTD',\n",
       " 'KHANDSE',\n",
       " 'KICL',\n",
       " 'KILITCH',\n",
       " 'KIMS',\n",
       " 'KINGFA',\n",
       " 'KIOCL',\n",
       " 'KIRIINDUS',\n",
       " 'KIRLOSBROS',\n",
       " 'KIRLOSENG',\n",
       " 'KIRLOSIND',\n",
       " 'KIRLPNU',\n",
       " 'KITEX',\n",
       " 'KKCL',\n",
       " 'KMSUGAR',\n",
       " 'KNRCON',\n",
       " 'KOHINOOR',\n",
       " 'KOKUYOCMLN',\n",
       " 'KOLTEPATIL',\n",
       " 'KOPRAN',\n",
       " 'KOTAKBANK',\n",
       " 'KOTARISUG',\n",
       " 'KOTHARIPET',\n",
       " 'KOTHARIPRO',\n",
       " 'KPIGREEN',\n",
       " 'KPIL',\n",
       " 'KPITTECH',\n",
       " 'KPRMILL',\n",
       " 'KRBL',\n",
       " 'KREBSBIO',\n",
       " 'KRIDHANINF',\n",
       " 'KRISHANA',\n",
       " 'KRITI',\n",
       " 'KRITIKA',\n",
       " 'KRITINUT',\n",
       " 'KRONOX',\n",
       " 'KROSS',\n",
       " 'KRSNAA',\n",
       " ...]"
      ]
     },
     "execution_count": 3,
     "metadata": {},
     "output_type": "execute_result"
    }
   ],
   "source": [
    "equity_list_nse = pd.read_csv(\"EQUITY_L.csv\")\n",
    "symbol_list = equity_list_nse['SYMBOL'].to_list()\n",
    "symbol_list"
   ]
  },
  {
   "cell_type": "code",
   "execution_count": 4,
   "metadata": {},
   "outputs": [
    {
     "name": "stdout",
     "output_type": "stream",
     "text": [
      "20MICRONS\n",
      "21STCENMGM\n",
      "360ONE\n",
      "3IINFOLTD\n",
      "3MINDIA\n",
      "3PLAND\n",
      "5PAISA\n",
      "63MOONS\n",
      "A2ZINFRA\n",
      "AAATECH\n",
      "AADHARHFC\n",
      "AAKASH\n",
      "AAREYDRUGS\n",
      "AARON\n",
      "AARTECH\n",
      "AARTIDRUGS\n",
      "AARTIIND\n",
      "AARTIPHARM\n",
      "AARTISURF\n",
      "AARVEEDEN\n",
      "AARVI\n",
      "AAVAS\n",
      "ABAN\n",
      "ABB\n",
      "ABBOTINDIA\n",
      "ABCAPITAL\n",
      "ABDL\n",
      "ABFRL\n",
      "ABMINTLLTD\n",
      "ABSLAMC\n",
      "ACC\n",
      "ACCELYA\n",
      "ACCURACY\n",
      "ACE\n",
      "ACEINTEG\n",
      "ACI\n",
      "ACL\n",
      "ACLGATI\n",
      "ADANIENSOL\n",
      "ADANIENT\n",
      "ADANIGREEN\n",
      "ADANIPORTS\n",
      "ADANIPOWER\n",
      "ADFFOODS\n",
      "ADL\n",
      "ADORWELD\n",
      "ADROITINFO\n",
      "ADSL\n",
      "ADVANIHOTR\n",
      "ADVENZYMES\n",
      "AEGISLOG\n",
      "AEROFLEX\n",
      "AETHER\n",
      "AFFLE\n",
      "AFIL\n",
      "AGARIND\n",
      "AGI\n",
      "AGIIL\n",
      "AGRITECH\n",
      "AGROPHOS\n",
      "AGSTRA\n",
      "AHL\n",
      "AHLADA\n",
      "AHLEAST\n",
      "AHLUCONT\n",
      "AIAENG\n",
      "AIIL\n",
      "AIRAN\n",
      "AIROLAM\n",
      "AJANTPHARM\n",
      "AJMERA\n",
      "AJOONI\n",
      "AKASH\n",
      "AKG\n",
      "AKI\n",
      "AKSH-RE\n",
      "AKSHAR\n",
      "AKSHARCHEM\n",
      "AKSHOPTFBR\n",
      "AKUMS\n",
      "AKZOINDIA\n",
      "ALANKIT\n",
      "ALBERTDAVD\n",
      "ALEMBICLTD\n",
      "ALICON\n",
      "ALKALI\n",
      "ALKEM\n",
      "ALKYLAMINE\n",
      "ALLCARGO\n",
      "ALLSEC\n",
      "ALMONDZ\n",
      "ALOKINDS\n",
      "ALPA\n",
      "ALPHAGEO\n",
      "ALPSINDUS\n",
      "AMBER\n",
      "AMBICAAGAR\n",
      "AMBIKCO\n",
      "AMBUJACEM\n",
      "AMDIND\n",
      "AMIORG\n",
      "AMJLAND\n",
      "AMNPLST\n",
      "AMRUTANJAN\n",
      "ANANDRATHI\n",
      "ANANTRAJ\n",
      "ANDHRAPAP\n",
      "ANDHRSUGAR\n",
      "ANGELONE\n",
      "ANIKINDS\n",
      "ANMOL\n",
      "ANSALAPI\n",
      "ANTGRAPHIC\n",
      "ANUP\n",
      "ANURAS\n",
      "APARINDS\n",
      "APCL\n",
      "APCOTEXIND\n",
      "APEX\n",
      "APLAPOLLO\n",
      "APLLTD\n",
      "APOLLO\n",
      "APOLLOHOSP\n",
      "APOLLOPIPE\n",
      "APOLLOTYRE\n",
      "APOLSINHOT\n",
      "APTECHT\n",
      "APTUS\n",
      "ARCHIDPLY\n",
      "ARCHIES\n",
      "ARE&M\n",
      "ARENTERP\n",
      "ARIES\n",
      "ARIHANTCAP\n",
      "ARIHANTSUP\n",
      "ARMANFIN\n",
      "AROGRANITE\n",
      "ARROWGREEN\n",
      "ARSSINFRA\n",
      "ARTEMISMED\n",
      "ARTNIRMAN\n",
      "ARVEE\n",
      "ARVIND\n",
      "ARVINDFASN\n",
      "ARVSMART\n",
      "ASAHIINDIA\n",
      "ASAHISONG\n",
      "ASAL\n",
      "ASALCBR\n",
      "ASHAPURMIN\n",
      "ASHIANA\n",
      "ASHIMASYN\n",
      "ASHOKA\n",
      "ASHOKAMET\n",
      "ASHOKLEY\n",
      "ASIANENE\n",
      "ASIANHOTNR\n",
      "ASIANPAINT\n",
      "ASIANTILES\n",
      "ASKAUTOLTD\n",
      "ASMS\n",
      "ASPINWALL\n",
      "ASTEC\n",
      "ASTERDM\n",
      "ASTRAL\n",
      "ASTRAMICRO\n",
      "ASTRAZEN\n",
      "ASTRON\n",
      "ATALREAL\n",
      "ATAM\n",
      "ATFL\n",
      "ATGL\n",
      "ATL\n",
      "ATLANTAA\n",
      "ATUL\n",
      "ATULAUTO\n",
      "AUBANK\n",
      "AURIONPRO\n",
      "AUROPHARMA\n",
      "AURUM\n",
      "AUSOMENT\n",
      "AUTOAXLES\n",
      "AUTOIND\n",
      "AVADHSUGAR\n",
      "AVALON\n",
      "AVANTEL\n",
      "AVANTIFEED\n",
      "AVG\n",
      "AVONMORE\n",
      "AVROIND\n",
      "AVTNPL\n",
      "AWFIS\n",
      "AWHCL\n",
      "AWL\n",
      "AXISBANK\n",
      "AXISCADES\n",
      "AXITA\n",
      "AYMSYNTEX\n",
      "AZAD\n",
      "BAFNAPH\n",
      "BAGFILMS\n",
      "BAIDFIN\n",
      "BAJAJ-AUTO\n",
      "BAJAJCON\n",
      "BAJAJELEC\n",
      "BAJAJFINSV\n",
      "BAJAJHCARE\n",
      "BAJAJHFL\n",
      "BAJAJHIND\n",
      "BAJAJHLDNG\n",
      "BAJEL\n",
      "BAJFINANCE\n",
      "BALAJEE\n",
      "BALAJITELE\n",
      "BALAMINES\n",
      "BALAXI\n",
      "BALKRISHNA\n",
      "BALKRISIND\n",
      "BALMLAWRIE\n",
      "BALPHARMA\n",
      "BALRAMCHIN\n",
      "BALUFORGE\n",
      "BANARBEADS\n",
      "BANARISUG\n",
      "BANCOINDIA\n",
      "BANDHANBNK\n",
      "BANG\n",
      "BANKA\n",
      "BANKBARODA\n",
      "BANKINDIA\n",
      "BANSALWIRE\n",
      "BANSWRAS\n",
      "BARBEQUE\n",
      "BASF\n",
      "BASML\n",
      "BATAINDIA\n",
      "BAYERCROP\n",
      "BBL\n",
      "BBOX\n",
      "BBTC\n",
      "BBTCL\n",
      "BCLIND\n",
      "BCONCEPTS\n",
      "BDL\n",
      "BEARDSELL\n",
      "BECTORFOOD\n",
      "BEDMUTHA\n",
      "BEL\n",
      "BEML\n",
      "BEPL\n",
      "BERGEPAINT\n",
      "BESTAGRO\n",
      "BFINVEST\n",
      "BFUTILITIE\n",
      "BGRENERGY\n",
      "BHAGCHEM\n",
      "BHAGERIA\n",
      "BHAGYANGR\n",
      "BHANDARI\n",
      "BHARATFORG\n",
      "BHARATGEAR\n",
      "BHARATRAS\n",
      "BHARATWIRE\n",
      "BHARTIARTL\n",
      "BHARTIHEXA\n",
      "BHEL\n",
      "BIGBLOC\n",
      "BIKAJI\n",
      "BIL\n",
      "BINANIIND\n",
      "BIOCON\n",
      "BIOFILCHEM\n",
      "BIRLACABLE\n",
      "BIRLACORPN\n",
      "BIRLAMONEY\n",
      "BLAL\n",
      "BLBLIMITED\n",
      "BLISSGVS\n",
      "BLKASHYAP\n",
      "BLS\n",
      "BLSE\n",
      "BLUECHIP\n",
      "BLUEDART\n",
      "BLUEJET\n",
      "BLUESTARCO\n",
      "BODALCHEM\n",
      "BOMDYEING\n",
      "BOROLTD\n",
      "BORORENEW\n",
      "BOROSCI\n",
      "BOSCHLTD\n",
      "BPCL\n",
      "BPL\n",
      "BRIGADE\n",
      "BRITANNIA\n",
      "BRNL\n",
      "BROOKS\n",
      "BSE\n",
      "BSHSL\n",
      "BSL\n",
      "BSOFT\n",
      "BTML\n",
      "BURNPUR\n",
      "BUTTERFLY\n",
      "BVCL\n",
      "BYKE\n",
      "CALSOFT\n",
      "CAMLINFINE\n",
      "CAMPUS\n",
      "CAMS\n",
      "CANBK\n",
      "CANFINHOME\n",
      "CANTABIL\n",
      "CAPACITE\n",
      "CAPITALSFB\n",
      "CAPLIPOINT\n",
      "CAPTRUST\n",
      "CARBORUNIV\n",
      "CAREERP\n",
      "CARERATING\n",
      "CARTRADE\n",
      "CARYSIL\n",
      "CASTROLIND\n",
      "CCCL\n",
      "CCHHL\n",
      "CCL\n",
      "CDSL\n",
      "CEATLTD\n",
      "CEIGALL\n",
      "CELEBRITY\n",
      "CELLO\n",
      "CENTENKA\n",
      "CENTEXT\n",
      "CENTRALBK\n",
      "CENTRUM\n",
      "CENTUM\n",
      "CENTURYPLY\n",
      "CENTURYTEX\n",
      "CERA\n",
      "CEREBRAINT\n",
      "CESC\n",
      "CGCL\n",
      "CGPOWER\n",
      "CHALET\n",
      "CHAMBLFERT\n",
      "CHEMBOND\n",
      "CHEMCON\n",
      "CHEMFAB\n",
      "CHEMPLASTS\n",
      "CHENNPETRO\n",
      "CHEVIOT\n",
      "CHOICEIN\n",
      "CHOLAFIN\n",
      "CHOLAHLDNG\n",
      "CIEINDIA\n",
      "CIGNITITEC\n",
      "CINELINE\n",
      "CINEVISTA\n",
      "CIPLA\n",
      "CLEAN\n",
      "CLEDUCATE\n",
      "CLSEL\n",
      "CMSINFO\n",
      "COALINDIA\n",
      "COASTCORP\n",
      "COCHINSHIP\n",
      "COFFEEDAY\n",
      "COFORGE\n",
      "COLPAL\n",
      "COMPUSOFT\n",
      "COMSYN\n",
      "CONCOR\n",
      "CONCORDBIO\n",
      "CONFIPET\n",
      "CONSOFINVT\n",
      "CONTROLPR\n",
      "CORALFINAC\n",
      "CORDSCABLE\n",
      "COROMANDEL\n",
      "COSMOFIRST\n",
      "COUNCODOS\n",
      "CRAFTSMAN\n",
      "CREATIVE\n",
      "CREATIVEYE\n",
      "CREDITACC\n",
      "CREST\n",
      "CRISIL\n",
      "CROMPTON\n",
      "CROWN\n",
      "CSBBANK\n",
      "CSLFINANCE\n",
      "CTE\n",
      "CUB\n",
      "CUBEXTUB\n",
      "CUMMINSIND\n",
      "CUPID\n",
      "CYBERMEDIA\n",
      "CYBERTECH\n",
      "CYIENT\n",
      "CYIENTDLM\n",
      "DABUR\n",
      "DALBHARAT\n",
      "DALMIASUG\n",
      "DAMODARIND\n",
      "DANGEE\n",
      "DATAMATICS\n",
      "DATAPATTNS\n",
      "DAVANGERE\n",
      "DBCORP\n",
      "DBL\n",
      "DBOL\n",
      "DBREALTY\n",
      "DBSTOCKBRO\n",
      "DCAL\n",
      "DCBBANK\n",
      "DCI\n",
      "DCM\n",
      "DCMFINSERV\n",
      "DCMNVL\n",
      "DCMSHRIRAM\n",
      "DCMSRIND\n",
      "DCW\n",
      "DCXINDIA\n",
      "DECCANCE\n",
      "DEEDEV\n",
      "DEEPAKFERT\n",
      "DEEPAKNTR\n",
      "DEEPENR\n",
      "DEEPINDS\n",
      "DELHIVERY\n",
      "DELPHIFX\n",
      "DELTACORP\n",
      "DELTAMAGNT\n",
      "DEN\n",
      "DENORA\n",
      "DEVIT\n",
      "DEVYANI\n",
      "DGCONTENT\n",
      "DHAMPURSUG\n",
      "DHANBANK\n",
      "DHANI\n",
      "DHANUKA\n",
      "DHARMAJ\n",
      "DHRUV\n",
      "DHUNINV\n",
      "DIACABS\n",
      "DIAMINESQ\n",
      "DIAMONDYD\n",
      "DICIND\n",
      "DIGIDRIVE\n",
      "DIGISPICE\n",
      "DIGJAMLMTD\n",
      "DIL\n",
      "DISHTV\n",
      "DIVGIITTS\n",
      "DIVISLAB\n",
      "DIXON\n",
      "DJML\n",
      "DLF\n",
      "DLINKINDIA\n",
      "DMART\n",
      "DMCC\n",
      "DNAMEDIA\n",
      "DODLA\n",
      "DOLATALGO\n",
      "DOLLAR\n",
      "DOLPHIN\n",
      "DOMS\n",
      "DONEAR\n",
      "DPABHUSHAN\n",
      "DPSCLTD\n",
      "DPWIRES\n",
      "DRCSYSTEMS\n",
      "DREAMFOLKS\n",
      "DREDGECORP\n",
      "DRREDDY\n",
      "DSSL\n",
      "DTIL\n",
      "DUCON\n",
      "DVL\n",
      "DWARKESH\n",
      "DYCL\n",
      "DYNAMATECH\n",
      "DYNPRO\n",
      "E2E\n",
      "EASEMYTRIP\n",
      "ECLERX\n",
      "ECOSMOBLTY\n",
      "EDELWEISS\n",
      "EICHERMOT\n",
      "EIDPARRY\n",
      "EIFFL\n",
      "EIHAHOTELS\n",
      "EIHOTEL\n",
      "EIMCOELECO\n",
      "EKC\n",
      "ELDEHSG\n",
      "ELECON\n",
      "ELECTCAST\n",
      "ELECTHERM\n",
      "ELGIEQUIP\n",
      "ELGIRUBCO\n",
      "ELIN\n",
      "EMAMILTD\n",
      "EMAMIPAP\n",
      "EMAMIREAL\n",
      "EMBDL\n",
      "EMCURE\n",
      "EMIL\n",
      "EMKAY\n",
      "EMMBI\n",
      "EMSLIMITED\n",
      "EMUDHRA\n",
      "ENDURANCE\n",
      "ENERGYDEV\n",
      "ENGINERSIN\n",
      "ENIL\n",
      "ENTERO\n",
      "EPACK\n",
      "EPIGRAL\n",
      "EPL\n",
      "EQUIPPP\n",
      "EQUITASBNK\n",
      "ERIS\n",
      "EROSMEDIA\n",
      "ESABINDIA\n",
      "ESAFSFB\n",
      "ESCORTS\n",
      "ESSARSHPNG\n",
      "ESSENTIA\n",
      "ESTER\n",
      "ETHOSLTD\n",
      "EUREKAFORB\n",
      "EUROTEXIND\n",
      "EVEREADY\n",
      "EVERESTIND\n",
      "EXCEL\n",
      "EXCELINDUS\n",
      "EXICOM\n",
      "EXIDEIND\n",
      "EXPLEOSOL\n",
      "EXXARO\n",
      "FACT\n",
      "FAIRCHEMOR\n",
      "FAZE3Q\n",
      "FCL\n",
      "FCSSOFT\n",
      "FDC\n",
      "FEDERALBNK\n",
      "FEDFINA\n",
      "FEL\n",
      "FELDVR\n",
      "FIBERWEB\n",
      "FIEMIND\n",
      "FILATEX\n",
      "FILATFASH\n",
      "FINCABLES\n",
      "FINEORG\n",
      "FINOPB\n",
      "FINPIPE\n",
      "FIRSTCRY\n",
      "FIVESTAR\n",
      "FLAIR\n",
      "FLEXITUFF\n",
      "FLFL\n",
      "FLUOROCHEM\n",
      "FMGOETZE\n",
      "FMNL\n",
      "FOCUS\n",
      "FOODSIN\n",
      "FORCEMOT\n",
      "FORTIS\n",
      "FOSECOIND\n",
      "FSC\n",
      "FSL\n",
      "FUSION\n",
      "GABRIEL\n",
      "GAEL\n",
      "GAIL\n",
      "GALAPREC\n",
      "GALAXYSURF\n",
      "GALLANTT\n",
      "GANDHAR\n",
      "GANDHITUBE\n",
      "GANECOS\n",
      "GANESHBE\n",
      "GANESHHOUC\n",
      "GANGAFORGE\n",
      "GANGESSECU\n",
      "GARFIBRES\n",
      "GATECH\n",
      "GATECHDVR\n",
      "GATEWAY\n",
      "GAYAHWS\n",
      "GEECEE\n",
      "GEEKAYWIRE\n",
      "GENCON\n",
      "GENESYS\n",
      "GENSOL\n",
      "GENUSPAPER\n",
      "GENUSPOWER\n",
      "GEOJITFSL\n",
      "GEPIL\n",
      "GESHIP\n",
      "GET&D\n",
      "GFLLIMITED\n",
      "GHCL\n",
      "GHCLTEXTIL\n",
      "GICHSGFIN\n",
      "GICRE\n",
      "GILLANDERS\n",
      "GILLETTE\n",
      "GINNIFILA\n",
      "GIPCL\n",
      "GKWLIMITED\n",
      "GLAND\n",
      "GLAXO\n",
      "GLENMARK\n",
      "GLFL\n",
      "GLOBAL\n",
      "GLOBALE\n",
      "GLOBALVECT\n",
      "GLOBE\n",
      "GLOBUSSPR\n",
      "GLOSTERLTD\n",
      "GLS\n",
      "GMBREW\n",
      "GMDCLTD\n",
      "GMMPFAUDLR\n",
      "GMRINFRA\n",
      "GMRP&UI\n",
      "GNA\n",
      "GNFC\n",
      "GOACARBON\n",
      "GOCLCORP\n",
      "GOCOLORS\n",
      "GODFRYPHLP\n",
      "GODHA\n",
      "GODIGIT\n",
      "GODREJAGRO\n",
      "GODREJCP\n",
      "GODREJIND\n",
      "GODREJPROP\n",
      "GOENKA\n",
      "GOKEX\n",
      "GOKUL\n",
      "GOKULAGRO\n",
      "GOLDENTOBC\n",
      "GOLDIAM\n",
      "GOLDTECH\n",
      "GOODLUCK\n",
      "GOPAL\n",
      "GOYALALUM\n",
      "GPIL\n",
      "GPPL\n",
      "GPTHEALTH\n",
      "GPTINFRA\n",
      "GRANULES\n",
      "GRAPHITE\n",
      "GRASIM\n",
      "GRAVITA\n",
      "GREAVESCOT\n",
      "GREENLAM\n",
      "GREENPANEL\n",
      "GREENPLY\n",
      "GREENPOWER\n",
      "GRINDWELL\n",
      "GRINFRA\n",
      "GRMOVER\n",
      "GROBTEA\n",
      "GRPLTD\n",
      "GRSE\n",
      "GRWRHITECH\n",
      "GSFC\n",
      "GSLSU\n",
      "GSPL\n",
      "GSS\n",
      "GTECJAINX\n",
      "GTL\n",
      "GTLINFRA\n",
      "GTPL\n",
      "GUFICBIO\n",
      "GUJALKALI\n",
      "GUJAPOLLO\n",
      "GUJGASLTD\n",
      "GUJRAFFIA\n",
      "GULFOILLUB\n",
      "GULFPETRO\n",
      "GULPOLY\n",
      "GVKPIL\n",
      "GVPTECH\n",
      "HAL\n",
      "HAPPSTMNDS\n",
      "HAPPYFORGE\n",
      "HARDWYN\n",
      "HARIOMPIPE\n",
      "HARRMALAYA\n",
      "HARSHA\n",
      "HATHWAY\n",
      "HATSUN\n",
      "HAVELLS\n",
      "HAVISHA\n",
      "HBLPOWER\n",
      "HBSL\n",
      "HCC\n",
      "HCG\n",
      "HCL-INSYS\n",
      "HCLTECH\n",
      "HDFCAMC\n",
      "HDFCBANK\n",
      "HDFCLIFE\n",
      "HEADSUP\n",
      "HECPROJECT\n",
      "HEG\n",
      "HEIDELBERG\n",
      "HEMIPROP\n",
      "HERANBA\n",
      "HERCULES\n",
      "HERITGFOOD\n",
      "HEROMOTOCO\n",
      "HESTERBIO\n",
      "HEUBACHIND\n",
      "HEXATRADEX\n",
      "HFCL\n",
      "HGINFRA\n",
      "HGS\n",
      "HIKAL\n",
      "HIL\n",
      "HILTON\n",
      "HIMATSEIDE\n",
      "HINDALCO\n",
      "HINDCOMPOS\n",
      "HINDCON\n",
      "HINDCOPPER\n",
      "HINDMOTORS\n",
      "HINDNATGLS\n",
      "HINDOILEXP\n",
      "HINDPETRO\n",
      "HINDUNILVR\n",
      "HINDWAREAP\n",
      "HINDZINC\n",
      "HIRECT\n",
      "HISARMETAL\n",
      "HITECH\n",
      "HITECHCORP\n",
      "HITECHGEAR\n",
      "HLEGLAS\n",
      "HLVLTD\n",
      "HMAAGRO\n",
      "HMT\n",
      "HMVL\n",
      "HNDFDS\n",
      "HOMEFIRST\n",
      "HONASA\n",
      "HONAUT\n",
      "HONDAPOWER\n",
      "HOVS\n",
      "HPAL\n",
      "HPIL\n",
      "HPL\n",
      "HSCL\n",
      "HTMEDIA\n",
      "HUBTOWN\n",
      "HUDCO\n",
      "HUHTAMAKI\n",
      "HYBRIDFIN\n",
      "ICDSLTD\n",
      "ICEMAKE\n",
      "ICICIBANK\n",
      "ICICIGI\n",
      "ICICIPRULI\n",
      "ICIL\n",
      "ICRA\n",
      "IDBI\n",
      "IDEA\n",
      "IDEAFORGE\n",
      "IDFC\n",
      "IDFCFIRSTB\n",
      "IEL\n",
      "IEX\n",
      "IFBAGRO\n",
      "IFBIND\n",
      "IFCI\n",
      "IFGLEXPOR\n",
      "IGARASHI\n",
      "IGL\n",
      "IGPL\n",
      "IIFL\n",
      "IIFLSEC\n",
      "IITL\n",
      "IKIO\n",
      "IL&FSENGG\n",
      "IL&FSTRANS\n",
      "IMAGICAA\n",
      "IMFA\n",
      "IMPAL\n",
      "IMPEXFERRO\n",
      "INCREDIBLE\n",
      "INDBANK\n",
      "INDGN\n",
      "INDHOTEL\n",
      "INDIACEM\n",
      "INDIAGLYCO\n",
      "INDIAMART\n",
      "INDIANB\n",
      "INDIANCARD\n",
      "INDIANHUME\n",
      "INDIASHLTR\n",
      "INDIGO\n",
      "INDIGOPNTS\n",
      "INDNIPPON\n",
      "INDOAMIN\n",
      "INDOBORAX\n",
      "INDOCO\n",
      "INDORAMA\n",
      "INDOSTAR\n",
      "INDOTECH\n",
      "INDOTHAI\n",
      "INDOWIND\n",
      "INDRAMEDCO\n",
      "INDSWFTLAB\n",
      "INDSWFTLTD\n",
      "INDTERRAIN\n",
      "INDUSINDBK\n",
      "INDUSTOWER\n",
      "INFIBEAM\n",
      "INFOBEAN\n",
      "INFOMEDIA\n",
      "INFY\n",
      "INGERRAND\n",
      "INNOVACAP\n",
      "INOXGREEN\n",
      "INOXINDIA\n",
      "INOXWIND\n",
      "INSECTICID\n",
      "INSPIRISYS\n",
      "INTELLECT\n",
      "INTENTECH\n",
      "INTERARCH\n",
      "INTLCONV\n",
      "INVENTURE\n",
      "IOB\n",
      "IOC\n",
      "IOLCP\n",
      "IONEXCHANG\n",
      "IPCALAB\n",
      "IPL\n",
      "IRB\n",
      "IRCON\n",
      "IRCTC\n",
      "IREDA\n",
      "IRFC\n",
      "IRIS\n",
      "IRISDOREME\n",
      "IRMENERGY\n",
      "ISEC\n",
      "ISFT\n",
      "ISGEC\n",
      "ITC\n",
      "ITDC\n",
      "ITDCEM\n",
      "ITI\n",
      "IVC\n",
      "IVP\n",
      "IWEL\n",
      "IXIGO\n",
      "IZMO\n",
      "J&KBANK\n",
      "JAGRAN\n",
      "JAGSNPHARM\n",
      "JAIBALAJI\n",
      "JAICORPLTD\n",
      "JAIPURKURT\n",
      "JAMNAAUTO\n",
      "JASH\n",
      "JAYAGROGN\n",
      "JAYBARMARU\n",
      "JAYNECOIND\n",
      "JAYSREETEA\n",
      "JBCHEPHARM\n",
      "JBMA\n",
      "JCHAC\n",
      "JETAIRWAYS\n",
      "JETFREIGHT\n",
      "JGCHEM\n",
      "JHS\n",
      "JINDALPHOT\n",
      "JINDALPOLY\n",
      "JINDALSAW\n",
      "JINDALSTEL\n",
      "JINDRILL\n",
      "JINDWORLD\n",
      "JIOFIN\n",
      "JISLDVREQS\n",
      "JISLJALEQS\n",
      "JITFINFRA\n",
      "JKCEMENT\n",
      "JKIL\n",
      "JKLAKSHMI\n",
      "JKPAPER\n",
      "JKTYRE\n",
      "JLHL\n",
      "JMA\n",
      "JMFINANCIL\n",
      "JNKINDIA\n",
      "JOCIL\n",
      "JPOLYINVST\n",
      "JPPOWER\n",
      "JSFB\n",
      "JSL\n",
      "JSWENERGY\n",
      "JSWHL\n",
      "JSWINFRA\n",
      "JSWSTEEL\n",
      "JTEKTINDIA\n",
      "JTLIND\n",
      "JUBLFOOD\n",
      "JUBLINDS\n",
      "JUBLINGREA\n",
      "JUBLPHARMA\n",
      "JUNIPER\n",
      "JUSTDIAL\n",
      "JWL\n",
      "JYOTHYLAB\n",
      "JYOTICNC\n",
      "JYOTISTRUC\n",
      "KABRAEXTRU\n",
      "KAJARIACER\n",
      "KAKATCEM\n",
      "KALAMANDIR\n",
      "KALYANI\n",
      "KALYANIFRG\n",
      "KALYANKJIL\n",
      "KAMATHOTEL\n",
      "KAMDHENU\n",
      "KAMOPAINTS\n",
      "KANANIIND\n",
      "KANORICHEM\n",
      "KANPRPLA\n",
      "KANSAINER\n",
      "KAPSTON\n",
      "KARMAENG\n",
      "KARURVYSYA\n",
      "KAUSHALYA\n",
      "KAVVERITEL\n",
      "KAYA\n",
      "KAYNES\n",
      "KBCGLOBAL\n",
      "KCP\n",
      "KCPSUGIND\n",
      "KDDL\n",
      "KEC\n",
      "KECL\n",
      "KEEPLEARN\n",
      "KEI\n",
      "KELLTONTEC\n",
      "KERNEX\n",
      "KESORAMIND\n",
      "KEYFINSERV\n",
      "KFINTECH\n",
      "KHADIM\n",
      "KHAICHEM\n",
      "KHAITANLTD\n",
      "KHANDSE\n",
      "KICL\n",
      "KILITCH\n",
      "KIMS\n",
      "KINGFA\n",
      "KIOCL\n",
      "KIRIINDUS\n",
      "KIRLOSBROS\n",
      "KIRLOSENG\n",
      "KIRLOSIND\n",
      "KIRLPNU\n",
      "KITEX\n",
      "KKCL\n",
      "KMSUGAR\n",
      "KNRCON\n",
      "KOHINOOR\n",
      "KOKUYOCMLN\n",
      "KOLTEPATIL\n",
      "KOPRAN\n",
      "KOTAKBANK\n",
      "KOTARISUG\n",
      "KOTHARIPET\n",
      "KOTHARIPRO\n",
      "KPIGREEN\n",
      "KPIL\n",
      "KPITTECH\n",
      "KPRMILL\n",
      "KRBL\n",
      "KREBSBIO\n",
      "KRIDHANINF\n",
      "KRISHANA\n",
      "KRITI\n",
      "KRITIKA\n",
      "KRITINUT\n",
      "KRONOX\n",
      "KROSS\n",
      "KRSNAA\n",
      "KRYSTAL\n",
      "KSB\n",
      "KSCL\n",
      "KSHITIJPOL\n",
      "KSL\n",
      "KSOLVES\n",
      "KTKBANK\n",
      "KUANTUM\n",
      "LAGNAM\n",
      "LAL\n",
      "LALPATHLAB\n",
      "LAMBODHARA\n",
      "LANCORHOL\n",
      "LANDMARK\n",
      "LAOPALA\n",
      "LASA\n",
      "LATENTVIEW\n",
      "LATTEYS\n",
      "LAURUSLABS\n",
      "LAXMICOT\n",
      "LAXMIMACH\n",
      "LCCINFOTEC\n",
      "LEMONTREE\n",
      "LEXUS\n",
      "LFIC\n",
      "LGBBROSLTD\n",
      "LGHL\n",
      "LIBAS\n",
      "LIBERTSHOE\n",
      "LICHSGFIN\n",
      "LICI\n",
      "LIKHITHA\n",
      "LINC\n",
      "LINCOLN\n",
      "LINDEINDIA\n",
      "LLOYDSENGG\n",
      "LLOYDSME\n",
      "LODHA\n",
      "LOKESHMACH\n",
      "LORDSCHLO\n",
      "LOTUSEYE\n",
      "LOVABLE\n",
      "LOYALTEX\n",
      "LPDC\n",
      "LT\n",
      "LTF\n",
      "LTFOODS\n",
      "LTIM\n",
      "LTTS\n",
      "LUMAXIND\n",
      "LUMAXTECH\n",
      "LUPIN\n",
      "LUXIND\n",
      "LXCHEM\n",
      "LYKALABS\n",
      "LYPSAGEMS\n",
      "M&M\n",
      "M&MFIN\n",
      "MAANALU\n",
      "MACPOWER\n",
      "MADHAV\n",
      "MADHUCON\n",
      "MADRASFERT\n",
      "MAGADSUGAR\n",
      "MAGNUM\n",
      "MAHABANK\n",
      "MAHAPEXLTD\n",
      "MAHASTEEL\n",
      "MAHEPC\n",
      "MAHESHWARI\n",
      "MAHLIFE\n",
      "MAHLOG\n",
      "MAHSCOOTER\n",
      "MAHSEAMLES\n",
      "MAITHANALL\n",
      "MALLCOM\n",
      "MALUPAPER\n",
      "MANAKALUCO\n",
      "MANAKCOAT\n",
      "MANAKSIA\n",
      "MANAKSTEEL\n",
      "MANALIPETC\n",
      "MANAPPURAM\n",
      "MANCREDIT\n",
      "MANGALAM\n",
      "MANGCHEFER\n",
      "MANGLMCEM\n",
      "MANINDS\n",
      "MANINFRA\n",
      "MANKIND\n",
      "MANOMAY\n",
      "MANORAMA\n",
      "MANORG\n",
      "MANUGRAPH\n",
      "MANYAVAR\n",
      "MAPMYINDIA\n",
      "MARALOVER\n",
      "MARATHON\n",
      "MARICO\n",
      "MARINE\n",
      "MARKSANS\n",
      "MARSHALL\n",
      "MARUTI\n",
      "MASFIN\n",
      "MASKINVEST\n",
      "MASTEK\n",
      "MATRIMONY\n",
      "MAWANASUG\n",
      "MAXESTATES\n",
      "MAXHEALTH\n",
      "MAXIND\n",
      "MAYURUNIQ\n",
      "MAZDA\n",
      "MAZDOCK\n",
      "MBAPL\n",
      "MBECL\n",
      "MBLINFRA\n",
      "MCL\n",
      "MCLEODRUSS\n",
      "MCX\n",
      "MEDANTA\n",
      "MEDIASSIST\n",
      "MEDICAMEQ\n",
      "MEDICO\n",
      "MEDPLUS\n",
      "MEGASOFT\n",
      "MEGASTAR\n",
      "MENONBE\n",
      "METROBRAND\n",
      "METROPOLIS\n",
      "MFML\n",
      "MFSL\n",
      "MGEL\n",
      "MGL\n",
      "MHLXMIRU\n",
      "MHRIL\n",
      "MICEL\n",
      "MIDHANI\n",
      "MINDACORP\n",
      "MINDTECK\n",
      "MIRCELECTR\n",
      "MIRZAINT\n",
      "MITCON\n",
      "MITTAL\n",
      "MKPL\n",
      "MMFL\n",
      "MMP\n",
      "MMTC\n",
      "MODIRUBBER\n",
      "MODISONLTD\n",
      "MODTHREAD\n",
      "MOHITIND\n",
      "MOIL\n",
      "MOKSH\n",
      "MOL\n",
      "MOLDTECH\n",
      "MOLDTKPAC\n",
      "MONARCH\n",
      "MONTECARLO\n",
      "MOREPENLAB\n",
      "MOTHERSON\n",
      "MOTILALOFS\n",
      "MOTISONS\n",
      "MOTOGENFIN\n",
      "MPHASIS\n",
      "MPSLTD\n",
      "MRF\n",
      "MRO-TEK\n",
      "MRPL\n",
      "MSPL\n",
      "MSTCLTD\n",
      "MSUMI\n",
      "MTARTECH\n",
      "MTNL\n",
      "MUFIN\n",
      "MUFTI\n",
      "MUKANDLTD\n",
      "MUKKA\n",
      "MUKTAARTS\n",
      "MUNJALAU\n",
      "MUNJALSHOW\n",
      "MURUDCERA\n",
      "MUTHOOTCAP\n",
      "MUTHOOTFIN\n",
      "MUTHOOTMF\n",
      "MVGJL\n",
      "NACLIND\n",
      "NAGAFERT\n",
      "NAGREEKCAP\n",
      "NAGREEKEXP\n",
      "NAHARCAP\n",
      "NAHARINDUS\n",
      "NAHARPOLY\n",
      "NAHARSPING\n",
      "NAM-INDIA\n",
      "NARMADA\n",
      "NATCOPHARM\n",
      "NATHBIOGEN\n",
      "NATIONALUM\n",
      "NAUKRI\n",
      "NAVA\n",
      "NAVINFLUOR\n",
      "NAVKARCORP\n",
      "NAVNETEDUL\n",
      "NAZARA\n",
      "NBCC\n",
      "NBIFIN\n",
      "NCC\n",
      "NCLIND\n",
      "NDGL\n",
      "NDL\n",
      "NDLVENTURE\n",
      "NDRAUTO\n",
      "NDTV\n",
      "NECCLTD\n",
      "NECLIFE\n",
      "NELCAST\n",
      "NELCO\n",
      "NEOGEN\n",
      "NESCO\n",
      "NESTLEIND\n",
      "NETWEB\n",
      "NETWORK18\n",
      "NEULANDLAB\n",
      "NEWGEN\n",
      "NEXTMEDIA\n",
      "NFL\n",
      "NGIL\n",
      "NGLFINE\n",
      "NH\n",
      "NHPC\n",
      "NIACL\n",
      "NIBL\n",
      "NIITLTD\n",
      "NIITMTS\n",
      "NILAINFRA\n",
      "NILASPACES\n",
      "NILKAMAL\n",
      "NINSYS\n",
      "NIPPOBATRY\n",
      "NIRAJ\n",
      "NIRAJISPAT\n",
      "NITCO\n",
      "NITINSPIN\n",
      "NITIRAJ\n",
      "NKIND\n",
      "NLCINDIA\n",
      "NMDC\n",
      "NOCIL\n",
      "NOIDATOLL\n",
      "NORBTEAEXP\n",
      "NOVAAGRI\n",
      "NRAIL\n",
      "NRBBEARING\n",
      "NRL\n",
      "NSIL\n",
      "NSLNISP\n",
      "NTPC\n",
      "NUCLEUS\n",
      "NURECA\n",
      "NUVAMA\n",
      "NUVOCO\n",
      "NYKAA\n",
      "OAL\n",
      "OBCL\n",
      "OBEROIRLTY\n",
      "OCCL\n",
      "OFSS\n",
      "OIL\n",
      "OILCOUNTUB\n",
      "OLAELEC\n",
      "OLECTRA\n",
      "OMAXAUTO\n",
      "OMAXE\n",
      "OMINFRAL\n",
      "OMKARCHEM\n",
      "ONELIFECAP\n",
      "ONEPOINT\n",
      "ONGC\n",
      "ONMOBILE\n",
      "ONWARDTEC\n",
      "OPTIEMUS\n",
      "ORBTEXP\n",
      "ORCHPHARMA\n",
      "ORICONENT\n",
      "ORIENT-RE\n",
      "ORIENTALTL\n",
      "ORIENTBELL\n",
      "ORIENTCEM\n",
      "ORIENTCER\n",
      "ORIENTELEC\n",
      "ORIENTHOT\n",
      "ORIENTLTD\n",
      "ORIENTPPR\n",
      "ORIENTTECH\n",
      "ORISSAMINE\n",
      "ORTINGLOBE\n",
      "OSIAHYPER\n",
      "OSWALAGRO\n",
      "OSWALGREEN\n",
      "OSWALSEEDS\n",
      "PAGEIND\n",
      "PAISALO\n",
      "PAKKA\n",
      "PALASHSECU\n",
      "PALREDTEC\n",
      "PANACEABIO\n",
      "PANACHE\n",
      "PANAMAPET\n",
      "PANSARI\n",
      "PAR\n",
      "PARACABLES\n",
      "PARADEEP\n",
      "PARAGMILK\n",
      "PARAS\n",
      "PARASPETRO\n",
      "PARKHOTELS\n",
      "PARSVNATH\n",
      "PASUPTAC\n",
      "PATANJALI\n",
      "PATELENG\n",
      "PATINT-RE2\n",
      "PATINTLOG\n",
      "PAVNAIND\n",
      "PAYTM\n",
      "PCBL\n",
      "PCJEWELLER\n",
      "PDMJEPAPER\n",
      "PDSL\n",
      "PEARLPOLY\n",
      "PEL\n",
      "PENIND\n",
      "PENINLAND\n",
      "PERSISTENT\n",
      "PETRONET\n",
      "PFC\n",
      "PFIZER\n",
      "PFOCUS\n",
      "PFS\n",
      "PGEL\n",
      "PGHH\n",
      "PGHL\n",
      "PGIL\n",
      "PHOENIXLTD\n",
      "PIDILITIND\n",
      "PIGL\n",
      "PIIND\n",
      "PILANIINVS\n",
      "PILITA\n",
      "PIONEEREMB\n",
      "PITTIENG\n",
      "PIXTRANS\n",
      "PKTEA\n",
      "PLASTIBLEN\n",
      "PLATIND\n",
      "PLAZACABLE\n",
      "PNB\n",
      "PNBGILTS\n",
      "PNBHOUSING\n",
      "PNC\n",
      "PNCINFRA\n",
      "PNGJL\n",
      "POCL\n",
      "PODDARHOUS\n",
      "PODDARMENT\n",
      "POKARNA\n",
      "POLICYBZR\n",
      "POLYCAB\n",
      "POLYMED\n",
      "POLYPLEX\n",
      "PONNIERODE\n",
      "POONAWALLA\n",
      "POWERGRID\n",
      "POWERINDIA\n",
      "POWERMECH\n",
      "PPAP\n",
      "PPL\n",
      "PPLPHARMA\n",
      "PRAENG\n",
      "PRAJIND\n",
      "PRAKASH\n",
      "PRAKASHSTL\n",
      "PRAXIS\n",
      "PRECAM\n",
      "PRECOT\n",
      "PRECWIRE\n",
      "PREMEXPLN\n",
      "PREMIERENE\n",
      "PREMIERPOL\n",
      "PRESTIGE\n",
      "PRICOLLTD\n",
      "PRIMESECU\n",
      "PRINCEPIPE\n",
      "PRITI\n",
      "PRITIKAUTO\n",
      "PRIVISCL\n",
      "PROZONER\n",
      "PRSMJOHNSN\n",
      "PRUDENT\n",
      "PRUDMOULI\n",
      "PSB\n",
      "PSPPROJECT\n",
      "PTC\n",
      "PTCIL\n",
      "PTL\n",
      "PUNJABCHEM\n",
      "PURVA\n",
      "PVP\n",
      "PVRINOX\n",
      "PVSL\n",
      "PYRAMID\n",
      "QUESS\n",
      "QUICKHEAL\n",
      "RACE\n",
      "RADAAN\n",
      "RADHIKAJWE\n",
      "RADIANTCMS\n",
      "RADICO\n",
      "RADIOCITY\n",
      "RAILTEL\n",
      "RAIN\n",
      "RAINBOW\n",
      "RAJESHEXPO\n",
      "RAJMET\n",
      "RAJRATAN\n",
      "RAJRILTD\n",
      "RAJSREESUG\n",
      "RAJTV\n",
      "RALLIS\n",
      "RAMANEWS\n",
      "RAMAPHO\n",
      "RAMASTEEL\n",
      "RAMCOCEM\n",
      "RAMCOIND\n",
      "RAMCOSYS\n",
      "RAMKY\n",
      "RAMRAT\n",
      "RANASUG\n",
      "RANEENGINE\n",
      "RANEHOLDIN\n",
      "RATEGAIN\n",
      "RATNAMANI\n",
      "RATNAVEER\n",
      "RAYMOND\n",
      "RAYMONDLSL\n",
      "RBA\n",
      "RBL\n",
      "RBLBANK\n",
      "RBZJEWEL\n",
      "RCF\n",
      "RECLTD\n",
      "REDINGTON\n",
      "REDTAPE\n",
      "REFEX\n",
      "REGENCERAM\n",
      "RELAXO\n",
      "RELCHEMQ\n",
      "RELIABLE\n",
      "RELIANCE\n",
      "RELIGARE\n",
      "RELINFRA\n",
      "RELTD\n",
      "REMSONSIND\n",
      "RENUKA\n",
      "REPCOHOME\n",
      "REPL\n",
      "REPRO\n",
      "RESPONIND\n",
      "RETAIL\n",
      "REVATHIEQU\n",
      "RGL\n",
      "RHFL\n",
      "RHIM\n",
      "RHL\n",
      "RICOAUTO\n",
      "RIIL\n",
      "RISHABH\n",
      "RITCO\n",
      "RITES\n",
      "RKDL\n",
      "RKEC\n",
      "RKFORGE\n",
      "RKSWAMY\n",
      "RML\n",
      "ROHLTD\n",
      "ROLEXRINGS\n",
      "ROLLT\n",
      "ROML\n",
      "ROSSARI\n",
      "ROSSELLIND\n",
      "ROTO\n",
      "ROUTE\n",
      "RPEL\n",
      "RPGLIFE\n",
      "RPOWER\n",
      "RPPINFRA\n",
      "RPPL\n",
      "RPSGVENT\n",
      "RPTECH\n",
      "RRKABEL\n",
      "RSSOFTWARE\n",
      "RSWM\n",
      "RSYSTEMS\n",
      "RTNINDIA\n",
      "RTNPOWER\n",
      "RUBFILA\n",
      "RUBYMILLS\n",
      "RUCHINFRA\n",
      "RUCHIRA\n",
      "RUPA\n",
      "RUSHIL\n",
      "RUSTOMJEE\n",
      "RVHL\n",
      "RVNL\n",
      "S&SPOWER\n",
      "SABEVENTS\n",
      "SABTNL\n",
      "SADBHAV\n",
      "SADBHIN\n",
      "SADHNAN-RE\n",
      "SADHNANIQ\n",
      "SAFARI\n",
      "SAGARDEEP\n",
      "SAGCEM\n",
      "SAH\n",
      "SAHYADRI\n",
      "SAIL\n",
      "SAKAR\n",
      "SAKHTISUG\n",
      "SAKSOFT\n",
      "SAKUMA\n",
      "SALASAR\n",
      "SALONA\n",
      "SALSTEEL\n",
      "SALZERELEC\n",
      "SAMBHAAV\n",
      "SAMHI\n",
      "SAMMAANCAP\n",
      "SAMPANN\n",
      "SANCO\n",
      "SANDESH\n",
      "SANDHAR\n",
      "SANDUMA\n",
      "SANGAMIND\n",
      "SANGHIIND\n",
      "SANGHVIMOV\n",
      "SANGINITA\n",
      "SANOFI\n",
      "SANOFICONR\n",
      "SANSERA\n",
      "SANSTAR\n",
      "SANWARIA\n",
      "SAPPHIRE\n",
      "SARDAEN\n",
      "SAREGAMA\n",
      "SARLAPOLY\n",
      "SARVESHWAR\n",
      "SASKEN\n",
      "SASTASUNDR\n",
      "SATIA\n",
      "SATIN\n",
      "SATINDLTD\n",
      "SAURASHCEM\n",
      "SBC\n",
      "SBCL\n",
      "SBFC\n",
      "SBGLP\n",
      "SBICARD\n",
      "SBILIFE\n",
      "SBIN\n",
      "SCHAEFFLER\n",
      "SCHAND\n",
      "SCHNEIDER\n",
      "SCI\n",
      "SCILAL\n",
      "SCPL\n",
      "SDBL\n",
      "SEAMECLTD\n",
      "SECMARK\n",
      "SECURCRED\n",
      "SECURKLOUD\n",
      "SEJALLTD\n",
      "SELAN\n",
      "SELMC\n",
      "SEMAC\n",
      "SENCO\n",
      "SEPC\n",
      "SEQUENT\n",
      "SERVOTECH\n",
      "SESHAPAPER\n",
      "SETCO\n",
      "SETUINFRA\n",
      "SFL\n",
      "SGIL\n",
      "SGIL-RE\n",
      "SGL\n",
      "SHAH\n",
      "SHAHALLOYS\n",
      "SHAILY\n",
      "SHAKTIPUMP\n",
      "SHALBY\n",
      "SHALPAINTS\n",
      "SHANKARA\n",
      "SHANTI\n",
      "SHANTIGEAR\n",
      "SHARDACROP\n",
      "SHARDAMOTR\n",
      "SHAREINDIA\n",
      "SHEKHAWATI\n",
      "SHEMAROO\n",
      "SHILPAMED\n",
      "SHIVALIK\n",
      "SHIVAMAUTO\n",
      "SHIVAMILLS\n",
      "SHIVATEX\n",
      "SHK\n",
      "SHOPERSTOP\n",
      "SHRADHA\n",
      "SHREDIGCEM\n",
      "SHREECEM\n",
      "SHREEPUSHK\n",
      "SHREERAMA\n",
      "SHRENIK\n",
      "SHREYANIND\n",
      "SHREYAS\n",
      "SHRIPISTON\n",
      "SHRIRAMFIN\n",
      "SHRIRAMPPS\n",
      "SHYAMCENT\n",
      "SHYAMMETL\n",
      "SHYAMTEL\n",
      "SIEMENS\n",
      "SIGACHI\n",
      "SIGIND\n",
      "SIGMA\n",
      "SIGNATURE\n",
      "SIGNPOST\n",
      "SIKKO\n",
      "SIL\n",
      "SILGO\n",
      "SILINV\n",
      "SILLYMONKS\n",
      "SILVERTUC\n",
      "SIMBHALS\n",
      "SIMPLEXINF\n",
      "SINCLAIR\n",
      "SINDHUTRAD\n",
      "SINTERCOM\n",
      "SIRCA\n",
      "SIS\n",
      "SITINET\n",
      "SIYSIL\n",
      "SJS\n",
      "SJVN\n",
      "SKFINDIA\n",
      "SKIPPER\n",
      "SKMEGGPROD\n",
      "SKYGOLD\n",
      "SMARTLINK\n",
      "SMCGLOBAL\n",
      "SMLISUZU\n",
      "SMLT\n",
      "SMSLIFE\n",
      "SMSPHARMA\n",
      "SNOWMAN\n",
      "SOBHA\n",
      "SOFTTECH\n",
      "SOLARA\n",
      "SOLARINDS\n",
      "SOMANYCERA\n",
      "SOMATEX\n",
      "SOMICONVEY\n",
      "SONACOMS\n",
      "SONAMLTD\n",
      "SONATSOFTW\n",
      "SOTL\n",
      "SOUTHBANK\n",
      "SOUTHWEST\n",
      "SPAL\n",
      "SPANDANA\n",
      "SPARC\n",
      "SPCENET\n",
      "SPECIALITY\n",
      "SPENCERS\n",
      "SPIC\n",
      "SPLIL\n",
      "SPLPETRO\n",
      "SPMLINFRA\n",
      "SPORTKING\n",
      "SREEL\n",
      "SRF\n",
      "SRGHFL\n",
      "SRHHYPOLTD\n",
      "SRM\n",
      "SRPL\n",
      "SSDL\n",
      "SSWL\n",
      "STANLEY\n",
      "STAR\n",
      "STARCEMENT\n",
      "STARHEALTH\n",
      "STARPAPER\n",
      "STARTECK\n",
      "STCINDIA\n",
      "STEELCAS\n",
      "STEELCITY\n",
      "STEELXIND\n",
      "STEL\n",
      "STERTOOLS\n",
      "STLTECH\n",
      "STOVEKRAFT\n",
      "STYLAMIND\n",
      "STYLEBAAZA\n",
      "STYRENIX\n",
      "SUBEXLTD\n",
      "SUBROS\n",
      "SUDARSCHEM\n",
      "SUKHJITS\n",
      "SULA\n",
      "SUMEETINDS\n",
      "SUMICHEM\n",
      "SUMIT\n",
      "SUMMITSEC\n",
      "SUNCLAY\n",
      "SUNDARAM\n",
      "SUNDARMFIN\n",
      "SUNDARMHLD\n",
      "SUNDRMBRAK\n",
      "SUNDRMFAST\n",
      "SUNFLAG\n",
      "SUNPHARMA\n",
      "SUNTECK\n",
      "SUNTV\n",
      "SUPERHOUSE\n",
      "SUPERSPIN\n",
      "SUPRAJIT\n",
      "SUPREMEENG\n",
      "SUPREMEIND\n",
      "SUPREMEINF\n",
      "SUPRIYA\n",
      "SURAJEST\n",
      "SURAJLTD\n",
      "SURANASOL\n",
      "SURANAT&P\n",
      "SURYALAXMI\n",
      "SURYAROSNI\n",
      "SURYODAY\n",
      "SUTLEJTEX\n",
      "SUULD\n",
      "SUVEN\n",
      "SUVENPHAR\n",
      "SUVIDHAA\n",
      "SUYOG\n",
      "SUZLON\n",
      "SVLL\n",
      "SVPGLOB\n",
      "SWANENERGY\n",
      "SWARAJENG\n",
      "SWELECTES\n",
      "SWSOLAR\n",
      "SYMPHONY\n",
      "SYNCOMF\n",
      "SYNGENE\n",
      "SYRMA\n",
      "TAINWALCHM\n",
      "TAJGVK\n",
      "TAKE\n",
      "TALBROAUTO\n",
      "TANLA\n",
      "TARACHAND\n",
      "TARAPUR\n",
      "TARC\n",
      "TARIL\n",
      "TARMAT\n",
      "TARSONS\n",
      "TASTYBITE\n",
      "TATACHEM\n",
      "TATACOMM\n",
      "TATACONSUM\n",
      "TATAELXSI\n",
      "TATAINVEST\n",
      "TATAMOTORS\n",
      "TATAPOWER\n",
      "TATASTEEL\n",
      "TATATECH\n",
      "TATVA\n",
      "TBOTEK\n",
      "TBZ\n",
      "TCI\n",
      "TCIEXP\n",
      "TCIFINANCE\n",
      "TCLCONS\n",
      "TCPLPACK\n",
      "TCS\n",
      "TDPOWERSYS\n",
      "TEAMLEASE\n",
      "TECHIN\n",
      "TECHM\n",
      "TECHNOE\n",
      "TECILCHEM\n",
      "TEGA\n",
      "TEJASNET\n",
      "TEMBO\n",
      "TERASOFT\n",
      "TEXINFRA\n",
      "TEXMOPIPES\n",
      "TEXRAIL\n",
      "TFCILTD\n",
      "TFL\n",
      "TGBHOTELS\n",
      "THANGAMAYL\n",
      "THEINVEST\n",
      "THEJO\n",
      "THEMISMED\n",
      "THERMAX\n",
      "THOMASCOOK\n",
      "THOMASCOTT\n",
      "THYROCARE\n",
      "TI\n",
      "TIDEWATER\n",
      "TIIL\n",
      "TIINDIA\n",
      "TIJARIA\n",
      "TIL\n",
      "TIMESGTY\n",
      "TIMETECHNO\n",
      "TIMKEN\n",
      "TIPSFILMS\n",
      "TIPSINDLTD\n",
      "TIRUMALCHM\n",
      "TIRUPATIFL\n",
      "TITAGARH\n",
      "TITAN\n",
      "TMB\n",
      "TNPETRO\n",
      "TNPL\n",
      "TNTELE\n",
      "TOKYOPLAST\n",
      "TOLINS\n",
      "TORNTPHARM\n",
      "TORNTPOWER\n",
      "TOTAL\n",
      "TOUCHWOOD\n",
      "TPHQ\n",
      "TPLPLASTEH\n",
      "TRACXN\n",
      "TREEHOUSE\n",
      "TREJHARA\n",
      "TREL\n",
      "TRENT\n",
      "TRF\n",
      "TRIDENT\n",
      "TRIGYN\n",
      "TRITURBINE\n",
      "TRIVENI\n",
      "TRU\n",
      "TTKHLTCARE\n",
      "TTKPRESTIG\n",
      "TTL\n",
      "TTML\n",
      "TV18BRDCST\n",
      "TVSELECT\n",
      "TVSHLTD\n",
      "TVSMOTOR\n",
      "TVSSCS\n",
      "TVSSRICHAK\n",
      "TVTODAY\n",
      "TVVISION\n",
      "UBL\n",
      "UCAL\n",
      "UCOBANK\n",
      "UDAICEMENT\n",
      "UDS\n",
      "UFLEX\n",
      "UFO\n",
      "UGARSUGAR\n",
      "UGROCAP\n",
      "UJJIVANSFB\n",
      "ULTRACEMCO\n",
      "UMAEXPORTS\n",
      "UMANGDAIRY\n",
      "UMESLTD\n",
      "UNICHEMLAB\n",
      "UNIDT\n",
      "UNIECOM\n",
      "UNIENTER\n",
      "UNIINFO\n",
      "UNIONBANK\n",
      "UNIPARTS\n",
      "UNITDSPR\n",
      "UNITECH\n",
      "UNITEDPOLY\n",
      "UNITEDTEA\n",
      "UNIVASTU\n",
      "UNIVCABLES\n",
      "UNIVPHOTO\n",
      "UNOMINDA\n",
      "UPL\n",
      "URAVI\n",
      "URJA\n",
      "USHAMART\n",
      "USK\n",
      "UTIAMC\n",
      "UTKARSHBNK\n",
      "UTTAMSUGAR\n",
      "V2RETAIL\n",
      "VADILALIND\n",
      "VAIBHAVGBL\n",
      "VAISHALI\n",
      "VAKRANGEE\n",
      "VALIANTLAB\n",
      "VALIANTORG\n",
      "VARDHACRLC\n",
      "VARDM-RE\n",
      "VARDMNPOLY\n",
      "VARROC\n",
      "VASCONEQ\n",
      "VASWANI\n",
      "VBL\n",
      "VCL\n",
      "VEDL\n",
      "VENKEYS\n",
      "VENUSPIPES\n",
      "VENUSREM\n",
      "VERANDA\n",
      "VERTOZ\n",
      "VESUVIUS\n",
      "VETO\n",
      "VGUARD\n",
      "VHL\n",
      "VHLTD\n",
      "VIDHIING\n",
      "VIJAYA\n",
      "VIJIFIN\n",
      "VIKASECO\n",
      "VIKASLIFE\n",
      "VIMTALABS\n",
      "VINATIORGA\n",
      "VINDHYATEL\n",
      "VINEETLAB\n",
      "VINNY\n",
      "VINYLINDIA\n",
      "VIPCLOTHNG\n",
      "VIPIND\n",
      "VIPULLTD\n",
      "VIRINCHI\n",
      "VISAKAIND\n",
      "VISHNU\n",
      "VISHWARAJ\n",
      "VIVIDHA\n",
      "VLEGOV\n",
      "VLSFINANCE\n",
      "VMART\n",
      "VOLTAMP\n",
      "VOLTAS\n",
      "VPRPL\n",
      "VRAJ\n",
      "VRLLOG\n",
      "VSSL\n",
      "VSTIND\n",
      "VSTL\n",
      "VSTTILLERS\n",
      "VTL\n",
      "WABAG\n",
      "WALCHANNAG\n",
      "WANBURY\n",
      "WEALTH\n",
      "WEBELSOLAR\n",
      "WEIZMANIND\n",
      "WEL\n",
      "WELCORP\n",
      "WELENT\n",
      "WELINV\n",
      "WELSPUNLIV\n",
      "WENDT\n",
      "WESTLIFE\n",
      "WEWIN\n",
      "WHEELS\n",
      "WHIRLPOOL\n",
      "WILLAMAGOR\n",
      "WINDLAS\n",
      "WINDMACHIN\n",
      "WINSOME\n",
      "WIPL\n",
      "WIPRO\n",
      "WOCKPHARMA\n",
      "WONDERLA\n",
      "WORTH\n",
      "WSI\n",
      "WSTCSTPAPR\n",
      "XCHANGING\n",
      "XELPMOC\n",
      "XPROINDIA\n",
      "XTGLOBAL\n",
      "YAARI\n",
      "YASHO\n",
      "YATHARTH\n",
      "YATRA\n",
      "YESBANK\n",
      "YUKEN\n",
      "ZAGGLE\n",
      "ZEEL\n",
      "ZEELEARN\n",
      "ZEEMEDIA\n",
      "ZENITHEXPO\n",
      "ZENITHSTL\n",
      "ZENSARTECH\n",
      "ZENTEC\n",
      "ZFCVINDIA\n",
      "ZIMLAB\n",
      "ZODIAC\n",
      "ZODIACLOTH\n",
      "ZOMATO\n",
      "ZOTA\n",
      "ZUARI\n",
      "ZUARIIND\n",
      "ZYDUSLIFE\n",
      "ZYDUSWELL\n"
     ]
    },
    {
     "data": {
      "text/html": [
       "<div>\n",
       "<style scoped>\n",
       "    .dataframe tbody tr th:only-of-type {\n",
       "        vertical-align: middle;\n",
       "    }\n",
       "\n",
       "    .dataframe tbody tr th {\n",
       "        vertical-align: top;\n",
       "    }\n",
       "\n",
       "    .dataframe thead th {\n",
       "        text-align: right;\n",
       "    }\n",
       "</style>\n",
       "<table border=\"1\" class=\"dataframe\">\n",
       "  <thead>\n",
       "    <tr style=\"text-align: right;\">\n",
       "      <th></th>\n",
       "      <th>Series</th>\n",
       "      <th>Date</th>\n",
       "      <th>PrevClose</th>\n",
       "      <th>OpenPrice</th>\n",
       "      <th>HighPrice</th>\n",
       "      <th>LowPrice</th>\n",
       "      <th>LastPrice</th>\n",
       "      <th>ClosePrice</th>\n",
       "      <th>AveragePrice</th>\n",
       "      <th>TotalTradedQuantity</th>\n",
       "      <th>TurnoverInRs</th>\n",
       "      <th>No.ofTrades</th>\n",
       "      <th>DeliverableQty</th>\n",
       "      <th>%DlyQttoTradedQty</th>\n",
       "      <th>Symbol</th>\n",
       "    </tr>\n",
       "  </thead>\n",
       "  <tbody>\n",
       "    <tr>\n",
       "      <th>0</th>\n",
       "      <td>EQ</td>\n",
       "      <td>18-Jun-2024</td>\n",
       "      <td>1849.80</td>\n",
       "      <td>1862.2</td>\n",
       "      <td>1879.70</td>\n",
       "      <td>1841.0</td>\n",
       "      <td>1845.00</td>\n",
       "      <td>1846.10</td>\n",
       "      <td>1854.73</td>\n",
       "      <td>28165</td>\n",
       "      <td>52238355.60</td>\n",
       "      <td>4411</td>\n",
       "      <td>16499.0</td>\n",
       "      <td>58.58</td>\n",
       "      <td>ZYDUSWELL</td>\n",
       "    </tr>\n",
       "    <tr>\n",
       "      <th>1</th>\n",
       "      <td>EQ</td>\n",
       "      <td>19-Jun-2024</td>\n",
       "      <td>1846.10</td>\n",
       "      <td>1858.4</td>\n",
       "      <td>1864.90</td>\n",
       "      <td>1818.7</td>\n",
       "      <td>1830.20</td>\n",
       "      <td>1834.45</td>\n",
       "      <td>1837.52</td>\n",
       "      <td>23708</td>\n",
       "      <td>43564007.05</td>\n",
       "      <td>4283</td>\n",
       "      <td>12596.0</td>\n",
       "      <td>53.13</td>\n",
       "      <td>ZYDUSWELL</td>\n",
       "    </tr>\n",
       "    <tr>\n",
       "      <th>2</th>\n",
       "      <td>EQ</td>\n",
       "      <td>20-Jun-2024</td>\n",
       "      <td>1834.45</td>\n",
       "      <td>1847.0</td>\n",
       "      <td>1903.40</td>\n",
       "      <td>1830.0</td>\n",
       "      <td>1875.00</td>\n",
       "      <td>1887.75</td>\n",
       "      <td>1869.65</td>\n",
       "      <td>24839</td>\n",
       "      <td>46440252.50</td>\n",
       "      <td>5343</td>\n",
       "      <td>10646.0</td>\n",
       "      <td>42.86</td>\n",
       "      <td>ZYDUSWELL</td>\n",
       "    </tr>\n",
       "    <tr>\n",
       "      <th>3</th>\n",
       "      <td>EQ</td>\n",
       "      <td>21-Jun-2024</td>\n",
       "      <td>1887.75</td>\n",
       "      <td>1899.0</td>\n",
       "      <td>1899.00</td>\n",
       "      <td>1850.0</td>\n",
       "      <td>1852.05</td>\n",
       "      <td>1856.55</td>\n",
       "      <td>1860.75</td>\n",
       "      <td>13776</td>\n",
       "      <td>25633719.20</td>\n",
       "      <td>3057</td>\n",
       "      <td>6615.0</td>\n",
       "      <td>48.02</td>\n",
       "      <td>ZYDUSWELL</td>\n",
       "    </tr>\n",
       "    <tr>\n",
       "      <th>4</th>\n",
       "      <td>EQ</td>\n",
       "      <td>24-Jun-2024</td>\n",
       "      <td>1856.55</td>\n",
       "      <td>1860.0</td>\n",
       "      <td>1900.45</td>\n",
       "      <td>1840.0</td>\n",
       "      <td>1864.50</td>\n",
       "      <td>1865.80</td>\n",
       "      <td>1864.83</td>\n",
       "      <td>17295</td>\n",
       "      <td>32252187.55</td>\n",
       "      <td>3092</td>\n",
       "      <td>8732.0</td>\n",
       "      <td>50.49</td>\n",
       "      <td>ZYDUSWELL</td>\n",
       "    </tr>\n",
       "  </tbody>\n",
       "</table>\n",
       "</div>"
      ],
      "text/plain": [
       "  Series         Date  PrevClose  OpenPrice  HighPrice  LowPrice  LastPrice  \\\n",
       "0     EQ  18-Jun-2024    1849.80     1862.2    1879.70    1841.0    1845.00   \n",
       "1     EQ  19-Jun-2024    1846.10     1858.4    1864.90    1818.7    1830.20   \n",
       "2     EQ  20-Jun-2024    1834.45     1847.0    1903.40    1830.0    1875.00   \n",
       "3     EQ  21-Jun-2024    1887.75     1899.0    1899.00    1850.0    1852.05   \n",
       "4     EQ  24-Jun-2024    1856.55     1860.0    1900.45    1840.0    1864.50   \n",
       "\n",
       "   ClosePrice  AveragePrice  TotalTradedQuantity  TurnoverInRs  No.ofTrades  \\\n",
       "0     1846.10       1854.73                28165   52238355.60         4411   \n",
       "1     1834.45       1837.52                23708   43564007.05         4283   \n",
       "2     1887.75       1869.65                24839   46440252.50         5343   \n",
       "3     1856.55       1860.75                13776   25633719.20         3057   \n",
       "4     1865.80       1864.83                17295   32252187.55         3092   \n",
       "\n",
       "   DeliverableQty  %DlyQttoTradedQty     Symbol  \n",
       "0         16499.0              58.58  ZYDUSWELL  \n",
       "1         12596.0              53.13  ZYDUSWELL  \n",
       "2         10646.0              42.86  ZYDUSWELL  \n",
       "3          6615.0              48.02  ZYDUSWELL  \n",
       "4          8732.0              50.49  ZYDUSWELL  "
      ]
     },
     "execution_count": 4,
     "metadata": {},
     "output_type": "execute_result"
    }
   ],
   "source": [
    "master_data = pd.DataFrame()\n",
    "for stock_symbol in symbol_list:\n",
    "    #stock = 'TATAMOTORS'\n",
    "    print(stock_symbol)\n",
    "    data = capital_market.price_volume_and_deliverable_position_data(symbol=stock_symbol, \n",
    "                                                                     from_date='16-06-2024', \n",
    "                                                                     to_date='20-07-2024')\n",
    "    master_data = pd.concat([data,master_data])\n",
    "numeric_columns = ['PrevClose', 'OpenPrice', 'HighPrice',\n",
    "       'LowPrice', 'LastPrice', 'ClosePrice', 'AveragePrice',\n",
    "       'TotalTradedQuantity', 'TurnoverInRs', 'No.ofTrades', 'DeliverableQty',\n",
    "       '%DlyQttoTradedQty']\n",
    "master_data[numeric_columns] = master_data[numeric_columns].replace({',': ''}, \n",
    "                                                                    regex=True).apply(\n",
    "                                                                        pd.to_numeric, \n",
    "                                                                        errors='coerce')\n",
    "master_data = master_data.drop(columns=['Symbol'])\n",
    "master_data.rename(columns={'ï»¿\"Symbol\"': 'Symbol'}, inplace=True)\n",
    "master_data.head()"
   ]
  },
  {
   "cell_type": "code",
   "execution_count": 5,
   "metadata": {},
   "outputs": [],
   "source": [
    "def lower_shadow(open_price,close_price,low_price):\n",
    "    if close_price >= open_price:\n",
    "        return open_price-low_price\n",
    "    else:\n",
    "        return close_price-low_price\n",
    "\n",
    "def upper_shadow(open_price,close_price,high_price):\n",
    "    if close_price >= open_price:\n",
    "        return high_price-close_price\n",
    "    else:\n",
    "        return high_price-open_price\n",
    "master_data['real_body'] = master_data['ClosePrice']-master_data['OpenPrice']\n",
    "master_data['lower_shadow'] = master_data.apply(lambda row: lower_shadow(row['OpenPrice'],row['ClosePrice'],row['LowPrice']),axis=1)\n",
    "master_data['upper_shadow'] = master_data.apply(lambda row: lower_shadow(row['OpenPrice'],row['ClosePrice'],row['HighPrice']),axis=1)\n"
   ]
  },
  {
   "cell_type": "code",
   "execution_count": 6,
   "metadata": {},
   "outputs": [
    {
     "data": {
      "text/html": [
       "<div>\n",
       "<style scoped>\n",
       "    .dataframe tbody tr th:only-of-type {\n",
       "        vertical-align: middle;\n",
       "    }\n",
       "\n",
       "    .dataframe tbody tr th {\n",
       "        vertical-align: top;\n",
       "    }\n",
       "\n",
       "    .dataframe thead th {\n",
       "        text-align: right;\n",
       "    }\n",
       "</style>\n",
       "<table border=\"1\" class=\"dataframe\">\n",
       "  <thead>\n",
       "    <tr style=\"text-align: right;\">\n",
       "      <th></th>\n",
       "      <th>Series</th>\n",
       "      <th>Date</th>\n",
       "      <th>PrevClose</th>\n",
       "      <th>OpenPrice</th>\n",
       "      <th>HighPrice</th>\n",
       "      <th>LowPrice</th>\n",
       "      <th>LastPrice</th>\n",
       "      <th>ClosePrice</th>\n",
       "      <th>AveragePrice</th>\n",
       "      <th>TotalTradedQuantity</th>\n",
       "      <th>TurnoverInRs</th>\n",
       "      <th>No.ofTrades</th>\n",
       "      <th>DeliverableQty</th>\n",
       "      <th>%DlyQttoTradedQty</th>\n",
       "      <th>Symbol</th>\n",
       "      <th>real_body</th>\n",
       "      <th>lower_shadow</th>\n",
       "      <th>upper_shadow</th>\n",
       "    </tr>\n",
       "  </thead>\n",
       "  <tbody>\n",
       "    <tr>\n",
       "      <th>0</th>\n",
       "      <td>EQ</td>\n",
       "      <td>18-Jun-2024</td>\n",
       "      <td>1849.80</td>\n",
       "      <td>1862.2</td>\n",
       "      <td>1879.70</td>\n",
       "      <td>1841.0</td>\n",
       "      <td>1845.00</td>\n",
       "      <td>1846.10</td>\n",
       "      <td>1854.73</td>\n",
       "      <td>28165</td>\n",
       "      <td>52238355.60</td>\n",
       "      <td>4411</td>\n",
       "      <td>16499.0</td>\n",
       "      <td>58.58</td>\n",
       "      <td>ZYDUSWELL</td>\n",
       "      <td>-16.10</td>\n",
       "      <td>5.10</td>\n",
       "      <td>-33.60</td>\n",
       "    </tr>\n",
       "    <tr>\n",
       "      <th>1</th>\n",
       "      <td>EQ</td>\n",
       "      <td>19-Jun-2024</td>\n",
       "      <td>1846.10</td>\n",
       "      <td>1858.4</td>\n",
       "      <td>1864.90</td>\n",
       "      <td>1818.7</td>\n",
       "      <td>1830.20</td>\n",
       "      <td>1834.45</td>\n",
       "      <td>1837.52</td>\n",
       "      <td>23708</td>\n",
       "      <td>43564007.05</td>\n",
       "      <td>4283</td>\n",
       "      <td>12596.0</td>\n",
       "      <td>53.13</td>\n",
       "      <td>ZYDUSWELL</td>\n",
       "      <td>-23.95</td>\n",
       "      <td>15.75</td>\n",
       "      <td>-30.45</td>\n",
       "    </tr>\n",
       "    <tr>\n",
       "      <th>2</th>\n",
       "      <td>EQ</td>\n",
       "      <td>20-Jun-2024</td>\n",
       "      <td>1834.45</td>\n",
       "      <td>1847.0</td>\n",
       "      <td>1903.40</td>\n",
       "      <td>1830.0</td>\n",
       "      <td>1875.00</td>\n",
       "      <td>1887.75</td>\n",
       "      <td>1869.65</td>\n",
       "      <td>24839</td>\n",
       "      <td>46440252.50</td>\n",
       "      <td>5343</td>\n",
       "      <td>10646.0</td>\n",
       "      <td>42.86</td>\n",
       "      <td>ZYDUSWELL</td>\n",
       "      <td>40.75</td>\n",
       "      <td>17.00</td>\n",
       "      <td>-56.40</td>\n",
       "    </tr>\n",
       "    <tr>\n",
       "      <th>3</th>\n",
       "      <td>EQ</td>\n",
       "      <td>21-Jun-2024</td>\n",
       "      <td>1887.75</td>\n",
       "      <td>1899.0</td>\n",
       "      <td>1899.00</td>\n",
       "      <td>1850.0</td>\n",
       "      <td>1852.05</td>\n",
       "      <td>1856.55</td>\n",
       "      <td>1860.75</td>\n",
       "      <td>13776</td>\n",
       "      <td>25633719.20</td>\n",
       "      <td>3057</td>\n",
       "      <td>6615.0</td>\n",
       "      <td>48.02</td>\n",
       "      <td>ZYDUSWELL</td>\n",
       "      <td>-42.45</td>\n",
       "      <td>6.55</td>\n",
       "      <td>-42.45</td>\n",
       "    </tr>\n",
       "    <tr>\n",
       "      <th>4</th>\n",
       "      <td>EQ</td>\n",
       "      <td>24-Jun-2024</td>\n",
       "      <td>1856.55</td>\n",
       "      <td>1860.0</td>\n",
       "      <td>1900.45</td>\n",
       "      <td>1840.0</td>\n",
       "      <td>1864.50</td>\n",
       "      <td>1865.80</td>\n",
       "      <td>1864.83</td>\n",
       "      <td>17295</td>\n",
       "      <td>32252187.55</td>\n",
       "      <td>3092</td>\n",
       "      <td>8732.0</td>\n",
       "      <td>50.49</td>\n",
       "      <td>ZYDUSWELL</td>\n",
       "      <td>5.80</td>\n",
       "      <td>20.00</td>\n",
       "      <td>-40.45</td>\n",
       "    </tr>\n",
       "  </tbody>\n",
       "</table>\n",
       "</div>"
      ],
      "text/plain": [
       "  Series         Date  PrevClose  OpenPrice  HighPrice  LowPrice  LastPrice  \\\n",
       "0     EQ  18-Jun-2024    1849.80     1862.2    1879.70    1841.0    1845.00   \n",
       "1     EQ  19-Jun-2024    1846.10     1858.4    1864.90    1818.7    1830.20   \n",
       "2     EQ  20-Jun-2024    1834.45     1847.0    1903.40    1830.0    1875.00   \n",
       "3     EQ  21-Jun-2024    1887.75     1899.0    1899.00    1850.0    1852.05   \n",
       "4     EQ  24-Jun-2024    1856.55     1860.0    1900.45    1840.0    1864.50   \n",
       "\n",
       "   ClosePrice  AveragePrice  TotalTradedQuantity  TurnoverInRs  No.ofTrades  \\\n",
       "0     1846.10       1854.73                28165   52238355.60         4411   \n",
       "1     1834.45       1837.52                23708   43564007.05         4283   \n",
       "2     1887.75       1869.65                24839   46440252.50         5343   \n",
       "3     1856.55       1860.75                13776   25633719.20         3057   \n",
       "4     1865.80       1864.83                17295   32252187.55         3092   \n",
       "\n",
       "   DeliverableQty  %DlyQttoTradedQty     Symbol  real_body  lower_shadow  \\\n",
       "0         16499.0              58.58  ZYDUSWELL     -16.10          5.10   \n",
       "1         12596.0              53.13  ZYDUSWELL     -23.95         15.75   \n",
       "2         10646.0              42.86  ZYDUSWELL      40.75         17.00   \n",
       "3          6615.0              48.02  ZYDUSWELL     -42.45          6.55   \n",
       "4          8732.0              50.49  ZYDUSWELL       5.80         20.00   \n",
       "\n",
       "   upper_shadow  \n",
       "0        -33.60  \n",
       "1        -30.45  \n",
       "2        -56.40  \n",
       "3        -42.45  \n",
       "4        -40.45  "
      ]
     },
     "execution_count": 6,
     "metadata": {},
     "output_type": "execute_result"
    }
   ],
   "source": [
    "master_data.head()"
   ]
  },
  {
   "cell_type": "code",
   "execution_count": 8,
   "metadata": {},
   "outputs": [],
   "source": [
    "# Create 2 columns - bullish marubuzo and bearish marubuzo\n",
    "\n",
    "def bullish_murubuzo(open_price,low_price,close_price,high_price):\n",
    "    return (.99*open_price <= low_price <= open_price) and (close_price <= high_price <= 1.01*close_price)\n"
   ]
  },
  {
   "cell_type": "code",
   "execution_count": 9,
   "metadata": {},
   "outputs": [],
   "source": [
    "master_data['bullish_murubuzo'] = master_data.apply(lambda x : bullish_murubuzo(x['OpenPrice'],x['LowPrice'],x['ClosePrice'],x['HighPrice']),axis =1)"
   ]
  },
  {
   "cell_type": "code",
   "execution_count": 11,
   "metadata": {},
   "outputs": [],
   "source": [
    "master_data.to_excel(\"master_data_ta.xlsx\")"
   ]
  },
  {
   "cell_type": "code",
   "execution_count": null,
   "metadata": {},
   "outputs": [],
   "source": [
    "master_data_murubuzo = master_data[master_data['bullish_murubuzo']==True]"
   ]
  },
  {
   "cell_type": "code",
   "execution_count": null,
   "metadata": {},
   "outputs": [],
   "source": []
  },
  {
   "cell_type": "code",
   "execution_count": 12,
   "metadata": {},
   "outputs": [
    {
     "data": {
      "text/html": [
       "<div>\n",
       "<style scoped>\n",
       "    .dataframe tbody tr th:only-of-type {\n",
       "        vertical-align: middle;\n",
       "    }\n",
       "\n",
       "    .dataframe tbody tr th {\n",
       "        vertical-align: top;\n",
       "    }\n",
       "\n",
       "    .dataframe thead th {\n",
       "        text-align: right;\n",
       "    }\n",
       "</style>\n",
       "<table border=\"1\" class=\"dataframe\">\n",
       "  <thead>\n",
       "    <tr style=\"text-align: right;\">\n",
       "      <th></th>\n",
       "      <th>Series</th>\n",
       "      <th>Date</th>\n",
       "      <th>PrevClose</th>\n",
       "      <th>OpenPrice</th>\n",
       "      <th>HighPrice</th>\n",
       "      <th>LowPrice</th>\n",
       "      <th>LastPrice</th>\n",
       "      <th>ClosePrice</th>\n",
       "      <th>AveragePrice</th>\n",
       "      <th>TotalTradedQuantity</th>\n",
       "      <th>TurnoverInRs</th>\n",
       "      <th>No.ofTrades</th>\n",
       "      <th>DeliverableQty</th>\n",
       "      <th>%DlyQttoTradedQty</th>\n",
       "      <th>Symbol</th>\n",
       "      <th>bullish_murubuzo</th>\n",
       "    </tr>\n",
       "  </thead>\n",
       "  <tbody>\n",
       "    <tr>\n",
       "      <th>0</th>\n",
       "      <td>EQ</td>\n",
       "      <td>18-Jun-2024</td>\n",
       "      <td>36489.25</td>\n",
       "      <td>36540.00</td>\n",
       "      <td>37248.00</td>\n",
       "      <td>36540.00</td>\n",
       "      <td>37010.00</td>\n",
       "      <td>37068.55</td>\n",
       "      <td>36990.27</td>\n",
       "      <td>6367</td>\n",
       "      <td>2.355170e+08</td>\n",
       "      <td>3659</td>\n",
       "      <td>3105.0</td>\n",
       "      <td>48.77</td>\n",
       "      <td>3MINDIA</td>\n",
       "      <td>True</td>\n",
       "    </tr>\n",
       "    <tr>\n",
       "      <th>1</th>\n",
       "      <td>EQ</td>\n",
       "      <td>19-Jun-2024</td>\n",
       "      <td>37068.55</td>\n",
       "      <td>37397.00</td>\n",
       "      <td>37500.00</td>\n",
       "      <td>36662.85</td>\n",
       "      <td>37000.00</td>\n",
       "      <td>36930.55</td>\n",
       "      <td>36987.46</td>\n",
       "      <td>10351</td>\n",
       "      <td>3.828572e+08</td>\n",
       "      <td>3731</td>\n",
       "      <td>6362.0</td>\n",
       "      <td>61.46</td>\n",
       "      <td>3MINDIA</td>\n",
       "      <td>False</td>\n",
       "    </tr>\n",
       "    <tr>\n",
       "      <th>2</th>\n",
       "      <td>EQ</td>\n",
       "      <td>20-Jun-2024</td>\n",
       "      <td>36930.55</td>\n",
       "      <td>37000.00</td>\n",
       "      <td>37197.50</td>\n",
       "      <td>36520.10</td>\n",
       "      <td>37075.00</td>\n",
       "      <td>37036.55</td>\n",
       "      <td>36972.55</td>\n",
       "      <td>3562</td>\n",
       "      <td>1.316962e+08</td>\n",
       "      <td>2215</td>\n",
       "      <td>1650.0</td>\n",
       "      <td>46.32</td>\n",
       "      <td>3MINDIA</td>\n",
       "      <td>False</td>\n",
       "    </tr>\n",
       "    <tr>\n",
       "      <th>3</th>\n",
       "      <td>EQ</td>\n",
       "      <td>21-Jun-2024</td>\n",
       "      <td>37036.55</td>\n",
       "      <td>37300.00</td>\n",
       "      <td>38258.45</td>\n",
       "      <td>37093.00</td>\n",
       "      <td>37990.00</td>\n",
       "      <td>37965.45</td>\n",
       "      <td>37900.92</td>\n",
       "      <td>19263</td>\n",
       "      <td>7.300855e+08</td>\n",
       "      <td>10182</td>\n",
       "      <td>10696.0</td>\n",
       "      <td>55.53</td>\n",
       "      <td>3MINDIA</td>\n",
       "      <td>True</td>\n",
       "    </tr>\n",
       "    <tr>\n",
       "      <th>4</th>\n",
       "      <td>EQ</td>\n",
       "      <td>24-Jun-2024</td>\n",
       "      <td>37965.45</td>\n",
       "      <td>38247.55</td>\n",
       "      <td>38350.00</td>\n",
       "      <td>37200.00</td>\n",
       "      <td>38000.00</td>\n",
       "      <td>38166.85</td>\n",
       "      <td>37931.42</td>\n",
       "      <td>4404</td>\n",
       "      <td>1.670500e+08</td>\n",
       "      <td>2826</td>\n",
       "      <td>1970.0</td>\n",
       "      <td>44.73</td>\n",
       "      <td>3MINDIA</td>\n",
       "      <td>False</td>\n",
       "    </tr>\n",
       "    <tr>\n",
       "      <th>...</th>\n",
       "      <td>...</td>\n",
       "      <td>...</td>\n",
       "      <td>...</td>\n",
       "      <td>...</td>\n",
       "      <td>...</td>\n",
       "      <td>...</td>\n",
       "      <td>...</td>\n",
       "      <td>...</td>\n",
       "      <td>...</td>\n",
       "      <td>...</td>\n",
       "      <td>...</td>\n",
       "      <td>...</td>\n",
       "      <td>...</td>\n",
       "      <td>...</td>\n",
       "      <td>...</td>\n",
       "      <td>...</td>\n",
       "    </tr>\n",
       "    <tr>\n",
       "      <th>18</th>\n",
       "      <td>EQ</td>\n",
       "      <td>12-Jul-2024</td>\n",
       "      <td>221.35</td>\n",
       "      <td>221.70</td>\n",
       "      <td>223.91</td>\n",
       "      <td>215.70</td>\n",
       "      <td>218.90</td>\n",
       "      <td>218.36</td>\n",
       "      <td>219.29</td>\n",
       "      <td>181272</td>\n",
       "      <td>3.975072e+07</td>\n",
       "      <td>7859</td>\n",
       "      <td>77476.0</td>\n",
       "      <td>42.74</td>\n",
       "      <td>20MICRONS</td>\n",
       "      <td>False</td>\n",
       "    </tr>\n",
       "    <tr>\n",
       "      <th>19</th>\n",
       "      <td>EQ</td>\n",
       "      <td>15-Jul-2024</td>\n",
       "      <td>218.36</td>\n",
       "      <td>218.50</td>\n",
       "      <td>220.26</td>\n",
       "      <td>214.00</td>\n",
       "      <td>216.41</td>\n",
       "      <td>216.60</td>\n",
       "      <td>216.93</td>\n",
       "      <td>103011</td>\n",
       "      <td>2.234568e+07</td>\n",
       "      <td>4835</td>\n",
       "      <td>42840.0</td>\n",
       "      <td>41.59</td>\n",
       "      <td>20MICRONS</td>\n",
       "      <td>False</td>\n",
       "    </tr>\n",
       "    <tr>\n",
       "      <th>20</th>\n",
       "      <td>EQ</td>\n",
       "      <td>16-Jul-2024</td>\n",
       "      <td>216.60</td>\n",
       "      <td>217.60</td>\n",
       "      <td>221.75</td>\n",
       "      <td>214.10</td>\n",
       "      <td>216.40</td>\n",
       "      <td>215.53</td>\n",
       "      <td>216.86</td>\n",
       "      <td>50979</td>\n",
       "      <td>1.105525e+07</td>\n",
       "      <td>2701</td>\n",
       "      <td>27614.0</td>\n",
       "      <td>54.17</td>\n",
       "      <td>20MICRONS</td>\n",
       "      <td>False</td>\n",
       "    </tr>\n",
       "    <tr>\n",
       "      <th>21</th>\n",
       "      <td>EQ</td>\n",
       "      <td>18-Jul-2024</td>\n",
       "      <td>215.53</td>\n",
       "      <td>217.00</td>\n",
       "      <td>219.97</td>\n",
       "      <td>205.48</td>\n",
       "      <td>205.48</td>\n",
       "      <td>209.05</td>\n",
       "      <td>211.99</td>\n",
       "      <td>143793</td>\n",
       "      <td>3.048328e+07</td>\n",
       "      <td>6176</td>\n",
       "      <td>72527.0</td>\n",
       "      <td>50.44</td>\n",
       "      <td>20MICRONS</td>\n",
       "      <td>False</td>\n",
       "    </tr>\n",
       "    <tr>\n",
       "      <th>22</th>\n",
       "      <td>EQ</td>\n",
       "      <td>19-Jul-2024</td>\n",
       "      <td>209.05</td>\n",
       "      <td>209.00</td>\n",
       "      <td>233.70</td>\n",
       "      <td>201.42</td>\n",
       "      <td>217.00</td>\n",
       "      <td>216.27</td>\n",
       "      <td>219.70</td>\n",
       "      <td>842074</td>\n",
       "      <td>1.850005e+08</td>\n",
       "      <td>32507</td>\n",
       "      <td>257935.0</td>\n",
       "      <td>30.63</td>\n",
       "      <td>20MICRONS</td>\n",
       "      <td>False</td>\n",
       "    </tr>\n",
       "  </tbody>\n",
       "</table>\n",
       "<p>115 rows × 16 columns</p>\n",
       "</div>"
      ],
      "text/plain": [
       "   Series         Date  PrevClose  OpenPrice  HighPrice  LowPrice  LastPrice  \\\n",
       "0      EQ  18-Jun-2024   36489.25   36540.00   37248.00  36540.00   37010.00   \n",
       "1      EQ  19-Jun-2024   37068.55   37397.00   37500.00  36662.85   37000.00   \n",
       "2      EQ  20-Jun-2024   36930.55   37000.00   37197.50  36520.10   37075.00   \n",
       "3      EQ  21-Jun-2024   37036.55   37300.00   38258.45  37093.00   37990.00   \n",
       "4      EQ  24-Jun-2024   37965.45   38247.55   38350.00  37200.00   38000.00   \n",
       "..    ...          ...        ...        ...        ...       ...        ...   \n",
       "18     EQ  12-Jul-2024     221.35     221.70     223.91    215.70     218.90   \n",
       "19     EQ  15-Jul-2024     218.36     218.50     220.26    214.00     216.41   \n",
       "20     EQ  16-Jul-2024     216.60     217.60     221.75    214.10     216.40   \n",
       "21     EQ  18-Jul-2024     215.53     217.00     219.97    205.48     205.48   \n",
       "22     EQ  19-Jul-2024     209.05     209.00     233.70    201.42     217.00   \n",
       "\n",
       "    ClosePrice  AveragePrice  TotalTradedQuantity  TurnoverInRs  No.ofTrades  \\\n",
       "0     37068.55      36990.27                 6367  2.355170e+08         3659   \n",
       "1     36930.55      36987.46                10351  3.828572e+08         3731   \n",
       "2     37036.55      36972.55                 3562  1.316962e+08         2215   \n",
       "3     37965.45      37900.92                19263  7.300855e+08        10182   \n",
       "4     38166.85      37931.42                 4404  1.670500e+08         2826   \n",
       "..         ...           ...                  ...           ...          ...   \n",
       "18      218.36        219.29               181272  3.975072e+07         7859   \n",
       "19      216.60        216.93               103011  2.234568e+07         4835   \n",
       "20      215.53        216.86                50979  1.105525e+07         2701   \n",
       "21      209.05        211.99               143793  3.048328e+07         6176   \n",
       "22      216.27        219.70               842074  1.850005e+08        32507   \n",
       "\n",
       "    DeliverableQty  %DlyQttoTradedQty     Symbol  bullish_murubuzo  \n",
       "0           3105.0              48.77    3MINDIA              True  \n",
       "1           6362.0              61.46    3MINDIA             False  \n",
       "2           1650.0              46.32    3MINDIA             False  \n",
       "3          10696.0              55.53    3MINDIA              True  \n",
       "4           1970.0              44.73    3MINDIA             False  \n",
       "..             ...                ...        ...               ...  \n",
       "18         77476.0              42.74  20MICRONS             False  \n",
       "19         42840.0              41.59  20MICRONS             False  \n",
       "20         27614.0              54.17  20MICRONS             False  \n",
       "21         72527.0              50.44  20MICRONS             False  \n",
       "22        257935.0              30.63  20MICRONS             False  \n",
       "\n",
       "[115 rows x 16 columns]"
      ]
     },
     "execution_count": 12,
     "metadata": {},
     "output_type": "execute_result"
    }
   ],
   "source": [
    "master_data_murubuzo"
   ]
  },
  {
   "cell_type": "code",
   "execution_count": 17,
   "metadata": {},
   "outputs": [
    {
     "name": "stdout",
     "output_type": "stream",
     "text": [
      "20MICRONS\n"
     ]
    },
    {
     "data": {
      "application/vnd.plotly.v1+json": {
       "config": {
        "plotlyServerURL": "https://plot.ly"
       },
       "data": [
        {
         "close": [],
         "high": [],
         "low": [],
         "open": [],
         "type": "candlestick",
         "x": []
        }
       ],
       "layout": {
        "template": {
         "data": {
          "bar": [
           {
            "error_x": {
             "color": "#2a3f5f"
            },
            "error_y": {
             "color": "#2a3f5f"
            },
            "marker": {
             "line": {
              "color": "#E5ECF6",
              "width": 0.5
             },
             "pattern": {
              "fillmode": "overlay",
              "size": 10,
              "solidity": 0.2
             }
            },
            "type": "bar"
           }
          ],
          "barpolar": [
           {
            "marker": {
             "line": {
              "color": "#E5ECF6",
              "width": 0.5
             },
             "pattern": {
              "fillmode": "overlay",
              "size": 10,
              "solidity": 0.2
             }
            },
            "type": "barpolar"
           }
          ],
          "carpet": [
           {
            "aaxis": {
             "endlinecolor": "#2a3f5f",
             "gridcolor": "white",
             "linecolor": "white",
             "minorgridcolor": "white",
             "startlinecolor": "#2a3f5f"
            },
            "baxis": {
             "endlinecolor": "#2a3f5f",
             "gridcolor": "white",
             "linecolor": "white",
             "minorgridcolor": "white",
             "startlinecolor": "#2a3f5f"
            },
            "type": "carpet"
           }
          ],
          "choropleth": [
           {
            "colorbar": {
             "outlinewidth": 0,
             "ticks": ""
            },
            "type": "choropleth"
           }
          ],
          "contour": [
           {
            "colorbar": {
             "outlinewidth": 0,
             "ticks": ""
            },
            "colorscale": [
             [
              0,
              "#0d0887"
             ],
             [
              0.1111111111111111,
              "#46039f"
             ],
             [
              0.2222222222222222,
              "#7201a8"
             ],
             [
              0.3333333333333333,
              "#9c179e"
             ],
             [
              0.4444444444444444,
              "#bd3786"
             ],
             [
              0.5555555555555556,
              "#d8576b"
             ],
             [
              0.6666666666666666,
              "#ed7953"
             ],
             [
              0.7777777777777778,
              "#fb9f3a"
             ],
             [
              0.8888888888888888,
              "#fdca26"
             ],
             [
              1,
              "#f0f921"
             ]
            ],
            "type": "contour"
           }
          ],
          "contourcarpet": [
           {
            "colorbar": {
             "outlinewidth": 0,
             "ticks": ""
            },
            "type": "contourcarpet"
           }
          ],
          "heatmap": [
           {
            "colorbar": {
             "outlinewidth": 0,
             "ticks": ""
            },
            "colorscale": [
             [
              0,
              "#0d0887"
             ],
             [
              0.1111111111111111,
              "#46039f"
             ],
             [
              0.2222222222222222,
              "#7201a8"
             ],
             [
              0.3333333333333333,
              "#9c179e"
             ],
             [
              0.4444444444444444,
              "#bd3786"
             ],
             [
              0.5555555555555556,
              "#d8576b"
             ],
             [
              0.6666666666666666,
              "#ed7953"
             ],
             [
              0.7777777777777778,
              "#fb9f3a"
             ],
             [
              0.8888888888888888,
              "#fdca26"
             ],
             [
              1,
              "#f0f921"
             ]
            ],
            "type": "heatmap"
           }
          ],
          "heatmapgl": [
           {
            "colorbar": {
             "outlinewidth": 0,
             "ticks": ""
            },
            "colorscale": [
             [
              0,
              "#0d0887"
             ],
             [
              0.1111111111111111,
              "#46039f"
             ],
             [
              0.2222222222222222,
              "#7201a8"
             ],
             [
              0.3333333333333333,
              "#9c179e"
             ],
             [
              0.4444444444444444,
              "#bd3786"
             ],
             [
              0.5555555555555556,
              "#d8576b"
             ],
             [
              0.6666666666666666,
              "#ed7953"
             ],
             [
              0.7777777777777778,
              "#fb9f3a"
             ],
             [
              0.8888888888888888,
              "#fdca26"
             ],
             [
              1,
              "#f0f921"
             ]
            ],
            "type": "heatmapgl"
           }
          ],
          "histogram": [
           {
            "marker": {
             "pattern": {
              "fillmode": "overlay",
              "size": 10,
              "solidity": 0.2
             }
            },
            "type": "histogram"
           }
          ],
          "histogram2d": [
           {
            "colorbar": {
             "outlinewidth": 0,
             "ticks": ""
            },
            "colorscale": [
             [
              0,
              "#0d0887"
             ],
             [
              0.1111111111111111,
              "#46039f"
             ],
             [
              0.2222222222222222,
              "#7201a8"
             ],
             [
              0.3333333333333333,
              "#9c179e"
             ],
             [
              0.4444444444444444,
              "#bd3786"
             ],
             [
              0.5555555555555556,
              "#d8576b"
             ],
             [
              0.6666666666666666,
              "#ed7953"
             ],
             [
              0.7777777777777778,
              "#fb9f3a"
             ],
             [
              0.8888888888888888,
              "#fdca26"
             ],
             [
              1,
              "#f0f921"
             ]
            ],
            "type": "histogram2d"
           }
          ],
          "histogram2dcontour": [
           {
            "colorbar": {
             "outlinewidth": 0,
             "ticks": ""
            },
            "colorscale": [
             [
              0,
              "#0d0887"
             ],
             [
              0.1111111111111111,
              "#46039f"
             ],
             [
              0.2222222222222222,
              "#7201a8"
             ],
             [
              0.3333333333333333,
              "#9c179e"
             ],
             [
              0.4444444444444444,
              "#bd3786"
             ],
             [
              0.5555555555555556,
              "#d8576b"
             ],
             [
              0.6666666666666666,
              "#ed7953"
             ],
             [
              0.7777777777777778,
              "#fb9f3a"
             ],
             [
              0.8888888888888888,
              "#fdca26"
             ],
             [
              1,
              "#f0f921"
             ]
            ],
            "type": "histogram2dcontour"
           }
          ],
          "mesh3d": [
           {
            "colorbar": {
             "outlinewidth": 0,
             "ticks": ""
            },
            "type": "mesh3d"
           }
          ],
          "parcoords": [
           {
            "line": {
             "colorbar": {
              "outlinewidth": 0,
              "ticks": ""
             }
            },
            "type": "parcoords"
           }
          ],
          "pie": [
           {
            "automargin": true,
            "type": "pie"
           }
          ],
          "scatter": [
           {
            "fillpattern": {
             "fillmode": "overlay",
             "size": 10,
             "solidity": 0.2
            },
            "type": "scatter"
           }
          ],
          "scatter3d": [
           {
            "line": {
             "colorbar": {
              "outlinewidth": 0,
              "ticks": ""
             }
            },
            "marker": {
             "colorbar": {
              "outlinewidth": 0,
              "ticks": ""
             }
            },
            "type": "scatter3d"
           }
          ],
          "scattercarpet": [
           {
            "marker": {
             "colorbar": {
              "outlinewidth": 0,
              "ticks": ""
             }
            },
            "type": "scattercarpet"
           }
          ],
          "scattergeo": [
           {
            "marker": {
             "colorbar": {
              "outlinewidth": 0,
              "ticks": ""
             }
            },
            "type": "scattergeo"
           }
          ],
          "scattergl": [
           {
            "marker": {
             "colorbar": {
              "outlinewidth": 0,
              "ticks": ""
             }
            },
            "type": "scattergl"
           }
          ],
          "scattermapbox": [
           {
            "marker": {
             "colorbar": {
              "outlinewidth": 0,
              "ticks": ""
             }
            },
            "type": "scattermapbox"
           }
          ],
          "scatterpolar": [
           {
            "marker": {
             "colorbar": {
              "outlinewidth": 0,
              "ticks": ""
             }
            },
            "type": "scatterpolar"
           }
          ],
          "scatterpolargl": [
           {
            "marker": {
             "colorbar": {
              "outlinewidth": 0,
              "ticks": ""
             }
            },
            "type": "scatterpolargl"
           }
          ],
          "scatterternary": [
           {
            "marker": {
             "colorbar": {
              "outlinewidth": 0,
              "ticks": ""
             }
            },
            "type": "scatterternary"
           }
          ],
          "surface": [
           {
            "colorbar": {
             "outlinewidth": 0,
             "ticks": ""
            },
            "colorscale": [
             [
              0,
              "#0d0887"
             ],
             [
              0.1111111111111111,
              "#46039f"
             ],
             [
              0.2222222222222222,
              "#7201a8"
             ],
             [
              0.3333333333333333,
              "#9c179e"
             ],
             [
              0.4444444444444444,
              "#bd3786"
             ],
             [
              0.5555555555555556,
              "#d8576b"
             ],
             [
              0.6666666666666666,
              "#ed7953"
             ],
             [
              0.7777777777777778,
              "#fb9f3a"
             ],
             [
              0.8888888888888888,
              "#fdca26"
             ],
             [
              1,
              "#f0f921"
             ]
            ],
            "type": "surface"
           }
          ],
          "table": [
           {
            "cells": {
             "fill": {
              "color": "#EBF0F8"
             },
             "line": {
              "color": "white"
             }
            },
            "header": {
             "fill": {
              "color": "#C8D4E3"
             },
             "line": {
              "color": "white"
             }
            },
            "type": "table"
           }
          ]
         },
         "layout": {
          "annotationdefaults": {
           "arrowcolor": "#2a3f5f",
           "arrowhead": 0,
           "arrowwidth": 1
          },
          "autotypenumbers": "strict",
          "coloraxis": {
           "colorbar": {
            "outlinewidth": 0,
            "ticks": ""
           }
          },
          "colorscale": {
           "diverging": [
            [
             0,
             "#8e0152"
            ],
            [
             0.1,
             "#c51b7d"
            ],
            [
             0.2,
             "#de77ae"
            ],
            [
             0.3,
             "#f1b6da"
            ],
            [
             0.4,
             "#fde0ef"
            ],
            [
             0.5,
             "#f7f7f7"
            ],
            [
             0.6,
             "#e6f5d0"
            ],
            [
             0.7,
             "#b8e186"
            ],
            [
             0.8,
             "#7fbc41"
            ],
            [
             0.9,
             "#4d9221"
            ],
            [
             1,
             "#276419"
            ]
           ],
           "sequential": [
            [
             0,
             "#0d0887"
            ],
            [
             0.1111111111111111,
             "#46039f"
            ],
            [
             0.2222222222222222,
             "#7201a8"
            ],
            [
             0.3333333333333333,
             "#9c179e"
            ],
            [
             0.4444444444444444,
             "#bd3786"
            ],
            [
             0.5555555555555556,
             "#d8576b"
            ],
            [
             0.6666666666666666,
             "#ed7953"
            ],
            [
             0.7777777777777778,
             "#fb9f3a"
            ],
            [
             0.8888888888888888,
             "#fdca26"
            ],
            [
             1,
             "#f0f921"
            ]
           ],
           "sequentialminus": [
            [
             0,
             "#0d0887"
            ],
            [
             0.1111111111111111,
             "#46039f"
            ],
            [
             0.2222222222222222,
             "#7201a8"
            ],
            [
             0.3333333333333333,
             "#9c179e"
            ],
            [
             0.4444444444444444,
             "#bd3786"
            ],
            [
             0.5555555555555556,
             "#d8576b"
            ],
            [
             0.6666666666666666,
             "#ed7953"
            ],
            [
             0.7777777777777778,
             "#fb9f3a"
            ],
            [
             0.8888888888888888,
             "#fdca26"
            ],
            [
             1,
             "#f0f921"
            ]
           ]
          },
          "colorway": [
           "#636efa",
           "#EF553B",
           "#00cc96",
           "#ab63fa",
           "#FFA15A",
           "#19d3f3",
           "#FF6692",
           "#B6E880",
           "#FF97FF",
           "#FECB52"
          ],
          "font": {
           "color": "#2a3f5f"
          },
          "geo": {
           "bgcolor": "white",
           "lakecolor": "white",
           "landcolor": "#E5ECF6",
           "showlakes": true,
           "showland": true,
           "subunitcolor": "white"
          },
          "hoverlabel": {
           "align": "left"
          },
          "hovermode": "closest",
          "mapbox": {
           "style": "light"
          },
          "paper_bgcolor": "white",
          "plot_bgcolor": "#E5ECF6",
          "polar": {
           "angularaxis": {
            "gridcolor": "white",
            "linecolor": "white",
            "ticks": ""
           },
           "bgcolor": "#E5ECF6",
           "radialaxis": {
            "gridcolor": "white",
            "linecolor": "white",
            "ticks": ""
           }
          },
          "scene": {
           "xaxis": {
            "backgroundcolor": "#E5ECF6",
            "gridcolor": "white",
            "gridwidth": 2,
            "linecolor": "white",
            "showbackground": true,
            "ticks": "",
            "zerolinecolor": "white"
           },
           "yaxis": {
            "backgroundcolor": "#E5ECF6",
            "gridcolor": "white",
            "gridwidth": 2,
            "linecolor": "white",
            "showbackground": true,
            "ticks": "",
            "zerolinecolor": "white"
           },
           "zaxis": {
            "backgroundcolor": "#E5ECF6",
            "gridcolor": "white",
            "gridwidth": 2,
            "linecolor": "white",
            "showbackground": true,
            "ticks": "",
            "zerolinecolor": "white"
           }
          },
          "shapedefaults": {
           "line": {
            "color": "#2a3f5f"
           }
          },
          "ternary": {
           "aaxis": {
            "gridcolor": "white",
            "linecolor": "white",
            "ticks": ""
           },
           "baxis": {
            "gridcolor": "white",
            "linecolor": "white",
            "ticks": ""
           },
           "bgcolor": "#E5ECF6",
           "caxis": {
            "gridcolor": "white",
            "linecolor": "white",
            "ticks": ""
           }
          },
          "title": {
           "x": 0.05
          },
          "xaxis": {
           "automargin": true,
           "gridcolor": "white",
           "linecolor": "white",
           "ticks": "",
           "title": {
            "standoff": 15
           },
           "zerolinecolor": "white",
           "zerolinewidth": 2
          },
          "yaxis": {
           "automargin": true,
           "gridcolor": "white",
           "linecolor": "white",
           "ticks": "",
           "title": {
            "standoff": 15
           },
           "zerolinecolor": "white",
           "zerolinewidth": 2
          }
         }
        },
        "xaxis": {
         "rangeslider": {
          "visible": false
         }
        }
       }
      },
      "text/html": [
       "<div>                            <div id=\"333b1bda-3a14-4fa0-abfe-63e4c0d58f42\" class=\"plotly-graph-div\" style=\"height:525px; width:100%;\"></div>            <script type=\"text/javascript\">                require([\"plotly\"], function(Plotly) {                    window.PLOTLYENV=window.PLOTLYENV || {};                                    if (document.getElementById(\"333b1bda-3a14-4fa0-abfe-63e4c0d58f42\")) {                    Plotly.newPlot(                        \"333b1bda-3a14-4fa0-abfe-63e4c0d58f42\",                        [{\"close\":[],\"high\":[],\"low\":[],\"open\":[],\"x\":[],\"type\":\"candlestick\"}],                        {\"template\":{\"data\":{\"histogram2dcontour\":[{\"type\":\"histogram2dcontour\",\"colorbar\":{\"outlinewidth\":0,\"ticks\":\"\"},\"colorscale\":[[0.0,\"#0d0887\"],[0.1111111111111111,\"#46039f\"],[0.2222222222222222,\"#7201a8\"],[0.3333333333333333,\"#9c179e\"],[0.4444444444444444,\"#bd3786\"],[0.5555555555555556,\"#d8576b\"],[0.6666666666666666,\"#ed7953\"],[0.7777777777777778,\"#fb9f3a\"],[0.8888888888888888,\"#fdca26\"],[1.0,\"#f0f921\"]]}],\"choropleth\":[{\"type\":\"choropleth\",\"colorbar\":{\"outlinewidth\":0,\"ticks\":\"\"}}],\"histogram2d\":[{\"type\":\"histogram2d\",\"colorbar\":{\"outlinewidth\":0,\"ticks\":\"\"},\"colorscale\":[[0.0,\"#0d0887\"],[0.1111111111111111,\"#46039f\"],[0.2222222222222222,\"#7201a8\"],[0.3333333333333333,\"#9c179e\"],[0.4444444444444444,\"#bd3786\"],[0.5555555555555556,\"#d8576b\"],[0.6666666666666666,\"#ed7953\"],[0.7777777777777778,\"#fb9f3a\"],[0.8888888888888888,\"#fdca26\"],[1.0,\"#f0f921\"]]}],\"heatmap\":[{\"type\":\"heatmap\",\"colorbar\":{\"outlinewidth\":0,\"ticks\":\"\"},\"colorscale\":[[0.0,\"#0d0887\"],[0.1111111111111111,\"#46039f\"],[0.2222222222222222,\"#7201a8\"],[0.3333333333333333,\"#9c179e\"],[0.4444444444444444,\"#bd3786\"],[0.5555555555555556,\"#d8576b\"],[0.6666666666666666,\"#ed7953\"],[0.7777777777777778,\"#fb9f3a\"],[0.8888888888888888,\"#fdca26\"],[1.0,\"#f0f921\"]]}],\"heatmapgl\":[{\"type\":\"heatmapgl\",\"colorbar\":{\"outlinewidth\":0,\"ticks\":\"\"},\"colorscale\":[[0.0,\"#0d0887\"],[0.1111111111111111,\"#46039f\"],[0.2222222222222222,\"#7201a8\"],[0.3333333333333333,\"#9c179e\"],[0.4444444444444444,\"#bd3786\"],[0.5555555555555556,\"#d8576b\"],[0.6666666666666666,\"#ed7953\"],[0.7777777777777778,\"#fb9f3a\"],[0.8888888888888888,\"#fdca26\"],[1.0,\"#f0f921\"]]}],\"contourcarpet\":[{\"type\":\"contourcarpet\",\"colorbar\":{\"outlinewidth\":0,\"ticks\":\"\"}}],\"contour\":[{\"type\":\"contour\",\"colorbar\":{\"outlinewidth\":0,\"ticks\":\"\"},\"colorscale\":[[0.0,\"#0d0887\"],[0.1111111111111111,\"#46039f\"],[0.2222222222222222,\"#7201a8\"],[0.3333333333333333,\"#9c179e\"],[0.4444444444444444,\"#bd3786\"],[0.5555555555555556,\"#d8576b\"],[0.6666666666666666,\"#ed7953\"],[0.7777777777777778,\"#fb9f3a\"],[0.8888888888888888,\"#fdca26\"],[1.0,\"#f0f921\"]]}],\"surface\":[{\"type\":\"surface\",\"colorbar\":{\"outlinewidth\":0,\"ticks\":\"\"},\"colorscale\":[[0.0,\"#0d0887\"],[0.1111111111111111,\"#46039f\"],[0.2222222222222222,\"#7201a8\"],[0.3333333333333333,\"#9c179e\"],[0.4444444444444444,\"#bd3786\"],[0.5555555555555556,\"#d8576b\"],[0.6666666666666666,\"#ed7953\"],[0.7777777777777778,\"#fb9f3a\"],[0.8888888888888888,\"#fdca26\"],[1.0,\"#f0f921\"]]}],\"mesh3d\":[{\"type\":\"mesh3d\",\"colorbar\":{\"outlinewidth\":0,\"ticks\":\"\"}}],\"scatter\":[{\"fillpattern\":{\"fillmode\":\"overlay\",\"size\":10,\"solidity\":0.2},\"type\":\"scatter\"}],\"parcoords\":[{\"type\":\"parcoords\",\"line\":{\"colorbar\":{\"outlinewidth\":0,\"ticks\":\"\"}}}],\"scatterpolargl\":[{\"type\":\"scatterpolargl\",\"marker\":{\"colorbar\":{\"outlinewidth\":0,\"ticks\":\"\"}}}],\"bar\":[{\"error_x\":{\"color\":\"#2a3f5f\"},\"error_y\":{\"color\":\"#2a3f5f\"},\"marker\":{\"line\":{\"color\":\"#E5ECF6\",\"width\":0.5},\"pattern\":{\"fillmode\":\"overlay\",\"size\":10,\"solidity\":0.2}},\"type\":\"bar\"}],\"scattergeo\":[{\"type\":\"scattergeo\",\"marker\":{\"colorbar\":{\"outlinewidth\":0,\"ticks\":\"\"}}}],\"scatterpolar\":[{\"type\":\"scatterpolar\",\"marker\":{\"colorbar\":{\"outlinewidth\":0,\"ticks\":\"\"}}}],\"histogram\":[{\"marker\":{\"pattern\":{\"fillmode\":\"overlay\",\"size\":10,\"solidity\":0.2}},\"type\":\"histogram\"}],\"scattergl\":[{\"type\":\"scattergl\",\"marker\":{\"colorbar\":{\"outlinewidth\":0,\"ticks\":\"\"}}}],\"scatter3d\":[{\"type\":\"scatter3d\",\"line\":{\"colorbar\":{\"outlinewidth\":0,\"ticks\":\"\"}},\"marker\":{\"colorbar\":{\"outlinewidth\":0,\"ticks\":\"\"}}}],\"scattermapbox\":[{\"type\":\"scattermapbox\",\"marker\":{\"colorbar\":{\"outlinewidth\":0,\"ticks\":\"\"}}}],\"scatterternary\":[{\"type\":\"scatterternary\",\"marker\":{\"colorbar\":{\"outlinewidth\":0,\"ticks\":\"\"}}}],\"scattercarpet\":[{\"type\":\"scattercarpet\",\"marker\":{\"colorbar\":{\"outlinewidth\":0,\"ticks\":\"\"}}}],\"carpet\":[{\"aaxis\":{\"endlinecolor\":\"#2a3f5f\",\"gridcolor\":\"white\",\"linecolor\":\"white\",\"minorgridcolor\":\"white\",\"startlinecolor\":\"#2a3f5f\"},\"baxis\":{\"endlinecolor\":\"#2a3f5f\",\"gridcolor\":\"white\",\"linecolor\":\"white\",\"minorgridcolor\":\"white\",\"startlinecolor\":\"#2a3f5f\"},\"type\":\"carpet\"}],\"table\":[{\"cells\":{\"fill\":{\"color\":\"#EBF0F8\"},\"line\":{\"color\":\"white\"}},\"header\":{\"fill\":{\"color\":\"#C8D4E3\"},\"line\":{\"color\":\"white\"}},\"type\":\"table\"}],\"barpolar\":[{\"marker\":{\"line\":{\"color\":\"#E5ECF6\",\"width\":0.5},\"pattern\":{\"fillmode\":\"overlay\",\"size\":10,\"solidity\":0.2}},\"type\":\"barpolar\"}],\"pie\":[{\"automargin\":true,\"type\":\"pie\"}]},\"layout\":{\"autotypenumbers\":\"strict\",\"colorway\":[\"#636efa\",\"#EF553B\",\"#00cc96\",\"#ab63fa\",\"#FFA15A\",\"#19d3f3\",\"#FF6692\",\"#B6E880\",\"#FF97FF\",\"#FECB52\"],\"font\":{\"color\":\"#2a3f5f\"},\"hovermode\":\"closest\",\"hoverlabel\":{\"align\":\"left\"},\"paper_bgcolor\":\"white\",\"plot_bgcolor\":\"#E5ECF6\",\"polar\":{\"bgcolor\":\"#E5ECF6\",\"angularaxis\":{\"gridcolor\":\"white\",\"linecolor\":\"white\",\"ticks\":\"\"},\"radialaxis\":{\"gridcolor\":\"white\",\"linecolor\":\"white\",\"ticks\":\"\"}},\"ternary\":{\"bgcolor\":\"#E5ECF6\",\"aaxis\":{\"gridcolor\":\"white\",\"linecolor\":\"white\",\"ticks\":\"\"},\"baxis\":{\"gridcolor\":\"white\",\"linecolor\":\"white\",\"ticks\":\"\"},\"caxis\":{\"gridcolor\":\"white\",\"linecolor\":\"white\",\"ticks\":\"\"}},\"coloraxis\":{\"colorbar\":{\"outlinewidth\":0,\"ticks\":\"\"}},\"colorscale\":{\"sequential\":[[0.0,\"#0d0887\"],[0.1111111111111111,\"#46039f\"],[0.2222222222222222,\"#7201a8\"],[0.3333333333333333,\"#9c179e\"],[0.4444444444444444,\"#bd3786\"],[0.5555555555555556,\"#d8576b\"],[0.6666666666666666,\"#ed7953\"],[0.7777777777777778,\"#fb9f3a\"],[0.8888888888888888,\"#fdca26\"],[1.0,\"#f0f921\"]],\"sequentialminus\":[[0.0,\"#0d0887\"],[0.1111111111111111,\"#46039f\"],[0.2222222222222222,\"#7201a8\"],[0.3333333333333333,\"#9c179e\"],[0.4444444444444444,\"#bd3786\"],[0.5555555555555556,\"#d8576b\"],[0.6666666666666666,\"#ed7953\"],[0.7777777777777778,\"#fb9f3a\"],[0.8888888888888888,\"#fdca26\"],[1.0,\"#f0f921\"]],\"diverging\":[[0,\"#8e0152\"],[0.1,\"#c51b7d\"],[0.2,\"#de77ae\"],[0.3,\"#f1b6da\"],[0.4,\"#fde0ef\"],[0.5,\"#f7f7f7\"],[0.6,\"#e6f5d0\"],[0.7,\"#b8e186\"],[0.8,\"#7fbc41\"],[0.9,\"#4d9221\"],[1,\"#276419\"]]},\"xaxis\":{\"gridcolor\":\"white\",\"linecolor\":\"white\",\"ticks\":\"\",\"title\":{\"standoff\":15},\"zerolinecolor\":\"white\",\"automargin\":true,\"zerolinewidth\":2},\"yaxis\":{\"gridcolor\":\"white\",\"linecolor\":\"white\",\"ticks\":\"\",\"title\":{\"standoff\":15},\"zerolinecolor\":\"white\",\"automargin\":true,\"zerolinewidth\":2},\"scene\":{\"xaxis\":{\"backgroundcolor\":\"#E5ECF6\",\"gridcolor\":\"white\",\"linecolor\":\"white\",\"showbackground\":true,\"ticks\":\"\",\"zerolinecolor\":\"white\",\"gridwidth\":2},\"yaxis\":{\"backgroundcolor\":\"#E5ECF6\",\"gridcolor\":\"white\",\"linecolor\":\"white\",\"showbackground\":true,\"ticks\":\"\",\"zerolinecolor\":\"white\",\"gridwidth\":2},\"zaxis\":{\"backgroundcolor\":\"#E5ECF6\",\"gridcolor\":\"white\",\"linecolor\":\"white\",\"showbackground\":true,\"ticks\":\"\",\"zerolinecolor\":\"white\",\"gridwidth\":2}},\"shapedefaults\":{\"line\":{\"color\":\"#2a3f5f\"}},\"annotationdefaults\":{\"arrowcolor\":\"#2a3f5f\",\"arrowhead\":0,\"arrowwidth\":1},\"geo\":{\"bgcolor\":\"white\",\"landcolor\":\"#E5ECF6\",\"subunitcolor\":\"white\",\"showland\":true,\"showlakes\":true,\"lakecolor\":\"white\"},\"title\":{\"x\":0.05},\"mapbox\":{\"style\":\"light\"}}},\"xaxis\":{\"rangeslider\":{\"visible\":false}}},                        {\"responsive\": true}                    ).then(function(){\n",
       "                            \n",
       "var gd = document.getElementById('333b1bda-3a14-4fa0-abfe-63e4c0d58f42');\n",
       "var x = new MutationObserver(function (mutations, observer) {{\n",
       "        var display = window.getComputedStyle(gd).display;\n",
       "        if (!display || display === 'none') {{\n",
       "            console.log([gd, 'removed!']);\n",
       "            Plotly.purge(gd);\n",
       "            observer.disconnect();\n",
       "        }}\n",
       "}});\n",
       "\n",
       "// Listen for the removal of the full notebook cells\n",
       "var notebookContainer = gd.closest('#notebook-container');\n",
       "if (notebookContainer) {{\n",
       "    x.observe(notebookContainer, {childList: true});\n",
       "}}\n",
       "\n",
       "// Listen for the clearing of the current output cell\n",
       "var outputEl = gd.closest('.output');\n",
       "if (outputEl) {{\n",
       "    x.observe(outputEl, {childList: true});\n",
       "}}\n",
       "\n",
       "                        })                };                });            </script>        </div>"
      ]
     },
     "metadata": {},
     "output_type": "display_data"
    },
    {
     "name": "stdout",
     "output_type": "stream",
     "text": [
      "21STCENMGM\n"
     ]
    },
    {
     "data": {
      "application/vnd.plotly.v1+json": {
       "config": {
        "plotlyServerURL": "https://plot.ly"
       },
       "data": [
        {
         "close": [
          56.86,
          57.99,
          59.14,
          60.32,
          61.52,
          62.75,
          64,
          65.28,
          66.58,
          67.91,
          69.26,
          70.64,
          72.05,
          74.95,
          76.44,
          77.96,
          79.51,
          81.1,
          77.42,
          75.87
         ],
         "high": [
          56.86,
          57.99,
          59.14,
          60.32,
          61.52,
          62.75,
          64,
          65.28,
          66.58,
          67.91,
          69.26,
          70.64,
          72.05,
          74.95,
          76.44,
          77.96,
          79.51,
          81.1,
          77.42,
          75.87
         ],
         "low": [
          56.86,
          57.99,
          59.14,
          60.32,
          61.52,
          62.75,
          64,
          65.28,
          66.58,
          67.91,
          69.26,
          70.64,
          72.05,
          74.95,
          76.44,
          77.96,
          79.51,
          81.1,
          77.42,
          75.87
         ],
         "open": [
          56.86,
          57.99,
          59.14,
          60.32,
          61.52,
          62.75,
          64,
          65.28,
          66.58,
          67.91,
          69.26,
          70.64,
          72.05,
          74.95,
          76.44,
          77.96,
          79.51,
          81.1,
          77.42,
          75.87
         ],
         "type": "candlestick",
         "x": [
          "18-Jun-2024",
          "19-Jun-2024",
          "20-Jun-2024",
          "21-Jun-2024",
          "24-Jun-2024",
          "25-Jun-2024",
          "26-Jun-2024",
          "27-Jun-2024",
          "28-Jun-2024",
          "01-Jul-2024",
          "02-Jul-2024",
          "03-Jul-2024",
          "04-Jul-2024",
          "08-Jul-2024",
          "09-Jul-2024",
          "10-Jul-2024",
          "11-Jul-2024",
          "12-Jul-2024",
          "18-Jul-2024",
          "19-Jul-2024"
         ]
        }
       ],
       "layout": {
        "template": {
         "data": {
          "bar": [
           {
            "error_x": {
             "color": "#2a3f5f"
            },
            "error_y": {
             "color": "#2a3f5f"
            },
            "marker": {
             "line": {
              "color": "#E5ECF6",
              "width": 0.5
             },
             "pattern": {
              "fillmode": "overlay",
              "size": 10,
              "solidity": 0.2
             }
            },
            "type": "bar"
           }
          ],
          "barpolar": [
           {
            "marker": {
             "line": {
              "color": "#E5ECF6",
              "width": 0.5
             },
             "pattern": {
              "fillmode": "overlay",
              "size": 10,
              "solidity": 0.2
             }
            },
            "type": "barpolar"
           }
          ],
          "carpet": [
           {
            "aaxis": {
             "endlinecolor": "#2a3f5f",
             "gridcolor": "white",
             "linecolor": "white",
             "minorgridcolor": "white",
             "startlinecolor": "#2a3f5f"
            },
            "baxis": {
             "endlinecolor": "#2a3f5f",
             "gridcolor": "white",
             "linecolor": "white",
             "minorgridcolor": "white",
             "startlinecolor": "#2a3f5f"
            },
            "type": "carpet"
           }
          ],
          "choropleth": [
           {
            "colorbar": {
             "outlinewidth": 0,
             "ticks": ""
            },
            "type": "choropleth"
           }
          ],
          "contour": [
           {
            "colorbar": {
             "outlinewidth": 0,
             "ticks": ""
            },
            "colorscale": [
             [
              0,
              "#0d0887"
             ],
             [
              0.1111111111111111,
              "#46039f"
             ],
             [
              0.2222222222222222,
              "#7201a8"
             ],
             [
              0.3333333333333333,
              "#9c179e"
             ],
             [
              0.4444444444444444,
              "#bd3786"
             ],
             [
              0.5555555555555556,
              "#d8576b"
             ],
             [
              0.6666666666666666,
              "#ed7953"
             ],
             [
              0.7777777777777778,
              "#fb9f3a"
             ],
             [
              0.8888888888888888,
              "#fdca26"
             ],
             [
              1,
              "#f0f921"
             ]
            ],
            "type": "contour"
           }
          ],
          "contourcarpet": [
           {
            "colorbar": {
             "outlinewidth": 0,
             "ticks": ""
            },
            "type": "contourcarpet"
           }
          ],
          "heatmap": [
           {
            "colorbar": {
             "outlinewidth": 0,
             "ticks": ""
            },
            "colorscale": [
             [
              0,
              "#0d0887"
             ],
             [
              0.1111111111111111,
              "#46039f"
             ],
             [
              0.2222222222222222,
              "#7201a8"
             ],
             [
              0.3333333333333333,
              "#9c179e"
             ],
             [
              0.4444444444444444,
              "#bd3786"
             ],
             [
              0.5555555555555556,
              "#d8576b"
             ],
             [
              0.6666666666666666,
              "#ed7953"
             ],
             [
              0.7777777777777778,
              "#fb9f3a"
             ],
             [
              0.8888888888888888,
              "#fdca26"
             ],
             [
              1,
              "#f0f921"
             ]
            ],
            "type": "heatmap"
           }
          ],
          "heatmapgl": [
           {
            "colorbar": {
             "outlinewidth": 0,
             "ticks": ""
            },
            "colorscale": [
             [
              0,
              "#0d0887"
             ],
             [
              0.1111111111111111,
              "#46039f"
             ],
             [
              0.2222222222222222,
              "#7201a8"
             ],
             [
              0.3333333333333333,
              "#9c179e"
             ],
             [
              0.4444444444444444,
              "#bd3786"
             ],
             [
              0.5555555555555556,
              "#d8576b"
             ],
             [
              0.6666666666666666,
              "#ed7953"
             ],
             [
              0.7777777777777778,
              "#fb9f3a"
             ],
             [
              0.8888888888888888,
              "#fdca26"
             ],
             [
              1,
              "#f0f921"
             ]
            ],
            "type": "heatmapgl"
           }
          ],
          "histogram": [
           {
            "marker": {
             "pattern": {
              "fillmode": "overlay",
              "size": 10,
              "solidity": 0.2
             }
            },
            "type": "histogram"
           }
          ],
          "histogram2d": [
           {
            "colorbar": {
             "outlinewidth": 0,
             "ticks": ""
            },
            "colorscale": [
             [
              0,
              "#0d0887"
             ],
             [
              0.1111111111111111,
              "#46039f"
             ],
             [
              0.2222222222222222,
              "#7201a8"
             ],
             [
              0.3333333333333333,
              "#9c179e"
             ],
             [
              0.4444444444444444,
              "#bd3786"
             ],
             [
              0.5555555555555556,
              "#d8576b"
             ],
             [
              0.6666666666666666,
              "#ed7953"
             ],
             [
              0.7777777777777778,
              "#fb9f3a"
             ],
             [
              0.8888888888888888,
              "#fdca26"
             ],
             [
              1,
              "#f0f921"
             ]
            ],
            "type": "histogram2d"
           }
          ],
          "histogram2dcontour": [
           {
            "colorbar": {
             "outlinewidth": 0,
             "ticks": ""
            },
            "colorscale": [
             [
              0,
              "#0d0887"
             ],
             [
              0.1111111111111111,
              "#46039f"
             ],
             [
              0.2222222222222222,
              "#7201a8"
             ],
             [
              0.3333333333333333,
              "#9c179e"
             ],
             [
              0.4444444444444444,
              "#bd3786"
             ],
             [
              0.5555555555555556,
              "#d8576b"
             ],
             [
              0.6666666666666666,
              "#ed7953"
             ],
             [
              0.7777777777777778,
              "#fb9f3a"
             ],
             [
              0.8888888888888888,
              "#fdca26"
             ],
             [
              1,
              "#f0f921"
             ]
            ],
            "type": "histogram2dcontour"
           }
          ],
          "mesh3d": [
           {
            "colorbar": {
             "outlinewidth": 0,
             "ticks": ""
            },
            "type": "mesh3d"
           }
          ],
          "parcoords": [
           {
            "line": {
             "colorbar": {
              "outlinewidth": 0,
              "ticks": ""
             }
            },
            "type": "parcoords"
           }
          ],
          "pie": [
           {
            "automargin": true,
            "type": "pie"
           }
          ],
          "scatter": [
           {
            "fillpattern": {
             "fillmode": "overlay",
             "size": 10,
             "solidity": 0.2
            },
            "type": "scatter"
           }
          ],
          "scatter3d": [
           {
            "line": {
             "colorbar": {
              "outlinewidth": 0,
              "ticks": ""
             }
            },
            "marker": {
             "colorbar": {
              "outlinewidth": 0,
              "ticks": ""
             }
            },
            "type": "scatter3d"
           }
          ],
          "scattercarpet": [
           {
            "marker": {
             "colorbar": {
              "outlinewidth": 0,
              "ticks": ""
             }
            },
            "type": "scattercarpet"
           }
          ],
          "scattergeo": [
           {
            "marker": {
             "colorbar": {
              "outlinewidth": 0,
              "ticks": ""
             }
            },
            "type": "scattergeo"
           }
          ],
          "scattergl": [
           {
            "marker": {
             "colorbar": {
              "outlinewidth": 0,
              "ticks": ""
             }
            },
            "type": "scattergl"
           }
          ],
          "scattermapbox": [
           {
            "marker": {
             "colorbar": {
              "outlinewidth": 0,
              "ticks": ""
             }
            },
            "type": "scattermapbox"
           }
          ],
          "scatterpolar": [
           {
            "marker": {
             "colorbar": {
              "outlinewidth": 0,
              "ticks": ""
             }
            },
            "type": "scatterpolar"
           }
          ],
          "scatterpolargl": [
           {
            "marker": {
             "colorbar": {
              "outlinewidth": 0,
              "ticks": ""
             }
            },
            "type": "scatterpolargl"
           }
          ],
          "scatterternary": [
           {
            "marker": {
             "colorbar": {
              "outlinewidth": 0,
              "ticks": ""
             }
            },
            "type": "scatterternary"
           }
          ],
          "surface": [
           {
            "colorbar": {
             "outlinewidth": 0,
             "ticks": ""
            },
            "colorscale": [
             [
              0,
              "#0d0887"
             ],
             [
              0.1111111111111111,
              "#46039f"
             ],
             [
              0.2222222222222222,
              "#7201a8"
             ],
             [
              0.3333333333333333,
              "#9c179e"
             ],
             [
              0.4444444444444444,
              "#bd3786"
             ],
             [
              0.5555555555555556,
              "#d8576b"
             ],
             [
              0.6666666666666666,
              "#ed7953"
             ],
             [
              0.7777777777777778,
              "#fb9f3a"
             ],
             [
              0.8888888888888888,
              "#fdca26"
             ],
             [
              1,
              "#f0f921"
             ]
            ],
            "type": "surface"
           }
          ],
          "table": [
           {
            "cells": {
             "fill": {
              "color": "#EBF0F8"
             },
             "line": {
              "color": "white"
             }
            },
            "header": {
             "fill": {
              "color": "#C8D4E3"
             },
             "line": {
              "color": "white"
             }
            },
            "type": "table"
           }
          ]
         },
         "layout": {
          "annotationdefaults": {
           "arrowcolor": "#2a3f5f",
           "arrowhead": 0,
           "arrowwidth": 1
          },
          "autotypenumbers": "strict",
          "coloraxis": {
           "colorbar": {
            "outlinewidth": 0,
            "ticks": ""
           }
          },
          "colorscale": {
           "diverging": [
            [
             0,
             "#8e0152"
            ],
            [
             0.1,
             "#c51b7d"
            ],
            [
             0.2,
             "#de77ae"
            ],
            [
             0.3,
             "#f1b6da"
            ],
            [
             0.4,
             "#fde0ef"
            ],
            [
             0.5,
             "#f7f7f7"
            ],
            [
             0.6,
             "#e6f5d0"
            ],
            [
             0.7,
             "#b8e186"
            ],
            [
             0.8,
             "#7fbc41"
            ],
            [
             0.9,
             "#4d9221"
            ],
            [
             1,
             "#276419"
            ]
           ],
           "sequential": [
            [
             0,
             "#0d0887"
            ],
            [
             0.1111111111111111,
             "#46039f"
            ],
            [
             0.2222222222222222,
             "#7201a8"
            ],
            [
             0.3333333333333333,
             "#9c179e"
            ],
            [
             0.4444444444444444,
             "#bd3786"
            ],
            [
             0.5555555555555556,
             "#d8576b"
            ],
            [
             0.6666666666666666,
             "#ed7953"
            ],
            [
             0.7777777777777778,
             "#fb9f3a"
            ],
            [
             0.8888888888888888,
             "#fdca26"
            ],
            [
             1,
             "#f0f921"
            ]
           ],
           "sequentialminus": [
            [
             0,
             "#0d0887"
            ],
            [
             0.1111111111111111,
             "#46039f"
            ],
            [
             0.2222222222222222,
             "#7201a8"
            ],
            [
             0.3333333333333333,
             "#9c179e"
            ],
            [
             0.4444444444444444,
             "#bd3786"
            ],
            [
             0.5555555555555556,
             "#d8576b"
            ],
            [
             0.6666666666666666,
             "#ed7953"
            ],
            [
             0.7777777777777778,
             "#fb9f3a"
            ],
            [
             0.8888888888888888,
             "#fdca26"
            ],
            [
             1,
             "#f0f921"
            ]
           ]
          },
          "colorway": [
           "#636efa",
           "#EF553B",
           "#00cc96",
           "#ab63fa",
           "#FFA15A",
           "#19d3f3",
           "#FF6692",
           "#B6E880",
           "#FF97FF",
           "#FECB52"
          ],
          "font": {
           "color": "#2a3f5f"
          },
          "geo": {
           "bgcolor": "white",
           "lakecolor": "white",
           "landcolor": "#E5ECF6",
           "showlakes": true,
           "showland": true,
           "subunitcolor": "white"
          },
          "hoverlabel": {
           "align": "left"
          },
          "hovermode": "closest",
          "mapbox": {
           "style": "light"
          },
          "paper_bgcolor": "white",
          "plot_bgcolor": "#E5ECF6",
          "polar": {
           "angularaxis": {
            "gridcolor": "white",
            "linecolor": "white",
            "ticks": ""
           },
           "bgcolor": "#E5ECF6",
           "radialaxis": {
            "gridcolor": "white",
            "linecolor": "white",
            "ticks": ""
           }
          },
          "scene": {
           "xaxis": {
            "backgroundcolor": "#E5ECF6",
            "gridcolor": "white",
            "gridwidth": 2,
            "linecolor": "white",
            "showbackground": true,
            "ticks": "",
            "zerolinecolor": "white"
           },
           "yaxis": {
            "backgroundcolor": "#E5ECF6",
            "gridcolor": "white",
            "gridwidth": 2,
            "linecolor": "white",
            "showbackground": true,
            "ticks": "",
            "zerolinecolor": "white"
           },
           "zaxis": {
            "backgroundcolor": "#E5ECF6",
            "gridcolor": "white",
            "gridwidth": 2,
            "linecolor": "white",
            "showbackground": true,
            "ticks": "",
            "zerolinecolor": "white"
           }
          },
          "shapedefaults": {
           "line": {
            "color": "#2a3f5f"
           }
          },
          "ternary": {
           "aaxis": {
            "gridcolor": "white",
            "linecolor": "white",
            "ticks": ""
           },
           "baxis": {
            "gridcolor": "white",
            "linecolor": "white",
            "ticks": ""
           },
           "bgcolor": "#E5ECF6",
           "caxis": {
            "gridcolor": "white",
            "linecolor": "white",
            "ticks": ""
           }
          },
          "title": {
           "x": 0.05
          },
          "xaxis": {
           "automargin": true,
           "gridcolor": "white",
           "linecolor": "white",
           "ticks": "",
           "title": {
            "standoff": 15
           },
           "zerolinecolor": "white",
           "zerolinewidth": 2
          },
          "yaxis": {
           "automargin": true,
           "gridcolor": "white",
           "linecolor": "white",
           "ticks": "",
           "title": {
            "standoff": 15
           },
           "zerolinecolor": "white",
           "zerolinewidth": 2
          }
         }
        },
        "xaxis": {
         "rangeslider": {
          "visible": false
         }
        }
       }
      },
      "text/html": [
       "<div>                            <div id=\"b6990cf7-9b10-4bfa-8ca8-f91a2fd75e46\" class=\"plotly-graph-div\" style=\"height:525px; width:100%;\"></div>            <script type=\"text/javascript\">                require([\"plotly\"], function(Plotly) {                    window.PLOTLYENV=window.PLOTLYENV || {};                                    if (document.getElementById(\"b6990cf7-9b10-4bfa-8ca8-f91a2fd75e46\")) {                    Plotly.newPlot(                        \"b6990cf7-9b10-4bfa-8ca8-f91a2fd75e46\",                        [{\"close\":[56.86,57.99,59.14,60.32,61.52,62.75,64.0,65.28,66.58,67.91,69.26,70.64,72.05,74.95,76.44,77.96,79.51,81.1,77.42,75.87],\"high\":[56.86,57.99,59.14,60.32,61.52,62.75,64.0,65.28,66.58,67.91,69.26,70.64,72.05,74.95,76.44,77.96,79.51,81.1,77.42,75.87],\"low\":[56.86,57.99,59.14,60.32,61.52,62.75,64.0,65.28,66.58,67.91,69.26,70.64,72.05,74.95,76.44,77.96,79.51,81.1,77.42,75.87],\"open\":[56.86,57.99,59.14,60.32,61.52,62.75,64.0,65.28,66.58,67.91,69.26,70.64,72.05,74.95,76.44,77.96,79.51,81.1,77.42,75.87],\"x\":[\"18-Jun-2024\",\"19-Jun-2024\",\"20-Jun-2024\",\"21-Jun-2024\",\"24-Jun-2024\",\"25-Jun-2024\",\"26-Jun-2024\",\"27-Jun-2024\",\"28-Jun-2024\",\"01-Jul-2024\",\"02-Jul-2024\",\"03-Jul-2024\",\"04-Jul-2024\",\"08-Jul-2024\",\"09-Jul-2024\",\"10-Jul-2024\",\"11-Jul-2024\",\"12-Jul-2024\",\"18-Jul-2024\",\"19-Jul-2024\"],\"type\":\"candlestick\"}],                        {\"template\":{\"data\":{\"histogram2dcontour\":[{\"type\":\"histogram2dcontour\",\"colorbar\":{\"outlinewidth\":0,\"ticks\":\"\"},\"colorscale\":[[0.0,\"#0d0887\"],[0.1111111111111111,\"#46039f\"],[0.2222222222222222,\"#7201a8\"],[0.3333333333333333,\"#9c179e\"],[0.4444444444444444,\"#bd3786\"],[0.5555555555555556,\"#d8576b\"],[0.6666666666666666,\"#ed7953\"],[0.7777777777777778,\"#fb9f3a\"],[0.8888888888888888,\"#fdca26\"],[1.0,\"#f0f921\"]]}],\"choropleth\":[{\"type\":\"choropleth\",\"colorbar\":{\"outlinewidth\":0,\"ticks\":\"\"}}],\"histogram2d\":[{\"type\":\"histogram2d\",\"colorbar\":{\"outlinewidth\":0,\"ticks\":\"\"},\"colorscale\":[[0.0,\"#0d0887\"],[0.1111111111111111,\"#46039f\"],[0.2222222222222222,\"#7201a8\"],[0.3333333333333333,\"#9c179e\"],[0.4444444444444444,\"#bd3786\"],[0.5555555555555556,\"#d8576b\"],[0.6666666666666666,\"#ed7953\"],[0.7777777777777778,\"#fb9f3a\"],[0.8888888888888888,\"#fdca26\"],[1.0,\"#f0f921\"]]}],\"heatmap\":[{\"type\":\"heatmap\",\"colorbar\":{\"outlinewidth\":0,\"ticks\":\"\"},\"colorscale\":[[0.0,\"#0d0887\"],[0.1111111111111111,\"#46039f\"],[0.2222222222222222,\"#7201a8\"],[0.3333333333333333,\"#9c179e\"],[0.4444444444444444,\"#bd3786\"],[0.5555555555555556,\"#d8576b\"],[0.6666666666666666,\"#ed7953\"],[0.7777777777777778,\"#fb9f3a\"],[0.8888888888888888,\"#fdca26\"],[1.0,\"#f0f921\"]]}],\"heatmapgl\":[{\"type\":\"heatmapgl\",\"colorbar\":{\"outlinewidth\":0,\"ticks\":\"\"},\"colorscale\":[[0.0,\"#0d0887\"],[0.1111111111111111,\"#46039f\"],[0.2222222222222222,\"#7201a8\"],[0.3333333333333333,\"#9c179e\"],[0.4444444444444444,\"#bd3786\"],[0.5555555555555556,\"#d8576b\"],[0.6666666666666666,\"#ed7953\"],[0.7777777777777778,\"#fb9f3a\"],[0.8888888888888888,\"#fdca26\"],[1.0,\"#f0f921\"]]}],\"contourcarpet\":[{\"type\":\"contourcarpet\",\"colorbar\":{\"outlinewidth\":0,\"ticks\":\"\"}}],\"contour\":[{\"type\":\"contour\",\"colorbar\":{\"outlinewidth\":0,\"ticks\":\"\"},\"colorscale\":[[0.0,\"#0d0887\"],[0.1111111111111111,\"#46039f\"],[0.2222222222222222,\"#7201a8\"],[0.3333333333333333,\"#9c179e\"],[0.4444444444444444,\"#bd3786\"],[0.5555555555555556,\"#d8576b\"],[0.6666666666666666,\"#ed7953\"],[0.7777777777777778,\"#fb9f3a\"],[0.8888888888888888,\"#fdca26\"],[1.0,\"#f0f921\"]]}],\"surface\":[{\"type\":\"surface\",\"colorbar\":{\"outlinewidth\":0,\"ticks\":\"\"},\"colorscale\":[[0.0,\"#0d0887\"],[0.1111111111111111,\"#46039f\"],[0.2222222222222222,\"#7201a8\"],[0.3333333333333333,\"#9c179e\"],[0.4444444444444444,\"#bd3786\"],[0.5555555555555556,\"#d8576b\"],[0.6666666666666666,\"#ed7953\"],[0.7777777777777778,\"#fb9f3a\"],[0.8888888888888888,\"#fdca26\"],[1.0,\"#f0f921\"]]}],\"mesh3d\":[{\"type\":\"mesh3d\",\"colorbar\":{\"outlinewidth\":0,\"ticks\":\"\"}}],\"scatter\":[{\"fillpattern\":{\"fillmode\":\"overlay\",\"size\":10,\"solidity\":0.2},\"type\":\"scatter\"}],\"parcoords\":[{\"type\":\"parcoords\",\"line\":{\"colorbar\":{\"outlinewidth\":0,\"ticks\":\"\"}}}],\"scatterpolargl\":[{\"type\":\"scatterpolargl\",\"marker\":{\"colorbar\":{\"outlinewidth\":0,\"ticks\":\"\"}}}],\"bar\":[{\"error_x\":{\"color\":\"#2a3f5f\"},\"error_y\":{\"color\":\"#2a3f5f\"},\"marker\":{\"line\":{\"color\":\"#E5ECF6\",\"width\":0.5},\"pattern\":{\"fillmode\":\"overlay\",\"size\":10,\"solidity\":0.2}},\"type\":\"bar\"}],\"scattergeo\":[{\"type\":\"scattergeo\",\"marker\":{\"colorbar\":{\"outlinewidth\":0,\"ticks\":\"\"}}}],\"scatterpolar\":[{\"type\":\"scatterpolar\",\"marker\":{\"colorbar\":{\"outlinewidth\":0,\"ticks\":\"\"}}}],\"histogram\":[{\"marker\":{\"pattern\":{\"fillmode\":\"overlay\",\"size\":10,\"solidity\":0.2}},\"type\":\"histogram\"}],\"scattergl\":[{\"type\":\"scattergl\",\"marker\":{\"colorbar\":{\"outlinewidth\":0,\"ticks\":\"\"}}}],\"scatter3d\":[{\"type\":\"scatter3d\",\"line\":{\"colorbar\":{\"outlinewidth\":0,\"ticks\":\"\"}},\"marker\":{\"colorbar\":{\"outlinewidth\":0,\"ticks\":\"\"}}}],\"scattermapbox\":[{\"type\":\"scattermapbox\",\"marker\":{\"colorbar\":{\"outlinewidth\":0,\"ticks\":\"\"}}}],\"scatterternary\":[{\"type\":\"scatterternary\",\"marker\":{\"colorbar\":{\"outlinewidth\":0,\"ticks\":\"\"}}}],\"scattercarpet\":[{\"type\":\"scattercarpet\",\"marker\":{\"colorbar\":{\"outlinewidth\":0,\"ticks\":\"\"}}}],\"carpet\":[{\"aaxis\":{\"endlinecolor\":\"#2a3f5f\",\"gridcolor\":\"white\",\"linecolor\":\"white\",\"minorgridcolor\":\"white\",\"startlinecolor\":\"#2a3f5f\"},\"baxis\":{\"endlinecolor\":\"#2a3f5f\",\"gridcolor\":\"white\",\"linecolor\":\"white\",\"minorgridcolor\":\"white\",\"startlinecolor\":\"#2a3f5f\"},\"type\":\"carpet\"}],\"table\":[{\"cells\":{\"fill\":{\"color\":\"#EBF0F8\"},\"line\":{\"color\":\"white\"}},\"header\":{\"fill\":{\"color\":\"#C8D4E3\"},\"line\":{\"color\":\"white\"}},\"type\":\"table\"}],\"barpolar\":[{\"marker\":{\"line\":{\"color\":\"#E5ECF6\",\"width\":0.5},\"pattern\":{\"fillmode\":\"overlay\",\"size\":10,\"solidity\":0.2}},\"type\":\"barpolar\"}],\"pie\":[{\"automargin\":true,\"type\":\"pie\"}]},\"layout\":{\"autotypenumbers\":\"strict\",\"colorway\":[\"#636efa\",\"#EF553B\",\"#00cc96\",\"#ab63fa\",\"#FFA15A\",\"#19d3f3\",\"#FF6692\",\"#B6E880\",\"#FF97FF\",\"#FECB52\"],\"font\":{\"color\":\"#2a3f5f\"},\"hovermode\":\"closest\",\"hoverlabel\":{\"align\":\"left\"},\"paper_bgcolor\":\"white\",\"plot_bgcolor\":\"#E5ECF6\",\"polar\":{\"bgcolor\":\"#E5ECF6\",\"angularaxis\":{\"gridcolor\":\"white\",\"linecolor\":\"white\",\"ticks\":\"\"},\"radialaxis\":{\"gridcolor\":\"white\",\"linecolor\":\"white\",\"ticks\":\"\"}},\"ternary\":{\"bgcolor\":\"#E5ECF6\",\"aaxis\":{\"gridcolor\":\"white\",\"linecolor\":\"white\",\"ticks\":\"\"},\"baxis\":{\"gridcolor\":\"white\",\"linecolor\":\"white\",\"ticks\":\"\"},\"caxis\":{\"gridcolor\":\"white\",\"linecolor\":\"white\",\"ticks\":\"\"}},\"coloraxis\":{\"colorbar\":{\"outlinewidth\":0,\"ticks\":\"\"}},\"colorscale\":{\"sequential\":[[0.0,\"#0d0887\"],[0.1111111111111111,\"#46039f\"],[0.2222222222222222,\"#7201a8\"],[0.3333333333333333,\"#9c179e\"],[0.4444444444444444,\"#bd3786\"],[0.5555555555555556,\"#d8576b\"],[0.6666666666666666,\"#ed7953\"],[0.7777777777777778,\"#fb9f3a\"],[0.8888888888888888,\"#fdca26\"],[1.0,\"#f0f921\"]],\"sequentialminus\":[[0.0,\"#0d0887\"],[0.1111111111111111,\"#46039f\"],[0.2222222222222222,\"#7201a8\"],[0.3333333333333333,\"#9c179e\"],[0.4444444444444444,\"#bd3786\"],[0.5555555555555556,\"#d8576b\"],[0.6666666666666666,\"#ed7953\"],[0.7777777777777778,\"#fb9f3a\"],[0.8888888888888888,\"#fdca26\"],[1.0,\"#f0f921\"]],\"diverging\":[[0,\"#8e0152\"],[0.1,\"#c51b7d\"],[0.2,\"#de77ae\"],[0.3,\"#f1b6da\"],[0.4,\"#fde0ef\"],[0.5,\"#f7f7f7\"],[0.6,\"#e6f5d0\"],[0.7,\"#b8e186\"],[0.8,\"#7fbc41\"],[0.9,\"#4d9221\"],[1,\"#276419\"]]},\"xaxis\":{\"gridcolor\":\"white\",\"linecolor\":\"white\",\"ticks\":\"\",\"title\":{\"standoff\":15},\"zerolinecolor\":\"white\",\"automargin\":true,\"zerolinewidth\":2},\"yaxis\":{\"gridcolor\":\"white\",\"linecolor\":\"white\",\"ticks\":\"\",\"title\":{\"standoff\":15},\"zerolinecolor\":\"white\",\"automargin\":true,\"zerolinewidth\":2},\"scene\":{\"xaxis\":{\"backgroundcolor\":\"#E5ECF6\",\"gridcolor\":\"white\",\"linecolor\":\"white\",\"showbackground\":true,\"ticks\":\"\",\"zerolinecolor\":\"white\",\"gridwidth\":2},\"yaxis\":{\"backgroundcolor\":\"#E5ECF6\",\"gridcolor\":\"white\",\"linecolor\":\"white\",\"showbackground\":true,\"ticks\":\"\",\"zerolinecolor\":\"white\",\"gridwidth\":2},\"zaxis\":{\"backgroundcolor\":\"#E5ECF6\",\"gridcolor\":\"white\",\"linecolor\":\"white\",\"showbackground\":true,\"ticks\":\"\",\"zerolinecolor\":\"white\",\"gridwidth\":2}},\"shapedefaults\":{\"line\":{\"color\":\"#2a3f5f\"}},\"annotationdefaults\":{\"arrowcolor\":\"#2a3f5f\",\"arrowhead\":0,\"arrowwidth\":1},\"geo\":{\"bgcolor\":\"white\",\"landcolor\":\"#E5ECF6\",\"subunitcolor\":\"white\",\"showland\":true,\"showlakes\":true,\"lakecolor\":\"white\"},\"title\":{\"x\":0.05},\"mapbox\":{\"style\":\"light\"}}},\"xaxis\":{\"rangeslider\":{\"visible\":false}}},                        {\"responsive\": true}                    ).then(function(){\n",
       "                            \n",
       "var gd = document.getElementById('b6990cf7-9b10-4bfa-8ca8-f91a2fd75e46');\n",
       "var x = new MutationObserver(function (mutations, observer) {{\n",
       "        var display = window.getComputedStyle(gd).display;\n",
       "        if (!display || display === 'none') {{\n",
       "            console.log([gd, 'removed!']);\n",
       "            Plotly.purge(gd);\n",
       "            observer.disconnect();\n",
       "        }}\n",
       "}});\n",
       "\n",
       "// Listen for the removal of the full notebook cells\n",
       "var notebookContainer = gd.closest('#notebook-container');\n",
       "if (notebookContainer) {{\n",
       "    x.observe(notebookContainer, {childList: true});\n",
       "}}\n",
       "\n",
       "// Listen for the clearing of the current output cell\n",
       "var outputEl = gd.closest('.output');\n",
       "if (outputEl) {{\n",
       "    x.observe(outputEl, {childList: true});\n",
       "}}\n",
       "\n",
       "                        })                };                });            </script>        </div>"
      ]
     },
     "metadata": {},
     "output_type": "display_data"
    },
    {
     "name": "stdout",
     "output_type": "stream",
     "text": [
      "360ONE\n"
     ]
    },
    {
     "data": {
      "application/vnd.plotly.v1+json": {
       "config": {
        "plotlyServerURL": "https://plot.ly"
       },
       "data": [
        {
         "close": [
          964.7
         ],
         "high": [
          967.7
         ],
         "low": [
          920.2
         ],
         "open": [
          927.3
         ],
         "type": "candlestick",
         "x": [
          "05-Jul-2024"
         ]
        }
       ],
       "layout": {
        "template": {
         "data": {
          "bar": [
           {
            "error_x": {
             "color": "#2a3f5f"
            },
            "error_y": {
             "color": "#2a3f5f"
            },
            "marker": {
             "line": {
              "color": "#E5ECF6",
              "width": 0.5
             },
             "pattern": {
              "fillmode": "overlay",
              "size": 10,
              "solidity": 0.2
             }
            },
            "type": "bar"
           }
          ],
          "barpolar": [
           {
            "marker": {
             "line": {
              "color": "#E5ECF6",
              "width": 0.5
             },
             "pattern": {
              "fillmode": "overlay",
              "size": 10,
              "solidity": 0.2
             }
            },
            "type": "barpolar"
           }
          ],
          "carpet": [
           {
            "aaxis": {
             "endlinecolor": "#2a3f5f",
             "gridcolor": "white",
             "linecolor": "white",
             "minorgridcolor": "white",
             "startlinecolor": "#2a3f5f"
            },
            "baxis": {
             "endlinecolor": "#2a3f5f",
             "gridcolor": "white",
             "linecolor": "white",
             "minorgridcolor": "white",
             "startlinecolor": "#2a3f5f"
            },
            "type": "carpet"
           }
          ],
          "choropleth": [
           {
            "colorbar": {
             "outlinewidth": 0,
             "ticks": ""
            },
            "type": "choropleth"
           }
          ],
          "contour": [
           {
            "colorbar": {
             "outlinewidth": 0,
             "ticks": ""
            },
            "colorscale": [
             [
              0,
              "#0d0887"
             ],
             [
              0.1111111111111111,
              "#46039f"
             ],
             [
              0.2222222222222222,
              "#7201a8"
             ],
             [
              0.3333333333333333,
              "#9c179e"
             ],
             [
              0.4444444444444444,
              "#bd3786"
             ],
             [
              0.5555555555555556,
              "#d8576b"
             ],
             [
              0.6666666666666666,
              "#ed7953"
             ],
             [
              0.7777777777777778,
              "#fb9f3a"
             ],
             [
              0.8888888888888888,
              "#fdca26"
             ],
             [
              1,
              "#f0f921"
             ]
            ],
            "type": "contour"
           }
          ],
          "contourcarpet": [
           {
            "colorbar": {
             "outlinewidth": 0,
             "ticks": ""
            },
            "type": "contourcarpet"
           }
          ],
          "heatmap": [
           {
            "colorbar": {
             "outlinewidth": 0,
             "ticks": ""
            },
            "colorscale": [
             [
              0,
              "#0d0887"
             ],
             [
              0.1111111111111111,
              "#46039f"
             ],
             [
              0.2222222222222222,
              "#7201a8"
             ],
             [
              0.3333333333333333,
              "#9c179e"
             ],
             [
              0.4444444444444444,
              "#bd3786"
             ],
             [
              0.5555555555555556,
              "#d8576b"
             ],
             [
              0.6666666666666666,
              "#ed7953"
             ],
             [
              0.7777777777777778,
              "#fb9f3a"
             ],
             [
              0.8888888888888888,
              "#fdca26"
             ],
             [
              1,
              "#f0f921"
             ]
            ],
            "type": "heatmap"
           }
          ],
          "heatmapgl": [
           {
            "colorbar": {
             "outlinewidth": 0,
             "ticks": ""
            },
            "colorscale": [
             [
              0,
              "#0d0887"
             ],
             [
              0.1111111111111111,
              "#46039f"
             ],
             [
              0.2222222222222222,
              "#7201a8"
             ],
             [
              0.3333333333333333,
              "#9c179e"
             ],
             [
              0.4444444444444444,
              "#bd3786"
             ],
             [
              0.5555555555555556,
              "#d8576b"
             ],
             [
              0.6666666666666666,
              "#ed7953"
             ],
             [
              0.7777777777777778,
              "#fb9f3a"
             ],
             [
              0.8888888888888888,
              "#fdca26"
             ],
             [
              1,
              "#f0f921"
             ]
            ],
            "type": "heatmapgl"
           }
          ],
          "histogram": [
           {
            "marker": {
             "pattern": {
              "fillmode": "overlay",
              "size": 10,
              "solidity": 0.2
             }
            },
            "type": "histogram"
           }
          ],
          "histogram2d": [
           {
            "colorbar": {
             "outlinewidth": 0,
             "ticks": ""
            },
            "colorscale": [
             [
              0,
              "#0d0887"
             ],
             [
              0.1111111111111111,
              "#46039f"
             ],
             [
              0.2222222222222222,
              "#7201a8"
             ],
             [
              0.3333333333333333,
              "#9c179e"
             ],
             [
              0.4444444444444444,
              "#bd3786"
             ],
             [
              0.5555555555555556,
              "#d8576b"
             ],
             [
              0.6666666666666666,
              "#ed7953"
             ],
             [
              0.7777777777777778,
              "#fb9f3a"
             ],
             [
              0.8888888888888888,
              "#fdca26"
             ],
             [
              1,
              "#f0f921"
             ]
            ],
            "type": "histogram2d"
           }
          ],
          "histogram2dcontour": [
           {
            "colorbar": {
             "outlinewidth": 0,
             "ticks": ""
            },
            "colorscale": [
             [
              0,
              "#0d0887"
             ],
             [
              0.1111111111111111,
              "#46039f"
             ],
             [
              0.2222222222222222,
              "#7201a8"
             ],
             [
              0.3333333333333333,
              "#9c179e"
             ],
             [
              0.4444444444444444,
              "#bd3786"
             ],
             [
              0.5555555555555556,
              "#d8576b"
             ],
             [
              0.6666666666666666,
              "#ed7953"
             ],
             [
              0.7777777777777778,
              "#fb9f3a"
             ],
             [
              0.8888888888888888,
              "#fdca26"
             ],
             [
              1,
              "#f0f921"
             ]
            ],
            "type": "histogram2dcontour"
           }
          ],
          "mesh3d": [
           {
            "colorbar": {
             "outlinewidth": 0,
             "ticks": ""
            },
            "type": "mesh3d"
           }
          ],
          "parcoords": [
           {
            "line": {
             "colorbar": {
              "outlinewidth": 0,
              "ticks": ""
             }
            },
            "type": "parcoords"
           }
          ],
          "pie": [
           {
            "automargin": true,
            "type": "pie"
           }
          ],
          "scatter": [
           {
            "fillpattern": {
             "fillmode": "overlay",
             "size": 10,
             "solidity": 0.2
            },
            "type": "scatter"
           }
          ],
          "scatter3d": [
           {
            "line": {
             "colorbar": {
              "outlinewidth": 0,
              "ticks": ""
             }
            },
            "marker": {
             "colorbar": {
              "outlinewidth": 0,
              "ticks": ""
             }
            },
            "type": "scatter3d"
           }
          ],
          "scattercarpet": [
           {
            "marker": {
             "colorbar": {
              "outlinewidth": 0,
              "ticks": ""
             }
            },
            "type": "scattercarpet"
           }
          ],
          "scattergeo": [
           {
            "marker": {
             "colorbar": {
              "outlinewidth": 0,
              "ticks": ""
             }
            },
            "type": "scattergeo"
           }
          ],
          "scattergl": [
           {
            "marker": {
             "colorbar": {
              "outlinewidth": 0,
              "ticks": ""
             }
            },
            "type": "scattergl"
           }
          ],
          "scattermapbox": [
           {
            "marker": {
             "colorbar": {
              "outlinewidth": 0,
              "ticks": ""
             }
            },
            "type": "scattermapbox"
           }
          ],
          "scatterpolar": [
           {
            "marker": {
             "colorbar": {
              "outlinewidth": 0,
              "ticks": ""
             }
            },
            "type": "scatterpolar"
           }
          ],
          "scatterpolargl": [
           {
            "marker": {
             "colorbar": {
              "outlinewidth": 0,
              "ticks": ""
             }
            },
            "type": "scatterpolargl"
           }
          ],
          "scatterternary": [
           {
            "marker": {
             "colorbar": {
              "outlinewidth": 0,
              "ticks": ""
             }
            },
            "type": "scatterternary"
           }
          ],
          "surface": [
           {
            "colorbar": {
             "outlinewidth": 0,
             "ticks": ""
            },
            "colorscale": [
             [
              0,
              "#0d0887"
             ],
             [
              0.1111111111111111,
              "#46039f"
             ],
             [
              0.2222222222222222,
              "#7201a8"
             ],
             [
              0.3333333333333333,
              "#9c179e"
             ],
             [
              0.4444444444444444,
              "#bd3786"
             ],
             [
              0.5555555555555556,
              "#d8576b"
             ],
             [
              0.6666666666666666,
              "#ed7953"
             ],
             [
              0.7777777777777778,
              "#fb9f3a"
             ],
             [
              0.8888888888888888,
              "#fdca26"
             ],
             [
              1,
              "#f0f921"
             ]
            ],
            "type": "surface"
           }
          ],
          "table": [
           {
            "cells": {
             "fill": {
              "color": "#EBF0F8"
             },
             "line": {
              "color": "white"
             }
            },
            "header": {
             "fill": {
              "color": "#C8D4E3"
             },
             "line": {
              "color": "white"
             }
            },
            "type": "table"
           }
          ]
         },
         "layout": {
          "annotationdefaults": {
           "arrowcolor": "#2a3f5f",
           "arrowhead": 0,
           "arrowwidth": 1
          },
          "autotypenumbers": "strict",
          "coloraxis": {
           "colorbar": {
            "outlinewidth": 0,
            "ticks": ""
           }
          },
          "colorscale": {
           "diverging": [
            [
             0,
             "#8e0152"
            ],
            [
             0.1,
             "#c51b7d"
            ],
            [
             0.2,
             "#de77ae"
            ],
            [
             0.3,
             "#f1b6da"
            ],
            [
             0.4,
             "#fde0ef"
            ],
            [
             0.5,
             "#f7f7f7"
            ],
            [
             0.6,
             "#e6f5d0"
            ],
            [
             0.7,
             "#b8e186"
            ],
            [
             0.8,
             "#7fbc41"
            ],
            [
             0.9,
             "#4d9221"
            ],
            [
             1,
             "#276419"
            ]
           ],
           "sequential": [
            [
             0,
             "#0d0887"
            ],
            [
             0.1111111111111111,
             "#46039f"
            ],
            [
             0.2222222222222222,
             "#7201a8"
            ],
            [
             0.3333333333333333,
             "#9c179e"
            ],
            [
             0.4444444444444444,
             "#bd3786"
            ],
            [
             0.5555555555555556,
             "#d8576b"
            ],
            [
             0.6666666666666666,
             "#ed7953"
            ],
            [
             0.7777777777777778,
             "#fb9f3a"
            ],
            [
             0.8888888888888888,
             "#fdca26"
            ],
            [
             1,
             "#f0f921"
            ]
           ],
           "sequentialminus": [
            [
             0,
             "#0d0887"
            ],
            [
             0.1111111111111111,
             "#46039f"
            ],
            [
             0.2222222222222222,
             "#7201a8"
            ],
            [
             0.3333333333333333,
             "#9c179e"
            ],
            [
             0.4444444444444444,
             "#bd3786"
            ],
            [
             0.5555555555555556,
             "#d8576b"
            ],
            [
             0.6666666666666666,
             "#ed7953"
            ],
            [
             0.7777777777777778,
             "#fb9f3a"
            ],
            [
             0.8888888888888888,
             "#fdca26"
            ],
            [
             1,
             "#f0f921"
            ]
           ]
          },
          "colorway": [
           "#636efa",
           "#EF553B",
           "#00cc96",
           "#ab63fa",
           "#FFA15A",
           "#19d3f3",
           "#FF6692",
           "#B6E880",
           "#FF97FF",
           "#FECB52"
          ],
          "font": {
           "color": "#2a3f5f"
          },
          "geo": {
           "bgcolor": "white",
           "lakecolor": "white",
           "landcolor": "#E5ECF6",
           "showlakes": true,
           "showland": true,
           "subunitcolor": "white"
          },
          "hoverlabel": {
           "align": "left"
          },
          "hovermode": "closest",
          "mapbox": {
           "style": "light"
          },
          "paper_bgcolor": "white",
          "plot_bgcolor": "#E5ECF6",
          "polar": {
           "angularaxis": {
            "gridcolor": "white",
            "linecolor": "white",
            "ticks": ""
           },
           "bgcolor": "#E5ECF6",
           "radialaxis": {
            "gridcolor": "white",
            "linecolor": "white",
            "ticks": ""
           }
          },
          "scene": {
           "xaxis": {
            "backgroundcolor": "#E5ECF6",
            "gridcolor": "white",
            "gridwidth": 2,
            "linecolor": "white",
            "showbackground": true,
            "ticks": "",
            "zerolinecolor": "white"
           },
           "yaxis": {
            "backgroundcolor": "#E5ECF6",
            "gridcolor": "white",
            "gridwidth": 2,
            "linecolor": "white",
            "showbackground": true,
            "ticks": "",
            "zerolinecolor": "white"
           },
           "zaxis": {
            "backgroundcolor": "#E5ECF6",
            "gridcolor": "white",
            "gridwidth": 2,
            "linecolor": "white",
            "showbackground": true,
            "ticks": "",
            "zerolinecolor": "white"
           }
          },
          "shapedefaults": {
           "line": {
            "color": "#2a3f5f"
           }
          },
          "ternary": {
           "aaxis": {
            "gridcolor": "white",
            "linecolor": "white",
            "ticks": ""
           },
           "baxis": {
            "gridcolor": "white",
            "linecolor": "white",
            "ticks": ""
           },
           "bgcolor": "#E5ECF6",
           "caxis": {
            "gridcolor": "white",
            "linecolor": "white",
            "ticks": ""
           }
          },
          "title": {
           "x": 0.05
          },
          "xaxis": {
           "automargin": true,
           "gridcolor": "white",
           "linecolor": "white",
           "ticks": "",
           "title": {
            "standoff": 15
           },
           "zerolinecolor": "white",
           "zerolinewidth": 2
          },
          "yaxis": {
           "automargin": true,
           "gridcolor": "white",
           "linecolor": "white",
           "ticks": "",
           "title": {
            "standoff": 15
           },
           "zerolinecolor": "white",
           "zerolinewidth": 2
          }
         }
        },
        "xaxis": {
         "rangeslider": {
          "visible": false
         }
        }
       }
      },
      "text/html": [
       "<div>                            <div id=\"ccc921a4-6d38-427a-96e3-148c5f705147\" class=\"plotly-graph-div\" style=\"height:525px; width:100%;\"></div>            <script type=\"text/javascript\">                require([\"plotly\"], function(Plotly) {                    window.PLOTLYENV=window.PLOTLYENV || {};                                    if (document.getElementById(\"ccc921a4-6d38-427a-96e3-148c5f705147\")) {                    Plotly.newPlot(                        \"ccc921a4-6d38-427a-96e3-148c5f705147\",                        [{\"close\":[964.7],\"high\":[967.7],\"low\":[920.2],\"open\":[927.3],\"x\":[\"05-Jul-2024\"],\"type\":\"candlestick\"}],                        {\"template\":{\"data\":{\"histogram2dcontour\":[{\"type\":\"histogram2dcontour\",\"colorbar\":{\"outlinewidth\":0,\"ticks\":\"\"},\"colorscale\":[[0.0,\"#0d0887\"],[0.1111111111111111,\"#46039f\"],[0.2222222222222222,\"#7201a8\"],[0.3333333333333333,\"#9c179e\"],[0.4444444444444444,\"#bd3786\"],[0.5555555555555556,\"#d8576b\"],[0.6666666666666666,\"#ed7953\"],[0.7777777777777778,\"#fb9f3a\"],[0.8888888888888888,\"#fdca26\"],[1.0,\"#f0f921\"]]}],\"choropleth\":[{\"type\":\"choropleth\",\"colorbar\":{\"outlinewidth\":0,\"ticks\":\"\"}}],\"histogram2d\":[{\"type\":\"histogram2d\",\"colorbar\":{\"outlinewidth\":0,\"ticks\":\"\"},\"colorscale\":[[0.0,\"#0d0887\"],[0.1111111111111111,\"#46039f\"],[0.2222222222222222,\"#7201a8\"],[0.3333333333333333,\"#9c179e\"],[0.4444444444444444,\"#bd3786\"],[0.5555555555555556,\"#d8576b\"],[0.6666666666666666,\"#ed7953\"],[0.7777777777777778,\"#fb9f3a\"],[0.8888888888888888,\"#fdca26\"],[1.0,\"#f0f921\"]]}],\"heatmap\":[{\"type\":\"heatmap\",\"colorbar\":{\"outlinewidth\":0,\"ticks\":\"\"},\"colorscale\":[[0.0,\"#0d0887\"],[0.1111111111111111,\"#46039f\"],[0.2222222222222222,\"#7201a8\"],[0.3333333333333333,\"#9c179e\"],[0.4444444444444444,\"#bd3786\"],[0.5555555555555556,\"#d8576b\"],[0.6666666666666666,\"#ed7953\"],[0.7777777777777778,\"#fb9f3a\"],[0.8888888888888888,\"#fdca26\"],[1.0,\"#f0f921\"]]}],\"heatmapgl\":[{\"type\":\"heatmapgl\",\"colorbar\":{\"outlinewidth\":0,\"ticks\":\"\"},\"colorscale\":[[0.0,\"#0d0887\"],[0.1111111111111111,\"#46039f\"],[0.2222222222222222,\"#7201a8\"],[0.3333333333333333,\"#9c179e\"],[0.4444444444444444,\"#bd3786\"],[0.5555555555555556,\"#d8576b\"],[0.6666666666666666,\"#ed7953\"],[0.7777777777777778,\"#fb9f3a\"],[0.8888888888888888,\"#fdca26\"],[1.0,\"#f0f921\"]]}],\"contourcarpet\":[{\"type\":\"contourcarpet\",\"colorbar\":{\"outlinewidth\":0,\"ticks\":\"\"}}],\"contour\":[{\"type\":\"contour\",\"colorbar\":{\"outlinewidth\":0,\"ticks\":\"\"},\"colorscale\":[[0.0,\"#0d0887\"],[0.1111111111111111,\"#46039f\"],[0.2222222222222222,\"#7201a8\"],[0.3333333333333333,\"#9c179e\"],[0.4444444444444444,\"#bd3786\"],[0.5555555555555556,\"#d8576b\"],[0.6666666666666666,\"#ed7953\"],[0.7777777777777778,\"#fb9f3a\"],[0.8888888888888888,\"#fdca26\"],[1.0,\"#f0f921\"]]}],\"surface\":[{\"type\":\"surface\",\"colorbar\":{\"outlinewidth\":0,\"ticks\":\"\"},\"colorscale\":[[0.0,\"#0d0887\"],[0.1111111111111111,\"#46039f\"],[0.2222222222222222,\"#7201a8\"],[0.3333333333333333,\"#9c179e\"],[0.4444444444444444,\"#bd3786\"],[0.5555555555555556,\"#d8576b\"],[0.6666666666666666,\"#ed7953\"],[0.7777777777777778,\"#fb9f3a\"],[0.8888888888888888,\"#fdca26\"],[1.0,\"#f0f921\"]]}],\"mesh3d\":[{\"type\":\"mesh3d\",\"colorbar\":{\"outlinewidth\":0,\"ticks\":\"\"}}],\"scatter\":[{\"fillpattern\":{\"fillmode\":\"overlay\",\"size\":10,\"solidity\":0.2},\"type\":\"scatter\"}],\"parcoords\":[{\"type\":\"parcoords\",\"line\":{\"colorbar\":{\"outlinewidth\":0,\"ticks\":\"\"}}}],\"scatterpolargl\":[{\"type\":\"scatterpolargl\",\"marker\":{\"colorbar\":{\"outlinewidth\":0,\"ticks\":\"\"}}}],\"bar\":[{\"error_x\":{\"color\":\"#2a3f5f\"},\"error_y\":{\"color\":\"#2a3f5f\"},\"marker\":{\"line\":{\"color\":\"#E5ECF6\",\"width\":0.5},\"pattern\":{\"fillmode\":\"overlay\",\"size\":10,\"solidity\":0.2}},\"type\":\"bar\"}],\"scattergeo\":[{\"type\":\"scattergeo\",\"marker\":{\"colorbar\":{\"outlinewidth\":0,\"ticks\":\"\"}}}],\"scatterpolar\":[{\"type\":\"scatterpolar\",\"marker\":{\"colorbar\":{\"outlinewidth\":0,\"ticks\":\"\"}}}],\"histogram\":[{\"marker\":{\"pattern\":{\"fillmode\":\"overlay\",\"size\":10,\"solidity\":0.2}},\"type\":\"histogram\"}],\"scattergl\":[{\"type\":\"scattergl\",\"marker\":{\"colorbar\":{\"outlinewidth\":0,\"ticks\":\"\"}}}],\"scatter3d\":[{\"type\":\"scatter3d\",\"line\":{\"colorbar\":{\"outlinewidth\":0,\"ticks\":\"\"}},\"marker\":{\"colorbar\":{\"outlinewidth\":0,\"ticks\":\"\"}}}],\"scattermapbox\":[{\"type\":\"scattermapbox\",\"marker\":{\"colorbar\":{\"outlinewidth\":0,\"ticks\":\"\"}}}],\"scatterternary\":[{\"type\":\"scatterternary\",\"marker\":{\"colorbar\":{\"outlinewidth\":0,\"ticks\":\"\"}}}],\"scattercarpet\":[{\"type\":\"scattercarpet\",\"marker\":{\"colorbar\":{\"outlinewidth\":0,\"ticks\":\"\"}}}],\"carpet\":[{\"aaxis\":{\"endlinecolor\":\"#2a3f5f\",\"gridcolor\":\"white\",\"linecolor\":\"white\",\"minorgridcolor\":\"white\",\"startlinecolor\":\"#2a3f5f\"},\"baxis\":{\"endlinecolor\":\"#2a3f5f\",\"gridcolor\":\"white\",\"linecolor\":\"white\",\"minorgridcolor\":\"white\",\"startlinecolor\":\"#2a3f5f\"},\"type\":\"carpet\"}],\"table\":[{\"cells\":{\"fill\":{\"color\":\"#EBF0F8\"},\"line\":{\"color\":\"white\"}},\"header\":{\"fill\":{\"color\":\"#C8D4E3\"},\"line\":{\"color\":\"white\"}},\"type\":\"table\"}],\"barpolar\":[{\"marker\":{\"line\":{\"color\":\"#E5ECF6\",\"width\":0.5},\"pattern\":{\"fillmode\":\"overlay\",\"size\":10,\"solidity\":0.2}},\"type\":\"barpolar\"}],\"pie\":[{\"automargin\":true,\"type\":\"pie\"}]},\"layout\":{\"autotypenumbers\":\"strict\",\"colorway\":[\"#636efa\",\"#EF553B\",\"#00cc96\",\"#ab63fa\",\"#FFA15A\",\"#19d3f3\",\"#FF6692\",\"#B6E880\",\"#FF97FF\",\"#FECB52\"],\"font\":{\"color\":\"#2a3f5f\"},\"hovermode\":\"closest\",\"hoverlabel\":{\"align\":\"left\"},\"paper_bgcolor\":\"white\",\"plot_bgcolor\":\"#E5ECF6\",\"polar\":{\"bgcolor\":\"#E5ECF6\",\"angularaxis\":{\"gridcolor\":\"white\",\"linecolor\":\"white\",\"ticks\":\"\"},\"radialaxis\":{\"gridcolor\":\"white\",\"linecolor\":\"white\",\"ticks\":\"\"}},\"ternary\":{\"bgcolor\":\"#E5ECF6\",\"aaxis\":{\"gridcolor\":\"white\",\"linecolor\":\"white\",\"ticks\":\"\"},\"baxis\":{\"gridcolor\":\"white\",\"linecolor\":\"white\",\"ticks\":\"\"},\"caxis\":{\"gridcolor\":\"white\",\"linecolor\":\"white\",\"ticks\":\"\"}},\"coloraxis\":{\"colorbar\":{\"outlinewidth\":0,\"ticks\":\"\"}},\"colorscale\":{\"sequential\":[[0.0,\"#0d0887\"],[0.1111111111111111,\"#46039f\"],[0.2222222222222222,\"#7201a8\"],[0.3333333333333333,\"#9c179e\"],[0.4444444444444444,\"#bd3786\"],[0.5555555555555556,\"#d8576b\"],[0.6666666666666666,\"#ed7953\"],[0.7777777777777778,\"#fb9f3a\"],[0.8888888888888888,\"#fdca26\"],[1.0,\"#f0f921\"]],\"sequentialminus\":[[0.0,\"#0d0887\"],[0.1111111111111111,\"#46039f\"],[0.2222222222222222,\"#7201a8\"],[0.3333333333333333,\"#9c179e\"],[0.4444444444444444,\"#bd3786\"],[0.5555555555555556,\"#d8576b\"],[0.6666666666666666,\"#ed7953\"],[0.7777777777777778,\"#fb9f3a\"],[0.8888888888888888,\"#fdca26\"],[1.0,\"#f0f921\"]],\"diverging\":[[0,\"#8e0152\"],[0.1,\"#c51b7d\"],[0.2,\"#de77ae\"],[0.3,\"#f1b6da\"],[0.4,\"#fde0ef\"],[0.5,\"#f7f7f7\"],[0.6,\"#e6f5d0\"],[0.7,\"#b8e186\"],[0.8,\"#7fbc41\"],[0.9,\"#4d9221\"],[1,\"#276419\"]]},\"xaxis\":{\"gridcolor\":\"white\",\"linecolor\":\"white\",\"ticks\":\"\",\"title\":{\"standoff\":15},\"zerolinecolor\":\"white\",\"automargin\":true,\"zerolinewidth\":2},\"yaxis\":{\"gridcolor\":\"white\",\"linecolor\":\"white\",\"ticks\":\"\",\"title\":{\"standoff\":15},\"zerolinecolor\":\"white\",\"automargin\":true,\"zerolinewidth\":2},\"scene\":{\"xaxis\":{\"backgroundcolor\":\"#E5ECF6\",\"gridcolor\":\"white\",\"linecolor\":\"white\",\"showbackground\":true,\"ticks\":\"\",\"zerolinecolor\":\"white\",\"gridwidth\":2},\"yaxis\":{\"backgroundcolor\":\"#E5ECF6\",\"gridcolor\":\"white\",\"linecolor\":\"white\",\"showbackground\":true,\"ticks\":\"\",\"zerolinecolor\":\"white\",\"gridwidth\":2},\"zaxis\":{\"backgroundcolor\":\"#E5ECF6\",\"gridcolor\":\"white\",\"linecolor\":\"white\",\"showbackground\":true,\"ticks\":\"\",\"zerolinecolor\":\"white\",\"gridwidth\":2}},\"shapedefaults\":{\"line\":{\"color\":\"#2a3f5f\"}},\"annotationdefaults\":{\"arrowcolor\":\"#2a3f5f\",\"arrowhead\":0,\"arrowwidth\":1},\"geo\":{\"bgcolor\":\"white\",\"landcolor\":\"#E5ECF6\",\"subunitcolor\":\"white\",\"showland\":true,\"showlakes\":true,\"lakecolor\":\"white\"},\"title\":{\"x\":0.05},\"mapbox\":{\"style\":\"light\"}}},\"xaxis\":{\"rangeslider\":{\"visible\":false}}},                        {\"responsive\": true}                    ).then(function(){\n",
       "                            \n",
       "var gd = document.getElementById('ccc921a4-6d38-427a-96e3-148c5f705147');\n",
       "var x = new MutationObserver(function (mutations, observer) {{\n",
       "        var display = window.getComputedStyle(gd).display;\n",
       "        if (!display || display === 'none') {{\n",
       "            console.log([gd, 'removed!']);\n",
       "            Plotly.purge(gd);\n",
       "            observer.disconnect();\n",
       "        }}\n",
       "}});\n",
       "\n",
       "// Listen for the removal of the full notebook cells\n",
       "var notebookContainer = gd.closest('#notebook-container');\n",
       "if (notebookContainer) {{\n",
       "    x.observe(notebookContainer, {childList: true});\n",
       "}}\n",
       "\n",
       "// Listen for the clearing of the current output cell\n",
       "var outputEl = gd.closest('.output');\n",
       "if (outputEl) {{\n",
       "    x.observe(outputEl, {childList: true});\n",
       "}}\n",
       "\n",
       "                        })                };                });            </script>        </div>"
      ]
     },
     "metadata": {},
     "output_type": "display_data"
    },
    {
     "name": "stdout",
     "output_type": "stream",
     "text": [
      "3IINFOLTD\n"
     ]
    },
    {
     "data": {
      "application/vnd.plotly.v1+json": {
       "config": {
        "plotlyServerURL": "https://plot.ly"
       },
       "data": [
        {
         "close": [],
         "high": [],
         "low": [],
         "open": [],
         "type": "candlestick",
         "x": []
        }
       ],
       "layout": {
        "template": {
         "data": {
          "bar": [
           {
            "error_x": {
             "color": "#2a3f5f"
            },
            "error_y": {
             "color": "#2a3f5f"
            },
            "marker": {
             "line": {
              "color": "#E5ECF6",
              "width": 0.5
             },
             "pattern": {
              "fillmode": "overlay",
              "size": 10,
              "solidity": 0.2
             }
            },
            "type": "bar"
           }
          ],
          "barpolar": [
           {
            "marker": {
             "line": {
              "color": "#E5ECF6",
              "width": 0.5
             },
             "pattern": {
              "fillmode": "overlay",
              "size": 10,
              "solidity": 0.2
             }
            },
            "type": "barpolar"
           }
          ],
          "carpet": [
           {
            "aaxis": {
             "endlinecolor": "#2a3f5f",
             "gridcolor": "white",
             "linecolor": "white",
             "minorgridcolor": "white",
             "startlinecolor": "#2a3f5f"
            },
            "baxis": {
             "endlinecolor": "#2a3f5f",
             "gridcolor": "white",
             "linecolor": "white",
             "minorgridcolor": "white",
             "startlinecolor": "#2a3f5f"
            },
            "type": "carpet"
           }
          ],
          "choropleth": [
           {
            "colorbar": {
             "outlinewidth": 0,
             "ticks": ""
            },
            "type": "choropleth"
           }
          ],
          "contour": [
           {
            "colorbar": {
             "outlinewidth": 0,
             "ticks": ""
            },
            "colorscale": [
             [
              0,
              "#0d0887"
             ],
             [
              0.1111111111111111,
              "#46039f"
             ],
             [
              0.2222222222222222,
              "#7201a8"
             ],
             [
              0.3333333333333333,
              "#9c179e"
             ],
             [
              0.4444444444444444,
              "#bd3786"
             ],
             [
              0.5555555555555556,
              "#d8576b"
             ],
             [
              0.6666666666666666,
              "#ed7953"
             ],
             [
              0.7777777777777778,
              "#fb9f3a"
             ],
             [
              0.8888888888888888,
              "#fdca26"
             ],
             [
              1,
              "#f0f921"
             ]
            ],
            "type": "contour"
           }
          ],
          "contourcarpet": [
           {
            "colorbar": {
             "outlinewidth": 0,
             "ticks": ""
            },
            "type": "contourcarpet"
           }
          ],
          "heatmap": [
           {
            "colorbar": {
             "outlinewidth": 0,
             "ticks": ""
            },
            "colorscale": [
             [
              0,
              "#0d0887"
             ],
             [
              0.1111111111111111,
              "#46039f"
             ],
             [
              0.2222222222222222,
              "#7201a8"
             ],
             [
              0.3333333333333333,
              "#9c179e"
             ],
             [
              0.4444444444444444,
              "#bd3786"
             ],
             [
              0.5555555555555556,
              "#d8576b"
             ],
             [
              0.6666666666666666,
              "#ed7953"
             ],
             [
              0.7777777777777778,
              "#fb9f3a"
             ],
             [
              0.8888888888888888,
              "#fdca26"
             ],
             [
              1,
              "#f0f921"
             ]
            ],
            "type": "heatmap"
           }
          ],
          "heatmapgl": [
           {
            "colorbar": {
             "outlinewidth": 0,
             "ticks": ""
            },
            "colorscale": [
             [
              0,
              "#0d0887"
             ],
             [
              0.1111111111111111,
              "#46039f"
             ],
             [
              0.2222222222222222,
              "#7201a8"
             ],
             [
              0.3333333333333333,
              "#9c179e"
             ],
             [
              0.4444444444444444,
              "#bd3786"
             ],
             [
              0.5555555555555556,
              "#d8576b"
             ],
             [
              0.6666666666666666,
              "#ed7953"
             ],
             [
              0.7777777777777778,
              "#fb9f3a"
             ],
             [
              0.8888888888888888,
              "#fdca26"
             ],
             [
              1,
              "#f0f921"
             ]
            ],
            "type": "heatmapgl"
           }
          ],
          "histogram": [
           {
            "marker": {
             "pattern": {
              "fillmode": "overlay",
              "size": 10,
              "solidity": 0.2
             }
            },
            "type": "histogram"
           }
          ],
          "histogram2d": [
           {
            "colorbar": {
             "outlinewidth": 0,
             "ticks": ""
            },
            "colorscale": [
             [
              0,
              "#0d0887"
             ],
             [
              0.1111111111111111,
              "#46039f"
             ],
             [
              0.2222222222222222,
              "#7201a8"
             ],
             [
              0.3333333333333333,
              "#9c179e"
             ],
             [
              0.4444444444444444,
              "#bd3786"
             ],
             [
              0.5555555555555556,
              "#d8576b"
             ],
             [
              0.6666666666666666,
              "#ed7953"
             ],
             [
              0.7777777777777778,
              "#fb9f3a"
             ],
             [
              0.8888888888888888,
              "#fdca26"
             ],
             [
              1,
              "#f0f921"
             ]
            ],
            "type": "histogram2d"
           }
          ],
          "histogram2dcontour": [
           {
            "colorbar": {
             "outlinewidth": 0,
             "ticks": ""
            },
            "colorscale": [
             [
              0,
              "#0d0887"
             ],
             [
              0.1111111111111111,
              "#46039f"
             ],
             [
              0.2222222222222222,
              "#7201a8"
             ],
             [
              0.3333333333333333,
              "#9c179e"
             ],
             [
              0.4444444444444444,
              "#bd3786"
             ],
             [
              0.5555555555555556,
              "#d8576b"
             ],
             [
              0.6666666666666666,
              "#ed7953"
             ],
             [
              0.7777777777777778,
              "#fb9f3a"
             ],
             [
              0.8888888888888888,
              "#fdca26"
             ],
             [
              1,
              "#f0f921"
             ]
            ],
            "type": "histogram2dcontour"
           }
          ],
          "mesh3d": [
           {
            "colorbar": {
             "outlinewidth": 0,
             "ticks": ""
            },
            "type": "mesh3d"
           }
          ],
          "parcoords": [
           {
            "line": {
             "colorbar": {
              "outlinewidth": 0,
              "ticks": ""
             }
            },
            "type": "parcoords"
           }
          ],
          "pie": [
           {
            "automargin": true,
            "type": "pie"
           }
          ],
          "scatter": [
           {
            "fillpattern": {
             "fillmode": "overlay",
             "size": 10,
             "solidity": 0.2
            },
            "type": "scatter"
           }
          ],
          "scatter3d": [
           {
            "line": {
             "colorbar": {
              "outlinewidth": 0,
              "ticks": ""
             }
            },
            "marker": {
             "colorbar": {
              "outlinewidth": 0,
              "ticks": ""
             }
            },
            "type": "scatter3d"
           }
          ],
          "scattercarpet": [
           {
            "marker": {
             "colorbar": {
              "outlinewidth": 0,
              "ticks": ""
             }
            },
            "type": "scattercarpet"
           }
          ],
          "scattergeo": [
           {
            "marker": {
             "colorbar": {
              "outlinewidth": 0,
              "ticks": ""
             }
            },
            "type": "scattergeo"
           }
          ],
          "scattergl": [
           {
            "marker": {
             "colorbar": {
              "outlinewidth": 0,
              "ticks": ""
             }
            },
            "type": "scattergl"
           }
          ],
          "scattermapbox": [
           {
            "marker": {
             "colorbar": {
              "outlinewidth": 0,
              "ticks": ""
             }
            },
            "type": "scattermapbox"
           }
          ],
          "scatterpolar": [
           {
            "marker": {
             "colorbar": {
              "outlinewidth": 0,
              "ticks": ""
             }
            },
            "type": "scatterpolar"
           }
          ],
          "scatterpolargl": [
           {
            "marker": {
             "colorbar": {
              "outlinewidth": 0,
              "ticks": ""
             }
            },
            "type": "scatterpolargl"
           }
          ],
          "scatterternary": [
           {
            "marker": {
             "colorbar": {
              "outlinewidth": 0,
              "ticks": ""
             }
            },
            "type": "scatterternary"
           }
          ],
          "surface": [
           {
            "colorbar": {
             "outlinewidth": 0,
             "ticks": ""
            },
            "colorscale": [
             [
              0,
              "#0d0887"
             ],
             [
              0.1111111111111111,
              "#46039f"
             ],
             [
              0.2222222222222222,
              "#7201a8"
             ],
             [
              0.3333333333333333,
              "#9c179e"
             ],
             [
              0.4444444444444444,
              "#bd3786"
             ],
             [
              0.5555555555555556,
              "#d8576b"
             ],
             [
              0.6666666666666666,
              "#ed7953"
             ],
             [
              0.7777777777777778,
              "#fb9f3a"
             ],
             [
              0.8888888888888888,
              "#fdca26"
             ],
             [
              1,
              "#f0f921"
             ]
            ],
            "type": "surface"
           }
          ],
          "table": [
           {
            "cells": {
             "fill": {
              "color": "#EBF0F8"
             },
             "line": {
              "color": "white"
             }
            },
            "header": {
             "fill": {
              "color": "#C8D4E3"
             },
             "line": {
              "color": "white"
             }
            },
            "type": "table"
           }
          ]
         },
         "layout": {
          "annotationdefaults": {
           "arrowcolor": "#2a3f5f",
           "arrowhead": 0,
           "arrowwidth": 1
          },
          "autotypenumbers": "strict",
          "coloraxis": {
           "colorbar": {
            "outlinewidth": 0,
            "ticks": ""
           }
          },
          "colorscale": {
           "diverging": [
            [
             0,
             "#8e0152"
            ],
            [
             0.1,
             "#c51b7d"
            ],
            [
             0.2,
             "#de77ae"
            ],
            [
             0.3,
             "#f1b6da"
            ],
            [
             0.4,
             "#fde0ef"
            ],
            [
             0.5,
             "#f7f7f7"
            ],
            [
             0.6,
             "#e6f5d0"
            ],
            [
             0.7,
             "#b8e186"
            ],
            [
             0.8,
             "#7fbc41"
            ],
            [
             0.9,
             "#4d9221"
            ],
            [
             1,
             "#276419"
            ]
           ],
           "sequential": [
            [
             0,
             "#0d0887"
            ],
            [
             0.1111111111111111,
             "#46039f"
            ],
            [
             0.2222222222222222,
             "#7201a8"
            ],
            [
             0.3333333333333333,
             "#9c179e"
            ],
            [
             0.4444444444444444,
             "#bd3786"
            ],
            [
             0.5555555555555556,
             "#d8576b"
            ],
            [
             0.6666666666666666,
             "#ed7953"
            ],
            [
             0.7777777777777778,
             "#fb9f3a"
            ],
            [
             0.8888888888888888,
             "#fdca26"
            ],
            [
             1,
             "#f0f921"
            ]
           ],
           "sequentialminus": [
            [
             0,
             "#0d0887"
            ],
            [
             0.1111111111111111,
             "#46039f"
            ],
            [
             0.2222222222222222,
             "#7201a8"
            ],
            [
             0.3333333333333333,
             "#9c179e"
            ],
            [
             0.4444444444444444,
             "#bd3786"
            ],
            [
             0.5555555555555556,
             "#d8576b"
            ],
            [
             0.6666666666666666,
             "#ed7953"
            ],
            [
             0.7777777777777778,
             "#fb9f3a"
            ],
            [
             0.8888888888888888,
             "#fdca26"
            ],
            [
             1,
             "#f0f921"
            ]
           ]
          },
          "colorway": [
           "#636efa",
           "#EF553B",
           "#00cc96",
           "#ab63fa",
           "#FFA15A",
           "#19d3f3",
           "#FF6692",
           "#B6E880",
           "#FF97FF",
           "#FECB52"
          ],
          "font": {
           "color": "#2a3f5f"
          },
          "geo": {
           "bgcolor": "white",
           "lakecolor": "white",
           "landcolor": "#E5ECF6",
           "showlakes": true,
           "showland": true,
           "subunitcolor": "white"
          },
          "hoverlabel": {
           "align": "left"
          },
          "hovermode": "closest",
          "mapbox": {
           "style": "light"
          },
          "paper_bgcolor": "white",
          "plot_bgcolor": "#E5ECF6",
          "polar": {
           "angularaxis": {
            "gridcolor": "white",
            "linecolor": "white",
            "ticks": ""
           },
           "bgcolor": "#E5ECF6",
           "radialaxis": {
            "gridcolor": "white",
            "linecolor": "white",
            "ticks": ""
           }
          },
          "scene": {
           "xaxis": {
            "backgroundcolor": "#E5ECF6",
            "gridcolor": "white",
            "gridwidth": 2,
            "linecolor": "white",
            "showbackground": true,
            "ticks": "",
            "zerolinecolor": "white"
           },
           "yaxis": {
            "backgroundcolor": "#E5ECF6",
            "gridcolor": "white",
            "gridwidth": 2,
            "linecolor": "white",
            "showbackground": true,
            "ticks": "",
            "zerolinecolor": "white"
           },
           "zaxis": {
            "backgroundcolor": "#E5ECF6",
            "gridcolor": "white",
            "gridwidth": 2,
            "linecolor": "white",
            "showbackground": true,
            "ticks": "",
            "zerolinecolor": "white"
           }
          },
          "shapedefaults": {
           "line": {
            "color": "#2a3f5f"
           }
          },
          "ternary": {
           "aaxis": {
            "gridcolor": "white",
            "linecolor": "white",
            "ticks": ""
           },
           "baxis": {
            "gridcolor": "white",
            "linecolor": "white",
            "ticks": ""
           },
           "bgcolor": "#E5ECF6",
           "caxis": {
            "gridcolor": "white",
            "linecolor": "white",
            "ticks": ""
           }
          },
          "title": {
           "x": 0.05
          },
          "xaxis": {
           "automargin": true,
           "gridcolor": "white",
           "linecolor": "white",
           "ticks": "",
           "title": {
            "standoff": 15
           },
           "zerolinecolor": "white",
           "zerolinewidth": 2
          },
          "yaxis": {
           "automargin": true,
           "gridcolor": "white",
           "linecolor": "white",
           "ticks": "",
           "title": {
            "standoff": 15
           },
           "zerolinecolor": "white",
           "zerolinewidth": 2
          }
         }
        },
        "xaxis": {
         "rangeslider": {
          "visible": false
         }
        }
       }
      },
      "text/html": [
       "<div>                            <div id=\"4ab0eefe-fdcf-4a79-8d26-876955ddf710\" class=\"plotly-graph-div\" style=\"height:525px; width:100%;\"></div>            <script type=\"text/javascript\">                require([\"plotly\"], function(Plotly) {                    window.PLOTLYENV=window.PLOTLYENV || {};                                    if (document.getElementById(\"4ab0eefe-fdcf-4a79-8d26-876955ddf710\")) {                    Plotly.newPlot(                        \"4ab0eefe-fdcf-4a79-8d26-876955ddf710\",                        [{\"close\":[],\"high\":[],\"low\":[],\"open\":[],\"x\":[],\"type\":\"candlestick\"}],                        {\"template\":{\"data\":{\"histogram2dcontour\":[{\"type\":\"histogram2dcontour\",\"colorbar\":{\"outlinewidth\":0,\"ticks\":\"\"},\"colorscale\":[[0.0,\"#0d0887\"],[0.1111111111111111,\"#46039f\"],[0.2222222222222222,\"#7201a8\"],[0.3333333333333333,\"#9c179e\"],[0.4444444444444444,\"#bd3786\"],[0.5555555555555556,\"#d8576b\"],[0.6666666666666666,\"#ed7953\"],[0.7777777777777778,\"#fb9f3a\"],[0.8888888888888888,\"#fdca26\"],[1.0,\"#f0f921\"]]}],\"choropleth\":[{\"type\":\"choropleth\",\"colorbar\":{\"outlinewidth\":0,\"ticks\":\"\"}}],\"histogram2d\":[{\"type\":\"histogram2d\",\"colorbar\":{\"outlinewidth\":0,\"ticks\":\"\"},\"colorscale\":[[0.0,\"#0d0887\"],[0.1111111111111111,\"#46039f\"],[0.2222222222222222,\"#7201a8\"],[0.3333333333333333,\"#9c179e\"],[0.4444444444444444,\"#bd3786\"],[0.5555555555555556,\"#d8576b\"],[0.6666666666666666,\"#ed7953\"],[0.7777777777777778,\"#fb9f3a\"],[0.8888888888888888,\"#fdca26\"],[1.0,\"#f0f921\"]]}],\"heatmap\":[{\"type\":\"heatmap\",\"colorbar\":{\"outlinewidth\":0,\"ticks\":\"\"},\"colorscale\":[[0.0,\"#0d0887\"],[0.1111111111111111,\"#46039f\"],[0.2222222222222222,\"#7201a8\"],[0.3333333333333333,\"#9c179e\"],[0.4444444444444444,\"#bd3786\"],[0.5555555555555556,\"#d8576b\"],[0.6666666666666666,\"#ed7953\"],[0.7777777777777778,\"#fb9f3a\"],[0.8888888888888888,\"#fdca26\"],[1.0,\"#f0f921\"]]}],\"heatmapgl\":[{\"type\":\"heatmapgl\",\"colorbar\":{\"outlinewidth\":0,\"ticks\":\"\"},\"colorscale\":[[0.0,\"#0d0887\"],[0.1111111111111111,\"#46039f\"],[0.2222222222222222,\"#7201a8\"],[0.3333333333333333,\"#9c179e\"],[0.4444444444444444,\"#bd3786\"],[0.5555555555555556,\"#d8576b\"],[0.6666666666666666,\"#ed7953\"],[0.7777777777777778,\"#fb9f3a\"],[0.8888888888888888,\"#fdca26\"],[1.0,\"#f0f921\"]]}],\"contourcarpet\":[{\"type\":\"contourcarpet\",\"colorbar\":{\"outlinewidth\":0,\"ticks\":\"\"}}],\"contour\":[{\"type\":\"contour\",\"colorbar\":{\"outlinewidth\":0,\"ticks\":\"\"},\"colorscale\":[[0.0,\"#0d0887\"],[0.1111111111111111,\"#46039f\"],[0.2222222222222222,\"#7201a8\"],[0.3333333333333333,\"#9c179e\"],[0.4444444444444444,\"#bd3786\"],[0.5555555555555556,\"#d8576b\"],[0.6666666666666666,\"#ed7953\"],[0.7777777777777778,\"#fb9f3a\"],[0.8888888888888888,\"#fdca26\"],[1.0,\"#f0f921\"]]}],\"surface\":[{\"type\":\"surface\",\"colorbar\":{\"outlinewidth\":0,\"ticks\":\"\"},\"colorscale\":[[0.0,\"#0d0887\"],[0.1111111111111111,\"#46039f\"],[0.2222222222222222,\"#7201a8\"],[0.3333333333333333,\"#9c179e\"],[0.4444444444444444,\"#bd3786\"],[0.5555555555555556,\"#d8576b\"],[0.6666666666666666,\"#ed7953\"],[0.7777777777777778,\"#fb9f3a\"],[0.8888888888888888,\"#fdca26\"],[1.0,\"#f0f921\"]]}],\"mesh3d\":[{\"type\":\"mesh3d\",\"colorbar\":{\"outlinewidth\":0,\"ticks\":\"\"}}],\"scatter\":[{\"fillpattern\":{\"fillmode\":\"overlay\",\"size\":10,\"solidity\":0.2},\"type\":\"scatter\"}],\"parcoords\":[{\"type\":\"parcoords\",\"line\":{\"colorbar\":{\"outlinewidth\":0,\"ticks\":\"\"}}}],\"scatterpolargl\":[{\"type\":\"scatterpolargl\",\"marker\":{\"colorbar\":{\"outlinewidth\":0,\"ticks\":\"\"}}}],\"bar\":[{\"error_x\":{\"color\":\"#2a3f5f\"},\"error_y\":{\"color\":\"#2a3f5f\"},\"marker\":{\"line\":{\"color\":\"#E5ECF6\",\"width\":0.5},\"pattern\":{\"fillmode\":\"overlay\",\"size\":10,\"solidity\":0.2}},\"type\":\"bar\"}],\"scattergeo\":[{\"type\":\"scattergeo\",\"marker\":{\"colorbar\":{\"outlinewidth\":0,\"ticks\":\"\"}}}],\"scatterpolar\":[{\"type\":\"scatterpolar\",\"marker\":{\"colorbar\":{\"outlinewidth\":0,\"ticks\":\"\"}}}],\"histogram\":[{\"marker\":{\"pattern\":{\"fillmode\":\"overlay\",\"size\":10,\"solidity\":0.2}},\"type\":\"histogram\"}],\"scattergl\":[{\"type\":\"scattergl\",\"marker\":{\"colorbar\":{\"outlinewidth\":0,\"ticks\":\"\"}}}],\"scatter3d\":[{\"type\":\"scatter3d\",\"line\":{\"colorbar\":{\"outlinewidth\":0,\"ticks\":\"\"}},\"marker\":{\"colorbar\":{\"outlinewidth\":0,\"ticks\":\"\"}}}],\"scattermapbox\":[{\"type\":\"scattermapbox\",\"marker\":{\"colorbar\":{\"outlinewidth\":0,\"ticks\":\"\"}}}],\"scatterternary\":[{\"type\":\"scatterternary\",\"marker\":{\"colorbar\":{\"outlinewidth\":0,\"ticks\":\"\"}}}],\"scattercarpet\":[{\"type\":\"scattercarpet\",\"marker\":{\"colorbar\":{\"outlinewidth\":0,\"ticks\":\"\"}}}],\"carpet\":[{\"aaxis\":{\"endlinecolor\":\"#2a3f5f\",\"gridcolor\":\"white\",\"linecolor\":\"white\",\"minorgridcolor\":\"white\",\"startlinecolor\":\"#2a3f5f\"},\"baxis\":{\"endlinecolor\":\"#2a3f5f\",\"gridcolor\":\"white\",\"linecolor\":\"white\",\"minorgridcolor\":\"white\",\"startlinecolor\":\"#2a3f5f\"},\"type\":\"carpet\"}],\"table\":[{\"cells\":{\"fill\":{\"color\":\"#EBF0F8\"},\"line\":{\"color\":\"white\"}},\"header\":{\"fill\":{\"color\":\"#C8D4E3\"},\"line\":{\"color\":\"white\"}},\"type\":\"table\"}],\"barpolar\":[{\"marker\":{\"line\":{\"color\":\"#E5ECF6\",\"width\":0.5},\"pattern\":{\"fillmode\":\"overlay\",\"size\":10,\"solidity\":0.2}},\"type\":\"barpolar\"}],\"pie\":[{\"automargin\":true,\"type\":\"pie\"}]},\"layout\":{\"autotypenumbers\":\"strict\",\"colorway\":[\"#636efa\",\"#EF553B\",\"#00cc96\",\"#ab63fa\",\"#FFA15A\",\"#19d3f3\",\"#FF6692\",\"#B6E880\",\"#FF97FF\",\"#FECB52\"],\"font\":{\"color\":\"#2a3f5f\"},\"hovermode\":\"closest\",\"hoverlabel\":{\"align\":\"left\"},\"paper_bgcolor\":\"white\",\"plot_bgcolor\":\"#E5ECF6\",\"polar\":{\"bgcolor\":\"#E5ECF6\",\"angularaxis\":{\"gridcolor\":\"white\",\"linecolor\":\"white\",\"ticks\":\"\"},\"radialaxis\":{\"gridcolor\":\"white\",\"linecolor\":\"white\",\"ticks\":\"\"}},\"ternary\":{\"bgcolor\":\"#E5ECF6\",\"aaxis\":{\"gridcolor\":\"white\",\"linecolor\":\"white\",\"ticks\":\"\"},\"baxis\":{\"gridcolor\":\"white\",\"linecolor\":\"white\",\"ticks\":\"\"},\"caxis\":{\"gridcolor\":\"white\",\"linecolor\":\"white\",\"ticks\":\"\"}},\"coloraxis\":{\"colorbar\":{\"outlinewidth\":0,\"ticks\":\"\"}},\"colorscale\":{\"sequential\":[[0.0,\"#0d0887\"],[0.1111111111111111,\"#46039f\"],[0.2222222222222222,\"#7201a8\"],[0.3333333333333333,\"#9c179e\"],[0.4444444444444444,\"#bd3786\"],[0.5555555555555556,\"#d8576b\"],[0.6666666666666666,\"#ed7953\"],[0.7777777777777778,\"#fb9f3a\"],[0.8888888888888888,\"#fdca26\"],[1.0,\"#f0f921\"]],\"sequentialminus\":[[0.0,\"#0d0887\"],[0.1111111111111111,\"#46039f\"],[0.2222222222222222,\"#7201a8\"],[0.3333333333333333,\"#9c179e\"],[0.4444444444444444,\"#bd3786\"],[0.5555555555555556,\"#d8576b\"],[0.6666666666666666,\"#ed7953\"],[0.7777777777777778,\"#fb9f3a\"],[0.8888888888888888,\"#fdca26\"],[1.0,\"#f0f921\"]],\"diverging\":[[0,\"#8e0152\"],[0.1,\"#c51b7d\"],[0.2,\"#de77ae\"],[0.3,\"#f1b6da\"],[0.4,\"#fde0ef\"],[0.5,\"#f7f7f7\"],[0.6,\"#e6f5d0\"],[0.7,\"#b8e186\"],[0.8,\"#7fbc41\"],[0.9,\"#4d9221\"],[1,\"#276419\"]]},\"xaxis\":{\"gridcolor\":\"white\",\"linecolor\":\"white\",\"ticks\":\"\",\"title\":{\"standoff\":15},\"zerolinecolor\":\"white\",\"automargin\":true,\"zerolinewidth\":2},\"yaxis\":{\"gridcolor\":\"white\",\"linecolor\":\"white\",\"ticks\":\"\",\"title\":{\"standoff\":15},\"zerolinecolor\":\"white\",\"automargin\":true,\"zerolinewidth\":2},\"scene\":{\"xaxis\":{\"backgroundcolor\":\"#E5ECF6\",\"gridcolor\":\"white\",\"linecolor\":\"white\",\"showbackground\":true,\"ticks\":\"\",\"zerolinecolor\":\"white\",\"gridwidth\":2},\"yaxis\":{\"backgroundcolor\":\"#E5ECF6\",\"gridcolor\":\"white\",\"linecolor\":\"white\",\"showbackground\":true,\"ticks\":\"\",\"zerolinecolor\":\"white\",\"gridwidth\":2},\"zaxis\":{\"backgroundcolor\":\"#E5ECF6\",\"gridcolor\":\"white\",\"linecolor\":\"white\",\"showbackground\":true,\"ticks\":\"\",\"zerolinecolor\":\"white\",\"gridwidth\":2}},\"shapedefaults\":{\"line\":{\"color\":\"#2a3f5f\"}},\"annotationdefaults\":{\"arrowcolor\":\"#2a3f5f\",\"arrowhead\":0,\"arrowwidth\":1},\"geo\":{\"bgcolor\":\"white\",\"landcolor\":\"#E5ECF6\",\"subunitcolor\":\"white\",\"showland\":true,\"showlakes\":true,\"lakecolor\":\"white\"},\"title\":{\"x\":0.05},\"mapbox\":{\"style\":\"light\"}}},\"xaxis\":{\"rangeslider\":{\"visible\":false}}},                        {\"responsive\": true}                    ).then(function(){\n",
       "                            \n",
       "var gd = document.getElementById('4ab0eefe-fdcf-4a79-8d26-876955ddf710');\n",
       "var x = new MutationObserver(function (mutations, observer) {{\n",
       "        var display = window.getComputedStyle(gd).display;\n",
       "        if (!display || display === 'none') {{\n",
       "            console.log([gd, 'removed!']);\n",
       "            Plotly.purge(gd);\n",
       "            observer.disconnect();\n",
       "        }}\n",
       "}});\n",
       "\n",
       "// Listen for the removal of the full notebook cells\n",
       "var notebookContainer = gd.closest('#notebook-container');\n",
       "if (notebookContainer) {{\n",
       "    x.observe(notebookContainer, {childList: true});\n",
       "}}\n",
       "\n",
       "// Listen for the clearing of the current output cell\n",
       "var outputEl = gd.closest('.output');\n",
       "if (outputEl) {{\n",
       "    x.observe(outputEl, {childList: true});\n",
       "}}\n",
       "\n",
       "                        })                };                });            </script>        </div>"
      ]
     },
     "metadata": {},
     "output_type": "display_data"
    },
    {
     "name": "stdout",
     "output_type": "stream",
     "text": [
      "3MINDIA\n"
     ]
    },
    {
     "data": {
      "application/vnd.plotly.v1+json": {
       "config": {
        "plotlyServerURL": "https://plot.ly"
       },
       "data": [
        {
         "close": [
          37068.55,
          37965.45,
          37857.1,
          39294.7,
          40020.6
         ],
         "high": [
          37248,
          38258.45,
          37998,
          39398.45,
          40181
         ],
         "low": [
          36540,
          37093,
          37050,
          38370,
          39115.8
         ],
         "open": [
          36540,
          37300,
          37350.6,
          38629,
          39294.7
         ],
         "type": "candlestick",
         "x": [
          "18-Jun-2024",
          "21-Jun-2024",
          "01-Jul-2024",
          "08-Jul-2024",
          "09-Jul-2024"
         ]
        }
       ],
       "layout": {
        "template": {
         "data": {
          "bar": [
           {
            "error_x": {
             "color": "#2a3f5f"
            },
            "error_y": {
             "color": "#2a3f5f"
            },
            "marker": {
             "line": {
              "color": "#E5ECF6",
              "width": 0.5
             },
             "pattern": {
              "fillmode": "overlay",
              "size": 10,
              "solidity": 0.2
             }
            },
            "type": "bar"
           }
          ],
          "barpolar": [
           {
            "marker": {
             "line": {
              "color": "#E5ECF6",
              "width": 0.5
             },
             "pattern": {
              "fillmode": "overlay",
              "size": 10,
              "solidity": 0.2
             }
            },
            "type": "barpolar"
           }
          ],
          "carpet": [
           {
            "aaxis": {
             "endlinecolor": "#2a3f5f",
             "gridcolor": "white",
             "linecolor": "white",
             "minorgridcolor": "white",
             "startlinecolor": "#2a3f5f"
            },
            "baxis": {
             "endlinecolor": "#2a3f5f",
             "gridcolor": "white",
             "linecolor": "white",
             "minorgridcolor": "white",
             "startlinecolor": "#2a3f5f"
            },
            "type": "carpet"
           }
          ],
          "choropleth": [
           {
            "colorbar": {
             "outlinewidth": 0,
             "ticks": ""
            },
            "type": "choropleth"
           }
          ],
          "contour": [
           {
            "colorbar": {
             "outlinewidth": 0,
             "ticks": ""
            },
            "colorscale": [
             [
              0,
              "#0d0887"
             ],
             [
              0.1111111111111111,
              "#46039f"
             ],
             [
              0.2222222222222222,
              "#7201a8"
             ],
             [
              0.3333333333333333,
              "#9c179e"
             ],
             [
              0.4444444444444444,
              "#bd3786"
             ],
             [
              0.5555555555555556,
              "#d8576b"
             ],
             [
              0.6666666666666666,
              "#ed7953"
             ],
             [
              0.7777777777777778,
              "#fb9f3a"
             ],
             [
              0.8888888888888888,
              "#fdca26"
             ],
             [
              1,
              "#f0f921"
             ]
            ],
            "type": "contour"
           }
          ],
          "contourcarpet": [
           {
            "colorbar": {
             "outlinewidth": 0,
             "ticks": ""
            },
            "type": "contourcarpet"
           }
          ],
          "heatmap": [
           {
            "colorbar": {
             "outlinewidth": 0,
             "ticks": ""
            },
            "colorscale": [
             [
              0,
              "#0d0887"
             ],
             [
              0.1111111111111111,
              "#46039f"
             ],
             [
              0.2222222222222222,
              "#7201a8"
             ],
             [
              0.3333333333333333,
              "#9c179e"
             ],
             [
              0.4444444444444444,
              "#bd3786"
             ],
             [
              0.5555555555555556,
              "#d8576b"
             ],
             [
              0.6666666666666666,
              "#ed7953"
             ],
             [
              0.7777777777777778,
              "#fb9f3a"
             ],
             [
              0.8888888888888888,
              "#fdca26"
             ],
             [
              1,
              "#f0f921"
             ]
            ],
            "type": "heatmap"
           }
          ],
          "heatmapgl": [
           {
            "colorbar": {
             "outlinewidth": 0,
             "ticks": ""
            },
            "colorscale": [
             [
              0,
              "#0d0887"
             ],
             [
              0.1111111111111111,
              "#46039f"
             ],
             [
              0.2222222222222222,
              "#7201a8"
             ],
             [
              0.3333333333333333,
              "#9c179e"
             ],
             [
              0.4444444444444444,
              "#bd3786"
             ],
             [
              0.5555555555555556,
              "#d8576b"
             ],
             [
              0.6666666666666666,
              "#ed7953"
             ],
             [
              0.7777777777777778,
              "#fb9f3a"
             ],
             [
              0.8888888888888888,
              "#fdca26"
             ],
             [
              1,
              "#f0f921"
             ]
            ],
            "type": "heatmapgl"
           }
          ],
          "histogram": [
           {
            "marker": {
             "pattern": {
              "fillmode": "overlay",
              "size": 10,
              "solidity": 0.2
             }
            },
            "type": "histogram"
           }
          ],
          "histogram2d": [
           {
            "colorbar": {
             "outlinewidth": 0,
             "ticks": ""
            },
            "colorscale": [
             [
              0,
              "#0d0887"
             ],
             [
              0.1111111111111111,
              "#46039f"
             ],
             [
              0.2222222222222222,
              "#7201a8"
             ],
             [
              0.3333333333333333,
              "#9c179e"
             ],
             [
              0.4444444444444444,
              "#bd3786"
             ],
             [
              0.5555555555555556,
              "#d8576b"
             ],
             [
              0.6666666666666666,
              "#ed7953"
             ],
             [
              0.7777777777777778,
              "#fb9f3a"
             ],
             [
              0.8888888888888888,
              "#fdca26"
             ],
             [
              1,
              "#f0f921"
             ]
            ],
            "type": "histogram2d"
           }
          ],
          "histogram2dcontour": [
           {
            "colorbar": {
             "outlinewidth": 0,
             "ticks": ""
            },
            "colorscale": [
             [
              0,
              "#0d0887"
             ],
             [
              0.1111111111111111,
              "#46039f"
             ],
             [
              0.2222222222222222,
              "#7201a8"
             ],
             [
              0.3333333333333333,
              "#9c179e"
             ],
             [
              0.4444444444444444,
              "#bd3786"
             ],
             [
              0.5555555555555556,
              "#d8576b"
             ],
             [
              0.6666666666666666,
              "#ed7953"
             ],
             [
              0.7777777777777778,
              "#fb9f3a"
             ],
             [
              0.8888888888888888,
              "#fdca26"
             ],
             [
              1,
              "#f0f921"
             ]
            ],
            "type": "histogram2dcontour"
           }
          ],
          "mesh3d": [
           {
            "colorbar": {
             "outlinewidth": 0,
             "ticks": ""
            },
            "type": "mesh3d"
           }
          ],
          "parcoords": [
           {
            "line": {
             "colorbar": {
              "outlinewidth": 0,
              "ticks": ""
             }
            },
            "type": "parcoords"
           }
          ],
          "pie": [
           {
            "automargin": true,
            "type": "pie"
           }
          ],
          "scatter": [
           {
            "fillpattern": {
             "fillmode": "overlay",
             "size": 10,
             "solidity": 0.2
            },
            "type": "scatter"
           }
          ],
          "scatter3d": [
           {
            "line": {
             "colorbar": {
              "outlinewidth": 0,
              "ticks": ""
             }
            },
            "marker": {
             "colorbar": {
              "outlinewidth": 0,
              "ticks": ""
             }
            },
            "type": "scatter3d"
           }
          ],
          "scattercarpet": [
           {
            "marker": {
             "colorbar": {
              "outlinewidth": 0,
              "ticks": ""
             }
            },
            "type": "scattercarpet"
           }
          ],
          "scattergeo": [
           {
            "marker": {
             "colorbar": {
              "outlinewidth": 0,
              "ticks": ""
             }
            },
            "type": "scattergeo"
           }
          ],
          "scattergl": [
           {
            "marker": {
             "colorbar": {
              "outlinewidth": 0,
              "ticks": ""
             }
            },
            "type": "scattergl"
           }
          ],
          "scattermapbox": [
           {
            "marker": {
             "colorbar": {
              "outlinewidth": 0,
              "ticks": ""
             }
            },
            "type": "scattermapbox"
           }
          ],
          "scatterpolar": [
           {
            "marker": {
             "colorbar": {
              "outlinewidth": 0,
              "ticks": ""
             }
            },
            "type": "scatterpolar"
           }
          ],
          "scatterpolargl": [
           {
            "marker": {
             "colorbar": {
              "outlinewidth": 0,
              "ticks": ""
             }
            },
            "type": "scatterpolargl"
           }
          ],
          "scatterternary": [
           {
            "marker": {
             "colorbar": {
              "outlinewidth": 0,
              "ticks": ""
             }
            },
            "type": "scatterternary"
           }
          ],
          "surface": [
           {
            "colorbar": {
             "outlinewidth": 0,
             "ticks": ""
            },
            "colorscale": [
             [
              0,
              "#0d0887"
             ],
             [
              0.1111111111111111,
              "#46039f"
             ],
             [
              0.2222222222222222,
              "#7201a8"
             ],
             [
              0.3333333333333333,
              "#9c179e"
             ],
             [
              0.4444444444444444,
              "#bd3786"
             ],
             [
              0.5555555555555556,
              "#d8576b"
             ],
             [
              0.6666666666666666,
              "#ed7953"
             ],
             [
              0.7777777777777778,
              "#fb9f3a"
             ],
             [
              0.8888888888888888,
              "#fdca26"
             ],
             [
              1,
              "#f0f921"
             ]
            ],
            "type": "surface"
           }
          ],
          "table": [
           {
            "cells": {
             "fill": {
              "color": "#EBF0F8"
             },
             "line": {
              "color": "white"
             }
            },
            "header": {
             "fill": {
              "color": "#C8D4E3"
             },
             "line": {
              "color": "white"
             }
            },
            "type": "table"
           }
          ]
         },
         "layout": {
          "annotationdefaults": {
           "arrowcolor": "#2a3f5f",
           "arrowhead": 0,
           "arrowwidth": 1
          },
          "autotypenumbers": "strict",
          "coloraxis": {
           "colorbar": {
            "outlinewidth": 0,
            "ticks": ""
           }
          },
          "colorscale": {
           "diverging": [
            [
             0,
             "#8e0152"
            ],
            [
             0.1,
             "#c51b7d"
            ],
            [
             0.2,
             "#de77ae"
            ],
            [
             0.3,
             "#f1b6da"
            ],
            [
             0.4,
             "#fde0ef"
            ],
            [
             0.5,
             "#f7f7f7"
            ],
            [
             0.6,
             "#e6f5d0"
            ],
            [
             0.7,
             "#b8e186"
            ],
            [
             0.8,
             "#7fbc41"
            ],
            [
             0.9,
             "#4d9221"
            ],
            [
             1,
             "#276419"
            ]
           ],
           "sequential": [
            [
             0,
             "#0d0887"
            ],
            [
             0.1111111111111111,
             "#46039f"
            ],
            [
             0.2222222222222222,
             "#7201a8"
            ],
            [
             0.3333333333333333,
             "#9c179e"
            ],
            [
             0.4444444444444444,
             "#bd3786"
            ],
            [
             0.5555555555555556,
             "#d8576b"
            ],
            [
             0.6666666666666666,
             "#ed7953"
            ],
            [
             0.7777777777777778,
             "#fb9f3a"
            ],
            [
             0.8888888888888888,
             "#fdca26"
            ],
            [
             1,
             "#f0f921"
            ]
           ],
           "sequentialminus": [
            [
             0,
             "#0d0887"
            ],
            [
             0.1111111111111111,
             "#46039f"
            ],
            [
             0.2222222222222222,
             "#7201a8"
            ],
            [
             0.3333333333333333,
             "#9c179e"
            ],
            [
             0.4444444444444444,
             "#bd3786"
            ],
            [
             0.5555555555555556,
             "#d8576b"
            ],
            [
             0.6666666666666666,
             "#ed7953"
            ],
            [
             0.7777777777777778,
             "#fb9f3a"
            ],
            [
             0.8888888888888888,
             "#fdca26"
            ],
            [
             1,
             "#f0f921"
            ]
           ]
          },
          "colorway": [
           "#636efa",
           "#EF553B",
           "#00cc96",
           "#ab63fa",
           "#FFA15A",
           "#19d3f3",
           "#FF6692",
           "#B6E880",
           "#FF97FF",
           "#FECB52"
          ],
          "font": {
           "color": "#2a3f5f"
          },
          "geo": {
           "bgcolor": "white",
           "lakecolor": "white",
           "landcolor": "#E5ECF6",
           "showlakes": true,
           "showland": true,
           "subunitcolor": "white"
          },
          "hoverlabel": {
           "align": "left"
          },
          "hovermode": "closest",
          "mapbox": {
           "style": "light"
          },
          "paper_bgcolor": "white",
          "plot_bgcolor": "#E5ECF6",
          "polar": {
           "angularaxis": {
            "gridcolor": "white",
            "linecolor": "white",
            "ticks": ""
           },
           "bgcolor": "#E5ECF6",
           "radialaxis": {
            "gridcolor": "white",
            "linecolor": "white",
            "ticks": ""
           }
          },
          "scene": {
           "xaxis": {
            "backgroundcolor": "#E5ECF6",
            "gridcolor": "white",
            "gridwidth": 2,
            "linecolor": "white",
            "showbackground": true,
            "ticks": "",
            "zerolinecolor": "white"
           },
           "yaxis": {
            "backgroundcolor": "#E5ECF6",
            "gridcolor": "white",
            "gridwidth": 2,
            "linecolor": "white",
            "showbackground": true,
            "ticks": "",
            "zerolinecolor": "white"
           },
           "zaxis": {
            "backgroundcolor": "#E5ECF6",
            "gridcolor": "white",
            "gridwidth": 2,
            "linecolor": "white",
            "showbackground": true,
            "ticks": "",
            "zerolinecolor": "white"
           }
          },
          "shapedefaults": {
           "line": {
            "color": "#2a3f5f"
           }
          },
          "ternary": {
           "aaxis": {
            "gridcolor": "white",
            "linecolor": "white",
            "ticks": ""
           },
           "baxis": {
            "gridcolor": "white",
            "linecolor": "white",
            "ticks": ""
           },
           "bgcolor": "#E5ECF6",
           "caxis": {
            "gridcolor": "white",
            "linecolor": "white",
            "ticks": ""
           }
          },
          "title": {
           "x": 0.05
          },
          "xaxis": {
           "automargin": true,
           "gridcolor": "white",
           "linecolor": "white",
           "ticks": "",
           "title": {
            "standoff": 15
           },
           "zerolinecolor": "white",
           "zerolinewidth": 2
          },
          "yaxis": {
           "automargin": true,
           "gridcolor": "white",
           "linecolor": "white",
           "ticks": "",
           "title": {
            "standoff": 15
           },
           "zerolinecolor": "white",
           "zerolinewidth": 2
          }
         }
        },
        "xaxis": {
         "rangeslider": {
          "visible": false
         }
        }
       }
      },
      "text/html": [
       "<div>                            <div id=\"6540b62e-376d-4157-893e-fab8608a09bb\" class=\"plotly-graph-div\" style=\"height:525px; width:100%;\"></div>            <script type=\"text/javascript\">                require([\"plotly\"], function(Plotly) {                    window.PLOTLYENV=window.PLOTLYENV || {};                                    if (document.getElementById(\"6540b62e-376d-4157-893e-fab8608a09bb\")) {                    Plotly.newPlot(                        \"6540b62e-376d-4157-893e-fab8608a09bb\",                        [{\"close\":[37068.55,37965.45,37857.1,39294.7,40020.6],\"high\":[37248.0,38258.45,37998.0,39398.45,40181.0],\"low\":[36540.0,37093.0,37050.0,38370.0,39115.8],\"open\":[36540.0,37300.0,37350.6,38629.0,39294.7],\"x\":[\"18-Jun-2024\",\"21-Jun-2024\",\"01-Jul-2024\",\"08-Jul-2024\",\"09-Jul-2024\"],\"type\":\"candlestick\"}],                        {\"template\":{\"data\":{\"histogram2dcontour\":[{\"type\":\"histogram2dcontour\",\"colorbar\":{\"outlinewidth\":0,\"ticks\":\"\"},\"colorscale\":[[0.0,\"#0d0887\"],[0.1111111111111111,\"#46039f\"],[0.2222222222222222,\"#7201a8\"],[0.3333333333333333,\"#9c179e\"],[0.4444444444444444,\"#bd3786\"],[0.5555555555555556,\"#d8576b\"],[0.6666666666666666,\"#ed7953\"],[0.7777777777777778,\"#fb9f3a\"],[0.8888888888888888,\"#fdca26\"],[1.0,\"#f0f921\"]]}],\"choropleth\":[{\"type\":\"choropleth\",\"colorbar\":{\"outlinewidth\":0,\"ticks\":\"\"}}],\"histogram2d\":[{\"type\":\"histogram2d\",\"colorbar\":{\"outlinewidth\":0,\"ticks\":\"\"},\"colorscale\":[[0.0,\"#0d0887\"],[0.1111111111111111,\"#46039f\"],[0.2222222222222222,\"#7201a8\"],[0.3333333333333333,\"#9c179e\"],[0.4444444444444444,\"#bd3786\"],[0.5555555555555556,\"#d8576b\"],[0.6666666666666666,\"#ed7953\"],[0.7777777777777778,\"#fb9f3a\"],[0.8888888888888888,\"#fdca26\"],[1.0,\"#f0f921\"]]}],\"heatmap\":[{\"type\":\"heatmap\",\"colorbar\":{\"outlinewidth\":0,\"ticks\":\"\"},\"colorscale\":[[0.0,\"#0d0887\"],[0.1111111111111111,\"#46039f\"],[0.2222222222222222,\"#7201a8\"],[0.3333333333333333,\"#9c179e\"],[0.4444444444444444,\"#bd3786\"],[0.5555555555555556,\"#d8576b\"],[0.6666666666666666,\"#ed7953\"],[0.7777777777777778,\"#fb9f3a\"],[0.8888888888888888,\"#fdca26\"],[1.0,\"#f0f921\"]]}],\"heatmapgl\":[{\"type\":\"heatmapgl\",\"colorbar\":{\"outlinewidth\":0,\"ticks\":\"\"},\"colorscale\":[[0.0,\"#0d0887\"],[0.1111111111111111,\"#46039f\"],[0.2222222222222222,\"#7201a8\"],[0.3333333333333333,\"#9c179e\"],[0.4444444444444444,\"#bd3786\"],[0.5555555555555556,\"#d8576b\"],[0.6666666666666666,\"#ed7953\"],[0.7777777777777778,\"#fb9f3a\"],[0.8888888888888888,\"#fdca26\"],[1.0,\"#f0f921\"]]}],\"contourcarpet\":[{\"type\":\"contourcarpet\",\"colorbar\":{\"outlinewidth\":0,\"ticks\":\"\"}}],\"contour\":[{\"type\":\"contour\",\"colorbar\":{\"outlinewidth\":0,\"ticks\":\"\"},\"colorscale\":[[0.0,\"#0d0887\"],[0.1111111111111111,\"#46039f\"],[0.2222222222222222,\"#7201a8\"],[0.3333333333333333,\"#9c179e\"],[0.4444444444444444,\"#bd3786\"],[0.5555555555555556,\"#d8576b\"],[0.6666666666666666,\"#ed7953\"],[0.7777777777777778,\"#fb9f3a\"],[0.8888888888888888,\"#fdca26\"],[1.0,\"#f0f921\"]]}],\"surface\":[{\"type\":\"surface\",\"colorbar\":{\"outlinewidth\":0,\"ticks\":\"\"},\"colorscale\":[[0.0,\"#0d0887\"],[0.1111111111111111,\"#46039f\"],[0.2222222222222222,\"#7201a8\"],[0.3333333333333333,\"#9c179e\"],[0.4444444444444444,\"#bd3786\"],[0.5555555555555556,\"#d8576b\"],[0.6666666666666666,\"#ed7953\"],[0.7777777777777778,\"#fb9f3a\"],[0.8888888888888888,\"#fdca26\"],[1.0,\"#f0f921\"]]}],\"mesh3d\":[{\"type\":\"mesh3d\",\"colorbar\":{\"outlinewidth\":0,\"ticks\":\"\"}}],\"scatter\":[{\"fillpattern\":{\"fillmode\":\"overlay\",\"size\":10,\"solidity\":0.2},\"type\":\"scatter\"}],\"parcoords\":[{\"type\":\"parcoords\",\"line\":{\"colorbar\":{\"outlinewidth\":0,\"ticks\":\"\"}}}],\"scatterpolargl\":[{\"type\":\"scatterpolargl\",\"marker\":{\"colorbar\":{\"outlinewidth\":0,\"ticks\":\"\"}}}],\"bar\":[{\"error_x\":{\"color\":\"#2a3f5f\"},\"error_y\":{\"color\":\"#2a3f5f\"},\"marker\":{\"line\":{\"color\":\"#E5ECF6\",\"width\":0.5},\"pattern\":{\"fillmode\":\"overlay\",\"size\":10,\"solidity\":0.2}},\"type\":\"bar\"}],\"scattergeo\":[{\"type\":\"scattergeo\",\"marker\":{\"colorbar\":{\"outlinewidth\":0,\"ticks\":\"\"}}}],\"scatterpolar\":[{\"type\":\"scatterpolar\",\"marker\":{\"colorbar\":{\"outlinewidth\":0,\"ticks\":\"\"}}}],\"histogram\":[{\"marker\":{\"pattern\":{\"fillmode\":\"overlay\",\"size\":10,\"solidity\":0.2}},\"type\":\"histogram\"}],\"scattergl\":[{\"type\":\"scattergl\",\"marker\":{\"colorbar\":{\"outlinewidth\":0,\"ticks\":\"\"}}}],\"scatter3d\":[{\"type\":\"scatter3d\",\"line\":{\"colorbar\":{\"outlinewidth\":0,\"ticks\":\"\"}},\"marker\":{\"colorbar\":{\"outlinewidth\":0,\"ticks\":\"\"}}}],\"scattermapbox\":[{\"type\":\"scattermapbox\",\"marker\":{\"colorbar\":{\"outlinewidth\":0,\"ticks\":\"\"}}}],\"scatterternary\":[{\"type\":\"scatterternary\",\"marker\":{\"colorbar\":{\"outlinewidth\":0,\"ticks\":\"\"}}}],\"scattercarpet\":[{\"type\":\"scattercarpet\",\"marker\":{\"colorbar\":{\"outlinewidth\":0,\"ticks\":\"\"}}}],\"carpet\":[{\"aaxis\":{\"endlinecolor\":\"#2a3f5f\",\"gridcolor\":\"white\",\"linecolor\":\"white\",\"minorgridcolor\":\"white\",\"startlinecolor\":\"#2a3f5f\"},\"baxis\":{\"endlinecolor\":\"#2a3f5f\",\"gridcolor\":\"white\",\"linecolor\":\"white\",\"minorgridcolor\":\"white\",\"startlinecolor\":\"#2a3f5f\"},\"type\":\"carpet\"}],\"table\":[{\"cells\":{\"fill\":{\"color\":\"#EBF0F8\"},\"line\":{\"color\":\"white\"}},\"header\":{\"fill\":{\"color\":\"#C8D4E3\"},\"line\":{\"color\":\"white\"}},\"type\":\"table\"}],\"barpolar\":[{\"marker\":{\"line\":{\"color\":\"#E5ECF6\",\"width\":0.5},\"pattern\":{\"fillmode\":\"overlay\",\"size\":10,\"solidity\":0.2}},\"type\":\"barpolar\"}],\"pie\":[{\"automargin\":true,\"type\":\"pie\"}]},\"layout\":{\"autotypenumbers\":\"strict\",\"colorway\":[\"#636efa\",\"#EF553B\",\"#00cc96\",\"#ab63fa\",\"#FFA15A\",\"#19d3f3\",\"#FF6692\",\"#B6E880\",\"#FF97FF\",\"#FECB52\"],\"font\":{\"color\":\"#2a3f5f\"},\"hovermode\":\"closest\",\"hoverlabel\":{\"align\":\"left\"},\"paper_bgcolor\":\"white\",\"plot_bgcolor\":\"#E5ECF6\",\"polar\":{\"bgcolor\":\"#E5ECF6\",\"angularaxis\":{\"gridcolor\":\"white\",\"linecolor\":\"white\",\"ticks\":\"\"},\"radialaxis\":{\"gridcolor\":\"white\",\"linecolor\":\"white\",\"ticks\":\"\"}},\"ternary\":{\"bgcolor\":\"#E5ECF6\",\"aaxis\":{\"gridcolor\":\"white\",\"linecolor\":\"white\",\"ticks\":\"\"},\"baxis\":{\"gridcolor\":\"white\",\"linecolor\":\"white\",\"ticks\":\"\"},\"caxis\":{\"gridcolor\":\"white\",\"linecolor\":\"white\",\"ticks\":\"\"}},\"coloraxis\":{\"colorbar\":{\"outlinewidth\":0,\"ticks\":\"\"}},\"colorscale\":{\"sequential\":[[0.0,\"#0d0887\"],[0.1111111111111111,\"#46039f\"],[0.2222222222222222,\"#7201a8\"],[0.3333333333333333,\"#9c179e\"],[0.4444444444444444,\"#bd3786\"],[0.5555555555555556,\"#d8576b\"],[0.6666666666666666,\"#ed7953\"],[0.7777777777777778,\"#fb9f3a\"],[0.8888888888888888,\"#fdca26\"],[1.0,\"#f0f921\"]],\"sequentialminus\":[[0.0,\"#0d0887\"],[0.1111111111111111,\"#46039f\"],[0.2222222222222222,\"#7201a8\"],[0.3333333333333333,\"#9c179e\"],[0.4444444444444444,\"#bd3786\"],[0.5555555555555556,\"#d8576b\"],[0.6666666666666666,\"#ed7953\"],[0.7777777777777778,\"#fb9f3a\"],[0.8888888888888888,\"#fdca26\"],[1.0,\"#f0f921\"]],\"diverging\":[[0,\"#8e0152\"],[0.1,\"#c51b7d\"],[0.2,\"#de77ae\"],[0.3,\"#f1b6da\"],[0.4,\"#fde0ef\"],[0.5,\"#f7f7f7\"],[0.6,\"#e6f5d0\"],[0.7,\"#b8e186\"],[0.8,\"#7fbc41\"],[0.9,\"#4d9221\"],[1,\"#276419\"]]},\"xaxis\":{\"gridcolor\":\"white\",\"linecolor\":\"white\",\"ticks\":\"\",\"title\":{\"standoff\":15},\"zerolinecolor\":\"white\",\"automargin\":true,\"zerolinewidth\":2},\"yaxis\":{\"gridcolor\":\"white\",\"linecolor\":\"white\",\"ticks\":\"\",\"title\":{\"standoff\":15},\"zerolinecolor\":\"white\",\"automargin\":true,\"zerolinewidth\":2},\"scene\":{\"xaxis\":{\"backgroundcolor\":\"#E5ECF6\",\"gridcolor\":\"white\",\"linecolor\":\"white\",\"showbackground\":true,\"ticks\":\"\",\"zerolinecolor\":\"white\",\"gridwidth\":2},\"yaxis\":{\"backgroundcolor\":\"#E5ECF6\",\"gridcolor\":\"white\",\"linecolor\":\"white\",\"showbackground\":true,\"ticks\":\"\",\"zerolinecolor\":\"white\",\"gridwidth\":2},\"zaxis\":{\"backgroundcolor\":\"#E5ECF6\",\"gridcolor\":\"white\",\"linecolor\":\"white\",\"showbackground\":true,\"ticks\":\"\",\"zerolinecolor\":\"white\",\"gridwidth\":2}},\"shapedefaults\":{\"line\":{\"color\":\"#2a3f5f\"}},\"annotationdefaults\":{\"arrowcolor\":\"#2a3f5f\",\"arrowhead\":0,\"arrowwidth\":1},\"geo\":{\"bgcolor\":\"white\",\"landcolor\":\"#E5ECF6\",\"subunitcolor\":\"white\",\"showland\":true,\"showlakes\":true,\"lakecolor\":\"white\"},\"title\":{\"x\":0.05},\"mapbox\":{\"style\":\"light\"}}},\"xaxis\":{\"rangeslider\":{\"visible\":false}}},                        {\"responsive\": true}                    ).then(function(){\n",
       "                            \n",
       "var gd = document.getElementById('6540b62e-376d-4157-893e-fab8608a09bb');\n",
       "var x = new MutationObserver(function (mutations, observer) {{\n",
       "        var display = window.getComputedStyle(gd).display;\n",
       "        if (!display || display === 'none') {{\n",
       "            console.log([gd, 'removed!']);\n",
       "            Plotly.purge(gd);\n",
       "            observer.disconnect();\n",
       "        }}\n",
       "}});\n",
       "\n",
       "// Listen for the removal of the full notebook cells\n",
       "var notebookContainer = gd.closest('#notebook-container');\n",
       "if (notebookContainer) {{\n",
       "    x.observe(notebookContainer, {childList: true});\n",
       "}}\n",
       "\n",
       "// Listen for the clearing of the current output cell\n",
       "var outputEl = gd.closest('.output');\n",
       "if (outputEl) {{\n",
       "    x.observe(outputEl, {childList: true});\n",
       "}}\n",
       "\n",
       "                        })                };                });            </script>        </div>"
      ]
     },
     "metadata": {},
     "output_type": "display_data"
    }
   ],
   "source": [
    "import plotly.graph_objects as go\n",
    "\n",
    "from datetime import datetime\n",
    "\n",
    "for symbol in symbol_list:\n",
    "    data_to_plot = master_data[master_data['Symbol']==symbol]\n",
    "    data_to_plot = data_to_plot[data_to_plot['bullish_murubuzo']==True]\n",
    "    print(symbol)\n",
    "    fig = go.Figure(data=[go.Candlestick(x=data_to_plot['Date'],\n",
    "                    open=data_to_plot['OpenPrice'],\n",
    "                    high=data_to_plot['HighPrice'],\n",
    "                    low=data_to_plot['LowPrice'],\n",
    "                    close=data_to_plot['ClosePrice'])])\n",
    "    fig.update_layout(xaxis_rangeslider_visible=False)\n",
    "    fig.show()\n"
   ]
  },
  {
   "cell_type": "code",
   "execution_count": null,
   "metadata": {},
   "outputs": [],
   "source": [
    "#TODO :  Write test cases"
   ]
  },
  {
   "cell_type": "markdown",
   "metadata": {},
   "source": [
    "Candlesticks_pattern\n",
    "1. Single Candlestick pattern\n",
    "    - Marubuzo -> Open=Low, High = Close (0.5% relaxation)\n",
    "    - Dojis -> Open = Close (0.5-1% relaxation)\n",
    "    - Paper_umbrella ->  length of lower shadow > length of real body\n",
    "    \n",
    "    "
   ]
  }
 ],
 "metadata": {
  "kernelspec": {
   "display_name": "Python 3",
   "language": "python",
   "name": "python3"
  },
  "language_info": {
   "codemirror_mode": {
    "name": "ipython",
    "version": 3
   },
   "file_extension": ".py",
   "mimetype": "text/x-python",
   "name": "python",
   "nbconvert_exporter": "python",
   "pygments_lexer": "ipython3",
   "version": "3.12.1"
  }
 },
 "nbformat": 4,
 "nbformat_minor": 2
}
