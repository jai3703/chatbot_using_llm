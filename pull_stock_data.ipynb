{
 "cells": [
  {
   "cell_type": "code",
   "execution_count": 16,
   "metadata": {},
   "outputs": [],
   "source": [
    "from nselib import capital_market\n",
    "import pandas as pd\n",
    "import warnings\n",
    "warnings.filterwarnings(\"ignore\")\n",
    "import plotly.express as px"
   ]
  },
  {
   "cell_type": "code",
   "execution_count": 17,
   "metadata": {},
   "outputs": [
    {
     "data": {
      "text/plain": [
       "['20MICRONS',\n",
       " '21STCENMGM',\n",
       " '360ONE',\n",
       " '3IINFOLTD',\n",
       " '3MINDIA',\n",
       " '3PLAND',\n",
       " '5PAISA',\n",
       " '63MOONS',\n",
       " 'A2ZINFRA',\n",
       " 'AAATECH',\n",
       " 'AADHARHFC',\n",
       " 'AAKASH',\n",
       " 'AAREYDRUGS',\n",
       " 'AARON',\n",
       " 'AARTECH',\n",
       " 'AARTIDRUGS',\n",
       " 'AARTIIND',\n",
       " 'AARTIPHARM',\n",
       " 'AARTISURF',\n",
       " 'AARVEEDEN',\n",
       " 'AARVI',\n",
       " 'AAVAS',\n",
       " 'ABAN',\n",
       " 'ABB',\n",
       " 'ABBOTINDIA',\n",
       " 'ABCAPITAL',\n",
       " 'ABDL',\n",
       " 'ABFRL',\n",
       " 'ABMINTLLTD',\n",
       " 'ABSLAMC',\n",
       " 'ACC',\n",
       " 'ACCELYA',\n",
       " 'ACCURACY',\n",
       " 'ACE',\n",
       " 'ACEINTEG',\n",
       " 'ACI',\n",
       " 'ACL',\n",
       " 'ACLGATI',\n",
       " 'ADANIENSOL',\n",
       " 'ADANIENT',\n",
       " 'ADANIGREEN',\n",
       " 'ADANIPORTS',\n",
       " 'ADANIPOWER',\n",
       " 'ADFFOODS',\n",
       " 'ADL',\n",
       " 'ADORWELD',\n",
       " 'ADROITINFO',\n",
       " 'ADSL',\n",
       " 'ADVANIHOTR',\n",
       " 'ADVENZYMES',\n",
       " 'AEGISLOG',\n",
       " 'AEROFLEX',\n",
       " 'AETHER',\n",
       " 'AFFLE',\n",
       " 'AFIL',\n",
       " 'AGARIND',\n",
       " 'AGI',\n",
       " 'AGIIL',\n",
       " 'AGRITECH',\n",
       " 'AGROPHOS',\n",
       " 'AGSTRA',\n",
       " 'AHL',\n",
       " 'AHLADA',\n",
       " 'AHLEAST',\n",
       " 'AHLUCONT',\n",
       " 'AIAENG',\n",
       " 'AIIL',\n",
       " 'AIRAN',\n",
       " 'AIROLAM',\n",
       " 'AJANTPHARM',\n",
       " 'AJMERA',\n",
       " 'AJOONI',\n",
       " 'AKASH',\n",
       " 'AKG',\n",
       " 'AKI',\n",
       " 'AKSH-RE',\n",
       " 'AKSHAR',\n",
       " 'AKSHARCHEM',\n",
       " 'AKSHOPTFBR',\n",
       " 'AKUMS',\n",
       " 'AKZOINDIA',\n",
       " 'ALANKIT',\n",
       " 'ALBERTDAVD',\n",
       " 'ALEMBICLTD',\n",
       " 'ALICON',\n",
       " 'ALKALI',\n",
       " 'ALKEM',\n",
       " 'ALKYLAMINE',\n",
       " 'ALLCARGO',\n",
       " 'ALLSEC',\n",
       " 'ALMONDZ',\n",
       " 'ALOKINDS',\n",
       " 'ALPA',\n",
       " 'ALPHAGEO',\n",
       " 'ALPSINDUS',\n",
       " 'AMBER',\n",
       " 'AMBICAAGAR',\n",
       " 'AMBIKCO',\n",
       " 'AMBUJACEM',\n",
       " 'AMDIND',\n",
       " 'AMIORG',\n",
       " 'AMJLAND',\n",
       " 'AMNPLST',\n",
       " 'AMRUTANJAN',\n",
       " 'ANANDRATHI',\n",
       " 'ANANTRAJ',\n",
       " 'ANDHRAPAP',\n",
       " 'ANDHRSUGAR',\n",
       " 'ANGELONE',\n",
       " 'ANIKINDS',\n",
       " 'ANMOL',\n",
       " 'ANSALAPI',\n",
       " 'ANTGRAPHIC',\n",
       " 'ANUP',\n",
       " 'ANURAS',\n",
       " 'APARINDS',\n",
       " 'APCL',\n",
       " 'APCOTEXIND',\n",
       " 'APEX',\n",
       " 'APLAPOLLO',\n",
       " 'APLLTD',\n",
       " 'APOLLO',\n",
       " 'APOLLOHOSP',\n",
       " 'APOLLOPIPE',\n",
       " 'APOLLOTYRE',\n",
       " 'APOLSINHOT',\n",
       " 'APTECHT',\n",
       " 'APTUS',\n",
       " 'ARCHIDPLY',\n",
       " 'ARCHIES',\n",
       " 'ARE&M',\n",
       " 'ARENTERP',\n",
       " 'ARIES',\n",
       " 'ARIHANTCAP',\n",
       " 'ARIHANTSUP',\n",
       " 'ARMANFIN',\n",
       " 'AROGRANITE',\n",
       " 'ARROWGREEN',\n",
       " 'ARSSINFRA',\n",
       " 'ARTEMISMED',\n",
       " 'ARTNIRMAN',\n",
       " 'ARVEE',\n",
       " 'ARVIND',\n",
       " 'ARVINDFASN',\n",
       " 'ARVSMART',\n",
       " 'ASAHIINDIA',\n",
       " 'ASAHISONG',\n",
       " 'ASAL',\n",
       " 'ASALCBR',\n",
       " 'ASHAPURMIN',\n",
       " 'ASHIANA',\n",
       " 'ASHIMASYN',\n",
       " 'ASHOKA',\n",
       " 'ASHOKAMET',\n",
       " 'ASHOKLEY',\n",
       " 'ASIANENE',\n",
       " 'ASIANHOTNR',\n",
       " 'ASIANPAINT',\n",
       " 'ASIANTILES',\n",
       " 'ASKAUTOLTD',\n",
       " 'ASMS',\n",
       " 'ASPINWALL',\n",
       " 'ASTEC',\n",
       " 'ASTERDM',\n",
       " 'ASTRAL',\n",
       " 'ASTRAMICRO',\n",
       " 'ASTRAZEN',\n",
       " 'ASTRON',\n",
       " 'ATALREAL',\n",
       " 'ATAM',\n",
       " 'ATFL',\n",
       " 'ATGL',\n",
       " 'ATL',\n",
       " 'ATLANTAA',\n",
       " 'ATUL',\n",
       " 'ATULAUTO',\n",
       " 'AUBANK',\n",
       " 'AURIONPRO',\n",
       " 'AUROPHARMA',\n",
       " 'AURUM',\n",
       " 'AUSOMENT',\n",
       " 'AUTOAXLES',\n",
       " 'AUTOIND',\n",
       " 'AVADHSUGAR',\n",
       " 'AVALON',\n",
       " 'AVANTEL',\n",
       " 'AVANTIFEED',\n",
       " 'AVG',\n",
       " 'AVONMORE',\n",
       " 'AVROIND',\n",
       " 'AVTNPL',\n",
       " 'AWFIS',\n",
       " 'AWHCL',\n",
       " 'AWL',\n",
       " 'AXISBANK',\n",
       " 'AXISCADES',\n",
       " 'AXITA',\n",
       " 'AYMSYNTEX',\n",
       " 'AZAD',\n",
       " 'BAFNAPH',\n",
       " 'BAGFILMS',\n",
       " 'BAIDFIN',\n",
       " 'BAJAJ-AUTO',\n",
       " 'BAJAJCON',\n",
       " 'BAJAJELEC',\n",
       " 'BAJAJFINSV',\n",
       " 'BAJAJHCARE',\n",
       " 'BAJAJHFL',\n",
       " 'BAJAJHIND',\n",
       " 'BAJAJHLDNG',\n",
       " 'BAJEL',\n",
       " 'BAJFINANCE',\n",
       " 'BALAJEE',\n",
       " 'BALAJITELE',\n",
       " 'BALAMINES',\n",
       " 'BALAXI',\n",
       " 'BALKRISHNA',\n",
       " 'BALKRISIND',\n",
       " 'BALMLAWRIE',\n",
       " 'BALPHARMA',\n",
       " 'BALRAMCHIN',\n",
       " 'BALUFORGE',\n",
       " 'BANARBEADS',\n",
       " 'BANARISUG',\n",
       " 'BANCOINDIA',\n",
       " 'BANDHANBNK',\n",
       " 'BANG',\n",
       " 'BANKA',\n",
       " 'BANKBARODA',\n",
       " 'BANKINDIA',\n",
       " 'BANSALWIRE',\n",
       " 'BANSWRAS',\n",
       " 'BARBEQUE',\n",
       " 'BASF',\n",
       " 'BASML',\n",
       " 'BATAINDIA',\n",
       " 'BAYERCROP',\n",
       " 'BBL',\n",
       " 'BBOX',\n",
       " 'BBTC',\n",
       " 'BBTCL',\n",
       " 'BCLIND',\n",
       " 'BCONCEPTS',\n",
       " 'BDL',\n",
       " 'BEARDSELL',\n",
       " 'BECTORFOOD',\n",
       " 'BEDMUTHA',\n",
       " 'BEL',\n",
       " 'BEML',\n",
       " 'BEPL',\n",
       " 'BERGEPAINT',\n",
       " 'BESTAGRO',\n",
       " 'BFINVEST',\n",
       " 'BFUTILITIE',\n",
       " 'BGRENERGY',\n",
       " 'BHAGCHEM',\n",
       " 'BHAGERIA',\n",
       " 'BHAGYANGR',\n",
       " 'BHANDARI',\n",
       " 'BHARATFORG',\n",
       " 'BHARATGEAR',\n",
       " 'BHARATRAS',\n",
       " 'BHARATWIRE',\n",
       " 'BHARTIARTL',\n",
       " 'BHARTIHEXA',\n",
       " 'BHEL',\n",
       " 'BIGBLOC',\n",
       " 'BIKAJI',\n",
       " 'BIL',\n",
       " 'BINANIIND',\n",
       " 'BIOCON',\n",
       " 'BIOFILCHEM',\n",
       " 'BIRLACABLE',\n",
       " 'BIRLACORPN',\n",
       " 'BIRLAMONEY',\n",
       " 'BLAL',\n",
       " 'BLBLIMITED',\n",
       " 'BLISSGVS',\n",
       " 'BLKASHYAP',\n",
       " 'BLS',\n",
       " 'BLSE',\n",
       " 'BLUECHIP',\n",
       " 'BLUEDART',\n",
       " 'BLUEJET',\n",
       " 'BLUESTARCO',\n",
       " 'BODALCHEM',\n",
       " 'BOMDYEING',\n",
       " 'BOROLTD',\n",
       " 'BORORENEW',\n",
       " 'BOROSCI',\n",
       " 'BOSCHLTD',\n",
       " 'BPCL',\n",
       " 'BPL',\n",
       " 'BRIGADE',\n",
       " 'BRITANNIA',\n",
       " 'BRNL',\n",
       " 'BROOKS',\n",
       " 'BSE',\n",
       " 'BSHSL',\n",
       " 'BSL',\n",
       " 'BSOFT',\n",
       " 'BTML',\n",
       " 'BURNPUR',\n",
       " 'BUTTERFLY',\n",
       " 'BVCL',\n",
       " 'BYKE',\n",
       " 'CALSOFT',\n",
       " 'CAMLINFINE',\n",
       " 'CAMPUS',\n",
       " 'CAMS',\n",
       " 'CANBK',\n",
       " 'CANFINHOME',\n",
       " 'CANTABIL',\n",
       " 'CAPACITE',\n",
       " 'CAPITALSFB',\n",
       " 'CAPLIPOINT',\n",
       " 'CAPTRUST',\n",
       " 'CARBORUNIV',\n",
       " 'CAREERP',\n",
       " 'CARERATING',\n",
       " 'CARTRADE',\n",
       " 'CARYSIL',\n",
       " 'CASTROLIND',\n",
       " 'CCCL',\n",
       " 'CCHHL',\n",
       " 'CCL',\n",
       " 'CDSL',\n",
       " 'CEATLTD',\n",
       " 'CEIGALL',\n",
       " 'CELEBRITY',\n",
       " 'CELLO',\n",
       " 'CENTENKA',\n",
       " 'CENTEXT',\n",
       " 'CENTRALBK',\n",
       " 'CENTRUM',\n",
       " 'CENTUM',\n",
       " 'CENTURYPLY',\n",
       " 'CENTURYTEX',\n",
       " 'CERA',\n",
       " 'CEREBRAINT',\n",
       " 'CESC',\n",
       " 'CGCL',\n",
       " 'CGPOWER',\n",
       " 'CHALET',\n",
       " 'CHAMBLFERT',\n",
       " 'CHEMBOND',\n",
       " 'CHEMCON',\n",
       " 'CHEMFAB',\n",
       " 'CHEMPLASTS',\n",
       " 'CHENNPETRO',\n",
       " 'CHEVIOT',\n",
       " 'CHOICEIN',\n",
       " 'CHOLAFIN',\n",
       " 'CHOLAHLDNG',\n",
       " 'CIEINDIA',\n",
       " 'CIGNITITEC',\n",
       " 'CINELINE',\n",
       " 'CINEVISTA',\n",
       " 'CIPLA',\n",
       " 'CLEAN',\n",
       " 'CLEDUCATE',\n",
       " 'CLSEL',\n",
       " 'CMSINFO',\n",
       " 'COALINDIA',\n",
       " 'COASTCORP',\n",
       " 'COCHINSHIP',\n",
       " 'COFFEEDAY',\n",
       " 'COFORGE',\n",
       " 'COLPAL',\n",
       " 'COMPUSOFT',\n",
       " 'COMSYN',\n",
       " 'CONCOR',\n",
       " 'CONCORDBIO',\n",
       " 'CONFIPET',\n",
       " 'CONSOFINVT',\n",
       " 'CONTROLPR',\n",
       " 'CORALFINAC',\n",
       " 'CORDSCABLE',\n",
       " 'COROMANDEL',\n",
       " 'COSMOFIRST',\n",
       " 'COUNCODOS',\n",
       " 'CRAFTSMAN',\n",
       " 'CREATIVE',\n",
       " 'CREATIVEYE',\n",
       " 'CREDITACC',\n",
       " 'CREST',\n",
       " 'CRISIL',\n",
       " 'CROMPTON',\n",
       " 'CROWN',\n",
       " 'CSBBANK',\n",
       " 'CSLFINANCE',\n",
       " 'CTE',\n",
       " 'CUB',\n",
       " 'CUBEXTUB',\n",
       " 'CUMMINSIND',\n",
       " 'CUPID',\n",
       " 'CYBERMEDIA',\n",
       " 'CYBERTECH',\n",
       " 'CYIENT',\n",
       " 'CYIENTDLM',\n",
       " 'DABUR',\n",
       " 'DALBHARAT',\n",
       " 'DALMIASUG',\n",
       " 'DAMODARIND',\n",
       " 'DANGEE',\n",
       " 'DATAMATICS',\n",
       " 'DATAPATTNS',\n",
       " 'DAVANGERE',\n",
       " 'DBCORP',\n",
       " 'DBL',\n",
       " 'DBOL',\n",
       " 'DBREALTY',\n",
       " 'DBSTOCKBRO',\n",
       " 'DCAL',\n",
       " 'DCBBANK',\n",
       " 'DCI',\n",
       " 'DCM',\n",
       " 'DCMFINSERV',\n",
       " 'DCMNVL',\n",
       " 'DCMSHRIRAM',\n",
       " 'DCMSRIND',\n",
       " 'DCW',\n",
       " 'DCXINDIA',\n",
       " 'DECCANCE',\n",
       " 'DEEDEV',\n",
       " 'DEEPAKFERT',\n",
       " 'DEEPAKNTR',\n",
       " 'DEEPENR',\n",
       " 'DEEPINDS',\n",
       " 'DELHIVERY',\n",
       " 'DELPHIFX',\n",
       " 'DELTACORP',\n",
       " 'DELTAMAGNT',\n",
       " 'DEN',\n",
       " 'DENORA',\n",
       " 'DEVIT',\n",
       " 'DEVYANI',\n",
       " 'DGCONTENT',\n",
       " 'DHAMPURSUG',\n",
       " 'DHANBANK',\n",
       " 'DHANI',\n",
       " 'DHANUKA',\n",
       " 'DHARMAJ',\n",
       " 'DHRUV',\n",
       " 'DHUNINV',\n",
       " 'DIACABS',\n",
       " 'DIAMINESQ',\n",
       " 'DIAMONDYD',\n",
       " 'DICIND',\n",
       " 'DIGIDRIVE',\n",
       " 'DIGISPICE',\n",
       " 'DIGJAMLMTD',\n",
       " 'DIL',\n",
       " 'DISHTV',\n",
       " 'DIVGIITTS',\n",
       " 'DIVISLAB',\n",
       " 'DIXON',\n",
       " 'DJML',\n",
       " 'DLF',\n",
       " 'DLINKINDIA',\n",
       " 'DMART',\n",
       " 'DMCC',\n",
       " 'DNAMEDIA',\n",
       " 'DODLA',\n",
       " 'DOLATALGO',\n",
       " 'DOLLAR',\n",
       " 'DOLPHIN',\n",
       " 'DOMS',\n",
       " 'DONEAR',\n",
       " 'DPABHUSHAN',\n",
       " 'DPSCLTD',\n",
       " 'DPWIRES',\n",
       " 'DRCSYSTEMS',\n",
       " 'DREAMFOLKS',\n",
       " 'DREDGECORP',\n",
       " 'DRREDDY',\n",
       " 'DSSL',\n",
       " 'DTIL',\n",
       " 'DUCON',\n",
       " 'DVL',\n",
       " 'DWARKESH',\n",
       " 'DYCL',\n",
       " 'DYNAMATECH',\n",
       " 'DYNPRO',\n",
       " 'E2E',\n",
       " 'EASEMYTRIP',\n",
       " 'ECLERX',\n",
       " 'ECOSMOBLTY',\n",
       " 'EDELWEISS',\n",
       " 'EICHERMOT',\n",
       " 'EIDPARRY',\n",
       " 'EIFFL',\n",
       " 'EIHAHOTELS',\n",
       " 'EIHOTEL',\n",
       " 'EIMCOELECO',\n",
       " 'EKC',\n",
       " 'ELDEHSG',\n",
       " 'ELECON',\n",
       " 'ELECTCAST',\n",
       " 'ELECTHERM',\n",
       " 'ELGIEQUIP',\n",
       " 'ELGIRUBCO',\n",
       " 'ELIN',\n",
       " 'EMAMILTD',\n",
       " 'EMAMIPAP',\n",
       " 'EMAMIREAL',\n",
       " 'EMBDL',\n",
       " 'EMCURE',\n",
       " 'EMIL',\n",
       " 'EMKAY',\n",
       " 'EMMBI',\n",
       " 'EMSLIMITED',\n",
       " 'EMUDHRA',\n",
       " 'ENDURANCE',\n",
       " 'ENERGYDEV',\n",
       " 'ENGINERSIN',\n",
       " 'ENIL',\n",
       " 'ENTERO',\n",
       " 'EPACK',\n",
       " 'EPIGRAL',\n",
       " 'EPL',\n",
       " 'EQUIPPP',\n",
       " 'EQUITASBNK',\n",
       " 'ERIS',\n",
       " 'EROSMEDIA',\n",
       " 'ESABINDIA',\n",
       " 'ESAFSFB',\n",
       " 'ESCORTS',\n",
       " 'ESSARSHPNG',\n",
       " 'ESSENTIA',\n",
       " 'ESTER',\n",
       " 'ETHOSLTD',\n",
       " 'EUREKAFORB',\n",
       " 'EUROTEXIND',\n",
       " 'EVEREADY',\n",
       " 'EVERESTIND',\n",
       " 'EXCEL',\n",
       " 'EXCELINDUS',\n",
       " 'EXICOM',\n",
       " 'EXIDEIND',\n",
       " 'EXPLEOSOL',\n",
       " 'EXXARO',\n",
       " 'FACT',\n",
       " 'FAIRCHEMOR',\n",
       " 'FAZE3Q',\n",
       " 'FCL',\n",
       " 'FCSSOFT',\n",
       " 'FDC',\n",
       " 'FEDERALBNK',\n",
       " 'FEDFINA',\n",
       " 'FEL',\n",
       " 'FELDVR',\n",
       " 'FIBERWEB',\n",
       " 'FIEMIND',\n",
       " 'FILATEX',\n",
       " 'FILATFASH',\n",
       " 'FINCABLES',\n",
       " 'FINEORG',\n",
       " 'FINOPB',\n",
       " 'FINPIPE',\n",
       " 'FIRSTCRY',\n",
       " 'FIVESTAR',\n",
       " 'FLAIR',\n",
       " 'FLEXITUFF',\n",
       " 'FLFL',\n",
       " 'FLUOROCHEM',\n",
       " 'FMGOETZE',\n",
       " 'FMNL',\n",
       " 'FOCUS',\n",
       " 'FOODSIN',\n",
       " 'FORCEMOT',\n",
       " 'FORTIS',\n",
       " 'FOSECOIND',\n",
       " 'FSC',\n",
       " 'FSL',\n",
       " 'FUSION',\n",
       " 'GABRIEL',\n",
       " 'GAEL',\n",
       " 'GAIL',\n",
       " 'GALAPREC',\n",
       " 'GALAXYSURF',\n",
       " 'GALLANTT',\n",
       " 'GANDHAR',\n",
       " 'GANDHITUBE',\n",
       " 'GANECOS',\n",
       " 'GANESHBE',\n",
       " 'GANESHHOUC',\n",
       " 'GANGAFORGE',\n",
       " 'GANGESSECU',\n",
       " 'GARFIBRES',\n",
       " 'GATECH',\n",
       " 'GATECHDVR',\n",
       " 'GATEWAY',\n",
       " 'GAYAHWS',\n",
       " 'GEECEE',\n",
       " 'GEEKAYWIRE',\n",
       " 'GENCON',\n",
       " 'GENESYS',\n",
       " 'GENSOL',\n",
       " 'GENUSPAPER',\n",
       " 'GENUSPOWER',\n",
       " 'GEOJITFSL',\n",
       " 'GEPIL',\n",
       " 'GESHIP',\n",
       " 'GET&D',\n",
       " 'GFLLIMITED',\n",
       " 'GHCL',\n",
       " 'GHCLTEXTIL',\n",
       " 'GICHSGFIN',\n",
       " 'GICRE',\n",
       " 'GILLANDERS',\n",
       " 'GILLETTE',\n",
       " 'GINNIFILA',\n",
       " 'GIPCL',\n",
       " 'GKWLIMITED',\n",
       " 'GLAND',\n",
       " 'GLAXO',\n",
       " 'GLENMARK',\n",
       " 'GLFL',\n",
       " 'GLOBAL',\n",
       " 'GLOBALE',\n",
       " 'GLOBALVECT',\n",
       " 'GLOBE',\n",
       " 'GLOBUSSPR',\n",
       " 'GLOSTERLTD',\n",
       " 'GLS',\n",
       " 'GMBREW',\n",
       " 'GMDCLTD',\n",
       " 'GMMPFAUDLR',\n",
       " 'GMRINFRA',\n",
       " 'GMRP&UI',\n",
       " 'GNA',\n",
       " 'GNFC',\n",
       " 'GOACARBON',\n",
       " 'GOCLCORP',\n",
       " 'GOCOLORS',\n",
       " 'GODFRYPHLP',\n",
       " 'GODHA',\n",
       " 'GODIGIT',\n",
       " 'GODREJAGRO',\n",
       " 'GODREJCP',\n",
       " 'GODREJIND',\n",
       " 'GODREJPROP',\n",
       " 'GOENKA',\n",
       " 'GOKEX',\n",
       " 'GOKUL',\n",
       " 'GOKULAGRO',\n",
       " 'GOLDENTOBC',\n",
       " 'GOLDIAM',\n",
       " 'GOLDTECH',\n",
       " 'GOODLUCK',\n",
       " 'GOPAL',\n",
       " 'GOYALALUM',\n",
       " 'GPIL',\n",
       " 'GPPL',\n",
       " 'GPTHEALTH',\n",
       " 'GPTINFRA',\n",
       " 'GRANULES',\n",
       " 'GRAPHITE',\n",
       " 'GRASIM',\n",
       " 'GRAVITA',\n",
       " 'GREAVESCOT',\n",
       " 'GREENLAM',\n",
       " 'GREENPANEL',\n",
       " 'GREENPLY',\n",
       " 'GREENPOWER',\n",
       " 'GRINDWELL',\n",
       " 'GRINFRA',\n",
       " 'GRMOVER',\n",
       " 'GROBTEA',\n",
       " 'GRPLTD',\n",
       " 'GRSE',\n",
       " 'GRWRHITECH',\n",
       " 'GSFC',\n",
       " 'GSLSU',\n",
       " 'GSPL',\n",
       " 'GSS',\n",
       " 'GTECJAINX',\n",
       " 'GTL',\n",
       " 'GTLINFRA',\n",
       " 'GTPL',\n",
       " 'GUFICBIO',\n",
       " 'GUJALKALI',\n",
       " 'GUJAPOLLO',\n",
       " 'GUJGASLTD',\n",
       " 'GUJRAFFIA',\n",
       " 'GULFOILLUB',\n",
       " 'GULFPETRO',\n",
       " 'GULPOLY',\n",
       " 'GVKPIL',\n",
       " 'GVPTECH',\n",
       " 'HAL',\n",
       " 'HAPPSTMNDS',\n",
       " 'HAPPYFORGE',\n",
       " 'HARDWYN',\n",
       " 'HARIOMPIPE',\n",
       " 'HARRMALAYA',\n",
       " 'HARSHA',\n",
       " 'HATHWAY',\n",
       " 'HATSUN',\n",
       " 'HAVELLS',\n",
       " 'HAVISHA',\n",
       " 'HBLPOWER',\n",
       " 'HBSL',\n",
       " 'HCC',\n",
       " 'HCG',\n",
       " 'HCL-INSYS',\n",
       " 'HCLTECH',\n",
       " 'HDFCAMC',\n",
       " 'HDFCBANK',\n",
       " 'HDFCLIFE',\n",
       " 'HEADSUP',\n",
       " 'HECPROJECT',\n",
       " 'HEG',\n",
       " 'HEIDELBERG',\n",
       " 'HEMIPROP',\n",
       " 'HERANBA',\n",
       " 'HERCULES',\n",
       " 'HERITGFOOD',\n",
       " 'HEROMOTOCO',\n",
       " 'HESTERBIO',\n",
       " 'HEUBACHIND',\n",
       " 'HEXATRADEX',\n",
       " 'HFCL',\n",
       " 'HGINFRA',\n",
       " 'HGS',\n",
       " 'HIKAL',\n",
       " 'HIL',\n",
       " 'HILTON',\n",
       " 'HIMATSEIDE',\n",
       " 'HINDALCO',\n",
       " 'HINDCOMPOS',\n",
       " 'HINDCON',\n",
       " 'HINDCOPPER',\n",
       " 'HINDMOTORS',\n",
       " 'HINDNATGLS',\n",
       " 'HINDOILEXP',\n",
       " 'HINDPETRO',\n",
       " 'HINDUNILVR',\n",
       " 'HINDWAREAP',\n",
       " 'HINDZINC',\n",
       " 'HIRECT',\n",
       " 'HISARMETAL',\n",
       " 'HITECH',\n",
       " 'HITECHCORP',\n",
       " 'HITECHGEAR',\n",
       " 'HLEGLAS',\n",
       " 'HLVLTD',\n",
       " 'HMAAGRO',\n",
       " 'HMT',\n",
       " 'HMVL',\n",
       " 'HNDFDS',\n",
       " 'HOMEFIRST',\n",
       " 'HONASA',\n",
       " 'HONAUT',\n",
       " 'HONDAPOWER',\n",
       " 'HOVS',\n",
       " 'HPAL',\n",
       " 'HPIL',\n",
       " 'HPL',\n",
       " 'HSCL',\n",
       " 'HTMEDIA',\n",
       " 'HUBTOWN',\n",
       " 'HUDCO',\n",
       " 'HUHTAMAKI',\n",
       " 'HYBRIDFIN',\n",
       " 'ICDSLTD',\n",
       " 'ICEMAKE',\n",
       " 'ICICIBANK',\n",
       " 'ICICIGI',\n",
       " 'ICICIPRULI',\n",
       " 'ICIL',\n",
       " 'ICRA',\n",
       " 'IDBI',\n",
       " 'IDEA',\n",
       " 'IDEAFORGE',\n",
       " 'IDFC',\n",
       " 'IDFCFIRSTB',\n",
       " 'IEL',\n",
       " 'IEX',\n",
       " 'IFBAGRO',\n",
       " 'IFBIND',\n",
       " 'IFCI',\n",
       " 'IFGLEXPOR',\n",
       " 'IGARASHI',\n",
       " 'IGL',\n",
       " 'IGPL',\n",
       " 'IIFL',\n",
       " 'IIFLSEC',\n",
       " 'IITL',\n",
       " 'IKIO',\n",
       " 'IL&FSENGG',\n",
       " 'IL&FSTRANS',\n",
       " 'IMAGICAA',\n",
       " 'IMFA',\n",
       " 'IMPAL',\n",
       " 'IMPEXFERRO',\n",
       " 'INCREDIBLE',\n",
       " 'INDBANK',\n",
       " 'INDGN',\n",
       " 'INDHOTEL',\n",
       " 'INDIACEM',\n",
       " 'INDIAGLYCO',\n",
       " 'INDIAMART',\n",
       " 'INDIANB',\n",
       " 'INDIANCARD',\n",
       " 'INDIANHUME',\n",
       " 'INDIASHLTR',\n",
       " 'INDIGO',\n",
       " 'INDIGOPNTS',\n",
       " 'INDNIPPON',\n",
       " 'INDOAMIN',\n",
       " 'INDOBORAX',\n",
       " 'INDOCO',\n",
       " 'INDORAMA',\n",
       " 'INDOSTAR',\n",
       " 'INDOTECH',\n",
       " 'INDOTHAI',\n",
       " 'INDOWIND',\n",
       " 'INDRAMEDCO',\n",
       " 'INDSWFTLAB',\n",
       " 'INDSWFTLTD',\n",
       " 'INDTERRAIN',\n",
       " 'INDUSINDBK',\n",
       " 'INDUSTOWER',\n",
       " 'INFIBEAM',\n",
       " 'INFOBEAN',\n",
       " 'INFOMEDIA',\n",
       " 'INFY',\n",
       " 'INGERRAND',\n",
       " 'INNOVACAP',\n",
       " 'INOXGREEN',\n",
       " 'INOXINDIA',\n",
       " 'INOXWIND',\n",
       " 'INSECTICID',\n",
       " 'INSPIRISYS',\n",
       " 'INTELLECT',\n",
       " 'INTENTECH',\n",
       " 'INTERARCH',\n",
       " 'INTLCONV',\n",
       " 'INVENTURE',\n",
       " 'IOB',\n",
       " 'IOC',\n",
       " 'IOLCP',\n",
       " 'IONEXCHANG',\n",
       " 'IPCALAB',\n",
       " 'IPL',\n",
       " 'IRB',\n",
       " 'IRCON',\n",
       " 'IRCTC',\n",
       " 'IREDA',\n",
       " 'IRFC',\n",
       " 'IRIS',\n",
       " 'IRISDOREME',\n",
       " 'IRMENERGY',\n",
       " 'ISEC',\n",
       " 'ISFT',\n",
       " 'ISGEC',\n",
       " 'ITC',\n",
       " 'ITDC',\n",
       " 'ITDCEM',\n",
       " 'ITI',\n",
       " 'IVC',\n",
       " 'IVP',\n",
       " 'IWEL',\n",
       " 'IXIGO',\n",
       " 'IZMO',\n",
       " 'J&KBANK',\n",
       " 'JAGRAN',\n",
       " 'JAGSNPHARM',\n",
       " 'JAIBALAJI',\n",
       " 'JAICORPLTD',\n",
       " 'JAIPURKURT',\n",
       " 'JAMNAAUTO',\n",
       " 'JASH',\n",
       " 'JAYAGROGN',\n",
       " 'JAYBARMARU',\n",
       " 'JAYNECOIND',\n",
       " 'JAYSREETEA',\n",
       " 'JBCHEPHARM',\n",
       " 'JBMA',\n",
       " 'JCHAC',\n",
       " 'JETAIRWAYS',\n",
       " 'JETFREIGHT',\n",
       " 'JGCHEM',\n",
       " 'JHS',\n",
       " 'JINDALPHOT',\n",
       " 'JINDALPOLY',\n",
       " 'JINDALSAW',\n",
       " 'JINDALSTEL',\n",
       " 'JINDRILL',\n",
       " 'JINDWORLD',\n",
       " 'JIOFIN',\n",
       " 'JISLDVREQS',\n",
       " 'JISLJALEQS',\n",
       " 'JITFINFRA',\n",
       " 'JKCEMENT',\n",
       " 'JKIL',\n",
       " 'JKLAKSHMI',\n",
       " 'JKPAPER',\n",
       " 'JKTYRE',\n",
       " 'JLHL',\n",
       " 'JMA',\n",
       " 'JMFINANCIL',\n",
       " 'JNKINDIA',\n",
       " 'JOCIL',\n",
       " 'JPOLYINVST',\n",
       " 'JPPOWER',\n",
       " 'JSFB',\n",
       " 'JSL',\n",
       " 'JSWENERGY',\n",
       " 'JSWHL',\n",
       " 'JSWINFRA',\n",
       " 'JSWSTEEL',\n",
       " 'JTEKTINDIA',\n",
       " 'JTLIND',\n",
       " 'JUBLFOOD',\n",
       " 'JUBLINDS',\n",
       " 'JUBLINGREA',\n",
       " 'JUBLPHARMA',\n",
       " 'JUNIPER',\n",
       " 'JUSTDIAL',\n",
       " 'JWL',\n",
       " 'JYOTHYLAB',\n",
       " 'JYOTICNC',\n",
       " 'JYOTISTRUC',\n",
       " 'KABRAEXTRU',\n",
       " 'KAJARIACER',\n",
       " 'KAKATCEM',\n",
       " 'KALAMANDIR',\n",
       " 'KALYANI',\n",
       " 'KALYANIFRG',\n",
       " 'KALYANKJIL',\n",
       " 'KAMATHOTEL',\n",
       " 'KAMDHENU',\n",
       " 'KAMOPAINTS',\n",
       " 'KANANIIND',\n",
       " 'KANORICHEM',\n",
       " 'KANPRPLA',\n",
       " 'KANSAINER',\n",
       " 'KAPSTON',\n",
       " 'KARMAENG',\n",
       " 'KARURVYSYA',\n",
       " 'KAUSHALYA',\n",
       " 'KAVVERITEL',\n",
       " 'KAYA',\n",
       " 'KAYNES',\n",
       " 'KBCGLOBAL',\n",
       " 'KCP',\n",
       " 'KCPSUGIND',\n",
       " 'KDDL',\n",
       " 'KEC',\n",
       " 'KECL',\n",
       " 'KEEPLEARN',\n",
       " 'KEI',\n",
       " 'KELLTONTEC',\n",
       " 'KERNEX',\n",
       " 'KESORAMIND',\n",
       " 'KEYFINSERV',\n",
       " 'KFINTECH',\n",
       " 'KHADIM',\n",
       " 'KHAICHEM',\n",
       " 'KHAITANLTD',\n",
       " 'KHANDSE',\n",
       " 'KICL',\n",
       " 'KILITCH',\n",
       " 'KIMS',\n",
       " 'KINGFA',\n",
       " 'KIOCL',\n",
       " 'KIRIINDUS',\n",
       " 'KIRLOSBROS',\n",
       " 'KIRLOSENG',\n",
       " 'KIRLOSIND',\n",
       " 'KIRLPNU',\n",
       " 'KITEX',\n",
       " 'KKCL',\n",
       " 'KMSUGAR',\n",
       " 'KNRCON',\n",
       " 'KOHINOOR',\n",
       " 'KOKUYOCMLN',\n",
       " 'KOLTEPATIL',\n",
       " 'KOPRAN',\n",
       " 'KOTAKBANK',\n",
       " 'KOTARISUG',\n",
       " 'KOTHARIPET',\n",
       " 'KOTHARIPRO',\n",
       " 'KPIGREEN',\n",
       " 'KPIL',\n",
       " 'KPITTECH',\n",
       " 'KPRMILL',\n",
       " 'KRBL',\n",
       " 'KREBSBIO',\n",
       " 'KRIDHANINF',\n",
       " 'KRISHANA',\n",
       " 'KRITI',\n",
       " 'KRITIKA',\n",
       " 'KRITINUT',\n",
       " 'KRONOX',\n",
       " 'KROSS',\n",
       " 'KRSNAA',\n",
       " ...]"
      ]
     },
     "execution_count": 17,
     "metadata": {},
     "output_type": "execute_result"
    }
   ],
   "source": [
    "equity_list_nse = pd.read_csv(\"EQUITY_L.csv\")\n",
    "symbol_list = equity_list_nse['SYMBOL'].to_list()\n",
    "symbol_list"
   ]
  },
  {
   "cell_type": "code",
   "execution_count": 12,
   "metadata": {},
   "outputs": [
    {
     "name": "stderr",
     "output_type": "stream",
     "text": [
      "[*********************100%***********************]  1 of 1 completed"
     ]
    },
    {
     "name": "stdout",
     "output_type": "stream",
     "text": [
      "Price             Close         High          Low         Open   Volume\n",
      "Ticker           TCS.NS       TCS.NS       TCS.NS       TCS.NS   TCS.NS\n",
      "Date                                                                   \n",
      "2023-01-02  3167.366211  3172.610578  3141.873450  3166.929240   709547\n",
      "2023-01-03  3215.826904  3224.227281  3151.682215  3158.188891  1245178\n",
      "2023-01-04  3219.031250  3231.365079  3191.402003  3211.310633  1231668\n",
      "2023-01-05  3215.583740  3241.027893  3187.274497  3234.132614  1826057\n",
      "2023-01-06  3118.906006  3206.309763  3107.689143  3204.804429  2488376\n"
     ]
    },
    {
     "name": "stderr",
     "output_type": "stream",
     "text": [
      "\n"
     ]
    }
   ],
   "source": [
    "import yfinance as yf\n",
    "\n",
    "# Fetch historical data for an Indian stock (e.g., TCS: Tata Consultancy Services)\n",
    "ticker = \"TCS.NS\"  # Use \".NS\" for NSE-listed stocks\n",
    "data = yf.download(ticker, start=\"2023-01-01\", end=\"2023-12-20\")\n",
    "\n",
    "# Display the first few rows\n",
    "print(data.head())\n",
    "\n"
   ]
  },
  {
   "cell_type": "code",
   "execution_count": 18,
   "metadata": {},
   "outputs": [
    {
     "name": "stdout",
     "output_type": "stream",
     "text": [
      "20MICRONS\n"
     ]
    },
    {
     "ename": "NSEdataNotFound",
     "evalue": " Resource not available MSG: 'charmap' codec can't encode character '\\x80' in position 0: character maps to <undefined>",
     "output_type": "error",
     "traceback": [
      "\u001b[1;31m---------------------------------------------------------------------------\u001b[0m",
      "\u001b[1;31mUnicodeEncodeError\u001b[0m                        Traceback (most recent call last)",
      "File \u001b[1;32m~\\AppData\\Local\\Packages\\PythonSoftwareFoundation.Python.3.12_qbz5n2kfra8p0\\LocalCache\\local-packages\\Python312\\site-packages\\nselib\\capital_market\\capital_market_data.py:49\u001b[0m, in \u001b[0;36mget_price_volume_and_deliverable_position_data\u001b[1;34m(symbol, from_date, to_date)\u001b[0m\n\u001b[0;32m     48\u001b[0m \u001b[38;5;28;01mwith\u001b[39;00m \u001b[38;5;28mopen\u001b[39m(\u001b[38;5;124m'\u001b[39m\u001b[38;5;124mfile.csv\u001b[39m\u001b[38;5;124m'\u001b[39m, \u001b[38;5;124m'\u001b[39m\u001b[38;5;124mw\u001b[39m\u001b[38;5;124m'\u001b[39m) \u001b[38;5;28;01mas\u001b[39;00m f:\n\u001b[1;32m---> 49\u001b[0m     \u001b[43mf\u001b[49m\u001b[38;5;241;43m.\u001b[39;49m\u001b[43mwrite\u001b[49m\u001b[43m(\u001b[49m\u001b[43mdata_text\u001b[49m\u001b[43m)\u001b[49m\n\u001b[0;32m     50\u001b[0m f\u001b[38;5;241m.\u001b[39mclose()\n",
      "File \u001b[1;32mC:\\Program Files\\WindowsApps\\PythonSoftwareFoundation.Python.3.12_3.12.2288.0_x64__qbz5n2kfra8p0\\Lib\\encodings\\cp1252.py:19\u001b[0m, in \u001b[0;36mIncrementalEncoder.encode\u001b[1;34m(self, input, final)\u001b[0m\n\u001b[0;32m     18\u001b[0m \u001b[38;5;28;01mdef\u001b[39;00m \u001b[38;5;21mencode\u001b[39m(\u001b[38;5;28mself\u001b[39m, \u001b[38;5;28minput\u001b[39m, final\u001b[38;5;241m=\u001b[39m\u001b[38;5;28;01mFalse\u001b[39;00m):\n\u001b[1;32m---> 19\u001b[0m     \u001b[38;5;28;01mreturn\u001b[39;00m \u001b[43mcodecs\u001b[49m\u001b[38;5;241;43m.\u001b[39;49m\u001b[43mcharmap_encode\u001b[49m\u001b[43m(\u001b[49m\u001b[38;5;28;43minput\u001b[39;49m\u001b[43m,\u001b[49m\u001b[38;5;28;43mself\u001b[39;49m\u001b[38;5;241;43m.\u001b[39;49m\u001b[43merrors\u001b[49m\u001b[43m,\u001b[49m\u001b[43mencoding_table\u001b[49m\u001b[43m)\u001b[49m[\u001b[38;5;241m0\u001b[39m]\n",
      "\u001b[1;31mUnicodeEncodeError\u001b[0m: 'charmap' codec can't encode character '\\x80' in position 0: character maps to <undefined>",
      "\nDuring handling of the above exception, another exception occurred:\n",
      "\u001b[1;31mNSEdataNotFound\u001b[0m                           Traceback (most recent call last)",
      "Cell \u001b[1;32mIn[18], line 5\u001b[0m\n\u001b[0;32m      2\u001b[0m \u001b[38;5;28;01mfor\u001b[39;00m stock_symbol \u001b[38;5;129;01min\u001b[39;00m symbol_list:\n\u001b[0;32m      3\u001b[0m     \u001b[38;5;66;03m#stock = 'TATAMOTORS'\u001b[39;00m\n\u001b[0;32m      4\u001b[0m     \u001b[38;5;28mprint\u001b[39m(stock_symbol)\n\u001b[1;32m----> 5\u001b[0m     data \u001b[38;5;241m=\u001b[39m \u001b[43mcapital_market\u001b[49m\u001b[38;5;241;43m.\u001b[39;49m\u001b[43mprice_volume_and_deliverable_position_data\u001b[49m\u001b[43m(\u001b[49m\u001b[43msymbol\u001b[49m\u001b[38;5;241;43m=\u001b[39;49m\u001b[38;5;124;43m\"\u001b[39;49m\u001b[38;5;124;43mZYDUSWELL\u001b[39;49m\u001b[38;5;124;43m\"\u001b[39;49m\u001b[43m,\u001b[49m\u001b[43m \u001b[49m\n\u001b[0;32m      6\u001b[0m \u001b[43m                                                                     \u001b[49m\u001b[43mfrom_date\u001b[49m\u001b[38;5;241;43m=\u001b[39;49m\u001b[38;5;124;43m'\u001b[39;49m\u001b[38;5;124;43m16-06-2024\u001b[39;49m\u001b[38;5;124;43m'\u001b[39;49m\u001b[43m,\u001b[49m\u001b[43m \u001b[49m\n\u001b[0;32m      7\u001b[0m \u001b[43m                                                                     \u001b[49m\u001b[43mto_date\u001b[49m\u001b[38;5;241;43m=\u001b[39;49m\u001b[38;5;124;43m'\u001b[39;49m\u001b[38;5;124;43m20-07-2024\u001b[39;49m\u001b[38;5;124;43m'\u001b[39;49m\u001b[43m)\u001b[49m\n\u001b[0;32m      8\u001b[0m     master_data \u001b[38;5;241m=\u001b[39m pd\u001b[38;5;241m.\u001b[39mconcat([data,master_data])\n\u001b[0;32m      9\u001b[0m numeric_columns \u001b[38;5;241m=\u001b[39m [\u001b[38;5;124m'\u001b[39m\u001b[38;5;124mPrevClose\u001b[39m\u001b[38;5;124m'\u001b[39m, \u001b[38;5;124m'\u001b[39m\u001b[38;5;124mOpenPrice\u001b[39m\u001b[38;5;124m'\u001b[39m, \u001b[38;5;124m'\u001b[39m\u001b[38;5;124mHighPrice\u001b[39m\u001b[38;5;124m'\u001b[39m,\n\u001b[0;32m     10\u001b[0m        \u001b[38;5;124m'\u001b[39m\u001b[38;5;124mLowPrice\u001b[39m\u001b[38;5;124m'\u001b[39m, \u001b[38;5;124m'\u001b[39m\u001b[38;5;124mLastPrice\u001b[39m\u001b[38;5;124m'\u001b[39m, \u001b[38;5;124m'\u001b[39m\u001b[38;5;124mClosePrice\u001b[39m\u001b[38;5;124m'\u001b[39m, \u001b[38;5;124m'\u001b[39m\u001b[38;5;124mAveragePrice\u001b[39m\u001b[38;5;124m'\u001b[39m,\n\u001b[0;32m     11\u001b[0m        \u001b[38;5;124m'\u001b[39m\u001b[38;5;124mTotalTradedQuantity\u001b[39m\u001b[38;5;124m'\u001b[39m, \u001b[38;5;124m'\u001b[39m\u001b[38;5;124mTurnoverInRs\u001b[39m\u001b[38;5;124m'\u001b[39m, \u001b[38;5;124m'\u001b[39m\u001b[38;5;124mNo.ofTrades\u001b[39m\u001b[38;5;124m'\u001b[39m, \u001b[38;5;124m'\u001b[39m\u001b[38;5;124mDeliverableQty\u001b[39m\u001b[38;5;124m'\u001b[39m,\n\u001b[0;32m     12\u001b[0m        \u001b[38;5;124m'\u001b[39m\u001b[38;5;124m%\u001b[39m\u001b[38;5;124mDlyQttoTradedQty\u001b[39m\u001b[38;5;124m'\u001b[39m]\n",
      "File \u001b[1;32m~\\AppData\\Local\\Packages\\PythonSoftwareFoundation.Python.3.12_qbz5n2kfra8p0\\LocalCache\\local-packages\\Python312\\site-packages\\nselib\\capital_market\\capital_market_data.py:35\u001b[0m, in \u001b[0;36mprice_volume_and_deliverable_position_data\u001b[1;34m(symbol, from_date, to_date, period)\u001b[0m\n\u001b[0;32m     33\u001b[0m     end_date \u001b[38;5;241m=\u001b[39m to_date\u001b[38;5;241m.\u001b[39mstrftime(dd_mm_yyyy)\n\u001b[0;32m     34\u001b[0m     start_date \u001b[38;5;241m=\u001b[39m from_date\u001b[38;5;241m.\u001b[39mstrftime(dd_mm_yyyy)\n\u001b[1;32m---> 35\u001b[0m data_df \u001b[38;5;241m=\u001b[39m \u001b[43mget_price_volume_and_deliverable_position_data\u001b[49m\u001b[43m(\u001b[49m\u001b[43msymbol\u001b[49m\u001b[38;5;241;43m=\u001b[39;49m\u001b[43msymbol\u001b[49m\u001b[43m,\u001b[49m\u001b[43m \u001b[49m\u001b[43mfrom_date\u001b[49m\u001b[38;5;241;43m=\u001b[39;49m\u001b[43mstart_date\u001b[49m\u001b[43m,\u001b[49m\u001b[43m \u001b[49m\u001b[43mto_date\u001b[49m\u001b[38;5;241;43m=\u001b[39;49m\u001b[43mend_date\u001b[49m\u001b[43m)\u001b[49m\n\u001b[0;32m     36\u001b[0m from_date \u001b[38;5;241m=\u001b[39m from_date \u001b[38;5;241m+\u001b[39m dt\u001b[38;5;241m.\u001b[39mtimedelta(\u001b[38;5;241m365\u001b[39m)\n\u001b[0;32m     37\u001b[0m load_days \u001b[38;5;241m=\u001b[39m (to_date \u001b[38;5;241m-\u001b[39m from_date)\u001b[38;5;241m.\u001b[39mdays\n",
      "File \u001b[1;32m~\\AppData\\Local\\Packages\\PythonSoftwareFoundation.Python.3.12_qbz5n2kfra8p0\\LocalCache\\local-packages\\Python312\\site-packages\\nselib\\capital_market\\capital_market_data.py:52\u001b[0m, in \u001b[0;36mget_price_volume_and_deliverable_position_data\u001b[1;34m(symbol, from_date, to_date)\u001b[0m\n\u001b[0;32m     50\u001b[0m     f\u001b[38;5;241m.\u001b[39mclose()\n\u001b[0;32m     51\u001b[0m \u001b[38;5;28;01mexcept\u001b[39;00m \u001b[38;5;167;01mException\u001b[39;00m \u001b[38;5;28;01mas\u001b[39;00m e:\n\u001b[1;32m---> 52\u001b[0m     \u001b[38;5;28;01mraise\u001b[39;00m NSEdataNotFound(\u001b[38;5;124mf\u001b[39m\u001b[38;5;124m\"\u001b[39m\u001b[38;5;124m Resource not available MSG: \u001b[39m\u001b[38;5;132;01m{\u001b[39;00me\u001b[38;5;132;01m}\u001b[39;00m\u001b[38;5;124m\"\u001b[39m)\n\u001b[0;32m     53\u001b[0m data_df \u001b[38;5;241m=\u001b[39m pd\u001b[38;5;241m.\u001b[39mread_csv(\u001b[38;5;124m'\u001b[39m\u001b[38;5;124mfile.csv\u001b[39m\u001b[38;5;124m'\u001b[39m)\n\u001b[0;32m     54\u001b[0m data_df\u001b[38;5;241m.\u001b[39mcolumns \u001b[38;5;241m=\u001b[39m [name\u001b[38;5;241m.\u001b[39mreplace(\u001b[38;5;124m'\u001b[39m\u001b[38;5;124m \u001b[39m\u001b[38;5;124m'\u001b[39m, \u001b[38;5;124m'\u001b[39m\u001b[38;5;124m'\u001b[39m) \u001b[38;5;28;01mfor\u001b[39;00m name \u001b[38;5;129;01min\u001b[39;00m data_df\u001b[38;5;241m.\u001b[39mcolumns]\n",
      "\u001b[1;31mNSEdataNotFound\u001b[0m:  Resource not available MSG: 'charmap' codec can't encode character '\\x80' in position 0: character maps to <undefined>"
     ]
    }
   ],
   "source": [
    "master_data = pd.DataFrame()\n",
    "for stock_symbol in symbol_list:\n",
    "    #stock = 'TATAMOTORS'\n",
    "    print(stock_symbol)\n",
    "    data = capital_market.price_volume_and_deliverable_position_data(symbol=\"ZYDUSWELL\", \n",
    "                                                                     from_date='16-06-2024', \n",
    "                                                                     to_date='20-07-2024')\n",
    "    master_data = pd.concat([data,master_data])\n",
    "numeric_columns = ['PrevClose', 'OpenPrice', 'HighPrice',\n",
    "       'LowPrice', 'LastPrice', 'ClosePrice', 'AveragePrice',\n",
    "       'TotalTradedQuantity', 'TurnoverInRs', 'No.ofTrades', 'DeliverableQty',\n",
    "       '%DlyQttoTradedQty']\n",
    "master_data[numeric_columns] = master_data[numeric_columns].replace({',': ''}, \n",
    "                                                                    regex=True).apply(\n",
    "                                                                        pd.to_numeric, \n",
    "                                                                        errors='coerce')\n",
    "master_data = master_data.drop(columns=['Symbol'])\n",
    "master_data.rename(columns={'ï»¿\"Symbol\"': 'Symbol'}, inplace=True)\n",
    "master_data.head()"
   ]
  },
  {
   "cell_type": "code",
   "execution_count": 22,
   "metadata": {},
   "outputs": [
    {
     "data": {
      "text/html": [
       "<div>\n",
       "<style scoped>\n",
       "    .dataframe tbody tr th:only-of-type {\n",
       "        vertical-align: middle;\n",
       "    }\n",
       "\n",
       "    .dataframe tbody tr th {\n",
       "        vertical-align: top;\n",
       "    }\n",
       "\n",
       "    .dataframe thead th {\n",
       "        text-align: right;\n",
       "    }\n",
       "</style>\n",
       "<table border=\"1\" class=\"dataframe\">\n",
       "  <thead>\n",
       "    <tr style=\"text-align: right;\">\n",
       "      <th></th>\n",
       "      <th>_id</th>\n",
       "      <th>CH_SYMBOL</th>\n",
       "      <th>CH_SERIES</th>\n",
       "      <th>CH_MARKET_TYPE</th>\n",
       "      <th>CH_TIMESTAMP</th>\n",
       "      <th>TIMESTAMP</th>\n",
       "      <th>CH_TRADE_HIGH_PRICE</th>\n",
       "      <th>CH_TRADE_LOW_PRICE</th>\n",
       "      <th>CH_OPENING_PRICE</th>\n",
       "      <th>CH_CLOSING_PRICE</th>\n",
       "      <th>...</th>\n",
       "      <th>CH_52WEEK_HIGH_PRICE</th>\n",
       "      <th>CH_52WEEK_LOW_PRICE</th>\n",
       "      <th>CH_TOTAL_TRADES</th>\n",
       "      <th>CH_ISIN</th>\n",
       "      <th>createdAt</th>\n",
       "      <th>updatedAt</th>\n",
       "      <th>__v</th>\n",
       "      <th>SLBMH_TOT_VAL</th>\n",
       "      <th>VWAP</th>\n",
       "      <th>mTIMESTAMP</th>\n",
       "    </tr>\n",
       "  </thead>\n",
       "  <tbody>\n",
       "    <tr>\n",
       "      <th>0</th>\n",
       "      <td>67470a0095724a0f1a753153</td>\n",
       "      <td>SBIN</td>\n",
       "      <td>EQ</td>\n",
       "      <td>N</td>\n",
       "      <td>2024-11-27</td>\n",
       "      <td>2024-11-26T18:30:00.000Z</td>\n",
       "      <td>842.50</td>\n",
       "      <td>832.10</td>\n",
       "      <td>838.50</td>\n",
       "      <td>834.10</td>\n",
       "      <td>...</td>\n",
       "      <td>912</td>\n",
       "      <td>561.10</td>\n",
       "      <td>151032</td>\n",
       "      <td>INE062A01020</td>\n",
       "      <td>2024-11-27T12:01:04.105Z</td>\n",
       "      <td>2024-11-27T12:01:04.105Z</td>\n",
       "      <td>0</td>\n",
       "      <td>None</td>\n",
       "      <td>836.67</td>\n",
       "      <td>27-Nov-2024</td>\n",
       "    </tr>\n",
       "    <tr>\n",
       "      <th>1</th>\n",
       "      <td>6748852c698d46a5805e08ae</td>\n",
       "      <td>SBIN</td>\n",
       "      <td>EQ</td>\n",
       "      <td>N</td>\n",
       "      <td>2024-11-28</td>\n",
       "      <td>2024-11-27T18:30:00.000Z</td>\n",
       "      <td>845.80</td>\n",
       "      <td>830.50</td>\n",
       "      <td>834.10</td>\n",
       "      <td>838.85</td>\n",
       "      <td>...</td>\n",
       "      <td>912</td>\n",
       "      <td>561.10</td>\n",
       "      <td>254541</td>\n",
       "      <td>INE062A01020</td>\n",
       "      <td>2024-11-28T14:58:52.454Z</td>\n",
       "      <td>2024-11-28T14:58:52.454Z</td>\n",
       "      <td>0</td>\n",
       "      <td>None</td>\n",
       "      <td>838.80</td>\n",
       "      <td>28-Nov-2024</td>\n",
       "    </tr>\n",
       "    <tr>\n",
       "      <th>2</th>\n",
       "      <td>6749c28a03e42dbdbf1f55ab</td>\n",
       "      <td>SBIN</td>\n",
       "      <td>EQ</td>\n",
       "      <td>N</td>\n",
       "      <td>2024-11-29</td>\n",
       "      <td>2024-11-28T18:30:00.000Z</td>\n",
       "      <td>844.05</td>\n",
       "      <td>831.55</td>\n",
       "      <td>841.10</td>\n",
       "      <td>838.95</td>\n",
       "      <td>...</td>\n",
       "      <td>912</td>\n",
       "      <td>561.10</td>\n",
       "      <td>181367</td>\n",
       "      <td>INE062A01020</td>\n",
       "      <td>2024-11-29T13:32:58.649Z</td>\n",
       "      <td>2024-11-29T13:32:58.649Z</td>\n",
       "      <td>0</td>\n",
       "      <td>None</td>\n",
       "      <td>838.26</td>\n",
       "      <td>29-Nov-2024</td>\n",
       "    </tr>\n",
       "    <tr>\n",
       "      <th>3</th>\n",
       "      <td>674da1809877930d399cbdc9</td>\n",
       "      <td>SBIN</td>\n",
       "      <td>EQ</td>\n",
       "      <td>N</td>\n",
       "      <td>2024-12-02</td>\n",
       "      <td>2024-12-01T18:30:00.000Z</td>\n",
       "      <td>842.00</td>\n",
       "      <td>832.70</td>\n",
       "      <td>838.95</td>\n",
       "      <td>836.40</td>\n",
       "      <td>...</td>\n",
       "      <td>912</td>\n",
       "      <td>584.55</td>\n",
       "      <td>181197</td>\n",
       "      <td>INE062A01020</td>\n",
       "      <td>2024-12-02T12:01:04.357Z</td>\n",
       "      <td>2024-12-02T12:01:04.357Z</td>\n",
       "      <td>0</td>\n",
       "      <td>None</td>\n",
       "      <td>836.12</td>\n",
       "      <td>02-Dec-2024</td>\n",
       "    </tr>\n",
       "    <tr>\n",
       "      <th>4</th>\n",
       "      <td>674ef2ff255fd66265b223eb</td>\n",
       "      <td>SBIN</td>\n",
       "      <td>EQ</td>\n",
       "      <td>N</td>\n",
       "      <td>2024-12-03</td>\n",
       "      <td>2024-12-02T18:30:00.000Z</td>\n",
       "      <td>856.60</td>\n",
       "      <td>836.90</td>\n",
       "      <td>838.00</td>\n",
       "      <td>853.95</td>\n",
       "      <td>...</td>\n",
       "      <td>912</td>\n",
       "      <td>584.55</td>\n",
       "      <td>235478</td>\n",
       "      <td>INE062A01020</td>\n",
       "      <td>2024-12-03T12:01:03.243Z</td>\n",
       "      <td>2024-12-03T12:01:03.243Z</td>\n",
       "      <td>0</td>\n",
       "      <td>None</td>\n",
       "      <td>851.99</td>\n",
       "      <td>03-Dec-2024</td>\n",
       "    </tr>\n",
       "    <tr>\n",
       "      <th>5</th>\n",
       "      <td>6750447f5efd600b138bebe2</td>\n",
       "      <td>SBIN</td>\n",
       "      <td>EQ</td>\n",
       "      <td>N</td>\n",
       "      <td>2024-12-04</td>\n",
       "      <td>2024-12-03T18:30:00.000Z</td>\n",
       "      <td>864.00</td>\n",
       "      <td>850.30</td>\n",
       "      <td>853.95</td>\n",
       "      <td>859.70</td>\n",
       "      <td>...</td>\n",
       "      <td>912</td>\n",
       "      <td>584.55</td>\n",
       "      <td>237875</td>\n",
       "      <td>INE062A01020</td>\n",
       "      <td>2024-12-04T12:01:03.252Z</td>\n",
       "      <td>2024-12-04T12:01:03.252Z</td>\n",
       "      <td>0</td>\n",
       "      <td>None</td>\n",
       "      <td>858.15</td>\n",
       "      <td>04-Dec-2024</td>\n",
       "    </tr>\n",
       "    <tr>\n",
       "      <th>6</th>\n",
       "      <td>675195ff8acca1b1a49d7e22</td>\n",
       "      <td>SBIN</td>\n",
       "      <td>EQ</td>\n",
       "      <td>N</td>\n",
       "      <td>2024-12-05</td>\n",
       "      <td>2024-12-04T18:30:00.000Z</td>\n",
       "      <td>871.45</td>\n",
       "      <td>855.60</td>\n",
       "      <td>860.00</td>\n",
       "      <td>865.45</td>\n",
       "      <td>...</td>\n",
       "      <td>912</td>\n",
       "      <td>584.55</td>\n",
       "      <td>242317</td>\n",
       "      <td>INE062A01020</td>\n",
       "      <td>2024-12-05T12:01:03.488Z</td>\n",
       "      <td>2024-12-05T12:01:03.488Z</td>\n",
       "      <td>0</td>\n",
       "      <td>None</td>\n",
       "      <td>864.78</td>\n",
       "      <td>05-Dec-2024</td>\n",
       "    </tr>\n",
       "    <tr>\n",
       "      <th>7</th>\n",
       "      <td>6752e75d2630ec1e3268609f</td>\n",
       "      <td>SBIN</td>\n",
       "      <td>EQ</td>\n",
       "      <td>N</td>\n",
       "      <td>2024-12-06</td>\n",
       "      <td>2024-12-05T18:30:00.000Z</td>\n",
       "      <td>875.45</td>\n",
       "      <td>857.00</td>\n",
       "      <td>865.25</td>\n",
       "      <td>863.65</td>\n",
       "      <td>...</td>\n",
       "      <td>912</td>\n",
       "      <td>584.55</td>\n",
       "      <td>451441</td>\n",
       "      <td>INE062A01020</td>\n",
       "      <td>2024-12-06T12:00:29.067Z</td>\n",
       "      <td>2024-12-06T12:00:29.067Z</td>\n",
       "      <td>0</td>\n",
       "      <td>None</td>\n",
       "      <td>866.72</td>\n",
       "      <td>06-Dec-2024</td>\n",
       "    </tr>\n",
       "    <tr>\n",
       "      <th>8</th>\n",
       "      <td>6756dbff39a54ec28ecfb8a3</td>\n",
       "      <td>SBIN</td>\n",
       "      <td>EQ</td>\n",
       "      <td>N</td>\n",
       "      <td>2024-12-09</td>\n",
       "      <td>2024-12-08T18:30:00.000Z</td>\n",
       "      <td>866.85</td>\n",
       "      <td>856.95</td>\n",
       "      <td>859.00</td>\n",
       "      <td>858.05</td>\n",
       "      <td>...</td>\n",
       "      <td>912</td>\n",
       "      <td>600.65</td>\n",
       "      <td>186481</td>\n",
       "      <td>INE062A01020</td>\n",
       "      <td>2024-12-09T12:01:03.062Z</td>\n",
       "      <td>2024-12-09T12:01:03.062Z</td>\n",
       "      <td>0</td>\n",
       "      <td>None</td>\n",
       "      <td>861.15</td>\n",
       "      <td>09-Dec-2024</td>\n",
       "    </tr>\n",
       "    <tr>\n",
       "      <th>9</th>\n",
       "      <td>67582d7f16c352e2b141f593</td>\n",
       "      <td>SBIN</td>\n",
       "      <td>EQ</td>\n",
       "      <td>N</td>\n",
       "      <td>2024-12-10</td>\n",
       "      <td>2024-12-09T18:30:00.000Z</td>\n",
       "      <td>868.95</td>\n",
       "      <td>858.05</td>\n",
       "      <td>861.80</td>\n",
       "      <td>867.50</td>\n",
       "      <td>...</td>\n",
       "      <td>912</td>\n",
       "      <td>600.65</td>\n",
       "      <td>158185</td>\n",
       "      <td>INE062A01020</td>\n",
       "      <td>2024-12-10T12:01:03.892Z</td>\n",
       "      <td>2024-12-10T12:01:03.892Z</td>\n",
       "      <td>0</td>\n",
       "      <td>None</td>\n",
       "      <td>863.66</td>\n",
       "      <td>10-Dec-2024</td>\n",
       "    </tr>\n",
       "    <tr>\n",
       "      <th>10</th>\n",
       "      <td>67597edc69e32eca3c96828d</td>\n",
       "      <td>SBIN</td>\n",
       "      <td>EQ</td>\n",
       "      <td>N</td>\n",
       "      <td>2024-12-11</td>\n",
       "      <td>2024-12-10T18:30:00.000Z</td>\n",
       "      <td>869.85</td>\n",
       "      <td>860.95</td>\n",
       "      <td>867.50</td>\n",
       "      <td>861.60</td>\n",
       "      <td>...</td>\n",
       "      <td>912</td>\n",
       "      <td>600.65</td>\n",
       "      <td>167495</td>\n",
       "      <td>INE062A01020</td>\n",
       "      <td>2024-12-11T12:00:28.599Z</td>\n",
       "      <td>2024-12-11T12:00:28.599Z</td>\n",
       "      <td>0</td>\n",
       "      <td>None</td>\n",
       "      <td>864.62</td>\n",
       "      <td>11-Dec-2024</td>\n",
       "    </tr>\n",
       "    <tr>\n",
       "      <th>11</th>\n",
       "      <td>675ad2b9aba46b69d5047c53</td>\n",
       "      <td>SBIN</td>\n",
       "      <td>EQ</td>\n",
       "      <td>N</td>\n",
       "      <td>2024-12-12</td>\n",
       "      <td>2024-12-11T18:30:00.000Z</td>\n",
       "      <td>864.30</td>\n",
       "      <td>851.15</td>\n",
       "      <td>861.50</td>\n",
       "      <td>853.70</td>\n",
       "      <td>...</td>\n",
       "      <td>912</td>\n",
       "      <td>600.65</td>\n",
       "      <td>168059</td>\n",
       "      <td>INE062A01020</td>\n",
       "      <td>2024-12-12T12:10:33.292Z</td>\n",
       "      <td>2024-12-12T12:10:33.292Z</td>\n",
       "      <td>0</td>\n",
       "      <td>None</td>\n",
       "      <td>854.33</td>\n",
       "      <td>12-Dec-2024</td>\n",
       "    </tr>\n",
       "    <tr>\n",
       "      <th>12</th>\n",
       "      <td>675c232c39a54ec28ecfca9e</td>\n",
       "      <td>SBIN</td>\n",
       "      <td>EQ</td>\n",
       "      <td>N</td>\n",
       "      <td>2024-12-13</td>\n",
       "      <td>2024-12-12T18:30:00.000Z</td>\n",
       "      <td>862.90</td>\n",
       "      <td>835.00</td>\n",
       "      <td>852.60</td>\n",
       "      <td>861.55</td>\n",
       "      <td>...</td>\n",
       "      <td>912</td>\n",
       "      <td>600.65</td>\n",
       "      <td>228551</td>\n",
       "      <td>INE062A01020</td>\n",
       "      <td>2024-12-13T12:06:04.961Z</td>\n",
       "      <td>2024-12-13T12:06:04.961Z</td>\n",
       "      <td>0</td>\n",
       "      <td>None</td>\n",
       "      <td>851.16</td>\n",
       "      <td>13-Dec-2024</td>\n",
       "    </tr>\n",
       "    <tr>\n",
       "      <th>13</th>\n",
       "      <td>67601680eaa921f6ae66bda8</td>\n",
       "      <td>SBIN</td>\n",
       "      <td>EQ</td>\n",
       "      <td>N</td>\n",
       "      <td>2024-12-16</td>\n",
       "      <td>2024-12-15T18:30:00.000Z</td>\n",
       "      <td>866.40</td>\n",
       "      <td>857.80</td>\n",
       "      <td>859.80</td>\n",
       "      <td>860.95</td>\n",
       "      <td>...</td>\n",
       "      <td>912</td>\n",
       "      <td>600.65</td>\n",
       "      <td>151330</td>\n",
       "      <td>INE062A01020</td>\n",
       "      <td>2024-12-16T12:01:04.058Z</td>\n",
       "      <td>2024-12-16T12:01:04.058Z</td>\n",
       "      <td>0</td>\n",
       "      <td>None</td>\n",
       "      <td>861.45</td>\n",
       "      <td>16-Dec-2024</td>\n",
       "    </tr>\n",
       "    <tr>\n",
       "      <th>14</th>\n",
       "      <td>676167dcda3f93657ef45a15</td>\n",
       "      <td>SBIN</td>\n",
       "      <td>EQ</td>\n",
       "      <td>N</td>\n",
       "      <td>2024-12-17</td>\n",
       "      <td>2024-12-16T18:30:00.000Z</td>\n",
       "      <td>862.60</td>\n",
       "      <td>847.05</td>\n",
       "      <td>858.55</td>\n",
       "      <td>850.55</td>\n",
       "      <td>...</td>\n",
       "      <td>912</td>\n",
       "      <td>600.65</td>\n",
       "      <td>193366</td>\n",
       "      <td>INE062A01020</td>\n",
       "      <td>2024-12-17T12:00:28.813Z</td>\n",
       "      <td>2024-12-17T12:00:28.813Z</td>\n",
       "      <td>0</td>\n",
       "      <td>None</td>\n",
       "      <td>852.67</td>\n",
       "      <td>17-Dec-2024</td>\n",
       "    </tr>\n",
       "    <tr>\n",
       "      <th>15</th>\n",
       "      <td>6762b95c0fa404e90897ebd9</td>\n",
       "      <td>SBIN</td>\n",
       "      <td>EQ</td>\n",
       "      <td>N</td>\n",
       "      <td>2024-12-18</td>\n",
       "      <td>2024-12-17T18:30:00.000Z</td>\n",
       "      <td>852.00</td>\n",
       "      <td>837.00</td>\n",
       "      <td>851.00</td>\n",
       "      <td>838.15</td>\n",
       "      <td>...</td>\n",
       "      <td>912</td>\n",
       "      <td>600.65</td>\n",
       "      <td>186668</td>\n",
       "      <td>INE062A01020</td>\n",
       "      <td>2024-12-18T12:00:28.220Z</td>\n",
       "      <td>2024-12-18T12:00:28.220Z</td>\n",
       "      <td>0</td>\n",
       "      <td>None</td>\n",
       "      <td>840.95</td>\n",
       "      <td>18-Dec-2024</td>\n",
       "    </tr>\n",
       "    <tr>\n",
       "      <th>16</th>\n",
       "      <td>67640aff0fa404e90897f8a8</td>\n",
       "      <td>SBIN</td>\n",
       "      <td>EQ</td>\n",
       "      <td>N</td>\n",
       "      <td>2024-12-19</td>\n",
       "      <td>2024-12-18T18:30:00.000Z</td>\n",
       "      <td>838.00</td>\n",
       "      <td>820.20</td>\n",
       "      <td>824.60</td>\n",
       "      <td>832.80</td>\n",
       "      <td>...</td>\n",
       "      <td>912</td>\n",
       "      <td>600.65</td>\n",
       "      <td>192047</td>\n",
       "      <td>INE062A01020</td>\n",
       "      <td>2024-12-19T12:01:03.388Z</td>\n",
       "      <td>2024-12-19T12:01:03.388Z</td>\n",
       "      <td>0</td>\n",
       "      <td>None</td>\n",
       "      <td>829.17</td>\n",
       "      <td>19-Dec-2024</td>\n",
       "    </tr>\n",
       "    <tr>\n",
       "      <th>17</th>\n",
       "      <td>67655c7f8a68cdbf781078c0</td>\n",
       "      <td>SBIN</td>\n",
       "      <td>EQ</td>\n",
       "      <td>N</td>\n",
       "      <td>2024-12-20</td>\n",
       "      <td>2024-12-19T18:30:00.000Z</td>\n",
       "      <td>836.00</td>\n",
       "      <td>810.00</td>\n",
       "      <td>834.90</td>\n",
       "      <td>812.00</td>\n",
       "      <td>...</td>\n",
       "      <td>912</td>\n",
       "      <td>600.65</td>\n",
       "      <td>183839</td>\n",
       "      <td>INE062A01020</td>\n",
       "      <td>2024-12-20T12:01:03.714Z</td>\n",
       "      <td>2024-12-20T12:01:03.714Z</td>\n",
       "      <td>0</td>\n",
       "      <td>None</td>\n",
       "      <td>819.20</td>\n",
       "      <td>20-Dec-2024</td>\n",
       "    </tr>\n",
       "    <tr>\n",
       "      <th>18</th>\n",
       "      <td>67124de4c7e16b7ca76a1803</td>\n",
       "      <td>SBIN</td>\n",
       "      <td>EQ</td>\n",
       "      <td>N</td>\n",
       "      <td>2024-10-18</td>\n",
       "      <td>2024-10-17T18:30:00.000Z</td>\n",
       "      <td>822.60</td>\n",
       "      <td>802.90</td>\n",
       "      <td>811.10</td>\n",
       "      <td>820.40</td>\n",
       "      <td>...</td>\n",
       "      <td>912</td>\n",
       "      <td>543.20</td>\n",
       "      <td>228379</td>\n",
       "      <td>INE062A01020</td>\n",
       "      <td>2024-10-18T12:00:36.766Z</td>\n",
       "      <td>2024-10-18T12:00:36.766Z</td>\n",
       "      <td>0</td>\n",
       "      <td>None</td>\n",
       "      <td>815.60</td>\n",
       "      <td>18-Oct-2024</td>\n",
       "    </tr>\n",
       "    <tr>\n",
       "      <th>19</th>\n",
       "      <td>67164260cf7be881468b5f87</td>\n",
       "      <td>SBIN</td>\n",
       "      <td>EQ</td>\n",
       "      <td>N</td>\n",
       "      <td>2024-10-21</td>\n",
       "      <td>2024-10-20T18:30:00.000Z</td>\n",
       "      <td>826.45</td>\n",
       "      <td>809.00</td>\n",
       "      <td>824.70</td>\n",
       "      <td>813.95</td>\n",
       "      <td>...</td>\n",
       "      <td>912</td>\n",
       "      <td>543.20</td>\n",
       "      <td>222340</td>\n",
       "      <td>INE062A01020</td>\n",
       "      <td>2024-10-21T12:00:32.364Z</td>\n",
       "      <td>2024-10-21T12:00:32.364Z</td>\n",
       "      <td>0</td>\n",
       "      <td>None</td>\n",
       "      <td>815.24</td>\n",
       "      <td>21-Oct-2024</td>\n",
       "    </tr>\n",
       "    <tr>\n",
       "      <th>20</th>\n",
       "      <td>671793def67b3716574bc3f0</td>\n",
       "      <td>SBIN</td>\n",
       "      <td>EQ</td>\n",
       "      <td>N</td>\n",
       "      <td>2024-10-22</td>\n",
       "      <td>2024-10-21T18:30:00.000Z</td>\n",
       "      <td>816.85</td>\n",
       "      <td>787.50</td>\n",
       "      <td>814.00</td>\n",
       "      <td>790.40</td>\n",
       "      <td>...</td>\n",
       "      <td>912</td>\n",
       "      <td>543.20</td>\n",
       "      <td>344400</td>\n",
       "      <td>INE062A01020</td>\n",
       "      <td>2024-10-22T12:00:30.717Z</td>\n",
       "      <td>2024-10-22T12:00:30.717Z</td>\n",
       "      <td>0</td>\n",
       "      <td>None</td>\n",
       "      <td>799.45</td>\n",
       "      <td>22-Oct-2024</td>\n",
       "    </tr>\n",
       "    <tr>\n",
       "      <th>21</th>\n",
       "      <td>6719035b2bfd5a3822f851fd</td>\n",
       "      <td>SBIN</td>\n",
       "      <td>EQ</td>\n",
       "      <td>N</td>\n",
       "      <td>2024-10-23</td>\n",
       "      <td>2024-10-22T18:30:00.000Z</td>\n",
       "      <td>792.60</td>\n",
       "      <td>779.80</td>\n",
       "      <td>790.00</td>\n",
       "      <td>786.00</td>\n",
       "      <td>...</td>\n",
       "      <td>912</td>\n",
       "      <td>543.20</td>\n",
       "      <td>250789</td>\n",
       "      <td>INE062A01020</td>\n",
       "      <td>2024-10-23T14:08:27.580Z</td>\n",
       "      <td>2024-10-23T14:08:27.580Z</td>\n",
       "      <td>0</td>\n",
       "      <td>None</td>\n",
       "      <td>786.04</td>\n",
       "      <td>23-Oct-2024</td>\n",
       "    </tr>\n",
       "    <tr>\n",
       "      <th>22</th>\n",
       "      <td>671a36ff17c25820608a0661</td>\n",
       "      <td>SBIN</td>\n",
       "      <td>EQ</td>\n",
       "      <td>N</td>\n",
       "      <td>2024-10-24</td>\n",
       "      <td>2024-10-23T18:30:00.000Z</td>\n",
       "      <td>797.00</td>\n",
       "      <td>784.65</td>\n",
       "      <td>786.05</td>\n",
       "      <td>794.55</td>\n",
       "      <td>...</td>\n",
       "      <td>912</td>\n",
       "      <td>543.20</td>\n",
       "      <td>133769</td>\n",
       "      <td>INE062A01020</td>\n",
       "      <td>2024-10-24T12:01:03.566Z</td>\n",
       "      <td>2024-10-24T12:01:03.566Z</td>\n",
       "      <td>0</td>\n",
       "      <td>None</td>\n",
       "      <td>792.63</td>\n",
       "      <td>24-Oct-2024</td>\n",
       "    </tr>\n",
       "    <tr>\n",
       "      <th>23</th>\n",
       "      <td>671bceff9a9d50c68bb8c8e4</td>\n",
       "      <td>SBIN</td>\n",
       "      <td>EQ</td>\n",
       "      <td>N</td>\n",
       "      <td>2024-10-25</td>\n",
       "      <td>2024-10-24T18:30:00.000Z</td>\n",
       "      <td>800.75</td>\n",
       "      <td>772.00</td>\n",
       "      <td>798.00</td>\n",
       "      <td>780.95</td>\n",
       "      <td>...</td>\n",
       "      <td>912</td>\n",
       "      <td>543.20</td>\n",
       "      <td>260505</td>\n",
       "      <td>INE062A01020</td>\n",
       "      <td>2024-10-25T17:01:51.463Z</td>\n",
       "      <td>2024-10-25T17:01:51.463Z</td>\n",
       "      <td>0</td>\n",
       "      <td>None</td>\n",
       "      <td>782.04</td>\n",
       "      <td>25-Oct-2024</td>\n",
       "    </tr>\n",
       "    <tr>\n",
       "      <th>24</th>\n",
       "      <td>671f89dce5651d531a119efd</td>\n",
       "      <td>SBIN</td>\n",
       "      <td>EQ</td>\n",
       "      <td>N</td>\n",
       "      <td>2024-10-28</td>\n",
       "      <td>2024-10-27T18:30:00.000Z</td>\n",
       "      <td>803.95</td>\n",
       "      <td>783.55</td>\n",
       "      <td>783.80</td>\n",
       "      <td>792.05</td>\n",
       "      <td>...</td>\n",
       "      <td>912</td>\n",
       "      <td>555.15</td>\n",
       "      <td>301023</td>\n",
       "      <td>INE062A01020</td>\n",
       "      <td>2024-10-28T12:55:56.786Z</td>\n",
       "      <td>2024-10-28T12:55:56.786Z</td>\n",
       "      <td>0</td>\n",
       "      <td>None</td>\n",
       "      <td>795.07</td>\n",
       "      <td>28-Oct-2024</td>\n",
       "    </tr>\n",
       "    <tr>\n",
       "      <th>25</th>\n",
       "      <td>6720e98872782eab7d471b3a</td>\n",
       "      <td>SBIN</td>\n",
       "      <td>EQ</td>\n",
       "      <td>N</td>\n",
       "      <td>2024-10-29</td>\n",
       "      <td>2024-10-28T18:30:00.000Z</td>\n",
       "      <td>834.85</td>\n",
       "      <td>790.50</td>\n",
       "      <td>796.00</td>\n",
       "      <td>832.70</td>\n",
       "      <td>...</td>\n",
       "      <td>912</td>\n",
       "      <td>555.15</td>\n",
       "      <td>530275</td>\n",
       "      <td>INE062A01020</td>\n",
       "      <td>2024-10-29T13:56:24.775Z</td>\n",
       "      <td>2024-10-29T13:56:24.775Z</td>\n",
       "      <td>0</td>\n",
       "      <td>None</td>\n",
       "      <td>815.53</td>\n",
       "      <td>29-Oct-2024</td>\n",
       "    </tr>\n",
       "    <tr>\n",
       "      <th>26</th>\n",
       "      <td>67223dacaa99000031f65f06</td>\n",
       "      <td>SBIN</td>\n",
       "      <td>EQ</td>\n",
       "      <td>N</td>\n",
       "      <td>2024-10-30</td>\n",
       "      <td>2024-10-29T18:30:00.000Z</td>\n",
       "      <td>833.00</td>\n",
       "      <td>821.05</td>\n",
       "      <td>828.00</td>\n",
       "      <td>822.45</td>\n",
       "      <td>...</td>\n",
       "      <td>912</td>\n",
       "      <td>555.15</td>\n",
       "      <td>216063</td>\n",
       "      <td>INE062A01020</td>\n",
       "      <td>2024-10-30T14:07:40.804Z</td>\n",
       "      <td>2024-10-30T14:07:40.804Z</td>\n",
       "      <td>0</td>\n",
       "      <td>None</td>\n",
       "      <td>826.52</td>\n",
       "      <td>30-Oct-2024</td>\n",
       "    </tr>\n",
       "    <tr>\n",
       "      <th>27</th>\n",
       "      <td>6723715e01eda0e61eca1388</td>\n",
       "      <td>SBIN</td>\n",
       "      <td>EQ</td>\n",
       "      <td>N</td>\n",
       "      <td>2024-10-31</td>\n",
       "      <td>2024-10-30T18:30:00.000Z</td>\n",
       "      <td>828.00</td>\n",
       "      <td>813.55</td>\n",
       "      <td>820.00</td>\n",
       "      <td>820.20</td>\n",
       "      <td>...</td>\n",
       "      <td>912</td>\n",
       "      <td>555.15</td>\n",
       "      <td>201887</td>\n",
       "      <td>INE062A01020</td>\n",
       "      <td>2024-10-31T12:00:30.541Z</td>\n",
       "      <td>2024-10-31T12:00:30.541Z</td>\n",
       "      <td>0</td>\n",
       "      <td>None</td>\n",
       "      <td>819.50</td>\n",
       "      <td>31-Oct-2024</td>\n",
       "    </tr>\n",
       "    <tr>\n",
       "      <th>28</th>\n",
       "      <td>6725022129f871cd05392847</td>\n",
       "      <td>SBIN</td>\n",
       "      <td>EQ</td>\n",
       "      <td>N</td>\n",
       "      <td>2024-11-01</td>\n",
       "      <td>2024-10-31T18:30:00.000Z</td>\n",
       "      <td>825.60</td>\n",
       "      <td>818.90</td>\n",
       "      <td>822.40</td>\n",
       "      <td>821.20</td>\n",
       "      <td>...</td>\n",
       "      <td>912</td>\n",
       "      <td>555.15</td>\n",
       "      <td>49950</td>\n",
       "      <td>INE062A01020</td>\n",
       "      <td>2024-11-01T16:30:25.788Z</td>\n",
       "      <td>2024-11-01T16:30:25.788Z</td>\n",
       "      <td>0</td>\n",
       "      <td>None</td>\n",
       "      <td>822.73</td>\n",
       "      <td>01-Nov-2024</td>\n",
       "    </tr>\n",
       "    <tr>\n",
       "      <th>29</th>\n",
       "      <td>6728b780b83724e3adea32e9</td>\n",
       "      <td>SBIN</td>\n",
       "      <td>EQ</td>\n",
       "      <td>N</td>\n",
       "      <td>2024-11-04</td>\n",
       "      <td>2024-11-03T18:30:00.000Z</td>\n",
       "      <td>837.50</td>\n",
       "      <td>807.10</td>\n",
       "      <td>822.70</td>\n",
       "      <td>829.85</td>\n",
       "      <td>...</td>\n",
       "      <td>912</td>\n",
       "      <td>555.15</td>\n",
       "      <td>251372</td>\n",
       "      <td>INE062A01020</td>\n",
       "      <td>2024-11-04T12:01:04.442Z</td>\n",
       "      <td>2024-11-04T12:01:04.442Z</td>\n",
       "      <td>0</td>\n",
       "      <td>None</td>\n",
       "      <td>821.64</td>\n",
       "      <td>04-Nov-2024</td>\n",
       "    </tr>\n",
       "    <tr>\n",
       "      <th>30</th>\n",
       "      <td>672a0900381b36a9f984a7c1</td>\n",
       "      <td>SBIN</td>\n",
       "      <td>EQ</td>\n",
       "      <td>N</td>\n",
       "      <td>2024-11-05</td>\n",
       "      <td>2024-11-04T18:30:00.000Z</td>\n",
       "      <td>851.40</td>\n",
       "      <td>826.25</td>\n",
       "      <td>829.85</td>\n",
       "      <td>849.20</td>\n",
       "      <td>...</td>\n",
       "      <td>912</td>\n",
       "      <td>555.15</td>\n",
       "      <td>425258</td>\n",
       "      <td>INE062A01020</td>\n",
       "      <td>2024-11-05T12:01:04.638Z</td>\n",
       "      <td>2024-11-05T12:01:04.638Z</td>\n",
       "      <td>0</td>\n",
       "      <td>None</td>\n",
       "      <td>840.67</td>\n",
       "      <td>05-Nov-2024</td>\n",
       "    </tr>\n",
       "    <tr>\n",
       "      <th>31</th>\n",
       "      <td>672b7e6a442e6080b48744d0</td>\n",
       "      <td>SBIN</td>\n",
       "      <td>EQ</td>\n",
       "      <td>N</td>\n",
       "      <td>2024-11-06</td>\n",
       "      <td>2024-11-05T18:30:00.000Z</td>\n",
       "      <td>861.40</td>\n",
       "      <td>846.20</td>\n",
       "      <td>849.20</td>\n",
       "      <td>854.80</td>\n",
       "      <td>...</td>\n",
       "      <td>912</td>\n",
       "      <td>555.15</td>\n",
       "      <td>254740</td>\n",
       "      <td>INE062A01020</td>\n",
       "      <td>2024-11-06T14:34:18.485Z</td>\n",
       "      <td>2024-11-06T14:34:18.485Z</td>\n",
       "      <td>0</td>\n",
       "      <td>None</td>\n",
       "      <td>855.57</td>\n",
       "      <td>06-Nov-2024</td>\n",
       "    </tr>\n",
       "    <tr>\n",
       "      <th>32</th>\n",
       "      <td>672cabff2c6f1235ce77e600</td>\n",
       "      <td>SBIN</td>\n",
       "      <td>EQ</td>\n",
       "      <td>N</td>\n",
       "      <td>2024-11-07</td>\n",
       "      <td>2024-11-06T18:30:00.000Z</td>\n",
       "      <td>862.40</td>\n",
       "      <td>846.70</td>\n",
       "      <td>861.00</td>\n",
       "      <td>859.60</td>\n",
       "      <td>...</td>\n",
       "      <td>912</td>\n",
       "      <td>555.15</td>\n",
       "      <td>222825</td>\n",
       "      <td>INE062A01020</td>\n",
       "      <td>2024-11-07T12:01:03.775Z</td>\n",
       "      <td>2024-11-07T12:01:03.775Z</td>\n",
       "      <td>0</td>\n",
       "      <td>None</td>\n",
       "      <td>855.61</td>\n",
       "      <td>07-Nov-2024</td>\n",
       "    </tr>\n",
       "    <tr>\n",
       "      <th>33</th>\n",
       "      <td>672e19bdefd84b77a866f8de</td>\n",
       "      <td>SBIN</td>\n",
       "      <td>EQ</td>\n",
       "      <td>N</td>\n",
       "      <td>2024-11-08</td>\n",
       "      <td>2024-11-07T18:30:00.000Z</td>\n",
       "      <td>863.50</td>\n",
       "      <td>834.20</td>\n",
       "      <td>859.60</td>\n",
       "      <td>843.15</td>\n",
       "      <td>...</td>\n",
       "      <td>912</td>\n",
       "      <td>555.15</td>\n",
       "      <td>449937</td>\n",
       "      <td>INE062A01020</td>\n",
       "      <td>2024-11-08T14:01:33.959Z</td>\n",
       "      <td>2024-11-08T14:01:33.959Z</td>\n",
       "      <td>0</td>\n",
       "      <td>None</td>\n",
       "      <td>847.86</td>\n",
       "      <td>08-Nov-2024</td>\n",
       "    </tr>\n",
       "    <tr>\n",
       "      <th>34</th>\n",
       "      <td>673200376a51627d52e479b4</td>\n",
       "      <td>SBIN</td>\n",
       "      <td>EQ</td>\n",
       "      <td>N</td>\n",
       "      <td>2024-11-11</td>\n",
       "      <td>2024-11-10T18:30:00.000Z</td>\n",
       "      <td>854.00</td>\n",
       "      <td>842.00</td>\n",
       "      <td>846.00</td>\n",
       "      <td>847.65</td>\n",
       "      <td>...</td>\n",
       "      <td>912</td>\n",
       "      <td>555.15</td>\n",
       "      <td>263092</td>\n",
       "      <td>INE062A01020</td>\n",
       "      <td>2024-11-11T13:01:43.123Z</td>\n",
       "      <td>2024-11-11T13:01:43.123Z</td>\n",
       "      <td>0</td>\n",
       "      <td>None</td>\n",
       "      <td>848.56</td>\n",
       "      <td>11-Nov-2024</td>\n",
       "    </tr>\n",
       "    <tr>\n",
       "      <th>35</th>\n",
       "      <td>67334781cabf8e1b7d93cc70</td>\n",
       "      <td>SBIN</td>\n",
       "      <td>EQ</td>\n",
       "      <td>N</td>\n",
       "      <td>2024-11-12</td>\n",
       "      <td>2024-11-11T18:30:00.000Z</td>\n",
       "      <td>853.40</td>\n",
       "      <td>824.30</td>\n",
       "      <td>852.50</td>\n",
       "      <td>826.70</td>\n",
       "      <td>...</td>\n",
       "      <td>912</td>\n",
       "      <td>555.15</td>\n",
       "      <td>250017</td>\n",
       "      <td>INE062A01020</td>\n",
       "      <td>2024-11-12T12:18:09.450Z</td>\n",
       "      <td>2024-11-12T12:18:09.450Z</td>\n",
       "      <td>0</td>\n",
       "      <td>None</td>\n",
       "      <td>835.44</td>\n",
       "      <td>12-Nov-2024</td>\n",
       "    </tr>\n",
       "    <tr>\n",
       "      <th>36</th>\n",
       "      <td>67349500036449975278ea37</td>\n",
       "      <td>SBIN</td>\n",
       "      <td>EQ</td>\n",
       "      <td>N</td>\n",
       "      <td>2024-11-13</td>\n",
       "      <td>2024-11-12T18:30:00.000Z</td>\n",
       "      <td>831.75</td>\n",
       "      <td>804.65</td>\n",
       "      <td>823.35</td>\n",
       "      <td>808.65</td>\n",
       "      <td>...</td>\n",
       "      <td>912</td>\n",
       "      <td>555.15</td>\n",
       "      <td>281743</td>\n",
       "      <td>INE062A01020</td>\n",
       "      <td>2024-11-13T12:01:04.622Z</td>\n",
       "      <td>2024-11-13T12:01:04.622Z</td>\n",
       "      <td>0</td>\n",
       "      <td>None</td>\n",
       "      <td>816.00</td>\n",
       "      <td>13-Nov-2024</td>\n",
       "    </tr>\n",
       "    <tr>\n",
       "      <th>37</th>\n",
       "      <td>6735e67feac4892b7af306e6</td>\n",
       "      <td>SBIN</td>\n",
       "      <td>EQ</td>\n",
       "      <td>N</td>\n",
       "      <td>2024-11-14</td>\n",
       "      <td>2024-11-13T18:30:00.000Z</td>\n",
       "      <td>818.00</td>\n",
       "      <td>801.05</td>\n",
       "      <td>808.65</td>\n",
       "      <td>804.25</td>\n",
       "      <td>...</td>\n",
       "      <td>912</td>\n",
       "      <td>555.15</td>\n",
       "      <td>223899</td>\n",
       "      <td>INE062A01020</td>\n",
       "      <td>2024-11-14T12:01:03.674Z</td>\n",
       "      <td>2024-11-14T12:01:03.674Z</td>\n",
       "      <td>0</td>\n",
       "      <td>None</td>\n",
       "      <td>807.42</td>\n",
       "      <td>14-Nov-2024</td>\n",
       "    </tr>\n",
       "    <tr>\n",
       "      <th>38</th>\n",
       "      <td>673b55ffd3f4c3bb62575ca7</td>\n",
       "      <td>SBIN</td>\n",
       "      <td>EQ</td>\n",
       "      <td>N</td>\n",
       "      <td>2024-11-18</td>\n",
       "      <td>2024-11-17T18:30:00.000Z</td>\n",
       "      <td>816.70</td>\n",
       "      <td>799.25</td>\n",
       "      <td>811.00</td>\n",
       "      <td>814.30</td>\n",
       "      <td>...</td>\n",
       "      <td>912</td>\n",
       "      <td>555.15</td>\n",
       "      <td>224651</td>\n",
       "      <td>INE062A01020</td>\n",
       "      <td>2024-11-18T14:58:07.351Z</td>\n",
       "      <td>2024-11-18T14:58:07.351Z</td>\n",
       "      <td>0</td>\n",
       "      <td>None</td>\n",
       "      <td>809.14</td>\n",
       "      <td>18-Nov-2024</td>\n",
       "    </tr>\n",
       "    <tr>\n",
       "      <th>39</th>\n",
       "      <td>673c9d507d371e69501c02d5</td>\n",
       "      <td>SBIN</td>\n",
       "      <td>EQ</td>\n",
       "      <td>N</td>\n",
       "      <td>2024-11-19</td>\n",
       "      <td>2024-11-18T18:30:00.000Z</td>\n",
       "      <td>820.30</td>\n",
       "      <td>800.10</td>\n",
       "      <td>819.00</td>\n",
       "      <td>803.00</td>\n",
       "      <td>...</td>\n",
       "      <td>912</td>\n",
       "      <td>555.15</td>\n",
       "      <td>249377</td>\n",
       "      <td>INE062A01020</td>\n",
       "      <td>2024-11-19T14:14:41.004Z</td>\n",
       "      <td>2024-11-19T14:14:41.004Z</td>\n",
       "      <td>0</td>\n",
       "      <td>None</td>\n",
       "      <td>809.12</td>\n",
       "      <td>19-Nov-2024</td>\n",
       "    </tr>\n",
       "    <tr>\n",
       "      <th>40</th>\n",
       "      <td>673f4a977856f2a6c7747870</td>\n",
       "      <td>SBIN</td>\n",
       "      <td>EQ</td>\n",
       "      <td>N</td>\n",
       "      <td>2024-11-21</td>\n",
       "      <td>2024-11-20T18:30:00.000Z</td>\n",
       "      <td>798.50</td>\n",
       "      <td>761.55</td>\n",
       "      <td>798.50</td>\n",
       "      <td>780.75</td>\n",
       "      <td>...</td>\n",
       "      <td>912</td>\n",
       "      <td>555.15</td>\n",
       "      <td>546871</td>\n",
       "      <td>INE062A01020</td>\n",
       "      <td>2024-11-21T14:58:31.934Z</td>\n",
       "      <td>2024-11-21T14:58:31.934Z</td>\n",
       "      <td>0</td>\n",
       "      <td>None</td>\n",
       "      <td>774.76</td>\n",
       "      <td>21-Nov-2024</td>\n",
       "    </tr>\n",
       "    <tr>\n",
       "      <th>41</th>\n",
       "      <td>6740bc9fa04410b2051ac20a</td>\n",
       "      <td>SBIN</td>\n",
       "      <td>EQ</td>\n",
       "      <td>N</td>\n",
       "      <td>2024-11-22</td>\n",
       "      <td>2024-11-21T18:30:00.000Z</td>\n",
       "      <td>819.95</td>\n",
       "      <td>784.05</td>\n",
       "      <td>786.00</td>\n",
       "      <td>816.05</td>\n",
       "      <td>...</td>\n",
       "      <td>912</td>\n",
       "      <td>555.15</td>\n",
       "      <td>351754</td>\n",
       "      <td>INE062A01020</td>\n",
       "      <td>2024-11-22T17:17:19.723Z</td>\n",
       "      <td>2024-11-22T17:17:19.723Z</td>\n",
       "      <td>0</td>\n",
       "      <td>None</td>\n",
       "      <td>807.63</td>\n",
       "      <td>22-Nov-2024</td>\n",
       "    </tr>\n",
       "    <tr>\n",
       "      <th>42</th>\n",
       "      <td>67446939ade043122fff0a29</td>\n",
       "      <td>SBIN</td>\n",
       "      <td>EQ</td>\n",
       "      <td>N</td>\n",
       "      <td>2024-11-25</td>\n",
       "      <td>2024-11-24T18:30:00.000Z</td>\n",
       "      <td>849.60</td>\n",
       "      <td>825.65</td>\n",
       "      <td>827.00</td>\n",
       "      <td>844.45</td>\n",
       "      <td>...</td>\n",
       "      <td>912</td>\n",
       "      <td>561.10</td>\n",
       "      <td>300921</td>\n",
       "      <td>INE062A01020</td>\n",
       "      <td>2024-11-25T12:10:33.432Z</td>\n",
       "      <td>2024-11-25T12:10:33.432Z</td>\n",
       "      <td>0</td>\n",
       "      <td>None</td>\n",
       "      <td>843.72</td>\n",
       "      <td>25-Nov-2024</td>\n",
       "    </tr>\n",
       "    <tr>\n",
       "      <th>43</th>\n",
       "      <td>6745b85d92e9a1a6f6c21bad</td>\n",
       "      <td>SBIN</td>\n",
       "      <td>EQ</td>\n",
       "      <td>N</td>\n",
       "      <td>2024-11-26</td>\n",
       "      <td>2024-11-25T18:30:00.000Z</td>\n",
       "      <td>846.70</td>\n",
       "      <td>835.55</td>\n",
       "      <td>844.00</td>\n",
       "      <td>839.40</td>\n",
       "      <td>...</td>\n",
       "      <td>912</td>\n",
       "      <td>561.10</td>\n",
       "      <td>155469</td>\n",
       "      <td>INE062A01020</td>\n",
       "      <td>2024-11-26T12:00:29.505Z</td>\n",
       "      <td>2024-11-26T12:00:29.505Z</td>\n",
       "      <td>0</td>\n",
       "      <td>None</td>\n",
       "      <td>840.11</td>\n",
       "      <td>26-Nov-2024</td>\n",
       "    </tr>\n",
       "    <tr>\n",
       "      <th>44</th>\n",
       "      <td>67470a0095724a0f1a753153</td>\n",
       "      <td>SBIN</td>\n",
       "      <td>EQ</td>\n",
       "      <td>N</td>\n",
       "      <td>2024-11-27</td>\n",
       "      <td>2024-11-26T18:30:00.000Z</td>\n",
       "      <td>842.50</td>\n",
       "      <td>832.10</td>\n",
       "      <td>838.50</td>\n",
       "      <td>834.10</td>\n",
       "      <td>...</td>\n",
       "      <td>912</td>\n",
       "      <td>561.10</td>\n",
       "      <td>151032</td>\n",
       "      <td>INE062A01020</td>\n",
       "      <td>2024-11-27T12:01:04.105Z</td>\n",
       "      <td>2024-11-27T12:01:04.105Z</td>\n",
       "      <td>0</td>\n",
       "      <td>None</td>\n",
       "      <td>836.67</td>\n",
       "      <td>27-Nov-2024</td>\n",
       "    </tr>\n",
       "  </tbody>\n",
       "</table>\n",
       "<p>45 rows × 24 columns</p>\n",
       "</div>"
      ],
      "text/plain": [
       "                         _id CH_SYMBOL CH_SERIES CH_MARKET_TYPE CH_TIMESTAMP  \\\n",
       "0   67470a0095724a0f1a753153      SBIN        EQ              N   2024-11-27   \n",
       "1   6748852c698d46a5805e08ae      SBIN        EQ              N   2024-11-28   \n",
       "2   6749c28a03e42dbdbf1f55ab      SBIN        EQ              N   2024-11-29   \n",
       "3   674da1809877930d399cbdc9      SBIN        EQ              N   2024-12-02   \n",
       "4   674ef2ff255fd66265b223eb      SBIN        EQ              N   2024-12-03   \n",
       "5   6750447f5efd600b138bebe2      SBIN        EQ              N   2024-12-04   \n",
       "6   675195ff8acca1b1a49d7e22      SBIN        EQ              N   2024-12-05   \n",
       "7   6752e75d2630ec1e3268609f      SBIN        EQ              N   2024-12-06   \n",
       "8   6756dbff39a54ec28ecfb8a3      SBIN        EQ              N   2024-12-09   \n",
       "9   67582d7f16c352e2b141f593      SBIN        EQ              N   2024-12-10   \n",
       "10  67597edc69e32eca3c96828d      SBIN        EQ              N   2024-12-11   \n",
       "11  675ad2b9aba46b69d5047c53      SBIN        EQ              N   2024-12-12   \n",
       "12  675c232c39a54ec28ecfca9e      SBIN        EQ              N   2024-12-13   \n",
       "13  67601680eaa921f6ae66bda8      SBIN        EQ              N   2024-12-16   \n",
       "14  676167dcda3f93657ef45a15      SBIN        EQ              N   2024-12-17   \n",
       "15  6762b95c0fa404e90897ebd9      SBIN        EQ              N   2024-12-18   \n",
       "16  67640aff0fa404e90897f8a8      SBIN        EQ              N   2024-12-19   \n",
       "17  67655c7f8a68cdbf781078c0      SBIN        EQ              N   2024-12-20   \n",
       "18  67124de4c7e16b7ca76a1803      SBIN        EQ              N   2024-10-18   \n",
       "19  67164260cf7be881468b5f87      SBIN        EQ              N   2024-10-21   \n",
       "20  671793def67b3716574bc3f0      SBIN        EQ              N   2024-10-22   \n",
       "21  6719035b2bfd5a3822f851fd      SBIN        EQ              N   2024-10-23   \n",
       "22  671a36ff17c25820608a0661      SBIN        EQ              N   2024-10-24   \n",
       "23  671bceff9a9d50c68bb8c8e4      SBIN        EQ              N   2024-10-25   \n",
       "24  671f89dce5651d531a119efd      SBIN        EQ              N   2024-10-28   \n",
       "25  6720e98872782eab7d471b3a      SBIN        EQ              N   2024-10-29   \n",
       "26  67223dacaa99000031f65f06      SBIN        EQ              N   2024-10-30   \n",
       "27  6723715e01eda0e61eca1388      SBIN        EQ              N   2024-10-31   \n",
       "28  6725022129f871cd05392847      SBIN        EQ              N   2024-11-01   \n",
       "29  6728b780b83724e3adea32e9      SBIN        EQ              N   2024-11-04   \n",
       "30  672a0900381b36a9f984a7c1      SBIN        EQ              N   2024-11-05   \n",
       "31  672b7e6a442e6080b48744d0      SBIN        EQ              N   2024-11-06   \n",
       "32  672cabff2c6f1235ce77e600      SBIN        EQ              N   2024-11-07   \n",
       "33  672e19bdefd84b77a866f8de      SBIN        EQ              N   2024-11-08   \n",
       "34  673200376a51627d52e479b4      SBIN        EQ              N   2024-11-11   \n",
       "35  67334781cabf8e1b7d93cc70      SBIN        EQ              N   2024-11-12   \n",
       "36  67349500036449975278ea37      SBIN        EQ              N   2024-11-13   \n",
       "37  6735e67feac4892b7af306e6      SBIN        EQ              N   2024-11-14   \n",
       "38  673b55ffd3f4c3bb62575ca7      SBIN        EQ              N   2024-11-18   \n",
       "39  673c9d507d371e69501c02d5      SBIN        EQ              N   2024-11-19   \n",
       "40  673f4a977856f2a6c7747870      SBIN        EQ              N   2024-11-21   \n",
       "41  6740bc9fa04410b2051ac20a      SBIN        EQ              N   2024-11-22   \n",
       "42  67446939ade043122fff0a29      SBIN        EQ              N   2024-11-25   \n",
       "43  6745b85d92e9a1a6f6c21bad      SBIN        EQ              N   2024-11-26   \n",
       "44  67470a0095724a0f1a753153      SBIN        EQ              N   2024-11-27   \n",
       "\n",
       "                   TIMESTAMP  CH_TRADE_HIGH_PRICE  CH_TRADE_LOW_PRICE  \\\n",
       "0   2024-11-26T18:30:00.000Z               842.50              832.10   \n",
       "1   2024-11-27T18:30:00.000Z               845.80              830.50   \n",
       "2   2024-11-28T18:30:00.000Z               844.05              831.55   \n",
       "3   2024-12-01T18:30:00.000Z               842.00              832.70   \n",
       "4   2024-12-02T18:30:00.000Z               856.60              836.90   \n",
       "5   2024-12-03T18:30:00.000Z               864.00              850.30   \n",
       "6   2024-12-04T18:30:00.000Z               871.45              855.60   \n",
       "7   2024-12-05T18:30:00.000Z               875.45              857.00   \n",
       "8   2024-12-08T18:30:00.000Z               866.85              856.95   \n",
       "9   2024-12-09T18:30:00.000Z               868.95              858.05   \n",
       "10  2024-12-10T18:30:00.000Z               869.85              860.95   \n",
       "11  2024-12-11T18:30:00.000Z               864.30              851.15   \n",
       "12  2024-12-12T18:30:00.000Z               862.90              835.00   \n",
       "13  2024-12-15T18:30:00.000Z               866.40              857.80   \n",
       "14  2024-12-16T18:30:00.000Z               862.60              847.05   \n",
       "15  2024-12-17T18:30:00.000Z               852.00              837.00   \n",
       "16  2024-12-18T18:30:00.000Z               838.00              820.20   \n",
       "17  2024-12-19T18:30:00.000Z               836.00              810.00   \n",
       "18  2024-10-17T18:30:00.000Z               822.60              802.90   \n",
       "19  2024-10-20T18:30:00.000Z               826.45              809.00   \n",
       "20  2024-10-21T18:30:00.000Z               816.85              787.50   \n",
       "21  2024-10-22T18:30:00.000Z               792.60              779.80   \n",
       "22  2024-10-23T18:30:00.000Z               797.00              784.65   \n",
       "23  2024-10-24T18:30:00.000Z               800.75              772.00   \n",
       "24  2024-10-27T18:30:00.000Z               803.95              783.55   \n",
       "25  2024-10-28T18:30:00.000Z               834.85              790.50   \n",
       "26  2024-10-29T18:30:00.000Z               833.00              821.05   \n",
       "27  2024-10-30T18:30:00.000Z               828.00              813.55   \n",
       "28  2024-10-31T18:30:00.000Z               825.60              818.90   \n",
       "29  2024-11-03T18:30:00.000Z               837.50              807.10   \n",
       "30  2024-11-04T18:30:00.000Z               851.40              826.25   \n",
       "31  2024-11-05T18:30:00.000Z               861.40              846.20   \n",
       "32  2024-11-06T18:30:00.000Z               862.40              846.70   \n",
       "33  2024-11-07T18:30:00.000Z               863.50              834.20   \n",
       "34  2024-11-10T18:30:00.000Z               854.00              842.00   \n",
       "35  2024-11-11T18:30:00.000Z               853.40              824.30   \n",
       "36  2024-11-12T18:30:00.000Z               831.75              804.65   \n",
       "37  2024-11-13T18:30:00.000Z               818.00              801.05   \n",
       "38  2024-11-17T18:30:00.000Z               816.70              799.25   \n",
       "39  2024-11-18T18:30:00.000Z               820.30              800.10   \n",
       "40  2024-11-20T18:30:00.000Z               798.50              761.55   \n",
       "41  2024-11-21T18:30:00.000Z               819.95              784.05   \n",
       "42  2024-11-24T18:30:00.000Z               849.60              825.65   \n",
       "43  2024-11-25T18:30:00.000Z               846.70              835.55   \n",
       "44  2024-11-26T18:30:00.000Z               842.50              832.10   \n",
       "\n",
       "    CH_OPENING_PRICE  CH_CLOSING_PRICE  ...  CH_52WEEK_HIGH_PRICE  \\\n",
       "0             838.50            834.10  ...                   912   \n",
       "1             834.10            838.85  ...                   912   \n",
       "2             841.10            838.95  ...                   912   \n",
       "3             838.95            836.40  ...                   912   \n",
       "4             838.00            853.95  ...                   912   \n",
       "5             853.95            859.70  ...                   912   \n",
       "6             860.00            865.45  ...                   912   \n",
       "7             865.25            863.65  ...                   912   \n",
       "8             859.00            858.05  ...                   912   \n",
       "9             861.80            867.50  ...                   912   \n",
       "10            867.50            861.60  ...                   912   \n",
       "11            861.50            853.70  ...                   912   \n",
       "12            852.60            861.55  ...                   912   \n",
       "13            859.80            860.95  ...                   912   \n",
       "14            858.55            850.55  ...                   912   \n",
       "15            851.00            838.15  ...                   912   \n",
       "16            824.60            832.80  ...                   912   \n",
       "17            834.90            812.00  ...                   912   \n",
       "18            811.10            820.40  ...                   912   \n",
       "19            824.70            813.95  ...                   912   \n",
       "20            814.00            790.40  ...                   912   \n",
       "21            790.00            786.00  ...                   912   \n",
       "22            786.05            794.55  ...                   912   \n",
       "23            798.00            780.95  ...                   912   \n",
       "24            783.80            792.05  ...                   912   \n",
       "25            796.00            832.70  ...                   912   \n",
       "26            828.00            822.45  ...                   912   \n",
       "27            820.00            820.20  ...                   912   \n",
       "28            822.40            821.20  ...                   912   \n",
       "29            822.70            829.85  ...                   912   \n",
       "30            829.85            849.20  ...                   912   \n",
       "31            849.20            854.80  ...                   912   \n",
       "32            861.00            859.60  ...                   912   \n",
       "33            859.60            843.15  ...                   912   \n",
       "34            846.00            847.65  ...                   912   \n",
       "35            852.50            826.70  ...                   912   \n",
       "36            823.35            808.65  ...                   912   \n",
       "37            808.65            804.25  ...                   912   \n",
       "38            811.00            814.30  ...                   912   \n",
       "39            819.00            803.00  ...                   912   \n",
       "40            798.50            780.75  ...                   912   \n",
       "41            786.00            816.05  ...                   912   \n",
       "42            827.00            844.45  ...                   912   \n",
       "43            844.00            839.40  ...                   912   \n",
       "44            838.50            834.10  ...                   912   \n",
       "\n",
       "    CH_52WEEK_LOW_PRICE  CH_TOTAL_TRADES       CH_ISIN  \\\n",
       "0                561.10           151032  INE062A01020   \n",
       "1                561.10           254541  INE062A01020   \n",
       "2                561.10           181367  INE062A01020   \n",
       "3                584.55           181197  INE062A01020   \n",
       "4                584.55           235478  INE062A01020   \n",
       "5                584.55           237875  INE062A01020   \n",
       "6                584.55           242317  INE062A01020   \n",
       "7                584.55           451441  INE062A01020   \n",
       "8                600.65           186481  INE062A01020   \n",
       "9                600.65           158185  INE062A01020   \n",
       "10               600.65           167495  INE062A01020   \n",
       "11               600.65           168059  INE062A01020   \n",
       "12               600.65           228551  INE062A01020   \n",
       "13               600.65           151330  INE062A01020   \n",
       "14               600.65           193366  INE062A01020   \n",
       "15               600.65           186668  INE062A01020   \n",
       "16               600.65           192047  INE062A01020   \n",
       "17               600.65           183839  INE062A01020   \n",
       "18               543.20           228379  INE062A01020   \n",
       "19               543.20           222340  INE062A01020   \n",
       "20               543.20           344400  INE062A01020   \n",
       "21               543.20           250789  INE062A01020   \n",
       "22               543.20           133769  INE062A01020   \n",
       "23               543.20           260505  INE062A01020   \n",
       "24               555.15           301023  INE062A01020   \n",
       "25               555.15           530275  INE062A01020   \n",
       "26               555.15           216063  INE062A01020   \n",
       "27               555.15           201887  INE062A01020   \n",
       "28               555.15            49950  INE062A01020   \n",
       "29               555.15           251372  INE062A01020   \n",
       "30               555.15           425258  INE062A01020   \n",
       "31               555.15           254740  INE062A01020   \n",
       "32               555.15           222825  INE062A01020   \n",
       "33               555.15           449937  INE062A01020   \n",
       "34               555.15           263092  INE062A01020   \n",
       "35               555.15           250017  INE062A01020   \n",
       "36               555.15           281743  INE062A01020   \n",
       "37               555.15           223899  INE062A01020   \n",
       "38               555.15           224651  INE062A01020   \n",
       "39               555.15           249377  INE062A01020   \n",
       "40               555.15           546871  INE062A01020   \n",
       "41               555.15           351754  INE062A01020   \n",
       "42               561.10           300921  INE062A01020   \n",
       "43               561.10           155469  INE062A01020   \n",
       "44               561.10           151032  INE062A01020   \n",
       "\n",
       "                   createdAt                 updatedAt  __v SLBMH_TOT_VAL  \\\n",
       "0   2024-11-27T12:01:04.105Z  2024-11-27T12:01:04.105Z    0          None   \n",
       "1   2024-11-28T14:58:52.454Z  2024-11-28T14:58:52.454Z    0          None   \n",
       "2   2024-11-29T13:32:58.649Z  2024-11-29T13:32:58.649Z    0          None   \n",
       "3   2024-12-02T12:01:04.357Z  2024-12-02T12:01:04.357Z    0          None   \n",
       "4   2024-12-03T12:01:03.243Z  2024-12-03T12:01:03.243Z    0          None   \n",
       "5   2024-12-04T12:01:03.252Z  2024-12-04T12:01:03.252Z    0          None   \n",
       "6   2024-12-05T12:01:03.488Z  2024-12-05T12:01:03.488Z    0          None   \n",
       "7   2024-12-06T12:00:29.067Z  2024-12-06T12:00:29.067Z    0          None   \n",
       "8   2024-12-09T12:01:03.062Z  2024-12-09T12:01:03.062Z    0          None   \n",
       "9   2024-12-10T12:01:03.892Z  2024-12-10T12:01:03.892Z    0          None   \n",
       "10  2024-12-11T12:00:28.599Z  2024-12-11T12:00:28.599Z    0          None   \n",
       "11  2024-12-12T12:10:33.292Z  2024-12-12T12:10:33.292Z    0          None   \n",
       "12  2024-12-13T12:06:04.961Z  2024-12-13T12:06:04.961Z    0          None   \n",
       "13  2024-12-16T12:01:04.058Z  2024-12-16T12:01:04.058Z    0          None   \n",
       "14  2024-12-17T12:00:28.813Z  2024-12-17T12:00:28.813Z    0          None   \n",
       "15  2024-12-18T12:00:28.220Z  2024-12-18T12:00:28.220Z    0          None   \n",
       "16  2024-12-19T12:01:03.388Z  2024-12-19T12:01:03.388Z    0          None   \n",
       "17  2024-12-20T12:01:03.714Z  2024-12-20T12:01:03.714Z    0          None   \n",
       "18  2024-10-18T12:00:36.766Z  2024-10-18T12:00:36.766Z    0          None   \n",
       "19  2024-10-21T12:00:32.364Z  2024-10-21T12:00:32.364Z    0          None   \n",
       "20  2024-10-22T12:00:30.717Z  2024-10-22T12:00:30.717Z    0          None   \n",
       "21  2024-10-23T14:08:27.580Z  2024-10-23T14:08:27.580Z    0          None   \n",
       "22  2024-10-24T12:01:03.566Z  2024-10-24T12:01:03.566Z    0          None   \n",
       "23  2024-10-25T17:01:51.463Z  2024-10-25T17:01:51.463Z    0          None   \n",
       "24  2024-10-28T12:55:56.786Z  2024-10-28T12:55:56.786Z    0          None   \n",
       "25  2024-10-29T13:56:24.775Z  2024-10-29T13:56:24.775Z    0          None   \n",
       "26  2024-10-30T14:07:40.804Z  2024-10-30T14:07:40.804Z    0          None   \n",
       "27  2024-10-31T12:00:30.541Z  2024-10-31T12:00:30.541Z    0          None   \n",
       "28  2024-11-01T16:30:25.788Z  2024-11-01T16:30:25.788Z    0          None   \n",
       "29  2024-11-04T12:01:04.442Z  2024-11-04T12:01:04.442Z    0          None   \n",
       "30  2024-11-05T12:01:04.638Z  2024-11-05T12:01:04.638Z    0          None   \n",
       "31  2024-11-06T14:34:18.485Z  2024-11-06T14:34:18.485Z    0          None   \n",
       "32  2024-11-07T12:01:03.775Z  2024-11-07T12:01:03.775Z    0          None   \n",
       "33  2024-11-08T14:01:33.959Z  2024-11-08T14:01:33.959Z    0          None   \n",
       "34  2024-11-11T13:01:43.123Z  2024-11-11T13:01:43.123Z    0          None   \n",
       "35  2024-11-12T12:18:09.450Z  2024-11-12T12:18:09.450Z    0          None   \n",
       "36  2024-11-13T12:01:04.622Z  2024-11-13T12:01:04.622Z    0          None   \n",
       "37  2024-11-14T12:01:03.674Z  2024-11-14T12:01:03.674Z    0          None   \n",
       "38  2024-11-18T14:58:07.351Z  2024-11-18T14:58:07.351Z    0          None   \n",
       "39  2024-11-19T14:14:41.004Z  2024-11-19T14:14:41.004Z    0          None   \n",
       "40  2024-11-21T14:58:31.934Z  2024-11-21T14:58:31.934Z    0          None   \n",
       "41  2024-11-22T17:17:19.723Z  2024-11-22T17:17:19.723Z    0          None   \n",
       "42  2024-11-25T12:10:33.432Z  2024-11-25T12:10:33.432Z    0          None   \n",
       "43  2024-11-26T12:00:29.505Z  2024-11-26T12:00:29.505Z    0          None   \n",
       "44  2024-11-27T12:01:04.105Z  2024-11-27T12:01:04.105Z    0          None   \n",
       "\n",
       "      VWAP   mTIMESTAMP  \n",
       "0   836.67  27-Nov-2024  \n",
       "1   838.80  28-Nov-2024  \n",
       "2   838.26  29-Nov-2024  \n",
       "3   836.12  02-Dec-2024  \n",
       "4   851.99  03-Dec-2024  \n",
       "5   858.15  04-Dec-2024  \n",
       "6   864.78  05-Dec-2024  \n",
       "7   866.72  06-Dec-2024  \n",
       "8   861.15  09-Dec-2024  \n",
       "9   863.66  10-Dec-2024  \n",
       "10  864.62  11-Dec-2024  \n",
       "11  854.33  12-Dec-2024  \n",
       "12  851.16  13-Dec-2024  \n",
       "13  861.45  16-Dec-2024  \n",
       "14  852.67  17-Dec-2024  \n",
       "15  840.95  18-Dec-2024  \n",
       "16  829.17  19-Dec-2024  \n",
       "17  819.20  20-Dec-2024  \n",
       "18  815.60  18-Oct-2024  \n",
       "19  815.24  21-Oct-2024  \n",
       "20  799.45  22-Oct-2024  \n",
       "21  786.04  23-Oct-2024  \n",
       "22  792.63  24-Oct-2024  \n",
       "23  782.04  25-Oct-2024  \n",
       "24  795.07  28-Oct-2024  \n",
       "25  815.53  29-Oct-2024  \n",
       "26  826.52  30-Oct-2024  \n",
       "27  819.50  31-Oct-2024  \n",
       "28  822.73  01-Nov-2024  \n",
       "29  821.64  04-Nov-2024  \n",
       "30  840.67  05-Nov-2024  \n",
       "31  855.57  06-Nov-2024  \n",
       "32  855.61  07-Nov-2024  \n",
       "33  847.86  08-Nov-2024  \n",
       "34  848.56  11-Nov-2024  \n",
       "35  835.44  12-Nov-2024  \n",
       "36  816.00  13-Nov-2024  \n",
       "37  807.42  14-Nov-2024  \n",
       "38  809.14  18-Nov-2024  \n",
       "39  809.12  19-Nov-2024  \n",
       "40  774.76  21-Nov-2024  \n",
       "41  807.63  22-Nov-2024  \n",
       "42  843.72  25-Nov-2024  \n",
       "43  840.11  26-Nov-2024  \n",
       "44  836.67  27-Nov-2024  \n",
       "\n",
       "[45 rows x 24 columns]"
      ]
     },
     "execution_count": 22,
     "metadata": {},
     "output_type": "execute_result"
    }
   ],
   "source": [
    "from nsepython import *\n",
    "\n",
    "end_date = datetime.datetime.now().strftime(\"%d-%m-%Y\")\n",
    "end_date = str(end_date)\n",
    "\n",
    "start_date = (datetime.datetime.now()- datetime.timedelta(days=65)).strftime(\"%d-%m-%Y\")\n",
    "start_date = str(start_date)\n",
    "\n",
    "symbol = \"SBIN\"\n",
    "series = \"EQ\"\n",
    "\n",
    "df = equity_history(symbol,series,start_date,end_date)\n",
    "df"
   ]
  },
  {
   "cell_type": "code",
   "execution_count": 24,
   "metadata": {},
   "outputs": [
    {
     "data": {
      "text/html": [
       "<div>\n",
       "<style scoped>\n",
       "    .dataframe tbody tr th:only-of-type {\n",
       "        vertical-align: middle;\n",
       "    }\n",
       "\n",
       "    .dataframe tbody tr th {\n",
       "        vertical-align: top;\n",
       "    }\n",
       "\n",
       "    .dataframe thead th {\n",
       "        text-align: right;\n",
       "    }\n",
       "</style>\n",
       "<table border=\"1\" class=\"dataframe\">\n",
       "  <thead>\n",
       "    <tr style=\"text-align: right;\">\n",
       "      <th></th>\n",
       "      <th>DATE</th>\n",
       "      <th>SERIES</th>\n",
       "      <th>OPEN</th>\n",
       "      <th>HIGH</th>\n",
       "      <th>LOW</th>\n",
       "      <th>PREV. CLOSE</th>\n",
       "      <th>LTP</th>\n",
       "      <th>CLOSE</th>\n",
       "      <th>VWAP</th>\n",
       "      <th>52W H</th>\n",
       "      <th>52W L</th>\n",
       "      <th>VOLUME</th>\n",
       "      <th>VALUE</th>\n",
       "      <th>NO OF TRADES</th>\n",
       "      <th>SYMBOL</th>\n",
       "    </tr>\n",
       "  </thead>\n",
       "  <tbody>\n",
       "    <tr>\n",
       "      <th>0</th>\n",
       "      <td>2020-01-30</td>\n",
       "      <td>EQ</td>\n",
       "      <td>316.75</td>\n",
       "      <td>316.75</td>\n",
       "      <td>305.65</td>\n",
       "      <td>316.45</td>\n",
       "      <td>310.00</td>\n",
       "      <td>310.70</td>\n",
       "      <td>311.18</td>\n",
       "      <td>373.8</td>\n",
       "      <td>244.35</td>\n",
       "      <td>35802330</td>\n",
       "      <td>1.114102e+10</td>\n",
       "      <td>227687</td>\n",
       "      <td>SBIN</td>\n",
       "    </tr>\n",
       "    <tr>\n",
       "      <th>1</th>\n",
       "      <td>2020-01-29</td>\n",
       "      <td>EQ</td>\n",
       "      <td>317.85</td>\n",
       "      <td>319.70</td>\n",
       "      <td>315.55</td>\n",
       "      <td>315.10</td>\n",
       "      <td>316.95</td>\n",
       "      <td>316.45</td>\n",
       "      <td>317.75</td>\n",
       "      <td>373.8</td>\n",
       "      <td>244.35</td>\n",
       "      <td>23914114</td>\n",
       "      <td>7.598704e+09</td>\n",
       "      <td>143297</td>\n",
       "      <td>SBIN</td>\n",
       "    </tr>\n",
       "    <tr>\n",
       "      <th>2</th>\n",
       "      <td>2020-01-28</td>\n",
       "      <td>EQ</td>\n",
       "      <td>317.95</td>\n",
       "      <td>320.00</td>\n",
       "      <td>311.05</td>\n",
       "      <td>316.20</td>\n",
       "      <td>316.40</td>\n",
       "      <td>315.10</td>\n",
       "      <td>316.67</td>\n",
       "      <td>373.8</td>\n",
       "      <td>244.35</td>\n",
       "      <td>26488426</td>\n",
       "      <td>8.388015e+09</td>\n",
       "      <td>173879</td>\n",
       "      <td>SBIN</td>\n",
       "    </tr>\n",
       "    <tr>\n",
       "      <th>3</th>\n",
       "      <td>2020-01-27</td>\n",
       "      <td>EQ</td>\n",
       "      <td>320.90</td>\n",
       "      <td>322.00</td>\n",
       "      <td>315.80</td>\n",
       "      <td>324.05</td>\n",
       "      <td>316.40</td>\n",
       "      <td>316.20</td>\n",
       "      <td>318.82</td>\n",
       "      <td>373.8</td>\n",
       "      <td>244.35</td>\n",
       "      <td>23309355</td>\n",
       "      <td>7.431558e+09</td>\n",
       "      <td>148768</td>\n",
       "      <td>SBIN</td>\n",
       "    </tr>\n",
       "    <tr>\n",
       "      <th>4</th>\n",
       "      <td>2020-01-24</td>\n",
       "      <td>EQ</td>\n",
       "      <td>323.50</td>\n",
       "      <td>327.30</td>\n",
       "      <td>321.15</td>\n",
       "      <td>323.20</td>\n",
       "      <td>324.30</td>\n",
       "      <td>324.05</td>\n",
       "      <td>325.15</td>\n",
       "      <td>373.8</td>\n",
       "      <td>244.35</td>\n",
       "      <td>22706879</td>\n",
       "      <td>7.383247e+09</td>\n",
       "      <td>146667</td>\n",
       "      <td>SBIN</td>\n",
       "    </tr>\n",
       "    <tr>\n",
       "      <th>5</th>\n",
       "      <td>2020-01-23</td>\n",
       "      <td>EQ</td>\n",
       "      <td>316.00</td>\n",
       "      <td>324.80</td>\n",
       "      <td>314.15</td>\n",
       "      <td>316.15</td>\n",
       "      <td>323.15</td>\n",
       "      <td>323.20</td>\n",
       "      <td>320.25</td>\n",
       "      <td>373.8</td>\n",
       "      <td>244.35</td>\n",
       "      <td>33293610</td>\n",
       "      <td>1.066218e+10</td>\n",
       "      <td>227748</td>\n",
       "      <td>SBIN</td>\n",
       "    </tr>\n",
       "    <tr>\n",
       "      <th>6</th>\n",
       "      <td>2020-01-22</td>\n",
       "      <td>EQ</td>\n",
       "      <td>317.00</td>\n",
       "      <td>317.00</td>\n",
       "      <td>313.70</td>\n",
       "      <td>313.70</td>\n",
       "      <td>315.65</td>\n",
       "      <td>316.15</td>\n",
       "      <td>315.30</td>\n",
       "      <td>373.8</td>\n",
       "      <td>244.35</td>\n",
       "      <td>24994911</td>\n",
       "      <td>7.880972e+09</td>\n",
       "      <td>154068</td>\n",
       "      <td>SBIN</td>\n",
       "    </tr>\n",
       "    <tr>\n",
       "      <th>7</th>\n",
       "      <td>2020-01-21</td>\n",
       "      <td>EQ</td>\n",
       "      <td>313.80</td>\n",
       "      <td>316.95</td>\n",
       "      <td>312.00</td>\n",
       "      <td>314.00</td>\n",
       "      <td>313.90</td>\n",
       "      <td>313.70</td>\n",
       "      <td>314.33</td>\n",
       "      <td>373.8</td>\n",
       "      <td>244.35</td>\n",
       "      <td>30591772</td>\n",
       "      <td>9.615857e+09</td>\n",
       "      <td>195704</td>\n",
       "      <td>SBIN</td>\n",
       "    </tr>\n",
       "    <tr>\n",
       "      <th>8</th>\n",
       "      <td>2020-01-20</td>\n",
       "      <td>EQ</td>\n",
       "      <td>321.00</td>\n",
       "      <td>321.45</td>\n",
       "      <td>313.40</td>\n",
       "      <td>318.00</td>\n",
       "      <td>314.00</td>\n",
       "      <td>314.00</td>\n",
       "      <td>315.92</td>\n",
       "      <td>373.8</td>\n",
       "      <td>244.35</td>\n",
       "      <td>30682902</td>\n",
       "      <td>9.693233e+09</td>\n",
       "      <td>194552</td>\n",
       "      <td>SBIN</td>\n",
       "    </tr>\n",
       "    <tr>\n",
       "      <th>9</th>\n",
       "      <td>2020-01-17</td>\n",
       "      <td>EQ</td>\n",
       "      <td>313.00</td>\n",
       "      <td>323.50</td>\n",
       "      <td>310.10</td>\n",
       "      <td>323.30</td>\n",
       "      <td>318.00</td>\n",
       "      <td>318.00</td>\n",
       "      <td>317.90</td>\n",
       "      <td>373.8</td>\n",
       "      <td>244.35</td>\n",
       "      <td>58396326</td>\n",
       "      <td>1.856397e+10</td>\n",
       "      <td>290272</td>\n",
       "      <td>SBIN</td>\n",
       "    </tr>\n",
       "    <tr>\n",
       "      <th>10</th>\n",
       "      <td>2020-01-16</td>\n",
       "      <td>EQ</td>\n",
       "      <td>324.00</td>\n",
       "      <td>326.90</td>\n",
       "      <td>322.35</td>\n",
       "      <td>324.25</td>\n",
       "      <td>323.10</td>\n",
       "      <td>323.30</td>\n",
       "      <td>324.48</td>\n",
       "      <td>373.8</td>\n",
       "      <td>244.35</td>\n",
       "      <td>26653623</td>\n",
       "      <td>8.648658e+09</td>\n",
       "      <td>182806</td>\n",
       "      <td>SBIN</td>\n",
       "    </tr>\n",
       "    <tr>\n",
       "      <th>11</th>\n",
       "      <td>2020-01-15</td>\n",
       "      <td>EQ</td>\n",
       "      <td>329.00</td>\n",
       "      <td>329.20</td>\n",
       "      <td>322.35</td>\n",
       "      <td>328.00</td>\n",
       "      <td>324.00</td>\n",
       "      <td>324.25</td>\n",
       "      <td>324.30</td>\n",
       "      <td>373.8</td>\n",
       "      <td>244.35</td>\n",
       "      <td>32625740</td>\n",
       "      <td>1.058054e+10</td>\n",
       "      <td>243663</td>\n",
       "      <td>SBIN</td>\n",
       "    </tr>\n",
       "    <tr>\n",
       "      <th>12</th>\n",
       "      <td>2020-01-14</td>\n",
       "      <td>EQ</td>\n",
       "      <td>329.80</td>\n",
       "      <td>331.70</td>\n",
       "      <td>326.50</td>\n",
       "      <td>330.75</td>\n",
       "      <td>328.10</td>\n",
       "      <td>328.00</td>\n",
       "      <td>328.53</td>\n",
       "      <td>373.8</td>\n",
       "      <td>244.35</td>\n",
       "      <td>26296117</td>\n",
       "      <td>8.639035e+09</td>\n",
       "      <td>170473</td>\n",
       "      <td>SBIN</td>\n",
       "    </tr>\n",
       "    <tr>\n",
       "      <th>13</th>\n",
       "      <td>2020-01-13</td>\n",
       "      <td>EQ</td>\n",
       "      <td>334.00</td>\n",
       "      <td>335.45</td>\n",
       "      <td>329.05</td>\n",
       "      <td>332.25</td>\n",
       "      <td>330.60</td>\n",
       "      <td>330.75</td>\n",
       "      <td>331.73</td>\n",
       "      <td>373.8</td>\n",
       "      <td>244.35</td>\n",
       "      <td>23615129</td>\n",
       "      <td>7.833851e+09</td>\n",
       "      <td>156310</td>\n",
       "      <td>SBIN</td>\n",
       "    </tr>\n",
       "    <tr>\n",
       "      <th>14</th>\n",
       "      <td>2020-01-10</td>\n",
       "      <td>EQ</td>\n",
       "      <td>331.00</td>\n",
       "      <td>337.95</td>\n",
       "      <td>328.10</td>\n",
       "      <td>330.20</td>\n",
       "      <td>332.45</td>\n",
       "      <td>332.25</td>\n",
       "      <td>333.63</td>\n",
       "      <td>373.8</td>\n",
       "      <td>244.35</td>\n",
       "      <td>42377838</td>\n",
       "      <td>1.413862e+10</td>\n",
       "      <td>247022</td>\n",
       "      <td>SBIN</td>\n",
       "    </tr>\n",
       "    <tr>\n",
       "      <th>15</th>\n",
       "      <td>2020-01-09</td>\n",
       "      <td>EQ</td>\n",
       "      <td>326.90</td>\n",
       "      <td>331.40</td>\n",
       "      <td>325.00</td>\n",
       "      <td>319.80</td>\n",
       "      <td>330.10</td>\n",
       "      <td>330.20</td>\n",
       "      <td>328.58</td>\n",
       "      <td>373.8</td>\n",
       "      <td>244.35</td>\n",
       "      <td>40348407</td>\n",
       "      <td>1.325762e+10</td>\n",
       "      <td>255624</td>\n",
       "      <td>SBIN</td>\n",
       "    </tr>\n",
       "    <tr>\n",
       "      <th>16</th>\n",
       "      <td>2020-01-08</td>\n",
       "      <td>EQ</td>\n",
       "      <td>312.10</td>\n",
       "      <td>321.50</td>\n",
       "      <td>311.00</td>\n",
       "      <td>318.40</td>\n",
       "      <td>319.35</td>\n",
       "      <td>319.80</td>\n",
       "      <td>315.88</td>\n",
       "      <td>373.8</td>\n",
       "      <td>244.35</td>\n",
       "      <td>44527485</td>\n",
       "      <td>1.406525e+10</td>\n",
       "      <td>259968</td>\n",
       "      <td>SBIN</td>\n",
       "    </tr>\n",
       "    <tr>\n",
       "      <th>17</th>\n",
       "      <td>2020-01-07</td>\n",
       "      <td>EQ</td>\n",
       "      <td>324.45</td>\n",
       "      <td>327.00</td>\n",
       "      <td>315.40</td>\n",
       "      <td>319.00</td>\n",
       "      <td>317.90</td>\n",
       "      <td>318.40</td>\n",
       "      <td>320.38</td>\n",
       "      <td>373.8</td>\n",
       "      <td>244.35</td>\n",
       "      <td>50966826</td>\n",
       "      <td>1.632868e+10</td>\n",
       "      <td>310782</td>\n",
       "      <td>SBIN</td>\n",
       "    </tr>\n",
       "    <tr>\n",
       "      <th>18</th>\n",
       "      <td>2020-01-06</td>\n",
       "      <td>EQ</td>\n",
       "      <td>331.70</td>\n",
       "      <td>331.70</td>\n",
       "      <td>317.70</td>\n",
       "      <td>333.70</td>\n",
       "      <td>318.40</td>\n",
       "      <td>319.00</td>\n",
       "      <td>322.03</td>\n",
       "      <td>373.8</td>\n",
       "      <td>244.35</td>\n",
       "      <td>35645325</td>\n",
       "      <td>1.147882e+10</td>\n",
       "      <td>280646</td>\n",
       "      <td>SBIN</td>\n",
       "    </tr>\n",
       "    <tr>\n",
       "      <th>19</th>\n",
       "      <td>2020-01-03</td>\n",
       "      <td>EQ</td>\n",
       "      <td>337.95</td>\n",
       "      <td>337.95</td>\n",
       "      <td>332.00</td>\n",
       "      <td>339.30</td>\n",
       "      <td>334.00</td>\n",
       "      <td>333.70</td>\n",
       "      <td>335.08</td>\n",
       "      <td>373.8</td>\n",
       "      <td>244.35</td>\n",
       "      <td>21853208</td>\n",
       "      <td>7.322600e+09</td>\n",
       "      <td>139793</td>\n",
       "      <td>SBIN</td>\n",
       "    </tr>\n",
       "    <tr>\n",
       "      <th>20</th>\n",
       "      <td>2020-01-02</td>\n",
       "      <td>EQ</td>\n",
       "      <td>334.50</td>\n",
       "      <td>339.85</td>\n",
       "      <td>333.35</td>\n",
       "      <td>334.45</td>\n",
       "      <td>338.80</td>\n",
       "      <td>339.30</td>\n",
       "      <td>336.81</td>\n",
       "      <td>373.8</td>\n",
       "      <td>244.35</td>\n",
       "      <td>20324236</td>\n",
       "      <td>6.845341e+09</td>\n",
       "      <td>123189</td>\n",
       "      <td>SBIN</td>\n",
       "    </tr>\n",
       "    <tr>\n",
       "      <th>21</th>\n",
       "      <td>2020-01-01</td>\n",
       "      <td>EQ</td>\n",
       "      <td>334.70</td>\n",
       "      <td>335.95</td>\n",
       "      <td>332.15</td>\n",
       "      <td>333.75</td>\n",
       "      <td>335.00</td>\n",
       "      <td>334.45</td>\n",
       "      <td>334.03</td>\n",
       "      <td>373.8</td>\n",
       "      <td>244.35</td>\n",
       "      <td>17379320</td>\n",
       "      <td>5.805130e+09</td>\n",
       "      <td>99108</td>\n",
       "      <td>SBIN</td>\n",
       "    </tr>\n",
       "  </tbody>\n",
       "</table>\n",
       "</div>"
      ],
      "text/plain": [
       "         DATE SERIES    OPEN    HIGH     LOW  PREV. CLOSE     LTP   CLOSE  \\\n",
       "0  2020-01-30     EQ  316.75  316.75  305.65       316.45  310.00  310.70   \n",
       "1  2020-01-29     EQ  317.85  319.70  315.55       315.10  316.95  316.45   \n",
       "2  2020-01-28     EQ  317.95  320.00  311.05       316.20  316.40  315.10   \n",
       "3  2020-01-27     EQ  320.90  322.00  315.80       324.05  316.40  316.20   \n",
       "4  2020-01-24     EQ  323.50  327.30  321.15       323.20  324.30  324.05   \n",
       "5  2020-01-23     EQ  316.00  324.80  314.15       316.15  323.15  323.20   \n",
       "6  2020-01-22     EQ  317.00  317.00  313.70       313.70  315.65  316.15   \n",
       "7  2020-01-21     EQ  313.80  316.95  312.00       314.00  313.90  313.70   \n",
       "8  2020-01-20     EQ  321.00  321.45  313.40       318.00  314.00  314.00   \n",
       "9  2020-01-17     EQ  313.00  323.50  310.10       323.30  318.00  318.00   \n",
       "10 2020-01-16     EQ  324.00  326.90  322.35       324.25  323.10  323.30   \n",
       "11 2020-01-15     EQ  329.00  329.20  322.35       328.00  324.00  324.25   \n",
       "12 2020-01-14     EQ  329.80  331.70  326.50       330.75  328.10  328.00   \n",
       "13 2020-01-13     EQ  334.00  335.45  329.05       332.25  330.60  330.75   \n",
       "14 2020-01-10     EQ  331.00  337.95  328.10       330.20  332.45  332.25   \n",
       "15 2020-01-09     EQ  326.90  331.40  325.00       319.80  330.10  330.20   \n",
       "16 2020-01-08     EQ  312.10  321.50  311.00       318.40  319.35  319.80   \n",
       "17 2020-01-07     EQ  324.45  327.00  315.40       319.00  317.90  318.40   \n",
       "18 2020-01-06     EQ  331.70  331.70  317.70       333.70  318.40  319.00   \n",
       "19 2020-01-03     EQ  337.95  337.95  332.00       339.30  334.00  333.70   \n",
       "20 2020-01-02     EQ  334.50  339.85  333.35       334.45  338.80  339.30   \n",
       "21 2020-01-01     EQ  334.70  335.95  332.15       333.75  335.00  334.45   \n",
       "\n",
       "      VWAP  52W H   52W L    VOLUME         VALUE  NO OF TRADES SYMBOL  \n",
       "0   311.18  373.8  244.35  35802330  1.114102e+10        227687   SBIN  \n",
       "1   317.75  373.8  244.35  23914114  7.598704e+09        143297   SBIN  \n",
       "2   316.67  373.8  244.35  26488426  8.388015e+09        173879   SBIN  \n",
       "3   318.82  373.8  244.35  23309355  7.431558e+09        148768   SBIN  \n",
       "4   325.15  373.8  244.35  22706879  7.383247e+09        146667   SBIN  \n",
       "5   320.25  373.8  244.35  33293610  1.066218e+10        227748   SBIN  \n",
       "6   315.30  373.8  244.35  24994911  7.880972e+09        154068   SBIN  \n",
       "7   314.33  373.8  244.35  30591772  9.615857e+09        195704   SBIN  \n",
       "8   315.92  373.8  244.35  30682902  9.693233e+09        194552   SBIN  \n",
       "9   317.90  373.8  244.35  58396326  1.856397e+10        290272   SBIN  \n",
       "10  324.48  373.8  244.35  26653623  8.648658e+09        182806   SBIN  \n",
       "11  324.30  373.8  244.35  32625740  1.058054e+10        243663   SBIN  \n",
       "12  328.53  373.8  244.35  26296117  8.639035e+09        170473   SBIN  \n",
       "13  331.73  373.8  244.35  23615129  7.833851e+09        156310   SBIN  \n",
       "14  333.63  373.8  244.35  42377838  1.413862e+10        247022   SBIN  \n",
       "15  328.58  373.8  244.35  40348407  1.325762e+10        255624   SBIN  \n",
       "16  315.88  373.8  244.35  44527485  1.406525e+10        259968   SBIN  \n",
       "17  320.38  373.8  244.35  50966826  1.632868e+10        310782   SBIN  \n",
       "18  322.03  373.8  244.35  35645325  1.147882e+10        280646   SBIN  \n",
       "19  335.08  373.8  244.35  21853208  7.322600e+09        139793   SBIN  \n",
       "20  336.81  373.8  244.35  20324236  6.845341e+09        123189   SBIN  \n",
       "21  334.03  373.8  244.35  17379320  5.805130e+09         99108   SBIN  "
      ]
     },
     "execution_count": 24,
     "metadata": {},
     "output_type": "execute_result"
    }
   ],
   "source": [
    "from datetime import date\n",
    "from jugaad_data.nse import bhavcopy_save, bhavcopy_fo_save\n",
    "\n",
    "\n",
    "# Download stock data to pandas dataframe\n",
    "from jugaad_data.nse import stock_df\n",
    "df = stock_df(symbol=\"SBIN\", from_date=date(2020,1,1),\n",
    "            to_date=date(2020,1,30), series=\"EQ\")\n",
    "\n",
    "df"
   ]
  },
  {
   "cell_type": "code",
   "execution_count": 19,
   "metadata": {},
   "outputs": [
    {
     "ename": "NSEdataNotFound",
     "evalue": " Resource not available MSG: 'charmap' codec can't encode character '\\x80' in position 0: character maps to <undefined>",
     "output_type": "error",
     "traceback": [
      "\u001b[1;31m---------------------------------------------------------------------------\u001b[0m",
      "\u001b[1;31mUnicodeEncodeError\u001b[0m                        Traceback (most recent call last)",
      "File \u001b[1;32m~\\AppData\\Local\\Packages\\PythonSoftwareFoundation.Python.3.12_qbz5n2kfra8p0\\LocalCache\\local-packages\\Python312\\site-packages\\nselib\\capital_market\\capital_market_data.py:49\u001b[0m, in \u001b[0;36mget_price_volume_and_deliverable_position_data\u001b[1;34m(symbol, from_date, to_date)\u001b[0m\n\u001b[0;32m     48\u001b[0m \u001b[38;5;28;01mwith\u001b[39;00m \u001b[38;5;28mopen\u001b[39m(\u001b[38;5;124m'\u001b[39m\u001b[38;5;124mfile.csv\u001b[39m\u001b[38;5;124m'\u001b[39m, \u001b[38;5;124m'\u001b[39m\u001b[38;5;124mw\u001b[39m\u001b[38;5;124m'\u001b[39m) \u001b[38;5;28;01mas\u001b[39;00m f:\n\u001b[1;32m---> 49\u001b[0m     \u001b[43mf\u001b[49m\u001b[38;5;241;43m.\u001b[39;49m\u001b[43mwrite\u001b[49m\u001b[43m(\u001b[49m\u001b[43mdata_text\u001b[49m\u001b[43m)\u001b[49m\n\u001b[0;32m     50\u001b[0m f\u001b[38;5;241m.\u001b[39mclose()\n",
      "File \u001b[1;32mC:\\Program Files\\WindowsApps\\PythonSoftwareFoundation.Python.3.12_3.12.2288.0_x64__qbz5n2kfra8p0\\Lib\\encodings\\cp1252.py:19\u001b[0m, in \u001b[0;36mIncrementalEncoder.encode\u001b[1;34m(self, input, final)\u001b[0m\n\u001b[0;32m     18\u001b[0m \u001b[38;5;28;01mdef\u001b[39;00m \u001b[38;5;21mencode\u001b[39m(\u001b[38;5;28mself\u001b[39m, \u001b[38;5;28minput\u001b[39m, final\u001b[38;5;241m=\u001b[39m\u001b[38;5;28;01mFalse\u001b[39;00m):\n\u001b[1;32m---> 19\u001b[0m     \u001b[38;5;28;01mreturn\u001b[39;00m \u001b[43mcodecs\u001b[49m\u001b[38;5;241;43m.\u001b[39;49m\u001b[43mcharmap_encode\u001b[49m\u001b[43m(\u001b[49m\u001b[38;5;28;43minput\u001b[39;49m\u001b[43m,\u001b[49m\u001b[38;5;28;43mself\u001b[39;49m\u001b[38;5;241;43m.\u001b[39;49m\u001b[43merrors\u001b[49m\u001b[43m,\u001b[49m\u001b[43mencoding_table\u001b[49m\u001b[43m)\u001b[49m[\u001b[38;5;241m0\u001b[39m]\n",
      "\u001b[1;31mUnicodeEncodeError\u001b[0m: 'charmap' codec can't encode character '\\x80' in position 0: character maps to <undefined>",
      "\nDuring handling of the above exception, another exception occurred:\n",
      "\u001b[1;31mNSEdataNotFound\u001b[0m                           Traceback (most recent call last)",
      "Cell \u001b[1;32mIn[19], line 3\u001b[0m\n\u001b[0;32m      1\u001b[0m \u001b[38;5;28;01mfrom\u001b[39;00m \u001b[38;5;21;01mnselib\u001b[39;00m \u001b[38;5;28;01mimport\u001b[39;00m capital_market\n\u001b[1;32m----> 3\u001b[0m data \u001b[38;5;241m=\u001b[39m \u001b[43mcapital_market\u001b[49m\u001b[38;5;241;43m.\u001b[39;49m\u001b[43mprice_volume_and_deliverable_position_data\u001b[49m\u001b[43m(\u001b[49m\u001b[43msymbol\u001b[49m\u001b[38;5;241;43m=\u001b[39;49m\u001b[38;5;124;43m'\u001b[39;49m\u001b[38;5;124;43mSBIN\u001b[39;49m\u001b[38;5;124;43m'\u001b[39;49m\u001b[43m,\u001b[49m\u001b[43m \u001b[49m\u001b[43mfrom_date\u001b[49m\u001b[38;5;241;43m=\u001b[39;49m\u001b[38;5;124;43m'\u001b[39;49m\u001b[38;5;124;43m20-06-2023\u001b[39;49m\u001b[38;5;124;43m'\u001b[39;49m\u001b[43m,\u001b[49m\u001b[43m \u001b[49m\u001b[43mto_date\u001b[49m\u001b[38;5;241;43m=\u001b[39;49m\u001b[38;5;124;43m'\u001b[39;49m\u001b[38;5;124;43m20-07-2023\u001b[39;49m\u001b[38;5;124;43m'\u001b[39;49m\u001b[43m)\u001b[49m\n",
      "File \u001b[1;32m~\\AppData\\Local\\Packages\\PythonSoftwareFoundation.Python.3.12_qbz5n2kfra8p0\\LocalCache\\local-packages\\Python312\\site-packages\\nselib\\capital_market\\capital_market_data.py:35\u001b[0m, in \u001b[0;36mprice_volume_and_deliverable_position_data\u001b[1;34m(symbol, from_date, to_date, period)\u001b[0m\n\u001b[0;32m     33\u001b[0m     end_date \u001b[38;5;241m=\u001b[39m to_date\u001b[38;5;241m.\u001b[39mstrftime(dd_mm_yyyy)\n\u001b[0;32m     34\u001b[0m     start_date \u001b[38;5;241m=\u001b[39m from_date\u001b[38;5;241m.\u001b[39mstrftime(dd_mm_yyyy)\n\u001b[1;32m---> 35\u001b[0m data_df \u001b[38;5;241m=\u001b[39m \u001b[43mget_price_volume_and_deliverable_position_data\u001b[49m\u001b[43m(\u001b[49m\u001b[43msymbol\u001b[49m\u001b[38;5;241;43m=\u001b[39;49m\u001b[43msymbol\u001b[49m\u001b[43m,\u001b[49m\u001b[43m \u001b[49m\u001b[43mfrom_date\u001b[49m\u001b[38;5;241;43m=\u001b[39;49m\u001b[43mstart_date\u001b[49m\u001b[43m,\u001b[49m\u001b[43m \u001b[49m\u001b[43mto_date\u001b[49m\u001b[38;5;241;43m=\u001b[39;49m\u001b[43mend_date\u001b[49m\u001b[43m)\u001b[49m\n\u001b[0;32m     36\u001b[0m from_date \u001b[38;5;241m=\u001b[39m from_date \u001b[38;5;241m+\u001b[39m dt\u001b[38;5;241m.\u001b[39mtimedelta(\u001b[38;5;241m365\u001b[39m)\n\u001b[0;32m     37\u001b[0m load_days \u001b[38;5;241m=\u001b[39m (to_date \u001b[38;5;241m-\u001b[39m from_date)\u001b[38;5;241m.\u001b[39mdays\n",
      "File \u001b[1;32m~\\AppData\\Local\\Packages\\PythonSoftwareFoundation.Python.3.12_qbz5n2kfra8p0\\LocalCache\\local-packages\\Python312\\site-packages\\nselib\\capital_market\\capital_market_data.py:52\u001b[0m, in \u001b[0;36mget_price_volume_and_deliverable_position_data\u001b[1;34m(symbol, from_date, to_date)\u001b[0m\n\u001b[0;32m     50\u001b[0m     f\u001b[38;5;241m.\u001b[39mclose()\n\u001b[0;32m     51\u001b[0m \u001b[38;5;28;01mexcept\u001b[39;00m \u001b[38;5;167;01mException\u001b[39;00m \u001b[38;5;28;01mas\u001b[39;00m e:\n\u001b[1;32m---> 52\u001b[0m     \u001b[38;5;28;01mraise\u001b[39;00m NSEdataNotFound(\u001b[38;5;124mf\u001b[39m\u001b[38;5;124m\"\u001b[39m\u001b[38;5;124m Resource not available MSG: \u001b[39m\u001b[38;5;132;01m{\u001b[39;00me\u001b[38;5;132;01m}\u001b[39;00m\u001b[38;5;124m\"\u001b[39m)\n\u001b[0;32m     53\u001b[0m data_df \u001b[38;5;241m=\u001b[39m pd\u001b[38;5;241m.\u001b[39mread_csv(\u001b[38;5;124m'\u001b[39m\u001b[38;5;124mfile.csv\u001b[39m\u001b[38;5;124m'\u001b[39m)\n\u001b[0;32m     54\u001b[0m data_df\u001b[38;5;241m.\u001b[39mcolumns \u001b[38;5;241m=\u001b[39m [name\u001b[38;5;241m.\u001b[39mreplace(\u001b[38;5;124m'\u001b[39m\u001b[38;5;124m \u001b[39m\u001b[38;5;124m'\u001b[39m, \u001b[38;5;124m'\u001b[39m\u001b[38;5;124m'\u001b[39m) \u001b[38;5;28;01mfor\u001b[39;00m name \u001b[38;5;129;01min\u001b[39;00m data_df\u001b[38;5;241m.\u001b[39mcolumns]\n",
      "\u001b[1;31mNSEdataNotFound\u001b[0m:  Resource not available MSG: 'charmap' codec can't encode character '\\x80' in position 0: character maps to <undefined>"
     ]
    }
   ],
   "source": [
    "from nselib import capital_market\n",
    "\n",
    "data = capital_market.price_volume_and_deliverable_position_data(symbol='SBIN', from_date='20-06-2023', to_date='20-07-2023')"
   ]
  },
  {
   "cell_type": "code",
   "execution_count": 5,
   "metadata": {},
   "outputs": [],
   "source": [
    "def lower_shadow(open_price,close_price,low_price):\n",
    "    if close_price >= open_price:\n",
    "        return open_price-low_price\n",
    "    else:\n",
    "        return close_price-low_price\n",
    "\n",
    "def upper_shadow(open_price,close_price,high_price):\n",
    "    if close_price >= open_price:\n",
    "        return high_price-close_price\n",
    "    else:\n",
    "        return high_price-open_price\n",
    "master_data['real_body'] = master_data['ClosePrice']-master_data['OpenPrice']\n",
    "master_data['lower_shadow'] = master_data.apply(lambda row: lower_shadow(row['OpenPrice'],row['ClosePrice'],row['LowPrice']),axis=1)\n",
    "master_data['upper_shadow'] = master_data.apply(lambda row: lower_shadow(row['OpenPrice'],row['ClosePrice'],row['HighPrice']),axis=1)\n"
   ]
  },
  {
   "cell_type": "code",
   "execution_count": 6,
   "metadata": {},
   "outputs": [
    {
     "data": {
      "text/html": [
       "<div>\n",
       "<style scoped>\n",
       "    .dataframe tbody tr th:only-of-type {\n",
       "        vertical-align: middle;\n",
       "    }\n",
       "\n",
       "    .dataframe tbody tr th {\n",
       "        vertical-align: top;\n",
       "    }\n",
       "\n",
       "    .dataframe thead th {\n",
       "        text-align: right;\n",
       "    }\n",
       "</style>\n",
       "<table border=\"1\" class=\"dataframe\">\n",
       "  <thead>\n",
       "    <tr style=\"text-align: right;\">\n",
       "      <th></th>\n",
       "      <th>Series</th>\n",
       "      <th>Date</th>\n",
       "      <th>PrevClose</th>\n",
       "      <th>OpenPrice</th>\n",
       "      <th>HighPrice</th>\n",
       "      <th>LowPrice</th>\n",
       "      <th>LastPrice</th>\n",
       "      <th>ClosePrice</th>\n",
       "      <th>AveragePrice</th>\n",
       "      <th>TotalTradedQuantity</th>\n",
       "      <th>TurnoverInRs</th>\n",
       "      <th>No.ofTrades</th>\n",
       "      <th>DeliverableQty</th>\n",
       "      <th>%DlyQttoTradedQty</th>\n",
       "      <th>Symbol</th>\n",
       "      <th>real_body</th>\n",
       "      <th>lower_shadow</th>\n",
       "      <th>upper_shadow</th>\n",
       "    </tr>\n",
       "  </thead>\n",
       "  <tbody>\n",
       "    <tr>\n",
       "      <th>0</th>\n",
       "      <td>EQ</td>\n",
       "      <td>18-Jun-2024</td>\n",
       "      <td>1849.80</td>\n",
       "      <td>1862.2</td>\n",
       "      <td>1879.70</td>\n",
       "      <td>1841.0</td>\n",
       "      <td>1845.00</td>\n",
       "      <td>1846.10</td>\n",
       "      <td>1854.73</td>\n",
       "      <td>28165</td>\n",
       "      <td>52238355.60</td>\n",
       "      <td>4411</td>\n",
       "      <td>16499.0</td>\n",
       "      <td>58.58</td>\n",
       "      <td>ZYDUSWELL</td>\n",
       "      <td>-16.10</td>\n",
       "      <td>5.10</td>\n",
       "      <td>-33.60</td>\n",
       "    </tr>\n",
       "    <tr>\n",
       "      <th>1</th>\n",
       "      <td>EQ</td>\n",
       "      <td>19-Jun-2024</td>\n",
       "      <td>1846.10</td>\n",
       "      <td>1858.4</td>\n",
       "      <td>1864.90</td>\n",
       "      <td>1818.7</td>\n",
       "      <td>1830.20</td>\n",
       "      <td>1834.45</td>\n",
       "      <td>1837.52</td>\n",
       "      <td>23708</td>\n",
       "      <td>43564007.05</td>\n",
       "      <td>4283</td>\n",
       "      <td>12596.0</td>\n",
       "      <td>53.13</td>\n",
       "      <td>ZYDUSWELL</td>\n",
       "      <td>-23.95</td>\n",
       "      <td>15.75</td>\n",
       "      <td>-30.45</td>\n",
       "    </tr>\n",
       "    <tr>\n",
       "      <th>2</th>\n",
       "      <td>EQ</td>\n",
       "      <td>20-Jun-2024</td>\n",
       "      <td>1834.45</td>\n",
       "      <td>1847.0</td>\n",
       "      <td>1903.40</td>\n",
       "      <td>1830.0</td>\n",
       "      <td>1875.00</td>\n",
       "      <td>1887.75</td>\n",
       "      <td>1869.65</td>\n",
       "      <td>24839</td>\n",
       "      <td>46440252.50</td>\n",
       "      <td>5343</td>\n",
       "      <td>10646.0</td>\n",
       "      <td>42.86</td>\n",
       "      <td>ZYDUSWELL</td>\n",
       "      <td>40.75</td>\n",
       "      <td>17.00</td>\n",
       "      <td>-56.40</td>\n",
       "    </tr>\n",
       "    <tr>\n",
       "      <th>3</th>\n",
       "      <td>EQ</td>\n",
       "      <td>21-Jun-2024</td>\n",
       "      <td>1887.75</td>\n",
       "      <td>1899.0</td>\n",
       "      <td>1899.00</td>\n",
       "      <td>1850.0</td>\n",
       "      <td>1852.05</td>\n",
       "      <td>1856.55</td>\n",
       "      <td>1860.75</td>\n",
       "      <td>13776</td>\n",
       "      <td>25633719.20</td>\n",
       "      <td>3057</td>\n",
       "      <td>6615.0</td>\n",
       "      <td>48.02</td>\n",
       "      <td>ZYDUSWELL</td>\n",
       "      <td>-42.45</td>\n",
       "      <td>6.55</td>\n",
       "      <td>-42.45</td>\n",
       "    </tr>\n",
       "    <tr>\n",
       "      <th>4</th>\n",
       "      <td>EQ</td>\n",
       "      <td>24-Jun-2024</td>\n",
       "      <td>1856.55</td>\n",
       "      <td>1860.0</td>\n",
       "      <td>1900.45</td>\n",
       "      <td>1840.0</td>\n",
       "      <td>1864.50</td>\n",
       "      <td>1865.80</td>\n",
       "      <td>1864.83</td>\n",
       "      <td>17295</td>\n",
       "      <td>32252187.55</td>\n",
       "      <td>3092</td>\n",
       "      <td>8732.0</td>\n",
       "      <td>50.49</td>\n",
       "      <td>ZYDUSWELL</td>\n",
       "      <td>5.80</td>\n",
       "      <td>20.00</td>\n",
       "      <td>-40.45</td>\n",
       "    </tr>\n",
       "  </tbody>\n",
       "</table>\n",
       "</div>"
      ],
      "text/plain": [
       "  Series         Date  PrevClose  OpenPrice  HighPrice  LowPrice  LastPrice  \\\n",
       "0     EQ  18-Jun-2024    1849.80     1862.2    1879.70    1841.0    1845.00   \n",
       "1     EQ  19-Jun-2024    1846.10     1858.4    1864.90    1818.7    1830.20   \n",
       "2     EQ  20-Jun-2024    1834.45     1847.0    1903.40    1830.0    1875.00   \n",
       "3     EQ  21-Jun-2024    1887.75     1899.0    1899.00    1850.0    1852.05   \n",
       "4     EQ  24-Jun-2024    1856.55     1860.0    1900.45    1840.0    1864.50   \n",
       "\n",
       "   ClosePrice  AveragePrice  TotalTradedQuantity  TurnoverInRs  No.ofTrades  \\\n",
       "0     1846.10       1854.73                28165   52238355.60         4411   \n",
       "1     1834.45       1837.52                23708   43564007.05         4283   \n",
       "2     1887.75       1869.65                24839   46440252.50         5343   \n",
       "3     1856.55       1860.75                13776   25633719.20         3057   \n",
       "4     1865.80       1864.83                17295   32252187.55         3092   \n",
       "\n",
       "   DeliverableQty  %DlyQttoTradedQty     Symbol  real_body  lower_shadow  \\\n",
       "0         16499.0              58.58  ZYDUSWELL     -16.10          5.10   \n",
       "1         12596.0              53.13  ZYDUSWELL     -23.95         15.75   \n",
       "2         10646.0              42.86  ZYDUSWELL      40.75         17.00   \n",
       "3          6615.0              48.02  ZYDUSWELL     -42.45          6.55   \n",
       "4          8732.0              50.49  ZYDUSWELL       5.80         20.00   \n",
       "\n",
       "   upper_shadow  \n",
       "0        -33.60  \n",
       "1        -30.45  \n",
       "2        -56.40  \n",
       "3        -42.45  \n",
       "4        -40.45  "
      ]
     },
     "execution_count": 6,
     "metadata": {},
     "output_type": "execute_result"
    }
   ],
   "source": [
    "master_data.head()"
   ]
  },
  {
   "cell_type": "code",
   "execution_count": 8,
   "metadata": {},
   "outputs": [],
   "source": [
    "# Create 2 columns - bullish marubuzo and bearish marubuzo\n",
    "\n",
    "def bullish_murubuzo(open_price,low_price,close_price,high_price):\n",
    "    return (.99*open_price <= low_price <= open_price) and (close_price <= high_price <= 1.01*close_price)\n"
   ]
  },
  {
   "cell_type": "code",
   "execution_count": 9,
   "metadata": {},
   "outputs": [],
   "source": [
    "master_data['bullish_murubuzo'] = master_data.apply(lambda x : bullish_murubuzo(x['OpenPrice'],x['LowPrice'],x['ClosePrice'],x['HighPrice']),axis =1)"
   ]
  },
  {
   "cell_type": "code",
   "execution_count": 11,
   "metadata": {},
   "outputs": [],
   "source": [
    "master_data.to_excel(\"master_data_ta.xlsx\")"
   ]
  },
  {
   "cell_type": "code",
   "execution_count": 17,
   "metadata": {},
   "outputs": [],
   "source": [
    "stocks_data = pd.read_excel(\"master_data_ta.xlsx\")"
   ]
  },
  {
   "cell_type": "code",
   "execution_count": 11,
   "metadata": {},
   "outputs": [
    {
     "name": "stdout",
     "output_type": "stream",
     "text": [
      "<class 'pandas.core.frame.DataFrame'>\n",
      "Index: 45296 entries, 45282 to 8\n",
      "Data columns (total 22 columns):\n",
      " #   Column               Non-Null Count  Dtype  \n",
      "---  ------               --------------  -----  \n",
      " 0   Unnamed: 0           45296 non-null  int64  \n",
      " 1   Series               45296 non-null  object \n",
      " 2   Date                 45296 non-null  object \n",
      " 3   PrevClose            45296 non-null  float64\n",
      " 4   OpenPrice            45296 non-null  float64\n",
      " 5   HighPrice            45296 non-null  float64\n",
      " 6   LowPrice             45296 non-null  float64\n",
      " 7   LastPrice            45296 non-null  float64\n",
      " 8   ClosePrice           45296 non-null  float64\n",
      " 9   AveragePrice         45296 non-null  float64\n",
      " 10  TotalTradedQuantity  45296 non-null  int64  \n",
      " 11  TurnoverInRs         45296 non-null  float64\n",
      " 12  No.ofTrades          45296 non-null  int64  \n",
      " 13  DeliverableQty       39388 non-null  float64\n",
      " 14  %DlyQttoTradedQty    39388 non-null  float64\n",
      " 15  Symbol               45296 non-null  object \n",
      " 16  real_body            45296 non-null  float64\n",
      " 17  lower_shadow         45296 non-null  float64\n",
      " 18  upper_shadow         45296 non-null  float64\n",
      " 19  bullish_murubuzo     45296 non-null  bool   \n",
      " 20  perc_change          45296 non-null  float64\n",
      " 21  14_day_rolling_avg   19648 non-null  float64\n",
      "dtypes: bool(1), float64(15), int64(3), object(3)\n",
      "memory usage: 7.6+ MB\n"
     ]
    }
   ],
   "source": [
    "stocks_data.info()"
   ]
  },
  {
   "cell_type": "code",
   "execution_count": 18,
   "metadata": {},
   "outputs": [
    {
     "data": {
      "text/html": [
       "<div>\n",
       "<style scoped>\n",
       "    .dataframe tbody tr th:only-of-type {\n",
       "        vertical-align: middle;\n",
       "    }\n",
       "\n",
       "    .dataframe tbody tr th {\n",
       "        vertical-align: top;\n",
       "    }\n",
       "\n",
       "    .dataframe thead th {\n",
       "        text-align: right;\n",
       "    }\n",
       "</style>\n",
       "<table border=\"1\" class=\"dataframe\">\n",
       "  <thead>\n",
       "    <tr style=\"text-align: right;\">\n",
       "      <th></th>\n",
       "      <th>Unnamed: 0</th>\n",
       "      <th>Series</th>\n",
       "      <th>Date</th>\n",
       "      <th>PrevClose</th>\n",
       "      <th>OpenPrice</th>\n",
       "      <th>HighPrice</th>\n",
       "      <th>LowPrice</th>\n",
       "      <th>LastPrice</th>\n",
       "      <th>ClosePrice</th>\n",
       "      <th>AveragePrice</th>\n",
       "      <th>...</th>\n",
       "      <th>TurnoverInRs</th>\n",
       "      <th>No.ofTrades</th>\n",
       "      <th>DeliverableQty</th>\n",
       "      <th>%DlyQttoTradedQty</th>\n",
       "      <th>Symbol</th>\n",
       "      <th>real_body</th>\n",
       "      <th>lower_shadow</th>\n",
       "      <th>upper_shadow</th>\n",
       "      <th>bullish_murubuzo</th>\n",
       "      <th>perc_change</th>\n",
       "    </tr>\n",
       "  </thead>\n",
       "  <tbody>\n",
       "    <tr>\n",
       "      <th>45273</th>\n",
       "      <td>0</td>\n",
       "      <td>EQ</td>\n",
       "      <td>2024-06-18</td>\n",
       "      <td>189.54</td>\n",
       "      <td>191.45</td>\n",
       "      <td>192.75</td>\n",
       "      <td>187.41</td>\n",
       "      <td>190.90</td>\n",
       "      <td>190.29</td>\n",
       "      <td>190.23</td>\n",
       "      <td>...</td>\n",
       "      <td>8.837224e+07</td>\n",
       "      <td>11491</td>\n",
       "      <td>221577.0</td>\n",
       "      <td>47.70</td>\n",
       "      <td>20MICRONS</td>\n",
       "      <td>-1.16</td>\n",
       "      <td>2.88</td>\n",
       "      <td>-2.46</td>\n",
       "      <td>False</td>\n",
       "      <td>-0.605902</td>\n",
       "    </tr>\n",
       "    <tr>\n",
       "      <th>45274</th>\n",
       "      <td>1</td>\n",
       "      <td>EQ</td>\n",
       "      <td>2024-06-19</td>\n",
       "      <td>190.29</td>\n",
       "      <td>191.94</td>\n",
       "      <td>192.94</td>\n",
       "      <td>182.11</td>\n",
       "      <td>186.70</td>\n",
       "      <td>185.37</td>\n",
       "      <td>186.71</td>\n",
       "      <td>...</td>\n",
       "      <td>4.432118e+07</td>\n",
       "      <td>7772</td>\n",
       "      <td>104419.0</td>\n",
       "      <td>43.99</td>\n",
       "      <td>20MICRONS</td>\n",
       "      <td>-6.57</td>\n",
       "      <td>3.26</td>\n",
       "      <td>-7.57</td>\n",
       "      <td>False</td>\n",
       "      <td>-3.422945</td>\n",
       "    </tr>\n",
       "    <tr>\n",
       "      <th>45275</th>\n",
       "      <td>2</td>\n",
       "      <td>EQ</td>\n",
       "      <td>2024-06-20</td>\n",
       "      <td>185.37</td>\n",
       "      <td>187.38</td>\n",
       "      <td>190.70</td>\n",
       "      <td>185.50</td>\n",
       "      <td>189.00</td>\n",
       "      <td>187.80</td>\n",
       "      <td>187.79</td>\n",
       "      <td>...</td>\n",
       "      <td>3.461759e+07</td>\n",
       "      <td>6618</td>\n",
       "      <td>82423.0</td>\n",
       "      <td>44.71</td>\n",
       "      <td>20MICRONS</td>\n",
       "      <td>0.42</td>\n",
       "      <td>1.88</td>\n",
       "      <td>-3.32</td>\n",
       "      <td>False</td>\n",
       "      <td>0.224143</td>\n",
       "    </tr>\n",
       "    <tr>\n",
       "      <th>45276</th>\n",
       "      <td>3</td>\n",
       "      <td>EQ</td>\n",
       "      <td>2024-06-21</td>\n",
       "      <td>187.80</td>\n",
       "      <td>187.00</td>\n",
       "      <td>218.65</td>\n",
       "      <td>183.50</td>\n",
       "      <td>213.05</td>\n",
       "      <td>213.77</td>\n",
       "      <td>206.17</td>\n",
       "      <td>...</td>\n",
       "      <td>5.979258e+08</td>\n",
       "      <td>50734</td>\n",
       "      <td>955403.0</td>\n",
       "      <td>32.94</td>\n",
       "      <td>20MICRONS</td>\n",
       "      <td>26.77</td>\n",
       "      <td>3.50</td>\n",
       "      <td>-31.65</td>\n",
       "      <td>False</td>\n",
       "      <td>14.315508</td>\n",
       "    </tr>\n",
       "    <tr>\n",
       "      <th>45277</th>\n",
       "      <td>4</td>\n",
       "      <td>EQ</td>\n",
       "      <td>2024-06-24</td>\n",
       "      <td>213.77</td>\n",
       "      <td>216.00</td>\n",
       "      <td>224.99</td>\n",
       "      <td>211.05</td>\n",
       "      <td>222.50</td>\n",
       "      <td>220.37</td>\n",
       "      <td>218.92</td>\n",
       "      <td>...</td>\n",
       "      <td>4.913536e+08</td>\n",
       "      <td>46487</td>\n",
       "      <td>764119.0</td>\n",
       "      <td>34.05</td>\n",
       "      <td>20MICRONS</td>\n",
       "      <td>4.37</td>\n",
       "      <td>4.95</td>\n",
       "      <td>-8.99</td>\n",
       "      <td>False</td>\n",
       "      <td>2.023148</td>\n",
       "    </tr>\n",
       "  </tbody>\n",
       "</table>\n",
       "<p>5 rows × 21 columns</p>\n",
       "</div>"
      ],
      "text/plain": [
       "       Unnamed: 0 Series       Date  PrevClose  OpenPrice  HighPrice  \\\n",
       "45273           0     EQ 2024-06-18     189.54     191.45     192.75   \n",
       "45274           1     EQ 2024-06-19     190.29     191.94     192.94   \n",
       "45275           2     EQ 2024-06-20     185.37     187.38     190.70   \n",
       "45276           3     EQ 2024-06-21     187.80     187.00     218.65   \n",
       "45277           4     EQ 2024-06-24     213.77     216.00     224.99   \n",
       "\n",
       "       LowPrice  LastPrice  ClosePrice  AveragePrice  ...  TurnoverInRs  \\\n",
       "45273    187.41     190.90      190.29        190.23  ...  8.837224e+07   \n",
       "45274    182.11     186.70      185.37        186.71  ...  4.432118e+07   \n",
       "45275    185.50     189.00      187.80        187.79  ...  3.461759e+07   \n",
       "45276    183.50     213.05      213.77        206.17  ...  5.979258e+08   \n",
       "45277    211.05     222.50      220.37        218.92  ...  4.913536e+08   \n",
       "\n",
       "       No.ofTrades  DeliverableQty  %DlyQttoTradedQty     Symbol real_body  \\\n",
       "45273        11491        221577.0              47.70  20MICRONS     -1.16   \n",
       "45274         7772        104419.0              43.99  20MICRONS     -6.57   \n",
       "45275         6618         82423.0              44.71  20MICRONS      0.42   \n",
       "45276        50734        955403.0              32.94  20MICRONS     26.77   \n",
       "45277        46487        764119.0              34.05  20MICRONS      4.37   \n",
       "\n",
       "       lower_shadow  upper_shadow  bullish_murubuzo  perc_change  \n",
       "45273          2.88         -2.46             False    -0.605902  \n",
       "45274          3.26         -7.57             False    -3.422945  \n",
       "45275          1.88         -3.32             False     0.224143  \n",
       "45276          3.50        -31.65             False    14.315508  \n",
       "45277          4.95         -8.99             False     2.023148  \n",
       "\n",
       "[5 rows x 21 columns]"
      ]
     },
     "execution_count": 18,
     "metadata": {},
     "output_type": "execute_result"
    }
   ],
   "source": [
    "# Convert the 'date' column to datetime\n",
    "stocks_data['Date'] = pd.to_datetime(stocks_data['Date'])\n",
    "stocks_data[\"perc_change\"] = (stocks_data['real_body']/stocks_data['OpenPrice'])*100\n",
    "stocks_data = stocks_data.sort_values(by=['Symbol', 'Date'])\n",
    "stocks_data.head()"
   ]
  },
  {
   "cell_type": "code",
   "execution_count": 19,
   "metadata": {},
   "outputs": [],
   "source": [
    "# Group by stock symbol and apply a 14-day rolling average for each stock's price\n",
    "stocks_data['14_day_rolling_avg'] = stocks_data.groupby('Symbol')['No.ofTrades'].rolling(window=14, min_periods=14).mean().reset_index(level=0, drop=True)"
   ]
  },
  {
   "cell_type": "code",
   "execution_count": 20,
   "metadata": {},
   "outputs": [
    {
     "data": {
      "text/plain": [
       "(45296, 22)"
      ]
     },
     "execution_count": 20,
     "metadata": {},
     "output_type": "execute_result"
    }
   ],
   "source": [
    "stocks_data.shape"
   ]
  },
  {
   "cell_type": "code",
   "execution_count": 22,
   "metadata": {},
   "outputs": [],
   "source": [
    "stocks_data = stocks_data.dropna(subset=['14_day_rolling_avg'])"
   ]
  },
  {
   "cell_type": "code",
   "execution_count": 23,
   "metadata": {},
   "outputs": [
    {
     "data": {
      "text/plain": [
       "(19648, 22)"
      ]
     },
     "execution_count": 23,
     "metadata": {},
     "output_type": "execute_result"
    }
   ],
   "source": [
    "stocks_data.shape"
   ]
  },
  {
   "cell_type": "code",
   "execution_count": 24,
   "metadata": {},
   "outputs": [],
   "source": [
    "# Group by stock symbol and calculate next 3-day and next 6-day prices\n",
    "stocks_data['next_3_day_price'] = stocks_data.groupby('Symbol')['ClosePrice'].shift(-3)\n",
    "stocks_data['next_6_day_price'] = stocks_data.groupby('Symbol')['ClosePrice'].shift(-6)\n",
    "\n",
    "# Calculate the percentage change for the next 3 days and 6 days\n",
    "stocks_data['3_day_pct_change'] = ((stocks_data['next_3_day_price'] - stocks_data['ClosePrice']) / stocks_data['ClosePrice']) * 100\n",
    "stocks_data['6_day_pct_change'] = ((stocks_data['next_6_day_price'] - stocks_data['ClosePrice']) / stocks_data['ClosePrice']) * 100"
   ]
  },
  {
   "cell_type": "code",
   "execution_count": 25,
   "metadata": {},
   "outputs": [],
   "source": [
    "stocks_data['volume_change_from_average'] = stocks_data['No.ofTrades']-stocks_data['14_day_rolling_avg']"
   ]
  },
  {
   "cell_type": "code",
   "execution_count": 26,
   "metadata": {},
   "outputs": [],
   "source": [
    "stocks_data.to_excel(\"updated_master_data_stocks.xlsx\")"
   ]
  },
  {
   "cell_type": "code",
   "execution_count": 6,
   "metadata": {},
   "outputs": [
    {
     "data": {
      "text/plain": [
       "(5954, 20)"
      ]
     },
     "execution_count": 6,
     "metadata": {},
     "output_type": "execute_result"
    }
   ],
   "source": [
    "master_data_murubuzo = stocks_data[stocks_data['bullish_murubuzo']==True]\n",
    "master_data_murubuzo.shape"
   ]
  },
  {
   "cell_type": "code",
   "execution_count": null,
   "metadata": {},
   "outputs": [],
   "source": []
  },
  {
   "cell_type": "code",
   "execution_count": 17,
   "metadata": {},
   "outputs": [
    {
     "name": "stdout",
     "output_type": "stream",
     "text": [
      "20MICRONS\n"
     ]
    },
    {
     "data": {
      "application/vnd.plotly.v1+json": {
       "config": {
        "plotlyServerURL": "https://plot.ly"
       },
       "data": [
        {
         "close": [],
         "high": [],
         "low": [],
         "open": [],
         "type": "candlestick",
         "x": []
        }
       ],
       "layout": {
        "template": {
         "data": {
          "bar": [
           {
            "error_x": {
             "color": "#2a3f5f"
            },
            "error_y": {
             "color": "#2a3f5f"
            },
            "marker": {
             "line": {
              "color": "#E5ECF6",
              "width": 0.5
             },
             "pattern": {
              "fillmode": "overlay",
              "size": 10,
              "solidity": 0.2
             }
            },
            "type": "bar"
           }
          ],
          "barpolar": [
           {
            "marker": {
             "line": {
              "color": "#E5ECF6",
              "width": 0.5
             },
             "pattern": {
              "fillmode": "overlay",
              "size": 10,
              "solidity": 0.2
             }
            },
            "type": "barpolar"
           }
          ],
          "carpet": [
           {
            "aaxis": {
             "endlinecolor": "#2a3f5f",
             "gridcolor": "white",
             "linecolor": "white",
             "minorgridcolor": "white",
             "startlinecolor": "#2a3f5f"
            },
            "baxis": {
             "endlinecolor": "#2a3f5f",
             "gridcolor": "white",
             "linecolor": "white",
             "minorgridcolor": "white",
             "startlinecolor": "#2a3f5f"
            },
            "type": "carpet"
           }
          ],
          "choropleth": [
           {
            "colorbar": {
             "outlinewidth": 0,
             "ticks": ""
            },
            "type": "choropleth"
           }
          ],
          "contour": [
           {
            "colorbar": {
             "outlinewidth": 0,
             "ticks": ""
            },
            "colorscale": [
             [
              0,
              "#0d0887"
             ],
             [
              0.1111111111111111,
              "#46039f"
             ],
             [
              0.2222222222222222,
              "#7201a8"
             ],
             [
              0.3333333333333333,
              "#9c179e"
             ],
             [
              0.4444444444444444,
              "#bd3786"
             ],
             [
              0.5555555555555556,
              "#d8576b"
             ],
             [
              0.6666666666666666,
              "#ed7953"
             ],
             [
              0.7777777777777778,
              "#fb9f3a"
             ],
             [
              0.8888888888888888,
              "#fdca26"
             ],
             [
              1,
              "#f0f921"
             ]
            ],
            "type": "contour"
           }
          ],
          "contourcarpet": [
           {
            "colorbar": {
             "outlinewidth": 0,
             "ticks": ""
            },
            "type": "contourcarpet"
           }
          ],
          "heatmap": [
           {
            "colorbar": {
             "outlinewidth": 0,
             "ticks": ""
            },
            "colorscale": [
             [
              0,
              "#0d0887"
             ],
             [
              0.1111111111111111,
              "#46039f"
             ],
             [
              0.2222222222222222,
              "#7201a8"
             ],
             [
              0.3333333333333333,
              "#9c179e"
             ],
             [
              0.4444444444444444,
              "#bd3786"
             ],
             [
              0.5555555555555556,
              "#d8576b"
             ],
             [
              0.6666666666666666,
              "#ed7953"
             ],
             [
              0.7777777777777778,
              "#fb9f3a"
             ],
             [
              0.8888888888888888,
              "#fdca26"
             ],
             [
              1,
              "#f0f921"
             ]
            ],
            "type": "heatmap"
           }
          ],
          "heatmapgl": [
           {
            "colorbar": {
             "outlinewidth": 0,
             "ticks": ""
            },
            "colorscale": [
             [
              0,
              "#0d0887"
             ],
             [
              0.1111111111111111,
              "#46039f"
             ],
             [
              0.2222222222222222,
              "#7201a8"
             ],
             [
              0.3333333333333333,
              "#9c179e"
             ],
             [
              0.4444444444444444,
              "#bd3786"
             ],
             [
              0.5555555555555556,
              "#d8576b"
             ],
             [
              0.6666666666666666,
              "#ed7953"
             ],
             [
              0.7777777777777778,
              "#fb9f3a"
             ],
             [
              0.8888888888888888,
              "#fdca26"
             ],
             [
              1,
              "#f0f921"
             ]
            ],
            "type": "heatmapgl"
           }
          ],
          "histogram": [
           {
            "marker": {
             "pattern": {
              "fillmode": "overlay",
              "size": 10,
              "solidity": 0.2
             }
            },
            "type": "histogram"
           }
          ],
          "histogram2d": [
           {
            "colorbar": {
             "outlinewidth": 0,
             "ticks": ""
            },
            "colorscale": [
             [
              0,
              "#0d0887"
             ],
             [
              0.1111111111111111,
              "#46039f"
             ],
             [
              0.2222222222222222,
              "#7201a8"
             ],
             [
              0.3333333333333333,
              "#9c179e"
             ],
             [
              0.4444444444444444,
              "#bd3786"
             ],
             [
              0.5555555555555556,
              "#d8576b"
             ],
             [
              0.6666666666666666,
              "#ed7953"
             ],
             [
              0.7777777777777778,
              "#fb9f3a"
             ],
             [
              0.8888888888888888,
              "#fdca26"
             ],
             [
              1,
              "#f0f921"
             ]
            ],
            "type": "histogram2d"
           }
          ],
          "histogram2dcontour": [
           {
            "colorbar": {
             "outlinewidth": 0,
             "ticks": ""
            },
            "colorscale": [
             [
              0,
              "#0d0887"
             ],
             [
              0.1111111111111111,
              "#46039f"
             ],
             [
              0.2222222222222222,
              "#7201a8"
             ],
             [
              0.3333333333333333,
              "#9c179e"
             ],
             [
              0.4444444444444444,
              "#bd3786"
             ],
             [
              0.5555555555555556,
              "#d8576b"
             ],
             [
              0.6666666666666666,
              "#ed7953"
             ],
             [
              0.7777777777777778,
              "#fb9f3a"
             ],
             [
              0.8888888888888888,
              "#fdca26"
             ],
             [
              1,
              "#f0f921"
             ]
            ],
            "type": "histogram2dcontour"
           }
          ],
          "mesh3d": [
           {
            "colorbar": {
             "outlinewidth": 0,
             "ticks": ""
            },
            "type": "mesh3d"
           }
          ],
          "parcoords": [
           {
            "line": {
             "colorbar": {
              "outlinewidth": 0,
              "ticks": ""
             }
            },
            "type": "parcoords"
           }
          ],
          "pie": [
           {
            "automargin": true,
            "type": "pie"
           }
          ],
          "scatter": [
           {
            "fillpattern": {
             "fillmode": "overlay",
             "size": 10,
             "solidity": 0.2
            },
            "type": "scatter"
           }
          ],
          "scatter3d": [
           {
            "line": {
             "colorbar": {
              "outlinewidth": 0,
              "ticks": ""
             }
            },
            "marker": {
             "colorbar": {
              "outlinewidth": 0,
              "ticks": ""
             }
            },
            "type": "scatter3d"
           }
          ],
          "scattercarpet": [
           {
            "marker": {
             "colorbar": {
              "outlinewidth": 0,
              "ticks": ""
             }
            },
            "type": "scattercarpet"
           }
          ],
          "scattergeo": [
           {
            "marker": {
             "colorbar": {
              "outlinewidth": 0,
              "ticks": ""
             }
            },
            "type": "scattergeo"
           }
          ],
          "scattergl": [
           {
            "marker": {
             "colorbar": {
              "outlinewidth": 0,
              "ticks": ""
             }
            },
            "type": "scattergl"
           }
          ],
          "scattermapbox": [
           {
            "marker": {
             "colorbar": {
              "outlinewidth": 0,
              "ticks": ""
             }
            },
            "type": "scattermapbox"
           }
          ],
          "scatterpolar": [
           {
            "marker": {
             "colorbar": {
              "outlinewidth": 0,
              "ticks": ""
             }
            },
            "type": "scatterpolar"
           }
          ],
          "scatterpolargl": [
           {
            "marker": {
             "colorbar": {
              "outlinewidth": 0,
              "ticks": ""
             }
            },
            "type": "scatterpolargl"
           }
          ],
          "scatterternary": [
           {
            "marker": {
             "colorbar": {
              "outlinewidth": 0,
              "ticks": ""
             }
            },
            "type": "scatterternary"
           }
          ],
          "surface": [
           {
            "colorbar": {
             "outlinewidth": 0,
             "ticks": ""
            },
            "colorscale": [
             [
              0,
              "#0d0887"
             ],
             [
              0.1111111111111111,
              "#46039f"
             ],
             [
              0.2222222222222222,
              "#7201a8"
             ],
             [
              0.3333333333333333,
              "#9c179e"
             ],
             [
              0.4444444444444444,
              "#bd3786"
             ],
             [
              0.5555555555555556,
              "#d8576b"
             ],
             [
              0.6666666666666666,
              "#ed7953"
             ],
             [
              0.7777777777777778,
              "#fb9f3a"
             ],
             [
              0.8888888888888888,
              "#fdca26"
             ],
             [
              1,
              "#f0f921"
             ]
            ],
            "type": "surface"
           }
          ],
          "table": [
           {
            "cells": {
             "fill": {
              "color": "#EBF0F8"
             },
             "line": {
              "color": "white"
             }
            },
            "header": {
             "fill": {
              "color": "#C8D4E3"
             },
             "line": {
              "color": "white"
             }
            },
            "type": "table"
           }
          ]
         },
         "layout": {
          "annotationdefaults": {
           "arrowcolor": "#2a3f5f",
           "arrowhead": 0,
           "arrowwidth": 1
          },
          "autotypenumbers": "strict",
          "coloraxis": {
           "colorbar": {
            "outlinewidth": 0,
            "ticks": ""
           }
          },
          "colorscale": {
           "diverging": [
            [
             0,
             "#8e0152"
            ],
            [
             0.1,
             "#c51b7d"
            ],
            [
             0.2,
             "#de77ae"
            ],
            [
             0.3,
             "#f1b6da"
            ],
            [
             0.4,
             "#fde0ef"
            ],
            [
             0.5,
             "#f7f7f7"
            ],
            [
             0.6,
             "#e6f5d0"
            ],
            [
             0.7,
             "#b8e186"
            ],
            [
             0.8,
             "#7fbc41"
            ],
            [
             0.9,
             "#4d9221"
            ],
            [
             1,
             "#276419"
            ]
           ],
           "sequential": [
            [
             0,
             "#0d0887"
            ],
            [
             0.1111111111111111,
             "#46039f"
            ],
            [
             0.2222222222222222,
             "#7201a8"
            ],
            [
             0.3333333333333333,
             "#9c179e"
            ],
            [
             0.4444444444444444,
             "#bd3786"
            ],
            [
             0.5555555555555556,
             "#d8576b"
            ],
            [
             0.6666666666666666,
             "#ed7953"
            ],
            [
             0.7777777777777778,
             "#fb9f3a"
            ],
            [
             0.8888888888888888,
             "#fdca26"
            ],
            [
             1,
             "#f0f921"
            ]
           ],
           "sequentialminus": [
            [
             0,
             "#0d0887"
            ],
            [
             0.1111111111111111,
             "#46039f"
            ],
            [
             0.2222222222222222,
             "#7201a8"
            ],
            [
             0.3333333333333333,
             "#9c179e"
            ],
            [
             0.4444444444444444,
             "#bd3786"
            ],
            [
             0.5555555555555556,
             "#d8576b"
            ],
            [
             0.6666666666666666,
             "#ed7953"
            ],
            [
             0.7777777777777778,
             "#fb9f3a"
            ],
            [
             0.8888888888888888,
             "#fdca26"
            ],
            [
             1,
             "#f0f921"
            ]
           ]
          },
          "colorway": [
           "#636efa",
           "#EF553B",
           "#00cc96",
           "#ab63fa",
           "#FFA15A",
           "#19d3f3",
           "#FF6692",
           "#B6E880",
           "#FF97FF",
           "#FECB52"
          ],
          "font": {
           "color": "#2a3f5f"
          },
          "geo": {
           "bgcolor": "white",
           "lakecolor": "white",
           "landcolor": "#E5ECF6",
           "showlakes": true,
           "showland": true,
           "subunitcolor": "white"
          },
          "hoverlabel": {
           "align": "left"
          },
          "hovermode": "closest",
          "mapbox": {
           "style": "light"
          },
          "paper_bgcolor": "white",
          "plot_bgcolor": "#E5ECF6",
          "polar": {
           "angularaxis": {
            "gridcolor": "white",
            "linecolor": "white",
            "ticks": ""
           },
           "bgcolor": "#E5ECF6",
           "radialaxis": {
            "gridcolor": "white",
            "linecolor": "white",
            "ticks": ""
           }
          },
          "scene": {
           "xaxis": {
            "backgroundcolor": "#E5ECF6",
            "gridcolor": "white",
            "gridwidth": 2,
            "linecolor": "white",
            "showbackground": true,
            "ticks": "",
            "zerolinecolor": "white"
           },
           "yaxis": {
            "backgroundcolor": "#E5ECF6",
            "gridcolor": "white",
            "gridwidth": 2,
            "linecolor": "white",
            "showbackground": true,
            "ticks": "",
            "zerolinecolor": "white"
           },
           "zaxis": {
            "backgroundcolor": "#E5ECF6",
            "gridcolor": "white",
            "gridwidth": 2,
            "linecolor": "white",
            "showbackground": true,
            "ticks": "",
            "zerolinecolor": "white"
           }
          },
          "shapedefaults": {
           "line": {
            "color": "#2a3f5f"
           }
          },
          "ternary": {
           "aaxis": {
            "gridcolor": "white",
            "linecolor": "white",
            "ticks": ""
           },
           "baxis": {
            "gridcolor": "white",
            "linecolor": "white",
            "ticks": ""
           },
           "bgcolor": "#E5ECF6",
           "caxis": {
            "gridcolor": "white",
            "linecolor": "white",
            "ticks": ""
           }
          },
          "title": {
           "x": 0.05
          },
          "xaxis": {
           "automargin": true,
           "gridcolor": "white",
           "linecolor": "white",
           "ticks": "",
           "title": {
            "standoff": 15
           },
           "zerolinecolor": "white",
           "zerolinewidth": 2
          },
          "yaxis": {
           "automargin": true,
           "gridcolor": "white",
           "linecolor": "white",
           "ticks": "",
           "title": {
            "standoff": 15
           },
           "zerolinecolor": "white",
           "zerolinewidth": 2
          }
         }
        },
        "xaxis": {
         "rangeslider": {
          "visible": false
         }
        }
       }
      },
      "text/html": [
       "<div>                            <div id=\"333b1bda-3a14-4fa0-abfe-63e4c0d58f42\" class=\"plotly-graph-div\" style=\"height:525px; width:100%;\"></div>            <script type=\"text/javascript\">                require([\"plotly\"], function(Plotly) {                    window.PLOTLYENV=window.PLOTLYENV || {};                                    if (document.getElementById(\"333b1bda-3a14-4fa0-abfe-63e4c0d58f42\")) {                    Plotly.newPlot(                        \"333b1bda-3a14-4fa0-abfe-63e4c0d58f42\",                        [{\"close\":[],\"high\":[],\"low\":[],\"open\":[],\"x\":[],\"type\":\"candlestick\"}],                        {\"template\":{\"data\":{\"histogram2dcontour\":[{\"type\":\"histogram2dcontour\",\"colorbar\":{\"outlinewidth\":0,\"ticks\":\"\"},\"colorscale\":[[0.0,\"#0d0887\"],[0.1111111111111111,\"#46039f\"],[0.2222222222222222,\"#7201a8\"],[0.3333333333333333,\"#9c179e\"],[0.4444444444444444,\"#bd3786\"],[0.5555555555555556,\"#d8576b\"],[0.6666666666666666,\"#ed7953\"],[0.7777777777777778,\"#fb9f3a\"],[0.8888888888888888,\"#fdca26\"],[1.0,\"#f0f921\"]]}],\"choropleth\":[{\"type\":\"choropleth\",\"colorbar\":{\"outlinewidth\":0,\"ticks\":\"\"}}],\"histogram2d\":[{\"type\":\"histogram2d\",\"colorbar\":{\"outlinewidth\":0,\"ticks\":\"\"},\"colorscale\":[[0.0,\"#0d0887\"],[0.1111111111111111,\"#46039f\"],[0.2222222222222222,\"#7201a8\"],[0.3333333333333333,\"#9c179e\"],[0.4444444444444444,\"#bd3786\"],[0.5555555555555556,\"#d8576b\"],[0.6666666666666666,\"#ed7953\"],[0.7777777777777778,\"#fb9f3a\"],[0.8888888888888888,\"#fdca26\"],[1.0,\"#f0f921\"]]}],\"heatmap\":[{\"type\":\"heatmap\",\"colorbar\":{\"outlinewidth\":0,\"ticks\":\"\"},\"colorscale\":[[0.0,\"#0d0887\"],[0.1111111111111111,\"#46039f\"],[0.2222222222222222,\"#7201a8\"],[0.3333333333333333,\"#9c179e\"],[0.4444444444444444,\"#bd3786\"],[0.5555555555555556,\"#d8576b\"],[0.6666666666666666,\"#ed7953\"],[0.7777777777777778,\"#fb9f3a\"],[0.8888888888888888,\"#fdca26\"],[1.0,\"#f0f921\"]]}],\"heatmapgl\":[{\"type\":\"heatmapgl\",\"colorbar\":{\"outlinewidth\":0,\"ticks\":\"\"},\"colorscale\":[[0.0,\"#0d0887\"],[0.1111111111111111,\"#46039f\"],[0.2222222222222222,\"#7201a8\"],[0.3333333333333333,\"#9c179e\"],[0.4444444444444444,\"#bd3786\"],[0.5555555555555556,\"#d8576b\"],[0.6666666666666666,\"#ed7953\"],[0.7777777777777778,\"#fb9f3a\"],[0.8888888888888888,\"#fdca26\"],[1.0,\"#f0f921\"]]}],\"contourcarpet\":[{\"type\":\"contourcarpet\",\"colorbar\":{\"outlinewidth\":0,\"ticks\":\"\"}}],\"contour\":[{\"type\":\"contour\",\"colorbar\":{\"outlinewidth\":0,\"ticks\":\"\"},\"colorscale\":[[0.0,\"#0d0887\"],[0.1111111111111111,\"#46039f\"],[0.2222222222222222,\"#7201a8\"],[0.3333333333333333,\"#9c179e\"],[0.4444444444444444,\"#bd3786\"],[0.5555555555555556,\"#d8576b\"],[0.6666666666666666,\"#ed7953\"],[0.7777777777777778,\"#fb9f3a\"],[0.8888888888888888,\"#fdca26\"],[1.0,\"#f0f921\"]]}],\"surface\":[{\"type\":\"surface\",\"colorbar\":{\"outlinewidth\":0,\"ticks\":\"\"},\"colorscale\":[[0.0,\"#0d0887\"],[0.1111111111111111,\"#46039f\"],[0.2222222222222222,\"#7201a8\"],[0.3333333333333333,\"#9c179e\"],[0.4444444444444444,\"#bd3786\"],[0.5555555555555556,\"#d8576b\"],[0.6666666666666666,\"#ed7953\"],[0.7777777777777778,\"#fb9f3a\"],[0.8888888888888888,\"#fdca26\"],[1.0,\"#f0f921\"]]}],\"mesh3d\":[{\"type\":\"mesh3d\",\"colorbar\":{\"outlinewidth\":0,\"ticks\":\"\"}}],\"scatter\":[{\"fillpattern\":{\"fillmode\":\"overlay\",\"size\":10,\"solidity\":0.2},\"type\":\"scatter\"}],\"parcoords\":[{\"type\":\"parcoords\",\"line\":{\"colorbar\":{\"outlinewidth\":0,\"ticks\":\"\"}}}],\"scatterpolargl\":[{\"type\":\"scatterpolargl\",\"marker\":{\"colorbar\":{\"outlinewidth\":0,\"ticks\":\"\"}}}],\"bar\":[{\"error_x\":{\"color\":\"#2a3f5f\"},\"error_y\":{\"color\":\"#2a3f5f\"},\"marker\":{\"line\":{\"color\":\"#E5ECF6\",\"width\":0.5},\"pattern\":{\"fillmode\":\"overlay\",\"size\":10,\"solidity\":0.2}},\"type\":\"bar\"}],\"scattergeo\":[{\"type\":\"scattergeo\",\"marker\":{\"colorbar\":{\"outlinewidth\":0,\"ticks\":\"\"}}}],\"scatterpolar\":[{\"type\":\"scatterpolar\",\"marker\":{\"colorbar\":{\"outlinewidth\":0,\"ticks\":\"\"}}}],\"histogram\":[{\"marker\":{\"pattern\":{\"fillmode\":\"overlay\",\"size\":10,\"solidity\":0.2}},\"type\":\"histogram\"}],\"scattergl\":[{\"type\":\"scattergl\",\"marker\":{\"colorbar\":{\"outlinewidth\":0,\"ticks\":\"\"}}}],\"scatter3d\":[{\"type\":\"scatter3d\",\"line\":{\"colorbar\":{\"outlinewidth\":0,\"ticks\":\"\"}},\"marker\":{\"colorbar\":{\"outlinewidth\":0,\"ticks\":\"\"}}}],\"scattermapbox\":[{\"type\":\"scattermapbox\",\"marker\":{\"colorbar\":{\"outlinewidth\":0,\"ticks\":\"\"}}}],\"scatterternary\":[{\"type\":\"scatterternary\",\"marker\":{\"colorbar\":{\"outlinewidth\":0,\"ticks\":\"\"}}}],\"scattercarpet\":[{\"type\":\"scattercarpet\",\"marker\":{\"colorbar\":{\"outlinewidth\":0,\"ticks\":\"\"}}}],\"carpet\":[{\"aaxis\":{\"endlinecolor\":\"#2a3f5f\",\"gridcolor\":\"white\",\"linecolor\":\"white\",\"minorgridcolor\":\"white\",\"startlinecolor\":\"#2a3f5f\"},\"baxis\":{\"endlinecolor\":\"#2a3f5f\",\"gridcolor\":\"white\",\"linecolor\":\"white\",\"minorgridcolor\":\"white\",\"startlinecolor\":\"#2a3f5f\"},\"type\":\"carpet\"}],\"table\":[{\"cells\":{\"fill\":{\"color\":\"#EBF0F8\"},\"line\":{\"color\":\"white\"}},\"header\":{\"fill\":{\"color\":\"#C8D4E3\"},\"line\":{\"color\":\"white\"}},\"type\":\"table\"}],\"barpolar\":[{\"marker\":{\"line\":{\"color\":\"#E5ECF6\",\"width\":0.5},\"pattern\":{\"fillmode\":\"overlay\",\"size\":10,\"solidity\":0.2}},\"type\":\"barpolar\"}],\"pie\":[{\"automargin\":true,\"type\":\"pie\"}]},\"layout\":{\"autotypenumbers\":\"strict\",\"colorway\":[\"#636efa\",\"#EF553B\",\"#00cc96\",\"#ab63fa\",\"#FFA15A\",\"#19d3f3\",\"#FF6692\",\"#B6E880\",\"#FF97FF\",\"#FECB52\"],\"font\":{\"color\":\"#2a3f5f\"},\"hovermode\":\"closest\",\"hoverlabel\":{\"align\":\"left\"},\"paper_bgcolor\":\"white\",\"plot_bgcolor\":\"#E5ECF6\",\"polar\":{\"bgcolor\":\"#E5ECF6\",\"angularaxis\":{\"gridcolor\":\"white\",\"linecolor\":\"white\",\"ticks\":\"\"},\"radialaxis\":{\"gridcolor\":\"white\",\"linecolor\":\"white\",\"ticks\":\"\"}},\"ternary\":{\"bgcolor\":\"#E5ECF6\",\"aaxis\":{\"gridcolor\":\"white\",\"linecolor\":\"white\",\"ticks\":\"\"},\"baxis\":{\"gridcolor\":\"white\",\"linecolor\":\"white\",\"ticks\":\"\"},\"caxis\":{\"gridcolor\":\"white\",\"linecolor\":\"white\",\"ticks\":\"\"}},\"coloraxis\":{\"colorbar\":{\"outlinewidth\":0,\"ticks\":\"\"}},\"colorscale\":{\"sequential\":[[0.0,\"#0d0887\"],[0.1111111111111111,\"#46039f\"],[0.2222222222222222,\"#7201a8\"],[0.3333333333333333,\"#9c179e\"],[0.4444444444444444,\"#bd3786\"],[0.5555555555555556,\"#d8576b\"],[0.6666666666666666,\"#ed7953\"],[0.7777777777777778,\"#fb9f3a\"],[0.8888888888888888,\"#fdca26\"],[1.0,\"#f0f921\"]],\"sequentialminus\":[[0.0,\"#0d0887\"],[0.1111111111111111,\"#46039f\"],[0.2222222222222222,\"#7201a8\"],[0.3333333333333333,\"#9c179e\"],[0.4444444444444444,\"#bd3786\"],[0.5555555555555556,\"#d8576b\"],[0.6666666666666666,\"#ed7953\"],[0.7777777777777778,\"#fb9f3a\"],[0.8888888888888888,\"#fdca26\"],[1.0,\"#f0f921\"]],\"diverging\":[[0,\"#8e0152\"],[0.1,\"#c51b7d\"],[0.2,\"#de77ae\"],[0.3,\"#f1b6da\"],[0.4,\"#fde0ef\"],[0.5,\"#f7f7f7\"],[0.6,\"#e6f5d0\"],[0.7,\"#b8e186\"],[0.8,\"#7fbc41\"],[0.9,\"#4d9221\"],[1,\"#276419\"]]},\"xaxis\":{\"gridcolor\":\"white\",\"linecolor\":\"white\",\"ticks\":\"\",\"title\":{\"standoff\":15},\"zerolinecolor\":\"white\",\"automargin\":true,\"zerolinewidth\":2},\"yaxis\":{\"gridcolor\":\"white\",\"linecolor\":\"white\",\"ticks\":\"\",\"title\":{\"standoff\":15},\"zerolinecolor\":\"white\",\"automargin\":true,\"zerolinewidth\":2},\"scene\":{\"xaxis\":{\"backgroundcolor\":\"#E5ECF6\",\"gridcolor\":\"white\",\"linecolor\":\"white\",\"showbackground\":true,\"ticks\":\"\",\"zerolinecolor\":\"white\",\"gridwidth\":2},\"yaxis\":{\"backgroundcolor\":\"#E5ECF6\",\"gridcolor\":\"white\",\"linecolor\":\"white\",\"showbackground\":true,\"ticks\":\"\",\"zerolinecolor\":\"white\",\"gridwidth\":2},\"zaxis\":{\"backgroundcolor\":\"#E5ECF6\",\"gridcolor\":\"white\",\"linecolor\":\"white\",\"showbackground\":true,\"ticks\":\"\",\"zerolinecolor\":\"white\",\"gridwidth\":2}},\"shapedefaults\":{\"line\":{\"color\":\"#2a3f5f\"}},\"annotationdefaults\":{\"arrowcolor\":\"#2a3f5f\",\"arrowhead\":0,\"arrowwidth\":1},\"geo\":{\"bgcolor\":\"white\",\"landcolor\":\"#E5ECF6\",\"subunitcolor\":\"white\",\"showland\":true,\"showlakes\":true,\"lakecolor\":\"white\"},\"title\":{\"x\":0.05},\"mapbox\":{\"style\":\"light\"}}},\"xaxis\":{\"rangeslider\":{\"visible\":false}}},                        {\"responsive\": true}                    ).then(function(){\n",
       "                            \n",
       "var gd = document.getElementById('333b1bda-3a14-4fa0-abfe-63e4c0d58f42');\n",
       "var x = new MutationObserver(function (mutations, observer) {{\n",
       "        var display = window.getComputedStyle(gd).display;\n",
       "        if (!display || display === 'none') {{\n",
       "            console.log([gd, 'removed!']);\n",
       "            Plotly.purge(gd);\n",
       "            observer.disconnect();\n",
       "        }}\n",
       "}});\n",
       "\n",
       "// Listen for the removal of the full notebook cells\n",
       "var notebookContainer = gd.closest('#notebook-container');\n",
       "if (notebookContainer) {{\n",
       "    x.observe(notebookContainer, {childList: true});\n",
       "}}\n",
       "\n",
       "// Listen for the clearing of the current output cell\n",
       "var outputEl = gd.closest('.output');\n",
       "if (outputEl) {{\n",
       "    x.observe(outputEl, {childList: true});\n",
       "}}\n",
       "\n",
       "                        })                };                });            </script>        </div>"
      ]
     },
     "metadata": {},
     "output_type": "display_data"
    },
    {
     "name": "stdout",
     "output_type": "stream",
     "text": [
      "21STCENMGM\n"
     ]
    },
    {
     "data": {
      "application/vnd.plotly.v1+json": {
       "config": {
        "plotlyServerURL": "https://plot.ly"
       },
       "data": [
        {
         "close": [
          56.86,
          57.99,
          59.14,
          60.32,
          61.52,
          62.75,
          64,
          65.28,
          66.58,
          67.91,
          69.26,
          70.64,
          72.05,
          74.95,
          76.44,
          77.96,
          79.51,
          81.1,
          77.42,
          75.87
         ],
         "high": [
          56.86,
          57.99,
          59.14,
          60.32,
          61.52,
          62.75,
          64,
          65.28,
          66.58,
          67.91,
          69.26,
          70.64,
          72.05,
          74.95,
          76.44,
          77.96,
          79.51,
          81.1,
          77.42,
          75.87
         ],
         "low": [
          56.86,
          57.99,
          59.14,
          60.32,
          61.52,
          62.75,
          64,
          65.28,
          66.58,
          67.91,
          69.26,
          70.64,
          72.05,
          74.95,
          76.44,
          77.96,
          79.51,
          81.1,
          77.42,
          75.87
         ],
         "open": [
          56.86,
          57.99,
          59.14,
          60.32,
          61.52,
          62.75,
          64,
          65.28,
          66.58,
          67.91,
          69.26,
          70.64,
          72.05,
          74.95,
          76.44,
          77.96,
          79.51,
          81.1,
          77.42,
          75.87
         ],
         "type": "candlestick",
         "x": [
          "18-Jun-2024",
          "19-Jun-2024",
          "20-Jun-2024",
          "21-Jun-2024",
          "24-Jun-2024",
          "25-Jun-2024",
          "26-Jun-2024",
          "27-Jun-2024",
          "28-Jun-2024",
          "01-Jul-2024",
          "02-Jul-2024",
          "03-Jul-2024",
          "04-Jul-2024",
          "08-Jul-2024",
          "09-Jul-2024",
          "10-Jul-2024",
          "11-Jul-2024",
          "12-Jul-2024",
          "18-Jul-2024",
          "19-Jul-2024"
         ]
        }
       ],
       "layout": {
        "template": {
         "data": {
          "bar": [
           {
            "error_x": {
             "color": "#2a3f5f"
            },
            "error_y": {
             "color": "#2a3f5f"
            },
            "marker": {
             "line": {
              "color": "#E5ECF6",
              "width": 0.5
             },
             "pattern": {
              "fillmode": "overlay",
              "size": 10,
              "solidity": 0.2
             }
            },
            "type": "bar"
           }
          ],
          "barpolar": [
           {
            "marker": {
             "line": {
              "color": "#E5ECF6",
              "width": 0.5
             },
             "pattern": {
              "fillmode": "overlay",
              "size": 10,
              "solidity": 0.2
             }
            },
            "type": "barpolar"
           }
          ],
          "carpet": [
           {
            "aaxis": {
             "endlinecolor": "#2a3f5f",
             "gridcolor": "white",
             "linecolor": "white",
             "minorgridcolor": "white",
             "startlinecolor": "#2a3f5f"
            },
            "baxis": {
             "endlinecolor": "#2a3f5f",
             "gridcolor": "white",
             "linecolor": "white",
             "minorgridcolor": "white",
             "startlinecolor": "#2a3f5f"
            },
            "type": "carpet"
           }
          ],
          "choropleth": [
           {
            "colorbar": {
             "outlinewidth": 0,
             "ticks": ""
            },
            "type": "choropleth"
           }
          ],
          "contour": [
           {
            "colorbar": {
             "outlinewidth": 0,
             "ticks": ""
            },
            "colorscale": [
             [
              0,
              "#0d0887"
             ],
             [
              0.1111111111111111,
              "#46039f"
             ],
             [
              0.2222222222222222,
              "#7201a8"
             ],
             [
              0.3333333333333333,
              "#9c179e"
             ],
             [
              0.4444444444444444,
              "#bd3786"
             ],
             [
              0.5555555555555556,
              "#d8576b"
             ],
             [
              0.6666666666666666,
              "#ed7953"
             ],
             [
              0.7777777777777778,
              "#fb9f3a"
             ],
             [
              0.8888888888888888,
              "#fdca26"
             ],
             [
              1,
              "#f0f921"
             ]
            ],
            "type": "contour"
           }
          ],
          "contourcarpet": [
           {
            "colorbar": {
             "outlinewidth": 0,
             "ticks": ""
            },
            "type": "contourcarpet"
           }
          ],
          "heatmap": [
           {
            "colorbar": {
             "outlinewidth": 0,
             "ticks": ""
            },
            "colorscale": [
             [
              0,
              "#0d0887"
             ],
             [
              0.1111111111111111,
              "#46039f"
             ],
             [
              0.2222222222222222,
              "#7201a8"
             ],
             [
              0.3333333333333333,
              "#9c179e"
             ],
             [
              0.4444444444444444,
              "#bd3786"
             ],
             [
              0.5555555555555556,
              "#d8576b"
             ],
             [
              0.6666666666666666,
              "#ed7953"
             ],
             [
              0.7777777777777778,
              "#fb9f3a"
             ],
             [
              0.8888888888888888,
              "#fdca26"
             ],
             [
              1,
              "#f0f921"
             ]
            ],
            "type": "heatmap"
           }
          ],
          "heatmapgl": [
           {
            "colorbar": {
             "outlinewidth": 0,
             "ticks": ""
            },
            "colorscale": [
             [
              0,
              "#0d0887"
             ],
             [
              0.1111111111111111,
              "#46039f"
             ],
             [
              0.2222222222222222,
              "#7201a8"
             ],
             [
              0.3333333333333333,
              "#9c179e"
             ],
             [
              0.4444444444444444,
              "#bd3786"
             ],
             [
              0.5555555555555556,
              "#d8576b"
             ],
             [
              0.6666666666666666,
              "#ed7953"
             ],
             [
              0.7777777777777778,
              "#fb9f3a"
             ],
             [
              0.8888888888888888,
              "#fdca26"
             ],
             [
              1,
              "#f0f921"
             ]
            ],
            "type": "heatmapgl"
           }
          ],
          "histogram": [
           {
            "marker": {
             "pattern": {
              "fillmode": "overlay",
              "size": 10,
              "solidity": 0.2
             }
            },
            "type": "histogram"
           }
          ],
          "histogram2d": [
           {
            "colorbar": {
             "outlinewidth": 0,
             "ticks": ""
            },
            "colorscale": [
             [
              0,
              "#0d0887"
             ],
             [
              0.1111111111111111,
              "#46039f"
             ],
             [
              0.2222222222222222,
              "#7201a8"
             ],
             [
              0.3333333333333333,
              "#9c179e"
             ],
             [
              0.4444444444444444,
              "#bd3786"
             ],
             [
              0.5555555555555556,
              "#d8576b"
             ],
             [
              0.6666666666666666,
              "#ed7953"
             ],
             [
              0.7777777777777778,
              "#fb9f3a"
             ],
             [
              0.8888888888888888,
              "#fdca26"
             ],
             [
              1,
              "#f0f921"
             ]
            ],
            "type": "histogram2d"
           }
          ],
          "histogram2dcontour": [
           {
            "colorbar": {
             "outlinewidth": 0,
             "ticks": ""
            },
            "colorscale": [
             [
              0,
              "#0d0887"
             ],
             [
              0.1111111111111111,
              "#46039f"
             ],
             [
              0.2222222222222222,
              "#7201a8"
             ],
             [
              0.3333333333333333,
              "#9c179e"
             ],
             [
              0.4444444444444444,
              "#bd3786"
             ],
             [
              0.5555555555555556,
              "#d8576b"
             ],
             [
              0.6666666666666666,
              "#ed7953"
             ],
             [
              0.7777777777777778,
              "#fb9f3a"
             ],
             [
              0.8888888888888888,
              "#fdca26"
             ],
             [
              1,
              "#f0f921"
             ]
            ],
            "type": "histogram2dcontour"
           }
          ],
          "mesh3d": [
           {
            "colorbar": {
             "outlinewidth": 0,
             "ticks": ""
            },
            "type": "mesh3d"
           }
          ],
          "parcoords": [
           {
            "line": {
             "colorbar": {
              "outlinewidth": 0,
              "ticks": ""
             }
            },
            "type": "parcoords"
           }
          ],
          "pie": [
           {
            "automargin": true,
            "type": "pie"
           }
          ],
          "scatter": [
           {
            "fillpattern": {
             "fillmode": "overlay",
             "size": 10,
             "solidity": 0.2
            },
            "type": "scatter"
           }
          ],
          "scatter3d": [
           {
            "line": {
             "colorbar": {
              "outlinewidth": 0,
              "ticks": ""
             }
            },
            "marker": {
             "colorbar": {
              "outlinewidth": 0,
              "ticks": ""
             }
            },
            "type": "scatter3d"
           }
          ],
          "scattercarpet": [
           {
            "marker": {
             "colorbar": {
              "outlinewidth": 0,
              "ticks": ""
             }
            },
            "type": "scattercarpet"
           }
          ],
          "scattergeo": [
           {
            "marker": {
             "colorbar": {
              "outlinewidth": 0,
              "ticks": ""
             }
            },
            "type": "scattergeo"
           }
          ],
          "scattergl": [
           {
            "marker": {
             "colorbar": {
              "outlinewidth": 0,
              "ticks": ""
             }
            },
            "type": "scattergl"
           }
          ],
          "scattermapbox": [
           {
            "marker": {
             "colorbar": {
              "outlinewidth": 0,
              "ticks": ""
             }
            },
            "type": "scattermapbox"
           }
          ],
          "scatterpolar": [
           {
            "marker": {
             "colorbar": {
              "outlinewidth": 0,
              "ticks": ""
             }
            },
            "type": "scatterpolar"
           }
          ],
          "scatterpolargl": [
           {
            "marker": {
             "colorbar": {
              "outlinewidth": 0,
              "ticks": ""
             }
            },
            "type": "scatterpolargl"
           }
          ],
          "scatterternary": [
           {
            "marker": {
             "colorbar": {
              "outlinewidth": 0,
              "ticks": ""
             }
            },
            "type": "scatterternary"
           }
          ],
          "surface": [
           {
            "colorbar": {
             "outlinewidth": 0,
             "ticks": ""
            },
            "colorscale": [
             [
              0,
              "#0d0887"
             ],
             [
              0.1111111111111111,
              "#46039f"
             ],
             [
              0.2222222222222222,
              "#7201a8"
             ],
             [
              0.3333333333333333,
              "#9c179e"
             ],
             [
              0.4444444444444444,
              "#bd3786"
             ],
             [
              0.5555555555555556,
              "#d8576b"
             ],
             [
              0.6666666666666666,
              "#ed7953"
             ],
             [
              0.7777777777777778,
              "#fb9f3a"
             ],
             [
              0.8888888888888888,
              "#fdca26"
             ],
             [
              1,
              "#f0f921"
             ]
            ],
            "type": "surface"
           }
          ],
          "table": [
           {
            "cells": {
             "fill": {
              "color": "#EBF0F8"
             },
             "line": {
              "color": "white"
             }
            },
            "header": {
             "fill": {
              "color": "#C8D4E3"
             },
             "line": {
              "color": "white"
             }
            },
            "type": "table"
           }
          ]
         },
         "layout": {
          "annotationdefaults": {
           "arrowcolor": "#2a3f5f",
           "arrowhead": 0,
           "arrowwidth": 1
          },
          "autotypenumbers": "strict",
          "coloraxis": {
           "colorbar": {
            "outlinewidth": 0,
            "ticks": ""
           }
          },
          "colorscale": {
           "diverging": [
            [
             0,
             "#8e0152"
            ],
            [
             0.1,
             "#c51b7d"
            ],
            [
             0.2,
             "#de77ae"
            ],
            [
             0.3,
             "#f1b6da"
            ],
            [
             0.4,
             "#fde0ef"
            ],
            [
             0.5,
             "#f7f7f7"
            ],
            [
             0.6,
             "#e6f5d0"
            ],
            [
             0.7,
             "#b8e186"
            ],
            [
             0.8,
             "#7fbc41"
            ],
            [
             0.9,
             "#4d9221"
            ],
            [
             1,
             "#276419"
            ]
           ],
           "sequential": [
            [
             0,
             "#0d0887"
            ],
            [
             0.1111111111111111,
             "#46039f"
            ],
            [
             0.2222222222222222,
             "#7201a8"
            ],
            [
             0.3333333333333333,
             "#9c179e"
            ],
            [
             0.4444444444444444,
             "#bd3786"
            ],
            [
             0.5555555555555556,
             "#d8576b"
            ],
            [
             0.6666666666666666,
             "#ed7953"
            ],
            [
             0.7777777777777778,
             "#fb9f3a"
            ],
            [
             0.8888888888888888,
             "#fdca26"
            ],
            [
             1,
             "#f0f921"
            ]
           ],
           "sequentialminus": [
            [
             0,
             "#0d0887"
            ],
            [
             0.1111111111111111,
             "#46039f"
            ],
            [
             0.2222222222222222,
             "#7201a8"
            ],
            [
             0.3333333333333333,
             "#9c179e"
            ],
            [
             0.4444444444444444,
             "#bd3786"
            ],
            [
             0.5555555555555556,
             "#d8576b"
            ],
            [
             0.6666666666666666,
             "#ed7953"
            ],
            [
             0.7777777777777778,
             "#fb9f3a"
            ],
            [
             0.8888888888888888,
             "#fdca26"
            ],
            [
             1,
             "#f0f921"
            ]
           ]
          },
          "colorway": [
           "#636efa",
           "#EF553B",
           "#00cc96",
           "#ab63fa",
           "#FFA15A",
           "#19d3f3",
           "#FF6692",
           "#B6E880",
           "#FF97FF",
           "#FECB52"
          ],
          "font": {
           "color": "#2a3f5f"
          },
          "geo": {
           "bgcolor": "white",
           "lakecolor": "white",
           "landcolor": "#E5ECF6",
           "showlakes": true,
           "showland": true,
           "subunitcolor": "white"
          },
          "hoverlabel": {
           "align": "left"
          },
          "hovermode": "closest",
          "mapbox": {
           "style": "light"
          },
          "paper_bgcolor": "white",
          "plot_bgcolor": "#E5ECF6",
          "polar": {
           "angularaxis": {
            "gridcolor": "white",
            "linecolor": "white",
            "ticks": ""
           },
           "bgcolor": "#E5ECF6",
           "radialaxis": {
            "gridcolor": "white",
            "linecolor": "white",
            "ticks": ""
           }
          },
          "scene": {
           "xaxis": {
            "backgroundcolor": "#E5ECF6",
            "gridcolor": "white",
            "gridwidth": 2,
            "linecolor": "white",
            "showbackground": true,
            "ticks": "",
            "zerolinecolor": "white"
           },
           "yaxis": {
            "backgroundcolor": "#E5ECF6",
            "gridcolor": "white",
            "gridwidth": 2,
            "linecolor": "white",
            "showbackground": true,
            "ticks": "",
            "zerolinecolor": "white"
           },
           "zaxis": {
            "backgroundcolor": "#E5ECF6",
            "gridcolor": "white",
            "gridwidth": 2,
            "linecolor": "white",
            "showbackground": true,
            "ticks": "",
            "zerolinecolor": "white"
           }
          },
          "shapedefaults": {
           "line": {
            "color": "#2a3f5f"
           }
          },
          "ternary": {
           "aaxis": {
            "gridcolor": "white",
            "linecolor": "white",
            "ticks": ""
           },
           "baxis": {
            "gridcolor": "white",
            "linecolor": "white",
            "ticks": ""
           },
           "bgcolor": "#E5ECF6",
           "caxis": {
            "gridcolor": "white",
            "linecolor": "white",
            "ticks": ""
           }
          },
          "title": {
           "x": 0.05
          },
          "xaxis": {
           "automargin": true,
           "gridcolor": "white",
           "linecolor": "white",
           "ticks": "",
           "title": {
            "standoff": 15
           },
           "zerolinecolor": "white",
           "zerolinewidth": 2
          },
          "yaxis": {
           "automargin": true,
           "gridcolor": "white",
           "linecolor": "white",
           "ticks": "",
           "title": {
            "standoff": 15
           },
           "zerolinecolor": "white",
           "zerolinewidth": 2
          }
         }
        },
        "xaxis": {
         "rangeslider": {
          "visible": false
         }
        }
       }
      },
      "text/html": [
       "<div>                            <div id=\"b6990cf7-9b10-4bfa-8ca8-f91a2fd75e46\" class=\"plotly-graph-div\" style=\"height:525px; width:100%;\"></div>            <script type=\"text/javascript\">                require([\"plotly\"], function(Plotly) {                    window.PLOTLYENV=window.PLOTLYENV || {};                                    if (document.getElementById(\"b6990cf7-9b10-4bfa-8ca8-f91a2fd75e46\")) {                    Plotly.newPlot(                        \"b6990cf7-9b10-4bfa-8ca8-f91a2fd75e46\",                        [{\"close\":[56.86,57.99,59.14,60.32,61.52,62.75,64.0,65.28,66.58,67.91,69.26,70.64,72.05,74.95,76.44,77.96,79.51,81.1,77.42,75.87],\"high\":[56.86,57.99,59.14,60.32,61.52,62.75,64.0,65.28,66.58,67.91,69.26,70.64,72.05,74.95,76.44,77.96,79.51,81.1,77.42,75.87],\"low\":[56.86,57.99,59.14,60.32,61.52,62.75,64.0,65.28,66.58,67.91,69.26,70.64,72.05,74.95,76.44,77.96,79.51,81.1,77.42,75.87],\"open\":[56.86,57.99,59.14,60.32,61.52,62.75,64.0,65.28,66.58,67.91,69.26,70.64,72.05,74.95,76.44,77.96,79.51,81.1,77.42,75.87],\"x\":[\"18-Jun-2024\",\"19-Jun-2024\",\"20-Jun-2024\",\"21-Jun-2024\",\"24-Jun-2024\",\"25-Jun-2024\",\"26-Jun-2024\",\"27-Jun-2024\",\"28-Jun-2024\",\"01-Jul-2024\",\"02-Jul-2024\",\"03-Jul-2024\",\"04-Jul-2024\",\"08-Jul-2024\",\"09-Jul-2024\",\"10-Jul-2024\",\"11-Jul-2024\",\"12-Jul-2024\",\"18-Jul-2024\",\"19-Jul-2024\"],\"type\":\"candlestick\"}],                        {\"template\":{\"data\":{\"histogram2dcontour\":[{\"type\":\"histogram2dcontour\",\"colorbar\":{\"outlinewidth\":0,\"ticks\":\"\"},\"colorscale\":[[0.0,\"#0d0887\"],[0.1111111111111111,\"#46039f\"],[0.2222222222222222,\"#7201a8\"],[0.3333333333333333,\"#9c179e\"],[0.4444444444444444,\"#bd3786\"],[0.5555555555555556,\"#d8576b\"],[0.6666666666666666,\"#ed7953\"],[0.7777777777777778,\"#fb9f3a\"],[0.8888888888888888,\"#fdca26\"],[1.0,\"#f0f921\"]]}],\"choropleth\":[{\"type\":\"choropleth\",\"colorbar\":{\"outlinewidth\":0,\"ticks\":\"\"}}],\"histogram2d\":[{\"type\":\"histogram2d\",\"colorbar\":{\"outlinewidth\":0,\"ticks\":\"\"},\"colorscale\":[[0.0,\"#0d0887\"],[0.1111111111111111,\"#46039f\"],[0.2222222222222222,\"#7201a8\"],[0.3333333333333333,\"#9c179e\"],[0.4444444444444444,\"#bd3786\"],[0.5555555555555556,\"#d8576b\"],[0.6666666666666666,\"#ed7953\"],[0.7777777777777778,\"#fb9f3a\"],[0.8888888888888888,\"#fdca26\"],[1.0,\"#f0f921\"]]}],\"heatmap\":[{\"type\":\"heatmap\",\"colorbar\":{\"outlinewidth\":0,\"ticks\":\"\"},\"colorscale\":[[0.0,\"#0d0887\"],[0.1111111111111111,\"#46039f\"],[0.2222222222222222,\"#7201a8\"],[0.3333333333333333,\"#9c179e\"],[0.4444444444444444,\"#bd3786\"],[0.5555555555555556,\"#d8576b\"],[0.6666666666666666,\"#ed7953\"],[0.7777777777777778,\"#fb9f3a\"],[0.8888888888888888,\"#fdca26\"],[1.0,\"#f0f921\"]]}],\"heatmapgl\":[{\"type\":\"heatmapgl\",\"colorbar\":{\"outlinewidth\":0,\"ticks\":\"\"},\"colorscale\":[[0.0,\"#0d0887\"],[0.1111111111111111,\"#46039f\"],[0.2222222222222222,\"#7201a8\"],[0.3333333333333333,\"#9c179e\"],[0.4444444444444444,\"#bd3786\"],[0.5555555555555556,\"#d8576b\"],[0.6666666666666666,\"#ed7953\"],[0.7777777777777778,\"#fb9f3a\"],[0.8888888888888888,\"#fdca26\"],[1.0,\"#f0f921\"]]}],\"contourcarpet\":[{\"type\":\"contourcarpet\",\"colorbar\":{\"outlinewidth\":0,\"ticks\":\"\"}}],\"contour\":[{\"type\":\"contour\",\"colorbar\":{\"outlinewidth\":0,\"ticks\":\"\"},\"colorscale\":[[0.0,\"#0d0887\"],[0.1111111111111111,\"#46039f\"],[0.2222222222222222,\"#7201a8\"],[0.3333333333333333,\"#9c179e\"],[0.4444444444444444,\"#bd3786\"],[0.5555555555555556,\"#d8576b\"],[0.6666666666666666,\"#ed7953\"],[0.7777777777777778,\"#fb9f3a\"],[0.8888888888888888,\"#fdca26\"],[1.0,\"#f0f921\"]]}],\"surface\":[{\"type\":\"surface\",\"colorbar\":{\"outlinewidth\":0,\"ticks\":\"\"},\"colorscale\":[[0.0,\"#0d0887\"],[0.1111111111111111,\"#46039f\"],[0.2222222222222222,\"#7201a8\"],[0.3333333333333333,\"#9c179e\"],[0.4444444444444444,\"#bd3786\"],[0.5555555555555556,\"#d8576b\"],[0.6666666666666666,\"#ed7953\"],[0.7777777777777778,\"#fb9f3a\"],[0.8888888888888888,\"#fdca26\"],[1.0,\"#f0f921\"]]}],\"mesh3d\":[{\"type\":\"mesh3d\",\"colorbar\":{\"outlinewidth\":0,\"ticks\":\"\"}}],\"scatter\":[{\"fillpattern\":{\"fillmode\":\"overlay\",\"size\":10,\"solidity\":0.2},\"type\":\"scatter\"}],\"parcoords\":[{\"type\":\"parcoords\",\"line\":{\"colorbar\":{\"outlinewidth\":0,\"ticks\":\"\"}}}],\"scatterpolargl\":[{\"type\":\"scatterpolargl\",\"marker\":{\"colorbar\":{\"outlinewidth\":0,\"ticks\":\"\"}}}],\"bar\":[{\"error_x\":{\"color\":\"#2a3f5f\"},\"error_y\":{\"color\":\"#2a3f5f\"},\"marker\":{\"line\":{\"color\":\"#E5ECF6\",\"width\":0.5},\"pattern\":{\"fillmode\":\"overlay\",\"size\":10,\"solidity\":0.2}},\"type\":\"bar\"}],\"scattergeo\":[{\"type\":\"scattergeo\",\"marker\":{\"colorbar\":{\"outlinewidth\":0,\"ticks\":\"\"}}}],\"scatterpolar\":[{\"type\":\"scatterpolar\",\"marker\":{\"colorbar\":{\"outlinewidth\":0,\"ticks\":\"\"}}}],\"histogram\":[{\"marker\":{\"pattern\":{\"fillmode\":\"overlay\",\"size\":10,\"solidity\":0.2}},\"type\":\"histogram\"}],\"scattergl\":[{\"type\":\"scattergl\",\"marker\":{\"colorbar\":{\"outlinewidth\":0,\"ticks\":\"\"}}}],\"scatter3d\":[{\"type\":\"scatter3d\",\"line\":{\"colorbar\":{\"outlinewidth\":0,\"ticks\":\"\"}},\"marker\":{\"colorbar\":{\"outlinewidth\":0,\"ticks\":\"\"}}}],\"scattermapbox\":[{\"type\":\"scattermapbox\",\"marker\":{\"colorbar\":{\"outlinewidth\":0,\"ticks\":\"\"}}}],\"scatterternary\":[{\"type\":\"scatterternary\",\"marker\":{\"colorbar\":{\"outlinewidth\":0,\"ticks\":\"\"}}}],\"scattercarpet\":[{\"type\":\"scattercarpet\",\"marker\":{\"colorbar\":{\"outlinewidth\":0,\"ticks\":\"\"}}}],\"carpet\":[{\"aaxis\":{\"endlinecolor\":\"#2a3f5f\",\"gridcolor\":\"white\",\"linecolor\":\"white\",\"minorgridcolor\":\"white\",\"startlinecolor\":\"#2a3f5f\"},\"baxis\":{\"endlinecolor\":\"#2a3f5f\",\"gridcolor\":\"white\",\"linecolor\":\"white\",\"minorgridcolor\":\"white\",\"startlinecolor\":\"#2a3f5f\"},\"type\":\"carpet\"}],\"table\":[{\"cells\":{\"fill\":{\"color\":\"#EBF0F8\"},\"line\":{\"color\":\"white\"}},\"header\":{\"fill\":{\"color\":\"#C8D4E3\"},\"line\":{\"color\":\"white\"}},\"type\":\"table\"}],\"barpolar\":[{\"marker\":{\"line\":{\"color\":\"#E5ECF6\",\"width\":0.5},\"pattern\":{\"fillmode\":\"overlay\",\"size\":10,\"solidity\":0.2}},\"type\":\"barpolar\"}],\"pie\":[{\"automargin\":true,\"type\":\"pie\"}]},\"layout\":{\"autotypenumbers\":\"strict\",\"colorway\":[\"#636efa\",\"#EF553B\",\"#00cc96\",\"#ab63fa\",\"#FFA15A\",\"#19d3f3\",\"#FF6692\",\"#B6E880\",\"#FF97FF\",\"#FECB52\"],\"font\":{\"color\":\"#2a3f5f\"},\"hovermode\":\"closest\",\"hoverlabel\":{\"align\":\"left\"},\"paper_bgcolor\":\"white\",\"plot_bgcolor\":\"#E5ECF6\",\"polar\":{\"bgcolor\":\"#E5ECF6\",\"angularaxis\":{\"gridcolor\":\"white\",\"linecolor\":\"white\",\"ticks\":\"\"},\"radialaxis\":{\"gridcolor\":\"white\",\"linecolor\":\"white\",\"ticks\":\"\"}},\"ternary\":{\"bgcolor\":\"#E5ECF6\",\"aaxis\":{\"gridcolor\":\"white\",\"linecolor\":\"white\",\"ticks\":\"\"},\"baxis\":{\"gridcolor\":\"white\",\"linecolor\":\"white\",\"ticks\":\"\"},\"caxis\":{\"gridcolor\":\"white\",\"linecolor\":\"white\",\"ticks\":\"\"}},\"coloraxis\":{\"colorbar\":{\"outlinewidth\":0,\"ticks\":\"\"}},\"colorscale\":{\"sequential\":[[0.0,\"#0d0887\"],[0.1111111111111111,\"#46039f\"],[0.2222222222222222,\"#7201a8\"],[0.3333333333333333,\"#9c179e\"],[0.4444444444444444,\"#bd3786\"],[0.5555555555555556,\"#d8576b\"],[0.6666666666666666,\"#ed7953\"],[0.7777777777777778,\"#fb9f3a\"],[0.8888888888888888,\"#fdca26\"],[1.0,\"#f0f921\"]],\"sequentialminus\":[[0.0,\"#0d0887\"],[0.1111111111111111,\"#46039f\"],[0.2222222222222222,\"#7201a8\"],[0.3333333333333333,\"#9c179e\"],[0.4444444444444444,\"#bd3786\"],[0.5555555555555556,\"#d8576b\"],[0.6666666666666666,\"#ed7953\"],[0.7777777777777778,\"#fb9f3a\"],[0.8888888888888888,\"#fdca26\"],[1.0,\"#f0f921\"]],\"diverging\":[[0,\"#8e0152\"],[0.1,\"#c51b7d\"],[0.2,\"#de77ae\"],[0.3,\"#f1b6da\"],[0.4,\"#fde0ef\"],[0.5,\"#f7f7f7\"],[0.6,\"#e6f5d0\"],[0.7,\"#b8e186\"],[0.8,\"#7fbc41\"],[0.9,\"#4d9221\"],[1,\"#276419\"]]},\"xaxis\":{\"gridcolor\":\"white\",\"linecolor\":\"white\",\"ticks\":\"\",\"title\":{\"standoff\":15},\"zerolinecolor\":\"white\",\"automargin\":true,\"zerolinewidth\":2},\"yaxis\":{\"gridcolor\":\"white\",\"linecolor\":\"white\",\"ticks\":\"\",\"title\":{\"standoff\":15},\"zerolinecolor\":\"white\",\"automargin\":true,\"zerolinewidth\":2},\"scene\":{\"xaxis\":{\"backgroundcolor\":\"#E5ECF6\",\"gridcolor\":\"white\",\"linecolor\":\"white\",\"showbackground\":true,\"ticks\":\"\",\"zerolinecolor\":\"white\",\"gridwidth\":2},\"yaxis\":{\"backgroundcolor\":\"#E5ECF6\",\"gridcolor\":\"white\",\"linecolor\":\"white\",\"showbackground\":true,\"ticks\":\"\",\"zerolinecolor\":\"white\",\"gridwidth\":2},\"zaxis\":{\"backgroundcolor\":\"#E5ECF6\",\"gridcolor\":\"white\",\"linecolor\":\"white\",\"showbackground\":true,\"ticks\":\"\",\"zerolinecolor\":\"white\",\"gridwidth\":2}},\"shapedefaults\":{\"line\":{\"color\":\"#2a3f5f\"}},\"annotationdefaults\":{\"arrowcolor\":\"#2a3f5f\",\"arrowhead\":0,\"arrowwidth\":1},\"geo\":{\"bgcolor\":\"white\",\"landcolor\":\"#E5ECF6\",\"subunitcolor\":\"white\",\"showland\":true,\"showlakes\":true,\"lakecolor\":\"white\"},\"title\":{\"x\":0.05},\"mapbox\":{\"style\":\"light\"}}},\"xaxis\":{\"rangeslider\":{\"visible\":false}}},                        {\"responsive\": true}                    ).then(function(){\n",
       "                            \n",
       "var gd = document.getElementById('b6990cf7-9b10-4bfa-8ca8-f91a2fd75e46');\n",
       "var x = new MutationObserver(function (mutations, observer) {{\n",
       "        var display = window.getComputedStyle(gd).display;\n",
       "        if (!display || display === 'none') {{\n",
       "            console.log([gd, 'removed!']);\n",
       "            Plotly.purge(gd);\n",
       "            observer.disconnect();\n",
       "        }}\n",
       "}});\n",
       "\n",
       "// Listen for the removal of the full notebook cells\n",
       "var notebookContainer = gd.closest('#notebook-container');\n",
       "if (notebookContainer) {{\n",
       "    x.observe(notebookContainer, {childList: true});\n",
       "}}\n",
       "\n",
       "// Listen for the clearing of the current output cell\n",
       "var outputEl = gd.closest('.output');\n",
       "if (outputEl) {{\n",
       "    x.observe(outputEl, {childList: true});\n",
       "}}\n",
       "\n",
       "                        })                };                });            </script>        </div>"
      ]
     },
     "metadata": {},
     "output_type": "display_data"
    },
    {
     "name": "stdout",
     "output_type": "stream",
     "text": [
      "360ONE\n"
     ]
    },
    {
     "data": {
      "application/vnd.plotly.v1+json": {
       "config": {
        "plotlyServerURL": "https://plot.ly"
       },
       "data": [
        {
         "close": [
          964.7
         ],
         "high": [
          967.7
         ],
         "low": [
          920.2
         ],
         "open": [
          927.3
         ],
         "type": "candlestick",
         "x": [
          "05-Jul-2024"
         ]
        }
       ],
       "layout": {
        "template": {
         "data": {
          "bar": [
           {
            "error_x": {
             "color": "#2a3f5f"
            },
            "error_y": {
             "color": "#2a3f5f"
            },
            "marker": {
             "line": {
              "color": "#E5ECF6",
              "width": 0.5
             },
             "pattern": {
              "fillmode": "overlay",
              "size": 10,
              "solidity": 0.2
             }
            },
            "type": "bar"
           }
          ],
          "barpolar": [
           {
            "marker": {
             "line": {
              "color": "#E5ECF6",
              "width": 0.5
             },
             "pattern": {
              "fillmode": "overlay",
              "size": 10,
              "solidity": 0.2
             }
            },
            "type": "barpolar"
           }
          ],
          "carpet": [
           {
            "aaxis": {
             "endlinecolor": "#2a3f5f",
             "gridcolor": "white",
             "linecolor": "white",
             "minorgridcolor": "white",
             "startlinecolor": "#2a3f5f"
            },
            "baxis": {
             "endlinecolor": "#2a3f5f",
             "gridcolor": "white",
             "linecolor": "white",
             "minorgridcolor": "white",
             "startlinecolor": "#2a3f5f"
            },
            "type": "carpet"
           }
          ],
          "choropleth": [
           {
            "colorbar": {
             "outlinewidth": 0,
             "ticks": ""
            },
            "type": "choropleth"
           }
          ],
          "contour": [
           {
            "colorbar": {
             "outlinewidth": 0,
             "ticks": ""
            },
            "colorscale": [
             [
              0,
              "#0d0887"
             ],
             [
              0.1111111111111111,
              "#46039f"
             ],
             [
              0.2222222222222222,
              "#7201a8"
             ],
             [
              0.3333333333333333,
              "#9c179e"
             ],
             [
              0.4444444444444444,
              "#bd3786"
             ],
             [
              0.5555555555555556,
              "#d8576b"
             ],
             [
              0.6666666666666666,
              "#ed7953"
             ],
             [
              0.7777777777777778,
              "#fb9f3a"
             ],
             [
              0.8888888888888888,
              "#fdca26"
             ],
             [
              1,
              "#f0f921"
             ]
            ],
            "type": "contour"
           }
          ],
          "contourcarpet": [
           {
            "colorbar": {
             "outlinewidth": 0,
             "ticks": ""
            },
            "type": "contourcarpet"
           }
          ],
          "heatmap": [
           {
            "colorbar": {
             "outlinewidth": 0,
             "ticks": ""
            },
            "colorscale": [
             [
              0,
              "#0d0887"
             ],
             [
              0.1111111111111111,
              "#46039f"
             ],
             [
              0.2222222222222222,
              "#7201a8"
             ],
             [
              0.3333333333333333,
              "#9c179e"
             ],
             [
              0.4444444444444444,
              "#bd3786"
             ],
             [
              0.5555555555555556,
              "#d8576b"
             ],
             [
              0.6666666666666666,
              "#ed7953"
             ],
             [
              0.7777777777777778,
              "#fb9f3a"
             ],
             [
              0.8888888888888888,
              "#fdca26"
             ],
             [
              1,
              "#f0f921"
             ]
            ],
            "type": "heatmap"
           }
          ],
          "heatmapgl": [
           {
            "colorbar": {
             "outlinewidth": 0,
             "ticks": ""
            },
            "colorscale": [
             [
              0,
              "#0d0887"
             ],
             [
              0.1111111111111111,
              "#46039f"
             ],
             [
              0.2222222222222222,
              "#7201a8"
             ],
             [
              0.3333333333333333,
              "#9c179e"
             ],
             [
              0.4444444444444444,
              "#bd3786"
             ],
             [
              0.5555555555555556,
              "#d8576b"
             ],
             [
              0.6666666666666666,
              "#ed7953"
             ],
             [
              0.7777777777777778,
              "#fb9f3a"
             ],
             [
              0.8888888888888888,
              "#fdca26"
             ],
             [
              1,
              "#f0f921"
             ]
            ],
            "type": "heatmapgl"
           }
          ],
          "histogram": [
           {
            "marker": {
             "pattern": {
              "fillmode": "overlay",
              "size": 10,
              "solidity": 0.2
             }
            },
            "type": "histogram"
           }
          ],
          "histogram2d": [
           {
            "colorbar": {
             "outlinewidth": 0,
             "ticks": ""
            },
            "colorscale": [
             [
              0,
              "#0d0887"
             ],
             [
              0.1111111111111111,
              "#46039f"
             ],
             [
              0.2222222222222222,
              "#7201a8"
             ],
             [
              0.3333333333333333,
              "#9c179e"
             ],
             [
              0.4444444444444444,
              "#bd3786"
             ],
             [
              0.5555555555555556,
              "#d8576b"
             ],
             [
              0.6666666666666666,
              "#ed7953"
             ],
             [
              0.7777777777777778,
              "#fb9f3a"
             ],
             [
              0.8888888888888888,
              "#fdca26"
             ],
             [
              1,
              "#f0f921"
             ]
            ],
            "type": "histogram2d"
           }
          ],
          "histogram2dcontour": [
           {
            "colorbar": {
             "outlinewidth": 0,
             "ticks": ""
            },
            "colorscale": [
             [
              0,
              "#0d0887"
             ],
             [
              0.1111111111111111,
              "#46039f"
             ],
             [
              0.2222222222222222,
              "#7201a8"
             ],
             [
              0.3333333333333333,
              "#9c179e"
             ],
             [
              0.4444444444444444,
              "#bd3786"
             ],
             [
              0.5555555555555556,
              "#d8576b"
             ],
             [
              0.6666666666666666,
              "#ed7953"
             ],
             [
              0.7777777777777778,
              "#fb9f3a"
             ],
             [
              0.8888888888888888,
              "#fdca26"
             ],
             [
              1,
              "#f0f921"
             ]
            ],
            "type": "histogram2dcontour"
           }
          ],
          "mesh3d": [
           {
            "colorbar": {
             "outlinewidth": 0,
             "ticks": ""
            },
            "type": "mesh3d"
           }
          ],
          "parcoords": [
           {
            "line": {
             "colorbar": {
              "outlinewidth": 0,
              "ticks": ""
             }
            },
            "type": "parcoords"
           }
          ],
          "pie": [
           {
            "automargin": true,
            "type": "pie"
           }
          ],
          "scatter": [
           {
            "fillpattern": {
             "fillmode": "overlay",
             "size": 10,
             "solidity": 0.2
            },
            "type": "scatter"
           }
          ],
          "scatter3d": [
           {
            "line": {
             "colorbar": {
              "outlinewidth": 0,
              "ticks": ""
             }
            },
            "marker": {
             "colorbar": {
              "outlinewidth": 0,
              "ticks": ""
             }
            },
            "type": "scatter3d"
           }
          ],
          "scattercarpet": [
           {
            "marker": {
             "colorbar": {
              "outlinewidth": 0,
              "ticks": ""
             }
            },
            "type": "scattercarpet"
           }
          ],
          "scattergeo": [
           {
            "marker": {
             "colorbar": {
              "outlinewidth": 0,
              "ticks": ""
             }
            },
            "type": "scattergeo"
           }
          ],
          "scattergl": [
           {
            "marker": {
             "colorbar": {
              "outlinewidth": 0,
              "ticks": ""
             }
            },
            "type": "scattergl"
           }
          ],
          "scattermapbox": [
           {
            "marker": {
             "colorbar": {
              "outlinewidth": 0,
              "ticks": ""
             }
            },
            "type": "scattermapbox"
           }
          ],
          "scatterpolar": [
           {
            "marker": {
             "colorbar": {
              "outlinewidth": 0,
              "ticks": ""
             }
            },
            "type": "scatterpolar"
           }
          ],
          "scatterpolargl": [
           {
            "marker": {
             "colorbar": {
              "outlinewidth": 0,
              "ticks": ""
             }
            },
            "type": "scatterpolargl"
           }
          ],
          "scatterternary": [
           {
            "marker": {
             "colorbar": {
              "outlinewidth": 0,
              "ticks": ""
             }
            },
            "type": "scatterternary"
           }
          ],
          "surface": [
           {
            "colorbar": {
             "outlinewidth": 0,
             "ticks": ""
            },
            "colorscale": [
             [
              0,
              "#0d0887"
             ],
             [
              0.1111111111111111,
              "#46039f"
             ],
             [
              0.2222222222222222,
              "#7201a8"
             ],
             [
              0.3333333333333333,
              "#9c179e"
             ],
             [
              0.4444444444444444,
              "#bd3786"
             ],
             [
              0.5555555555555556,
              "#d8576b"
             ],
             [
              0.6666666666666666,
              "#ed7953"
             ],
             [
              0.7777777777777778,
              "#fb9f3a"
             ],
             [
              0.8888888888888888,
              "#fdca26"
             ],
             [
              1,
              "#f0f921"
             ]
            ],
            "type": "surface"
           }
          ],
          "table": [
           {
            "cells": {
             "fill": {
              "color": "#EBF0F8"
             },
             "line": {
              "color": "white"
             }
            },
            "header": {
             "fill": {
              "color": "#C8D4E3"
             },
             "line": {
              "color": "white"
             }
            },
            "type": "table"
           }
          ]
         },
         "layout": {
          "annotationdefaults": {
           "arrowcolor": "#2a3f5f",
           "arrowhead": 0,
           "arrowwidth": 1
          },
          "autotypenumbers": "strict",
          "coloraxis": {
           "colorbar": {
            "outlinewidth": 0,
            "ticks": ""
           }
          },
          "colorscale": {
           "diverging": [
            [
             0,
             "#8e0152"
            ],
            [
             0.1,
             "#c51b7d"
            ],
            [
             0.2,
             "#de77ae"
            ],
            [
             0.3,
             "#f1b6da"
            ],
            [
             0.4,
             "#fde0ef"
            ],
            [
             0.5,
             "#f7f7f7"
            ],
            [
             0.6,
             "#e6f5d0"
            ],
            [
             0.7,
             "#b8e186"
            ],
            [
             0.8,
             "#7fbc41"
            ],
            [
             0.9,
             "#4d9221"
            ],
            [
             1,
             "#276419"
            ]
           ],
           "sequential": [
            [
             0,
             "#0d0887"
            ],
            [
             0.1111111111111111,
             "#46039f"
            ],
            [
             0.2222222222222222,
             "#7201a8"
            ],
            [
             0.3333333333333333,
             "#9c179e"
            ],
            [
             0.4444444444444444,
             "#bd3786"
            ],
            [
             0.5555555555555556,
             "#d8576b"
            ],
            [
             0.6666666666666666,
             "#ed7953"
            ],
            [
             0.7777777777777778,
             "#fb9f3a"
            ],
            [
             0.8888888888888888,
             "#fdca26"
            ],
            [
             1,
             "#f0f921"
            ]
           ],
           "sequentialminus": [
            [
             0,
             "#0d0887"
            ],
            [
             0.1111111111111111,
             "#46039f"
            ],
            [
             0.2222222222222222,
             "#7201a8"
            ],
            [
             0.3333333333333333,
             "#9c179e"
            ],
            [
             0.4444444444444444,
             "#bd3786"
            ],
            [
             0.5555555555555556,
             "#d8576b"
            ],
            [
             0.6666666666666666,
             "#ed7953"
            ],
            [
             0.7777777777777778,
             "#fb9f3a"
            ],
            [
             0.8888888888888888,
             "#fdca26"
            ],
            [
             1,
             "#f0f921"
            ]
           ]
          },
          "colorway": [
           "#636efa",
           "#EF553B",
           "#00cc96",
           "#ab63fa",
           "#FFA15A",
           "#19d3f3",
           "#FF6692",
           "#B6E880",
           "#FF97FF",
           "#FECB52"
          ],
          "font": {
           "color": "#2a3f5f"
          },
          "geo": {
           "bgcolor": "white",
           "lakecolor": "white",
           "landcolor": "#E5ECF6",
           "showlakes": true,
           "showland": true,
           "subunitcolor": "white"
          },
          "hoverlabel": {
           "align": "left"
          },
          "hovermode": "closest",
          "mapbox": {
           "style": "light"
          },
          "paper_bgcolor": "white",
          "plot_bgcolor": "#E5ECF6",
          "polar": {
           "angularaxis": {
            "gridcolor": "white",
            "linecolor": "white",
            "ticks": ""
           },
           "bgcolor": "#E5ECF6",
           "radialaxis": {
            "gridcolor": "white",
            "linecolor": "white",
            "ticks": ""
           }
          },
          "scene": {
           "xaxis": {
            "backgroundcolor": "#E5ECF6",
            "gridcolor": "white",
            "gridwidth": 2,
            "linecolor": "white",
            "showbackground": true,
            "ticks": "",
            "zerolinecolor": "white"
           },
           "yaxis": {
            "backgroundcolor": "#E5ECF6",
            "gridcolor": "white",
            "gridwidth": 2,
            "linecolor": "white",
            "showbackground": true,
            "ticks": "",
            "zerolinecolor": "white"
           },
           "zaxis": {
            "backgroundcolor": "#E5ECF6",
            "gridcolor": "white",
            "gridwidth": 2,
            "linecolor": "white",
            "showbackground": true,
            "ticks": "",
            "zerolinecolor": "white"
           }
          },
          "shapedefaults": {
           "line": {
            "color": "#2a3f5f"
           }
          },
          "ternary": {
           "aaxis": {
            "gridcolor": "white",
            "linecolor": "white",
            "ticks": ""
           },
           "baxis": {
            "gridcolor": "white",
            "linecolor": "white",
            "ticks": ""
           },
           "bgcolor": "#E5ECF6",
           "caxis": {
            "gridcolor": "white",
            "linecolor": "white",
            "ticks": ""
           }
          },
          "title": {
           "x": 0.05
          },
          "xaxis": {
           "automargin": true,
           "gridcolor": "white",
           "linecolor": "white",
           "ticks": "",
           "title": {
            "standoff": 15
           },
           "zerolinecolor": "white",
           "zerolinewidth": 2
          },
          "yaxis": {
           "automargin": true,
           "gridcolor": "white",
           "linecolor": "white",
           "ticks": "",
           "title": {
            "standoff": 15
           },
           "zerolinecolor": "white",
           "zerolinewidth": 2
          }
         }
        },
        "xaxis": {
         "rangeslider": {
          "visible": false
         }
        }
       }
      },
      "text/html": [
       "<div>                            <div id=\"ccc921a4-6d38-427a-96e3-148c5f705147\" class=\"plotly-graph-div\" style=\"height:525px; width:100%;\"></div>            <script type=\"text/javascript\">                require([\"plotly\"], function(Plotly) {                    window.PLOTLYENV=window.PLOTLYENV || {};                                    if (document.getElementById(\"ccc921a4-6d38-427a-96e3-148c5f705147\")) {                    Plotly.newPlot(                        \"ccc921a4-6d38-427a-96e3-148c5f705147\",                        [{\"close\":[964.7],\"high\":[967.7],\"low\":[920.2],\"open\":[927.3],\"x\":[\"05-Jul-2024\"],\"type\":\"candlestick\"}],                        {\"template\":{\"data\":{\"histogram2dcontour\":[{\"type\":\"histogram2dcontour\",\"colorbar\":{\"outlinewidth\":0,\"ticks\":\"\"},\"colorscale\":[[0.0,\"#0d0887\"],[0.1111111111111111,\"#46039f\"],[0.2222222222222222,\"#7201a8\"],[0.3333333333333333,\"#9c179e\"],[0.4444444444444444,\"#bd3786\"],[0.5555555555555556,\"#d8576b\"],[0.6666666666666666,\"#ed7953\"],[0.7777777777777778,\"#fb9f3a\"],[0.8888888888888888,\"#fdca26\"],[1.0,\"#f0f921\"]]}],\"choropleth\":[{\"type\":\"choropleth\",\"colorbar\":{\"outlinewidth\":0,\"ticks\":\"\"}}],\"histogram2d\":[{\"type\":\"histogram2d\",\"colorbar\":{\"outlinewidth\":0,\"ticks\":\"\"},\"colorscale\":[[0.0,\"#0d0887\"],[0.1111111111111111,\"#46039f\"],[0.2222222222222222,\"#7201a8\"],[0.3333333333333333,\"#9c179e\"],[0.4444444444444444,\"#bd3786\"],[0.5555555555555556,\"#d8576b\"],[0.6666666666666666,\"#ed7953\"],[0.7777777777777778,\"#fb9f3a\"],[0.8888888888888888,\"#fdca26\"],[1.0,\"#f0f921\"]]}],\"heatmap\":[{\"type\":\"heatmap\",\"colorbar\":{\"outlinewidth\":0,\"ticks\":\"\"},\"colorscale\":[[0.0,\"#0d0887\"],[0.1111111111111111,\"#46039f\"],[0.2222222222222222,\"#7201a8\"],[0.3333333333333333,\"#9c179e\"],[0.4444444444444444,\"#bd3786\"],[0.5555555555555556,\"#d8576b\"],[0.6666666666666666,\"#ed7953\"],[0.7777777777777778,\"#fb9f3a\"],[0.8888888888888888,\"#fdca26\"],[1.0,\"#f0f921\"]]}],\"heatmapgl\":[{\"type\":\"heatmapgl\",\"colorbar\":{\"outlinewidth\":0,\"ticks\":\"\"},\"colorscale\":[[0.0,\"#0d0887\"],[0.1111111111111111,\"#46039f\"],[0.2222222222222222,\"#7201a8\"],[0.3333333333333333,\"#9c179e\"],[0.4444444444444444,\"#bd3786\"],[0.5555555555555556,\"#d8576b\"],[0.6666666666666666,\"#ed7953\"],[0.7777777777777778,\"#fb9f3a\"],[0.8888888888888888,\"#fdca26\"],[1.0,\"#f0f921\"]]}],\"contourcarpet\":[{\"type\":\"contourcarpet\",\"colorbar\":{\"outlinewidth\":0,\"ticks\":\"\"}}],\"contour\":[{\"type\":\"contour\",\"colorbar\":{\"outlinewidth\":0,\"ticks\":\"\"},\"colorscale\":[[0.0,\"#0d0887\"],[0.1111111111111111,\"#46039f\"],[0.2222222222222222,\"#7201a8\"],[0.3333333333333333,\"#9c179e\"],[0.4444444444444444,\"#bd3786\"],[0.5555555555555556,\"#d8576b\"],[0.6666666666666666,\"#ed7953\"],[0.7777777777777778,\"#fb9f3a\"],[0.8888888888888888,\"#fdca26\"],[1.0,\"#f0f921\"]]}],\"surface\":[{\"type\":\"surface\",\"colorbar\":{\"outlinewidth\":0,\"ticks\":\"\"},\"colorscale\":[[0.0,\"#0d0887\"],[0.1111111111111111,\"#46039f\"],[0.2222222222222222,\"#7201a8\"],[0.3333333333333333,\"#9c179e\"],[0.4444444444444444,\"#bd3786\"],[0.5555555555555556,\"#d8576b\"],[0.6666666666666666,\"#ed7953\"],[0.7777777777777778,\"#fb9f3a\"],[0.8888888888888888,\"#fdca26\"],[1.0,\"#f0f921\"]]}],\"mesh3d\":[{\"type\":\"mesh3d\",\"colorbar\":{\"outlinewidth\":0,\"ticks\":\"\"}}],\"scatter\":[{\"fillpattern\":{\"fillmode\":\"overlay\",\"size\":10,\"solidity\":0.2},\"type\":\"scatter\"}],\"parcoords\":[{\"type\":\"parcoords\",\"line\":{\"colorbar\":{\"outlinewidth\":0,\"ticks\":\"\"}}}],\"scatterpolargl\":[{\"type\":\"scatterpolargl\",\"marker\":{\"colorbar\":{\"outlinewidth\":0,\"ticks\":\"\"}}}],\"bar\":[{\"error_x\":{\"color\":\"#2a3f5f\"},\"error_y\":{\"color\":\"#2a3f5f\"},\"marker\":{\"line\":{\"color\":\"#E5ECF6\",\"width\":0.5},\"pattern\":{\"fillmode\":\"overlay\",\"size\":10,\"solidity\":0.2}},\"type\":\"bar\"}],\"scattergeo\":[{\"type\":\"scattergeo\",\"marker\":{\"colorbar\":{\"outlinewidth\":0,\"ticks\":\"\"}}}],\"scatterpolar\":[{\"type\":\"scatterpolar\",\"marker\":{\"colorbar\":{\"outlinewidth\":0,\"ticks\":\"\"}}}],\"histogram\":[{\"marker\":{\"pattern\":{\"fillmode\":\"overlay\",\"size\":10,\"solidity\":0.2}},\"type\":\"histogram\"}],\"scattergl\":[{\"type\":\"scattergl\",\"marker\":{\"colorbar\":{\"outlinewidth\":0,\"ticks\":\"\"}}}],\"scatter3d\":[{\"type\":\"scatter3d\",\"line\":{\"colorbar\":{\"outlinewidth\":0,\"ticks\":\"\"}},\"marker\":{\"colorbar\":{\"outlinewidth\":0,\"ticks\":\"\"}}}],\"scattermapbox\":[{\"type\":\"scattermapbox\",\"marker\":{\"colorbar\":{\"outlinewidth\":0,\"ticks\":\"\"}}}],\"scatterternary\":[{\"type\":\"scatterternary\",\"marker\":{\"colorbar\":{\"outlinewidth\":0,\"ticks\":\"\"}}}],\"scattercarpet\":[{\"type\":\"scattercarpet\",\"marker\":{\"colorbar\":{\"outlinewidth\":0,\"ticks\":\"\"}}}],\"carpet\":[{\"aaxis\":{\"endlinecolor\":\"#2a3f5f\",\"gridcolor\":\"white\",\"linecolor\":\"white\",\"minorgridcolor\":\"white\",\"startlinecolor\":\"#2a3f5f\"},\"baxis\":{\"endlinecolor\":\"#2a3f5f\",\"gridcolor\":\"white\",\"linecolor\":\"white\",\"minorgridcolor\":\"white\",\"startlinecolor\":\"#2a3f5f\"},\"type\":\"carpet\"}],\"table\":[{\"cells\":{\"fill\":{\"color\":\"#EBF0F8\"},\"line\":{\"color\":\"white\"}},\"header\":{\"fill\":{\"color\":\"#C8D4E3\"},\"line\":{\"color\":\"white\"}},\"type\":\"table\"}],\"barpolar\":[{\"marker\":{\"line\":{\"color\":\"#E5ECF6\",\"width\":0.5},\"pattern\":{\"fillmode\":\"overlay\",\"size\":10,\"solidity\":0.2}},\"type\":\"barpolar\"}],\"pie\":[{\"automargin\":true,\"type\":\"pie\"}]},\"layout\":{\"autotypenumbers\":\"strict\",\"colorway\":[\"#636efa\",\"#EF553B\",\"#00cc96\",\"#ab63fa\",\"#FFA15A\",\"#19d3f3\",\"#FF6692\",\"#B6E880\",\"#FF97FF\",\"#FECB52\"],\"font\":{\"color\":\"#2a3f5f\"},\"hovermode\":\"closest\",\"hoverlabel\":{\"align\":\"left\"},\"paper_bgcolor\":\"white\",\"plot_bgcolor\":\"#E5ECF6\",\"polar\":{\"bgcolor\":\"#E5ECF6\",\"angularaxis\":{\"gridcolor\":\"white\",\"linecolor\":\"white\",\"ticks\":\"\"},\"radialaxis\":{\"gridcolor\":\"white\",\"linecolor\":\"white\",\"ticks\":\"\"}},\"ternary\":{\"bgcolor\":\"#E5ECF6\",\"aaxis\":{\"gridcolor\":\"white\",\"linecolor\":\"white\",\"ticks\":\"\"},\"baxis\":{\"gridcolor\":\"white\",\"linecolor\":\"white\",\"ticks\":\"\"},\"caxis\":{\"gridcolor\":\"white\",\"linecolor\":\"white\",\"ticks\":\"\"}},\"coloraxis\":{\"colorbar\":{\"outlinewidth\":0,\"ticks\":\"\"}},\"colorscale\":{\"sequential\":[[0.0,\"#0d0887\"],[0.1111111111111111,\"#46039f\"],[0.2222222222222222,\"#7201a8\"],[0.3333333333333333,\"#9c179e\"],[0.4444444444444444,\"#bd3786\"],[0.5555555555555556,\"#d8576b\"],[0.6666666666666666,\"#ed7953\"],[0.7777777777777778,\"#fb9f3a\"],[0.8888888888888888,\"#fdca26\"],[1.0,\"#f0f921\"]],\"sequentialminus\":[[0.0,\"#0d0887\"],[0.1111111111111111,\"#46039f\"],[0.2222222222222222,\"#7201a8\"],[0.3333333333333333,\"#9c179e\"],[0.4444444444444444,\"#bd3786\"],[0.5555555555555556,\"#d8576b\"],[0.6666666666666666,\"#ed7953\"],[0.7777777777777778,\"#fb9f3a\"],[0.8888888888888888,\"#fdca26\"],[1.0,\"#f0f921\"]],\"diverging\":[[0,\"#8e0152\"],[0.1,\"#c51b7d\"],[0.2,\"#de77ae\"],[0.3,\"#f1b6da\"],[0.4,\"#fde0ef\"],[0.5,\"#f7f7f7\"],[0.6,\"#e6f5d0\"],[0.7,\"#b8e186\"],[0.8,\"#7fbc41\"],[0.9,\"#4d9221\"],[1,\"#276419\"]]},\"xaxis\":{\"gridcolor\":\"white\",\"linecolor\":\"white\",\"ticks\":\"\",\"title\":{\"standoff\":15},\"zerolinecolor\":\"white\",\"automargin\":true,\"zerolinewidth\":2},\"yaxis\":{\"gridcolor\":\"white\",\"linecolor\":\"white\",\"ticks\":\"\",\"title\":{\"standoff\":15},\"zerolinecolor\":\"white\",\"automargin\":true,\"zerolinewidth\":2},\"scene\":{\"xaxis\":{\"backgroundcolor\":\"#E5ECF6\",\"gridcolor\":\"white\",\"linecolor\":\"white\",\"showbackground\":true,\"ticks\":\"\",\"zerolinecolor\":\"white\",\"gridwidth\":2},\"yaxis\":{\"backgroundcolor\":\"#E5ECF6\",\"gridcolor\":\"white\",\"linecolor\":\"white\",\"showbackground\":true,\"ticks\":\"\",\"zerolinecolor\":\"white\",\"gridwidth\":2},\"zaxis\":{\"backgroundcolor\":\"#E5ECF6\",\"gridcolor\":\"white\",\"linecolor\":\"white\",\"showbackground\":true,\"ticks\":\"\",\"zerolinecolor\":\"white\",\"gridwidth\":2}},\"shapedefaults\":{\"line\":{\"color\":\"#2a3f5f\"}},\"annotationdefaults\":{\"arrowcolor\":\"#2a3f5f\",\"arrowhead\":0,\"arrowwidth\":1},\"geo\":{\"bgcolor\":\"white\",\"landcolor\":\"#E5ECF6\",\"subunitcolor\":\"white\",\"showland\":true,\"showlakes\":true,\"lakecolor\":\"white\"},\"title\":{\"x\":0.05},\"mapbox\":{\"style\":\"light\"}}},\"xaxis\":{\"rangeslider\":{\"visible\":false}}},                        {\"responsive\": true}                    ).then(function(){\n",
       "                            \n",
       "var gd = document.getElementById('ccc921a4-6d38-427a-96e3-148c5f705147');\n",
       "var x = new MutationObserver(function (mutations, observer) {{\n",
       "        var display = window.getComputedStyle(gd).display;\n",
       "        if (!display || display === 'none') {{\n",
       "            console.log([gd, 'removed!']);\n",
       "            Plotly.purge(gd);\n",
       "            observer.disconnect();\n",
       "        }}\n",
       "}});\n",
       "\n",
       "// Listen for the removal of the full notebook cells\n",
       "var notebookContainer = gd.closest('#notebook-container');\n",
       "if (notebookContainer) {{\n",
       "    x.observe(notebookContainer, {childList: true});\n",
       "}}\n",
       "\n",
       "// Listen for the clearing of the current output cell\n",
       "var outputEl = gd.closest('.output');\n",
       "if (outputEl) {{\n",
       "    x.observe(outputEl, {childList: true});\n",
       "}}\n",
       "\n",
       "                        })                };                });            </script>        </div>"
      ]
     },
     "metadata": {},
     "output_type": "display_data"
    },
    {
     "name": "stdout",
     "output_type": "stream",
     "text": [
      "3IINFOLTD\n"
     ]
    },
    {
     "data": {
      "application/vnd.plotly.v1+json": {
       "config": {
        "plotlyServerURL": "https://plot.ly"
       },
       "data": [
        {
         "close": [],
         "high": [],
         "low": [],
         "open": [],
         "type": "candlestick",
         "x": []
        }
       ],
       "layout": {
        "template": {
         "data": {
          "bar": [
           {
            "error_x": {
             "color": "#2a3f5f"
            },
            "error_y": {
             "color": "#2a3f5f"
            },
            "marker": {
             "line": {
              "color": "#E5ECF6",
              "width": 0.5
             },
             "pattern": {
              "fillmode": "overlay",
              "size": 10,
              "solidity": 0.2
             }
            },
            "type": "bar"
           }
          ],
          "barpolar": [
           {
            "marker": {
             "line": {
              "color": "#E5ECF6",
              "width": 0.5
             },
             "pattern": {
              "fillmode": "overlay",
              "size": 10,
              "solidity": 0.2
             }
            },
            "type": "barpolar"
           }
          ],
          "carpet": [
           {
            "aaxis": {
             "endlinecolor": "#2a3f5f",
             "gridcolor": "white",
             "linecolor": "white",
             "minorgridcolor": "white",
             "startlinecolor": "#2a3f5f"
            },
            "baxis": {
             "endlinecolor": "#2a3f5f",
             "gridcolor": "white",
             "linecolor": "white",
             "minorgridcolor": "white",
             "startlinecolor": "#2a3f5f"
            },
            "type": "carpet"
           }
          ],
          "choropleth": [
           {
            "colorbar": {
             "outlinewidth": 0,
             "ticks": ""
            },
            "type": "choropleth"
           }
          ],
          "contour": [
           {
            "colorbar": {
             "outlinewidth": 0,
             "ticks": ""
            },
            "colorscale": [
             [
              0,
              "#0d0887"
             ],
             [
              0.1111111111111111,
              "#46039f"
             ],
             [
              0.2222222222222222,
              "#7201a8"
             ],
             [
              0.3333333333333333,
              "#9c179e"
             ],
             [
              0.4444444444444444,
              "#bd3786"
             ],
             [
              0.5555555555555556,
              "#d8576b"
             ],
             [
              0.6666666666666666,
              "#ed7953"
             ],
             [
              0.7777777777777778,
              "#fb9f3a"
             ],
             [
              0.8888888888888888,
              "#fdca26"
             ],
             [
              1,
              "#f0f921"
             ]
            ],
            "type": "contour"
           }
          ],
          "contourcarpet": [
           {
            "colorbar": {
             "outlinewidth": 0,
             "ticks": ""
            },
            "type": "contourcarpet"
           }
          ],
          "heatmap": [
           {
            "colorbar": {
             "outlinewidth": 0,
             "ticks": ""
            },
            "colorscale": [
             [
              0,
              "#0d0887"
             ],
             [
              0.1111111111111111,
              "#46039f"
             ],
             [
              0.2222222222222222,
              "#7201a8"
             ],
             [
              0.3333333333333333,
              "#9c179e"
             ],
             [
              0.4444444444444444,
              "#bd3786"
             ],
             [
              0.5555555555555556,
              "#d8576b"
             ],
             [
              0.6666666666666666,
              "#ed7953"
             ],
             [
              0.7777777777777778,
              "#fb9f3a"
             ],
             [
              0.8888888888888888,
              "#fdca26"
             ],
             [
              1,
              "#f0f921"
             ]
            ],
            "type": "heatmap"
           }
          ],
          "heatmapgl": [
           {
            "colorbar": {
             "outlinewidth": 0,
             "ticks": ""
            },
            "colorscale": [
             [
              0,
              "#0d0887"
             ],
             [
              0.1111111111111111,
              "#46039f"
             ],
             [
              0.2222222222222222,
              "#7201a8"
             ],
             [
              0.3333333333333333,
              "#9c179e"
             ],
             [
              0.4444444444444444,
              "#bd3786"
             ],
             [
              0.5555555555555556,
              "#d8576b"
             ],
             [
              0.6666666666666666,
              "#ed7953"
             ],
             [
              0.7777777777777778,
              "#fb9f3a"
             ],
             [
              0.8888888888888888,
              "#fdca26"
             ],
             [
              1,
              "#f0f921"
             ]
            ],
            "type": "heatmapgl"
           }
          ],
          "histogram": [
           {
            "marker": {
             "pattern": {
              "fillmode": "overlay",
              "size": 10,
              "solidity": 0.2
             }
            },
            "type": "histogram"
           }
          ],
          "histogram2d": [
           {
            "colorbar": {
             "outlinewidth": 0,
             "ticks": ""
            },
            "colorscale": [
             [
              0,
              "#0d0887"
             ],
             [
              0.1111111111111111,
              "#46039f"
             ],
             [
              0.2222222222222222,
              "#7201a8"
             ],
             [
              0.3333333333333333,
              "#9c179e"
             ],
             [
              0.4444444444444444,
              "#bd3786"
             ],
             [
              0.5555555555555556,
              "#d8576b"
             ],
             [
              0.6666666666666666,
              "#ed7953"
             ],
             [
              0.7777777777777778,
              "#fb9f3a"
             ],
             [
              0.8888888888888888,
              "#fdca26"
             ],
             [
              1,
              "#f0f921"
             ]
            ],
            "type": "histogram2d"
           }
          ],
          "histogram2dcontour": [
           {
            "colorbar": {
             "outlinewidth": 0,
             "ticks": ""
            },
            "colorscale": [
             [
              0,
              "#0d0887"
             ],
             [
              0.1111111111111111,
              "#46039f"
             ],
             [
              0.2222222222222222,
              "#7201a8"
             ],
             [
              0.3333333333333333,
              "#9c179e"
             ],
             [
              0.4444444444444444,
              "#bd3786"
             ],
             [
              0.5555555555555556,
              "#d8576b"
             ],
             [
              0.6666666666666666,
              "#ed7953"
             ],
             [
              0.7777777777777778,
              "#fb9f3a"
             ],
             [
              0.8888888888888888,
              "#fdca26"
             ],
             [
              1,
              "#f0f921"
             ]
            ],
            "type": "histogram2dcontour"
           }
          ],
          "mesh3d": [
           {
            "colorbar": {
             "outlinewidth": 0,
             "ticks": ""
            },
            "type": "mesh3d"
           }
          ],
          "parcoords": [
           {
            "line": {
             "colorbar": {
              "outlinewidth": 0,
              "ticks": ""
             }
            },
            "type": "parcoords"
           }
          ],
          "pie": [
           {
            "automargin": true,
            "type": "pie"
           }
          ],
          "scatter": [
           {
            "fillpattern": {
             "fillmode": "overlay",
             "size": 10,
             "solidity": 0.2
            },
            "type": "scatter"
           }
          ],
          "scatter3d": [
           {
            "line": {
             "colorbar": {
              "outlinewidth": 0,
              "ticks": ""
             }
            },
            "marker": {
             "colorbar": {
              "outlinewidth": 0,
              "ticks": ""
             }
            },
            "type": "scatter3d"
           }
          ],
          "scattercarpet": [
           {
            "marker": {
             "colorbar": {
              "outlinewidth": 0,
              "ticks": ""
             }
            },
            "type": "scattercarpet"
           }
          ],
          "scattergeo": [
           {
            "marker": {
             "colorbar": {
              "outlinewidth": 0,
              "ticks": ""
             }
            },
            "type": "scattergeo"
           }
          ],
          "scattergl": [
           {
            "marker": {
             "colorbar": {
              "outlinewidth": 0,
              "ticks": ""
             }
            },
            "type": "scattergl"
           }
          ],
          "scattermapbox": [
           {
            "marker": {
             "colorbar": {
              "outlinewidth": 0,
              "ticks": ""
             }
            },
            "type": "scattermapbox"
           }
          ],
          "scatterpolar": [
           {
            "marker": {
             "colorbar": {
              "outlinewidth": 0,
              "ticks": ""
             }
            },
            "type": "scatterpolar"
           }
          ],
          "scatterpolargl": [
           {
            "marker": {
             "colorbar": {
              "outlinewidth": 0,
              "ticks": ""
             }
            },
            "type": "scatterpolargl"
           }
          ],
          "scatterternary": [
           {
            "marker": {
             "colorbar": {
              "outlinewidth": 0,
              "ticks": ""
             }
            },
            "type": "scatterternary"
           }
          ],
          "surface": [
           {
            "colorbar": {
             "outlinewidth": 0,
             "ticks": ""
            },
            "colorscale": [
             [
              0,
              "#0d0887"
             ],
             [
              0.1111111111111111,
              "#46039f"
             ],
             [
              0.2222222222222222,
              "#7201a8"
             ],
             [
              0.3333333333333333,
              "#9c179e"
             ],
             [
              0.4444444444444444,
              "#bd3786"
             ],
             [
              0.5555555555555556,
              "#d8576b"
             ],
             [
              0.6666666666666666,
              "#ed7953"
             ],
             [
              0.7777777777777778,
              "#fb9f3a"
             ],
             [
              0.8888888888888888,
              "#fdca26"
             ],
             [
              1,
              "#f0f921"
             ]
            ],
            "type": "surface"
           }
          ],
          "table": [
           {
            "cells": {
             "fill": {
              "color": "#EBF0F8"
             },
             "line": {
              "color": "white"
             }
            },
            "header": {
             "fill": {
              "color": "#C8D4E3"
             },
             "line": {
              "color": "white"
             }
            },
            "type": "table"
           }
          ]
         },
         "layout": {
          "annotationdefaults": {
           "arrowcolor": "#2a3f5f",
           "arrowhead": 0,
           "arrowwidth": 1
          },
          "autotypenumbers": "strict",
          "coloraxis": {
           "colorbar": {
            "outlinewidth": 0,
            "ticks": ""
           }
          },
          "colorscale": {
           "diverging": [
            [
             0,
             "#8e0152"
            ],
            [
             0.1,
             "#c51b7d"
            ],
            [
             0.2,
             "#de77ae"
            ],
            [
             0.3,
             "#f1b6da"
            ],
            [
             0.4,
             "#fde0ef"
            ],
            [
             0.5,
             "#f7f7f7"
            ],
            [
             0.6,
             "#e6f5d0"
            ],
            [
             0.7,
             "#b8e186"
            ],
            [
             0.8,
             "#7fbc41"
            ],
            [
             0.9,
             "#4d9221"
            ],
            [
             1,
             "#276419"
            ]
           ],
           "sequential": [
            [
             0,
             "#0d0887"
            ],
            [
             0.1111111111111111,
             "#46039f"
            ],
            [
             0.2222222222222222,
             "#7201a8"
            ],
            [
             0.3333333333333333,
             "#9c179e"
            ],
            [
             0.4444444444444444,
             "#bd3786"
            ],
            [
             0.5555555555555556,
             "#d8576b"
            ],
            [
             0.6666666666666666,
             "#ed7953"
            ],
            [
             0.7777777777777778,
             "#fb9f3a"
            ],
            [
             0.8888888888888888,
             "#fdca26"
            ],
            [
             1,
             "#f0f921"
            ]
           ],
           "sequentialminus": [
            [
             0,
             "#0d0887"
            ],
            [
             0.1111111111111111,
             "#46039f"
            ],
            [
             0.2222222222222222,
             "#7201a8"
            ],
            [
             0.3333333333333333,
             "#9c179e"
            ],
            [
             0.4444444444444444,
             "#bd3786"
            ],
            [
             0.5555555555555556,
             "#d8576b"
            ],
            [
             0.6666666666666666,
             "#ed7953"
            ],
            [
             0.7777777777777778,
             "#fb9f3a"
            ],
            [
             0.8888888888888888,
             "#fdca26"
            ],
            [
             1,
             "#f0f921"
            ]
           ]
          },
          "colorway": [
           "#636efa",
           "#EF553B",
           "#00cc96",
           "#ab63fa",
           "#FFA15A",
           "#19d3f3",
           "#FF6692",
           "#B6E880",
           "#FF97FF",
           "#FECB52"
          ],
          "font": {
           "color": "#2a3f5f"
          },
          "geo": {
           "bgcolor": "white",
           "lakecolor": "white",
           "landcolor": "#E5ECF6",
           "showlakes": true,
           "showland": true,
           "subunitcolor": "white"
          },
          "hoverlabel": {
           "align": "left"
          },
          "hovermode": "closest",
          "mapbox": {
           "style": "light"
          },
          "paper_bgcolor": "white",
          "plot_bgcolor": "#E5ECF6",
          "polar": {
           "angularaxis": {
            "gridcolor": "white",
            "linecolor": "white",
            "ticks": ""
           },
           "bgcolor": "#E5ECF6",
           "radialaxis": {
            "gridcolor": "white",
            "linecolor": "white",
            "ticks": ""
           }
          },
          "scene": {
           "xaxis": {
            "backgroundcolor": "#E5ECF6",
            "gridcolor": "white",
            "gridwidth": 2,
            "linecolor": "white",
            "showbackground": true,
            "ticks": "",
            "zerolinecolor": "white"
           },
           "yaxis": {
            "backgroundcolor": "#E5ECF6",
            "gridcolor": "white",
            "gridwidth": 2,
            "linecolor": "white",
            "showbackground": true,
            "ticks": "",
            "zerolinecolor": "white"
           },
           "zaxis": {
            "backgroundcolor": "#E5ECF6",
            "gridcolor": "white",
            "gridwidth": 2,
            "linecolor": "white",
            "showbackground": true,
            "ticks": "",
            "zerolinecolor": "white"
           }
          },
          "shapedefaults": {
           "line": {
            "color": "#2a3f5f"
           }
          },
          "ternary": {
           "aaxis": {
            "gridcolor": "white",
            "linecolor": "white",
            "ticks": ""
           },
           "baxis": {
            "gridcolor": "white",
            "linecolor": "white",
            "ticks": ""
           },
           "bgcolor": "#E5ECF6",
           "caxis": {
            "gridcolor": "white",
            "linecolor": "white",
            "ticks": ""
           }
          },
          "title": {
           "x": 0.05
          },
          "xaxis": {
           "automargin": true,
           "gridcolor": "white",
           "linecolor": "white",
           "ticks": "",
           "title": {
            "standoff": 15
           },
           "zerolinecolor": "white",
           "zerolinewidth": 2
          },
          "yaxis": {
           "automargin": true,
           "gridcolor": "white",
           "linecolor": "white",
           "ticks": "",
           "title": {
            "standoff": 15
           },
           "zerolinecolor": "white",
           "zerolinewidth": 2
          }
         }
        },
        "xaxis": {
         "rangeslider": {
          "visible": false
         }
        }
       }
      },
      "text/html": [
       "<div>                            <div id=\"4ab0eefe-fdcf-4a79-8d26-876955ddf710\" class=\"plotly-graph-div\" style=\"height:525px; width:100%;\"></div>            <script type=\"text/javascript\">                require([\"plotly\"], function(Plotly) {                    window.PLOTLYENV=window.PLOTLYENV || {};                                    if (document.getElementById(\"4ab0eefe-fdcf-4a79-8d26-876955ddf710\")) {                    Plotly.newPlot(                        \"4ab0eefe-fdcf-4a79-8d26-876955ddf710\",                        [{\"close\":[],\"high\":[],\"low\":[],\"open\":[],\"x\":[],\"type\":\"candlestick\"}],                        {\"template\":{\"data\":{\"histogram2dcontour\":[{\"type\":\"histogram2dcontour\",\"colorbar\":{\"outlinewidth\":0,\"ticks\":\"\"},\"colorscale\":[[0.0,\"#0d0887\"],[0.1111111111111111,\"#46039f\"],[0.2222222222222222,\"#7201a8\"],[0.3333333333333333,\"#9c179e\"],[0.4444444444444444,\"#bd3786\"],[0.5555555555555556,\"#d8576b\"],[0.6666666666666666,\"#ed7953\"],[0.7777777777777778,\"#fb9f3a\"],[0.8888888888888888,\"#fdca26\"],[1.0,\"#f0f921\"]]}],\"choropleth\":[{\"type\":\"choropleth\",\"colorbar\":{\"outlinewidth\":0,\"ticks\":\"\"}}],\"histogram2d\":[{\"type\":\"histogram2d\",\"colorbar\":{\"outlinewidth\":0,\"ticks\":\"\"},\"colorscale\":[[0.0,\"#0d0887\"],[0.1111111111111111,\"#46039f\"],[0.2222222222222222,\"#7201a8\"],[0.3333333333333333,\"#9c179e\"],[0.4444444444444444,\"#bd3786\"],[0.5555555555555556,\"#d8576b\"],[0.6666666666666666,\"#ed7953\"],[0.7777777777777778,\"#fb9f3a\"],[0.8888888888888888,\"#fdca26\"],[1.0,\"#f0f921\"]]}],\"heatmap\":[{\"type\":\"heatmap\",\"colorbar\":{\"outlinewidth\":0,\"ticks\":\"\"},\"colorscale\":[[0.0,\"#0d0887\"],[0.1111111111111111,\"#46039f\"],[0.2222222222222222,\"#7201a8\"],[0.3333333333333333,\"#9c179e\"],[0.4444444444444444,\"#bd3786\"],[0.5555555555555556,\"#d8576b\"],[0.6666666666666666,\"#ed7953\"],[0.7777777777777778,\"#fb9f3a\"],[0.8888888888888888,\"#fdca26\"],[1.0,\"#f0f921\"]]}],\"heatmapgl\":[{\"type\":\"heatmapgl\",\"colorbar\":{\"outlinewidth\":0,\"ticks\":\"\"},\"colorscale\":[[0.0,\"#0d0887\"],[0.1111111111111111,\"#46039f\"],[0.2222222222222222,\"#7201a8\"],[0.3333333333333333,\"#9c179e\"],[0.4444444444444444,\"#bd3786\"],[0.5555555555555556,\"#d8576b\"],[0.6666666666666666,\"#ed7953\"],[0.7777777777777778,\"#fb9f3a\"],[0.8888888888888888,\"#fdca26\"],[1.0,\"#f0f921\"]]}],\"contourcarpet\":[{\"type\":\"contourcarpet\",\"colorbar\":{\"outlinewidth\":0,\"ticks\":\"\"}}],\"contour\":[{\"type\":\"contour\",\"colorbar\":{\"outlinewidth\":0,\"ticks\":\"\"},\"colorscale\":[[0.0,\"#0d0887\"],[0.1111111111111111,\"#46039f\"],[0.2222222222222222,\"#7201a8\"],[0.3333333333333333,\"#9c179e\"],[0.4444444444444444,\"#bd3786\"],[0.5555555555555556,\"#d8576b\"],[0.6666666666666666,\"#ed7953\"],[0.7777777777777778,\"#fb9f3a\"],[0.8888888888888888,\"#fdca26\"],[1.0,\"#f0f921\"]]}],\"surface\":[{\"type\":\"surface\",\"colorbar\":{\"outlinewidth\":0,\"ticks\":\"\"},\"colorscale\":[[0.0,\"#0d0887\"],[0.1111111111111111,\"#46039f\"],[0.2222222222222222,\"#7201a8\"],[0.3333333333333333,\"#9c179e\"],[0.4444444444444444,\"#bd3786\"],[0.5555555555555556,\"#d8576b\"],[0.6666666666666666,\"#ed7953\"],[0.7777777777777778,\"#fb9f3a\"],[0.8888888888888888,\"#fdca26\"],[1.0,\"#f0f921\"]]}],\"mesh3d\":[{\"type\":\"mesh3d\",\"colorbar\":{\"outlinewidth\":0,\"ticks\":\"\"}}],\"scatter\":[{\"fillpattern\":{\"fillmode\":\"overlay\",\"size\":10,\"solidity\":0.2},\"type\":\"scatter\"}],\"parcoords\":[{\"type\":\"parcoords\",\"line\":{\"colorbar\":{\"outlinewidth\":0,\"ticks\":\"\"}}}],\"scatterpolargl\":[{\"type\":\"scatterpolargl\",\"marker\":{\"colorbar\":{\"outlinewidth\":0,\"ticks\":\"\"}}}],\"bar\":[{\"error_x\":{\"color\":\"#2a3f5f\"},\"error_y\":{\"color\":\"#2a3f5f\"},\"marker\":{\"line\":{\"color\":\"#E5ECF6\",\"width\":0.5},\"pattern\":{\"fillmode\":\"overlay\",\"size\":10,\"solidity\":0.2}},\"type\":\"bar\"}],\"scattergeo\":[{\"type\":\"scattergeo\",\"marker\":{\"colorbar\":{\"outlinewidth\":0,\"ticks\":\"\"}}}],\"scatterpolar\":[{\"type\":\"scatterpolar\",\"marker\":{\"colorbar\":{\"outlinewidth\":0,\"ticks\":\"\"}}}],\"histogram\":[{\"marker\":{\"pattern\":{\"fillmode\":\"overlay\",\"size\":10,\"solidity\":0.2}},\"type\":\"histogram\"}],\"scattergl\":[{\"type\":\"scattergl\",\"marker\":{\"colorbar\":{\"outlinewidth\":0,\"ticks\":\"\"}}}],\"scatter3d\":[{\"type\":\"scatter3d\",\"line\":{\"colorbar\":{\"outlinewidth\":0,\"ticks\":\"\"}},\"marker\":{\"colorbar\":{\"outlinewidth\":0,\"ticks\":\"\"}}}],\"scattermapbox\":[{\"type\":\"scattermapbox\",\"marker\":{\"colorbar\":{\"outlinewidth\":0,\"ticks\":\"\"}}}],\"scatterternary\":[{\"type\":\"scatterternary\",\"marker\":{\"colorbar\":{\"outlinewidth\":0,\"ticks\":\"\"}}}],\"scattercarpet\":[{\"type\":\"scattercarpet\",\"marker\":{\"colorbar\":{\"outlinewidth\":0,\"ticks\":\"\"}}}],\"carpet\":[{\"aaxis\":{\"endlinecolor\":\"#2a3f5f\",\"gridcolor\":\"white\",\"linecolor\":\"white\",\"minorgridcolor\":\"white\",\"startlinecolor\":\"#2a3f5f\"},\"baxis\":{\"endlinecolor\":\"#2a3f5f\",\"gridcolor\":\"white\",\"linecolor\":\"white\",\"minorgridcolor\":\"white\",\"startlinecolor\":\"#2a3f5f\"},\"type\":\"carpet\"}],\"table\":[{\"cells\":{\"fill\":{\"color\":\"#EBF0F8\"},\"line\":{\"color\":\"white\"}},\"header\":{\"fill\":{\"color\":\"#C8D4E3\"},\"line\":{\"color\":\"white\"}},\"type\":\"table\"}],\"barpolar\":[{\"marker\":{\"line\":{\"color\":\"#E5ECF6\",\"width\":0.5},\"pattern\":{\"fillmode\":\"overlay\",\"size\":10,\"solidity\":0.2}},\"type\":\"barpolar\"}],\"pie\":[{\"automargin\":true,\"type\":\"pie\"}]},\"layout\":{\"autotypenumbers\":\"strict\",\"colorway\":[\"#636efa\",\"#EF553B\",\"#00cc96\",\"#ab63fa\",\"#FFA15A\",\"#19d3f3\",\"#FF6692\",\"#B6E880\",\"#FF97FF\",\"#FECB52\"],\"font\":{\"color\":\"#2a3f5f\"},\"hovermode\":\"closest\",\"hoverlabel\":{\"align\":\"left\"},\"paper_bgcolor\":\"white\",\"plot_bgcolor\":\"#E5ECF6\",\"polar\":{\"bgcolor\":\"#E5ECF6\",\"angularaxis\":{\"gridcolor\":\"white\",\"linecolor\":\"white\",\"ticks\":\"\"},\"radialaxis\":{\"gridcolor\":\"white\",\"linecolor\":\"white\",\"ticks\":\"\"}},\"ternary\":{\"bgcolor\":\"#E5ECF6\",\"aaxis\":{\"gridcolor\":\"white\",\"linecolor\":\"white\",\"ticks\":\"\"},\"baxis\":{\"gridcolor\":\"white\",\"linecolor\":\"white\",\"ticks\":\"\"},\"caxis\":{\"gridcolor\":\"white\",\"linecolor\":\"white\",\"ticks\":\"\"}},\"coloraxis\":{\"colorbar\":{\"outlinewidth\":0,\"ticks\":\"\"}},\"colorscale\":{\"sequential\":[[0.0,\"#0d0887\"],[0.1111111111111111,\"#46039f\"],[0.2222222222222222,\"#7201a8\"],[0.3333333333333333,\"#9c179e\"],[0.4444444444444444,\"#bd3786\"],[0.5555555555555556,\"#d8576b\"],[0.6666666666666666,\"#ed7953\"],[0.7777777777777778,\"#fb9f3a\"],[0.8888888888888888,\"#fdca26\"],[1.0,\"#f0f921\"]],\"sequentialminus\":[[0.0,\"#0d0887\"],[0.1111111111111111,\"#46039f\"],[0.2222222222222222,\"#7201a8\"],[0.3333333333333333,\"#9c179e\"],[0.4444444444444444,\"#bd3786\"],[0.5555555555555556,\"#d8576b\"],[0.6666666666666666,\"#ed7953\"],[0.7777777777777778,\"#fb9f3a\"],[0.8888888888888888,\"#fdca26\"],[1.0,\"#f0f921\"]],\"diverging\":[[0,\"#8e0152\"],[0.1,\"#c51b7d\"],[0.2,\"#de77ae\"],[0.3,\"#f1b6da\"],[0.4,\"#fde0ef\"],[0.5,\"#f7f7f7\"],[0.6,\"#e6f5d0\"],[0.7,\"#b8e186\"],[0.8,\"#7fbc41\"],[0.9,\"#4d9221\"],[1,\"#276419\"]]},\"xaxis\":{\"gridcolor\":\"white\",\"linecolor\":\"white\",\"ticks\":\"\",\"title\":{\"standoff\":15},\"zerolinecolor\":\"white\",\"automargin\":true,\"zerolinewidth\":2},\"yaxis\":{\"gridcolor\":\"white\",\"linecolor\":\"white\",\"ticks\":\"\",\"title\":{\"standoff\":15},\"zerolinecolor\":\"white\",\"automargin\":true,\"zerolinewidth\":2},\"scene\":{\"xaxis\":{\"backgroundcolor\":\"#E5ECF6\",\"gridcolor\":\"white\",\"linecolor\":\"white\",\"showbackground\":true,\"ticks\":\"\",\"zerolinecolor\":\"white\",\"gridwidth\":2},\"yaxis\":{\"backgroundcolor\":\"#E5ECF6\",\"gridcolor\":\"white\",\"linecolor\":\"white\",\"showbackground\":true,\"ticks\":\"\",\"zerolinecolor\":\"white\",\"gridwidth\":2},\"zaxis\":{\"backgroundcolor\":\"#E5ECF6\",\"gridcolor\":\"white\",\"linecolor\":\"white\",\"showbackground\":true,\"ticks\":\"\",\"zerolinecolor\":\"white\",\"gridwidth\":2}},\"shapedefaults\":{\"line\":{\"color\":\"#2a3f5f\"}},\"annotationdefaults\":{\"arrowcolor\":\"#2a3f5f\",\"arrowhead\":0,\"arrowwidth\":1},\"geo\":{\"bgcolor\":\"white\",\"landcolor\":\"#E5ECF6\",\"subunitcolor\":\"white\",\"showland\":true,\"showlakes\":true,\"lakecolor\":\"white\"},\"title\":{\"x\":0.05},\"mapbox\":{\"style\":\"light\"}}},\"xaxis\":{\"rangeslider\":{\"visible\":false}}},                        {\"responsive\": true}                    ).then(function(){\n",
       "                            \n",
       "var gd = document.getElementById('4ab0eefe-fdcf-4a79-8d26-876955ddf710');\n",
       "var x = new MutationObserver(function (mutations, observer) {{\n",
       "        var display = window.getComputedStyle(gd).display;\n",
       "        if (!display || display === 'none') {{\n",
       "            console.log([gd, 'removed!']);\n",
       "            Plotly.purge(gd);\n",
       "            observer.disconnect();\n",
       "        }}\n",
       "}});\n",
       "\n",
       "// Listen for the removal of the full notebook cells\n",
       "var notebookContainer = gd.closest('#notebook-container');\n",
       "if (notebookContainer) {{\n",
       "    x.observe(notebookContainer, {childList: true});\n",
       "}}\n",
       "\n",
       "// Listen for the clearing of the current output cell\n",
       "var outputEl = gd.closest('.output');\n",
       "if (outputEl) {{\n",
       "    x.observe(outputEl, {childList: true});\n",
       "}}\n",
       "\n",
       "                        })                };                });            </script>        </div>"
      ]
     },
     "metadata": {},
     "output_type": "display_data"
    },
    {
     "name": "stdout",
     "output_type": "stream",
     "text": [
      "3MINDIA\n"
     ]
    },
    {
     "data": {
      "application/vnd.plotly.v1+json": {
       "config": {
        "plotlyServerURL": "https://plot.ly"
       },
       "data": [
        {
         "close": [
          37068.55,
          37965.45,
          37857.1,
          39294.7,
          40020.6
         ],
         "high": [
          37248,
          38258.45,
          37998,
          39398.45,
          40181
         ],
         "low": [
          36540,
          37093,
          37050,
          38370,
          39115.8
         ],
         "open": [
          36540,
          37300,
          37350.6,
          38629,
          39294.7
         ],
         "type": "candlestick",
         "x": [
          "18-Jun-2024",
          "21-Jun-2024",
          "01-Jul-2024",
          "08-Jul-2024",
          "09-Jul-2024"
         ]
        }
       ],
       "layout": {
        "template": {
         "data": {
          "bar": [
           {
            "error_x": {
             "color": "#2a3f5f"
            },
            "error_y": {
             "color": "#2a3f5f"
            },
            "marker": {
             "line": {
              "color": "#E5ECF6",
              "width": 0.5
             },
             "pattern": {
              "fillmode": "overlay",
              "size": 10,
              "solidity": 0.2
             }
            },
            "type": "bar"
           }
          ],
          "barpolar": [
           {
            "marker": {
             "line": {
              "color": "#E5ECF6",
              "width": 0.5
             },
             "pattern": {
              "fillmode": "overlay",
              "size": 10,
              "solidity": 0.2
             }
            },
            "type": "barpolar"
           }
          ],
          "carpet": [
           {
            "aaxis": {
             "endlinecolor": "#2a3f5f",
             "gridcolor": "white",
             "linecolor": "white",
             "minorgridcolor": "white",
             "startlinecolor": "#2a3f5f"
            },
            "baxis": {
             "endlinecolor": "#2a3f5f",
             "gridcolor": "white",
             "linecolor": "white",
             "minorgridcolor": "white",
             "startlinecolor": "#2a3f5f"
            },
            "type": "carpet"
           }
          ],
          "choropleth": [
           {
            "colorbar": {
             "outlinewidth": 0,
             "ticks": ""
            },
            "type": "choropleth"
           }
          ],
          "contour": [
           {
            "colorbar": {
             "outlinewidth": 0,
             "ticks": ""
            },
            "colorscale": [
             [
              0,
              "#0d0887"
             ],
             [
              0.1111111111111111,
              "#46039f"
             ],
             [
              0.2222222222222222,
              "#7201a8"
             ],
             [
              0.3333333333333333,
              "#9c179e"
             ],
             [
              0.4444444444444444,
              "#bd3786"
             ],
             [
              0.5555555555555556,
              "#d8576b"
             ],
             [
              0.6666666666666666,
              "#ed7953"
             ],
             [
              0.7777777777777778,
              "#fb9f3a"
             ],
             [
              0.8888888888888888,
              "#fdca26"
             ],
             [
              1,
              "#f0f921"
             ]
            ],
            "type": "contour"
           }
          ],
          "contourcarpet": [
           {
            "colorbar": {
             "outlinewidth": 0,
             "ticks": ""
            },
            "type": "contourcarpet"
           }
          ],
          "heatmap": [
           {
            "colorbar": {
             "outlinewidth": 0,
             "ticks": ""
            },
            "colorscale": [
             [
              0,
              "#0d0887"
             ],
             [
              0.1111111111111111,
              "#46039f"
             ],
             [
              0.2222222222222222,
              "#7201a8"
             ],
             [
              0.3333333333333333,
              "#9c179e"
             ],
             [
              0.4444444444444444,
              "#bd3786"
             ],
             [
              0.5555555555555556,
              "#d8576b"
             ],
             [
              0.6666666666666666,
              "#ed7953"
             ],
             [
              0.7777777777777778,
              "#fb9f3a"
             ],
             [
              0.8888888888888888,
              "#fdca26"
             ],
             [
              1,
              "#f0f921"
             ]
            ],
            "type": "heatmap"
           }
          ],
          "heatmapgl": [
           {
            "colorbar": {
             "outlinewidth": 0,
             "ticks": ""
            },
            "colorscale": [
             [
              0,
              "#0d0887"
             ],
             [
              0.1111111111111111,
              "#46039f"
             ],
             [
              0.2222222222222222,
              "#7201a8"
             ],
             [
              0.3333333333333333,
              "#9c179e"
             ],
             [
              0.4444444444444444,
              "#bd3786"
             ],
             [
              0.5555555555555556,
              "#d8576b"
             ],
             [
              0.6666666666666666,
              "#ed7953"
             ],
             [
              0.7777777777777778,
              "#fb9f3a"
             ],
             [
              0.8888888888888888,
              "#fdca26"
             ],
             [
              1,
              "#f0f921"
             ]
            ],
            "type": "heatmapgl"
           }
          ],
          "histogram": [
           {
            "marker": {
             "pattern": {
              "fillmode": "overlay",
              "size": 10,
              "solidity": 0.2
             }
            },
            "type": "histogram"
           }
          ],
          "histogram2d": [
           {
            "colorbar": {
             "outlinewidth": 0,
             "ticks": ""
            },
            "colorscale": [
             [
              0,
              "#0d0887"
             ],
             [
              0.1111111111111111,
              "#46039f"
             ],
             [
              0.2222222222222222,
              "#7201a8"
             ],
             [
              0.3333333333333333,
              "#9c179e"
             ],
             [
              0.4444444444444444,
              "#bd3786"
             ],
             [
              0.5555555555555556,
              "#d8576b"
             ],
             [
              0.6666666666666666,
              "#ed7953"
             ],
             [
              0.7777777777777778,
              "#fb9f3a"
             ],
             [
              0.8888888888888888,
              "#fdca26"
             ],
             [
              1,
              "#f0f921"
             ]
            ],
            "type": "histogram2d"
           }
          ],
          "histogram2dcontour": [
           {
            "colorbar": {
             "outlinewidth": 0,
             "ticks": ""
            },
            "colorscale": [
             [
              0,
              "#0d0887"
             ],
             [
              0.1111111111111111,
              "#46039f"
             ],
             [
              0.2222222222222222,
              "#7201a8"
             ],
             [
              0.3333333333333333,
              "#9c179e"
             ],
             [
              0.4444444444444444,
              "#bd3786"
             ],
             [
              0.5555555555555556,
              "#d8576b"
             ],
             [
              0.6666666666666666,
              "#ed7953"
             ],
             [
              0.7777777777777778,
              "#fb9f3a"
             ],
             [
              0.8888888888888888,
              "#fdca26"
             ],
             [
              1,
              "#f0f921"
             ]
            ],
            "type": "histogram2dcontour"
           }
          ],
          "mesh3d": [
           {
            "colorbar": {
             "outlinewidth": 0,
             "ticks": ""
            },
            "type": "mesh3d"
           }
          ],
          "parcoords": [
           {
            "line": {
             "colorbar": {
              "outlinewidth": 0,
              "ticks": ""
             }
            },
            "type": "parcoords"
           }
          ],
          "pie": [
           {
            "automargin": true,
            "type": "pie"
           }
          ],
          "scatter": [
           {
            "fillpattern": {
             "fillmode": "overlay",
             "size": 10,
             "solidity": 0.2
            },
            "type": "scatter"
           }
          ],
          "scatter3d": [
           {
            "line": {
             "colorbar": {
              "outlinewidth": 0,
              "ticks": ""
             }
            },
            "marker": {
             "colorbar": {
              "outlinewidth": 0,
              "ticks": ""
             }
            },
            "type": "scatter3d"
           }
          ],
          "scattercarpet": [
           {
            "marker": {
             "colorbar": {
              "outlinewidth": 0,
              "ticks": ""
             }
            },
            "type": "scattercarpet"
           }
          ],
          "scattergeo": [
           {
            "marker": {
             "colorbar": {
              "outlinewidth": 0,
              "ticks": ""
             }
            },
            "type": "scattergeo"
           }
          ],
          "scattergl": [
           {
            "marker": {
             "colorbar": {
              "outlinewidth": 0,
              "ticks": ""
             }
            },
            "type": "scattergl"
           }
          ],
          "scattermapbox": [
           {
            "marker": {
             "colorbar": {
              "outlinewidth": 0,
              "ticks": ""
             }
            },
            "type": "scattermapbox"
           }
          ],
          "scatterpolar": [
           {
            "marker": {
             "colorbar": {
              "outlinewidth": 0,
              "ticks": ""
             }
            },
            "type": "scatterpolar"
           }
          ],
          "scatterpolargl": [
           {
            "marker": {
             "colorbar": {
              "outlinewidth": 0,
              "ticks": ""
             }
            },
            "type": "scatterpolargl"
           }
          ],
          "scatterternary": [
           {
            "marker": {
             "colorbar": {
              "outlinewidth": 0,
              "ticks": ""
             }
            },
            "type": "scatterternary"
           }
          ],
          "surface": [
           {
            "colorbar": {
             "outlinewidth": 0,
             "ticks": ""
            },
            "colorscale": [
             [
              0,
              "#0d0887"
             ],
             [
              0.1111111111111111,
              "#46039f"
             ],
             [
              0.2222222222222222,
              "#7201a8"
             ],
             [
              0.3333333333333333,
              "#9c179e"
             ],
             [
              0.4444444444444444,
              "#bd3786"
             ],
             [
              0.5555555555555556,
              "#d8576b"
             ],
             [
              0.6666666666666666,
              "#ed7953"
             ],
             [
              0.7777777777777778,
              "#fb9f3a"
             ],
             [
              0.8888888888888888,
              "#fdca26"
             ],
             [
              1,
              "#f0f921"
             ]
            ],
            "type": "surface"
           }
          ],
          "table": [
           {
            "cells": {
             "fill": {
              "color": "#EBF0F8"
             },
             "line": {
              "color": "white"
             }
            },
            "header": {
             "fill": {
              "color": "#C8D4E3"
             },
             "line": {
              "color": "white"
             }
            },
            "type": "table"
           }
          ]
         },
         "layout": {
          "annotationdefaults": {
           "arrowcolor": "#2a3f5f",
           "arrowhead": 0,
           "arrowwidth": 1
          },
          "autotypenumbers": "strict",
          "coloraxis": {
           "colorbar": {
            "outlinewidth": 0,
            "ticks": ""
           }
          },
          "colorscale": {
           "diverging": [
            [
             0,
             "#8e0152"
            ],
            [
             0.1,
             "#c51b7d"
            ],
            [
             0.2,
             "#de77ae"
            ],
            [
             0.3,
             "#f1b6da"
            ],
            [
             0.4,
             "#fde0ef"
            ],
            [
             0.5,
             "#f7f7f7"
            ],
            [
             0.6,
             "#e6f5d0"
            ],
            [
             0.7,
             "#b8e186"
            ],
            [
             0.8,
             "#7fbc41"
            ],
            [
             0.9,
             "#4d9221"
            ],
            [
             1,
             "#276419"
            ]
           ],
           "sequential": [
            [
             0,
             "#0d0887"
            ],
            [
             0.1111111111111111,
             "#46039f"
            ],
            [
             0.2222222222222222,
             "#7201a8"
            ],
            [
             0.3333333333333333,
             "#9c179e"
            ],
            [
             0.4444444444444444,
             "#bd3786"
            ],
            [
             0.5555555555555556,
             "#d8576b"
            ],
            [
             0.6666666666666666,
             "#ed7953"
            ],
            [
             0.7777777777777778,
             "#fb9f3a"
            ],
            [
             0.8888888888888888,
             "#fdca26"
            ],
            [
             1,
             "#f0f921"
            ]
           ],
           "sequentialminus": [
            [
             0,
             "#0d0887"
            ],
            [
             0.1111111111111111,
             "#46039f"
            ],
            [
             0.2222222222222222,
             "#7201a8"
            ],
            [
             0.3333333333333333,
             "#9c179e"
            ],
            [
             0.4444444444444444,
             "#bd3786"
            ],
            [
             0.5555555555555556,
             "#d8576b"
            ],
            [
             0.6666666666666666,
             "#ed7953"
            ],
            [
             0.7777777777777778,
             "#fb9f3a"
            ],
            [
             0.8888888888888888,
             "#fdca26"
            ],
            [
             1,
             "#f0f921"
            ]
           ]
          },
          "colorway": [
           "#636efa",
           "#EF553B",
           "#00cc96",
           "#ab63fa",
           "#FFA15A",
           "#19d3f3",
           "#FF6692",
           "#B6E880",
           "#FF97FF",
           "#FECB52"
          ],
          "font": {
           "color": "#2a3f5f"
          },
          "geo": {
           "bgcolor": "white",
           "lakecolor": "white",
           "landcolor": "#E5ECF6",
           "showlakes": true,
           "showland": true,
           "subunitcolor": "white"
          },
          "hoverlabel": {
           "align": "left"
          },
          "hovermode": "closest",
          "mapbox": {
           "style": "light"
          },
          "paper_bgcolor": "white",
          "plot_bgcolor": "#E5ECF6",
          "polar": {
           "angularaxis": {
            "gridcolor": "white",
            "linecolor": "white",
            "ticks": ""
           },
           "bgcolor": "#E5ECF6",
           "radialaxis": {
            "gridcolor": "white",
            "linecolor": "white",
            "ticks": ""
           }
          },
          "scene": {
           "xaxis": {
            "backgroundcolor": "#E5ECF6",
            "gridcolor": "white",
            "gridwidth": 2,
            "linecolor": "white",
            "showbackground": true,
            "ticks": "",
            "zerolinecolor": "white"
           },
           "yaxis": {
            "backgroundcolor": "#E5ECF6",
            "gridcolor": "white",
            "gridwidth": 2,
            "linecolor": "white",
            "showbackground": true,
            "ticks": "",
            "zerolinecolor": "white"
           },
           "zaxis": {
            "backgroundcolor": "#E5ECF6",
            "gridcolor": "white",
            "gridwidth": 2,
            "linecolor": "white",
            "showbackground": true,
            "ticks": "",
            "zerolinecolor": "white"
           }
          },
          "shapedefaults": {
           "line": {
            "color": "#2a3f5f"
           }
          },
          "ternary": {
           "aaxis": {
            "gridcolor": "white",
            "linecolor": "white",
            "ticks": ""
           },
           "baxis": {
            "gridcolor": "white",
            "linecolor": "white",
            "ticks": ""
           },
           "bgcolor": "#E5ECF6",
           "caxis": {
            "gridcolor": "white",
            "linecolor": "white",
            "ticks": ""
           }
          },
          "title": {
           "x": 0.05
          },
          "xaxis": {
           "automargin": true,
           "gridcolor": "white",
           "linecolor": "white",
           "ticks": "",
           "title": {
            "standoff": 15
           },
           "zerolinecolor": "white",
           "zerolinewidth": 2
          },
          "yaxis": {
           "automargin": true,
           "gridcolor": "white",
           "linecolor": "white",
           "ticks": "",
           "title": {
            "standoff": 15
           },
           "zerolinecolor": "white",
           "zerolinewidth": 2
          }
         }
        },
        "xaxis": {
         "rangeslider": {
          "visible": false
         }
        }
       }
      },
      "text/html": [
       "<div>                            <div id=\"6540b62e-376d-4157-893e-fab8608a09bb\" class=\"plotly-graph-div\" style=\"height:525px; width:100%;\"></div>            <script type=\"text/javascript\">                require([\"plotly\"], function(Plotly) {                    window.PLOTLYENV=window.PLOTLYENV || {};                                    if (document.getElementById(\"6540b62e-376d-4157-893e-fab8608a09bb\")) {                    Plotly.newPlot(                        \"6540b62e-376d-4157-893e-fab8608a09bb\",                        [{\"close\":[37068.55,37965.45,37857.1,39294.7,40020.6],\"high\":[37248.0,38258.45,37998.0,39398.45,40181.0],\"low\":[36540.0,37093.0,37050.0,38370.0,39115.8],\"open\":[36540.0,37300.0,37350.6,38629.0,39294.7],\"x\":[\"18-Jun-2024\",\"21-Jun-2024\",\"01-Jul-2024\",\"08-Jul-2024\",\"09-Jul-2024\"],\"type\":\"candlestick\"}],                        {\"template\":{\"data\":{\"histogram2dcontour\":[{\"type\":\"histogram2dcontour\",\"colorbar\":{\"outlinewidth\":0,\"ticks\":\"\"},\"colorscale\":[[0.0,\"#0d0887\"],[0.1111111111111111,\"#46039f\"],[0.2222222222222222,\"#7201a8\"],[0.3333333333333333,\"#9c179e\"],[0.4444444444444444,\"#bd3786\"],[0.5555555555555556,\"#d8576b\"],[0.6666666666666666,\"#ed7953\"],[0.7777777777777778,\"#fb9f3a\"],[0.8888888888888888,\"#fdca26\"],[1.0,\"#f0f921\"]]}],\"choropleth\":[{\"type\":\"choropleth\",\"colorbar\":{\"outlinewidth\":0,\"ticks\":\"\"}}],\"histogram2d\":[{\"type\":\"histogram2d\",\"colorbar\":{\"outlinewidth\":0,\"ticks\":\"\"},\"colorscale\":[[0.0,\"#0d0887\"],[0.1111111111111111,\"#46039f\"],[0.2222222222222222,\"#7201a8\"],[0.3333333333333333,\"#9c179e\"],[0.4444444444444444,\"#bd3786\"],[0.5555555555555556,\"#d8576b\"],[0.6666666666666666,\"#ed7953\"],[0.7777777777777778,\"#fb9f3a\"],[0.8888888888888888,\"#fdca26\"],[1.0,\"#f0f921\"]]}],\"heatmap\":[{\"type\":\"heatmap\",\"colorbar\":{\"outlinewidth\":0,\"ticks\":\"\"},\"colorscale\":[[0.0,\"#0d0887\"],[0.1111111111111111,\"#46039f\"],[0.2222222222222222,\"#7201a8\"],[0.3333333333333333,\"#9c179e\"],[0.4444444444444444,\"#bd3786\"],[0.5555555555555556,\"#d8576b\"],[0.6666666666666666,\"#ed7953\"],[0.7777777777777778,\"#fb9f3a\"],[0.8888888888888888,\"#fdca26\"],[1.0,\"#f0f921\"]]}],\"heatmapgl\":[{\"type\":\"heatmapgl\",\"colorbar\":{\"outlinewidth\":0,\"ticks\":\"\"},\"colorscale\":[[0.0,\"#0d0887\"],[0.1111111111111111,\"#46039f\"],[0.2222222222222222,\"#7201a8\"],[0.3333333333333333,\"#9c179e\"],[0.4444444444444444,\"#bd3786\"],[0.5555555555555556,\"#d8576b\"],[0.6666666666666666,\"#ed7953\"],[0.7777777777777778,\"#fb9f3a\"],[0.8888888888888888,\"#fdca26\"],[1.0,\"#f0f921\"]]}],\"contourcarpet\":[{\"type\":\"contourcarpet\",\"colorbar\":{\"outlinewidth\":0,\"ticks\":\"\"}}],\"contour\":[{\"type\":\"contour\",\"colorbar\":{\"outlinewidth\":0,\"ticks\":\"\"},\"colorscale\":[[0.0,\"#0d0887\"],[0.1111111111111111,\"#46039f\"],[0.2222222222222222,\"#7201a8\"],[0.3333333333333333,\"#9c179e\"],[0.4444444444444444,\"#bd3786\"],[0.5555555555555556,\"#d8576b\"],[0.6666666666666666,\"#ed7953\"],[0.7777777777777778,\"#fb9f3a\"],[0.8888888888888888,\"#fdca26\"],[1.0,\"#f0f921\"]]}],\"surface\":[{\"type\":\"surface\",\"colorbar\":{\"outlinewidth\":0,\"ticks\":\"\"},\"colorscale\":[[0.0,\"#0d0887\"],[0.1111111111111111,\"#46039f\"],[0.2222222222222222,\"#7201a8\"],[0.3333333333333333,\"#9c179e\"],[0.4444444444444444,\"#bd3786\"],[0.5555555555555556,\"#d8576b\"],[0.6666666666666666,\"#ed7953\"],[0.7777777777777778,\"#fb9f3a\"],[0.8888888888888888,\"#fdca26\"],[1.0,\"#f0f921\"]]}],\"mesh3d\":[{\"type\":\"mesh3d\",\"colorbar\":{\"outlinewidth\":0,\"ticks\":\"\"}}],\"scatter\":[{\"fillpattern\":{\"fillmode\":\"overlay\",\"size\":10,\"solidity\":0.2},\"type\":\"scatter\"}],\"parcoords\":[{\"type\":\"parcoords\",\"line\":{\"colorbar\":{\"outlinewidth\":0,\"ticks\":\"\"}}}],\"scatterpolargl\":[{\"type\":\"scatterpolargl\",\"marker\":{\"colorbar\":{\"outlinewidth\":0,\"ticks\":\"\"}}}],\"bar\":[{\"error_x\":{\"color\":\"#2a3f5f\"},\"error_y\":{\"color\":\"#2a3f5f\"},\"marker\":{\"line\":{\"color\":\"#E5ECF6\",\"width\":0.5},\"pattern\":{\"fillmode\":\"overlay\",\"size\":10,\"solidity\":0.2}},\"type\":\"bar\"}],\"scattergeo\":[{\"type\":\"scattergeo\",\"marker\":{\"colorbar\":{\"outlinewidth\":0,\"ticks\":\"\"}}}],\"scatterpolar\":[{\"type\":\"scatterpolar\",\"marker\":{\"colorbar\":{\"outlinewidth\":0,\"ticks\":\"\"}}}],\"histogram\":[{\"marker\":{\"pattern\":{\"fillmode\":\"overlay\",\"size\":10,\"solidity\":0.2}},\"type\":\"histogram\"}],\"scattergl\":[{\"type\":\"scattergl\",\"marker\":{\"colorbar\":{\"outlinewidth\":0,\"ticks\":\"\"}}}],\"scatter3d\":[{\"type\":\"scatter3d\",\"line\":{\"colorbar\":{\"outlinewidth\":0,\"ticks\":\"\"}},\"marker\":{\"colorbar\":{\"outlinewidth\":0,\"ticks\":\"\"}}}],\"scattermapbox\":[{\"type\":\"scattermapbox\",\"marker\":{\"colorbar\":{\"outlinewidth\":0,\"ticks\":\"\"}}}],\"scatterternary\":[{\"type\":\"scatterternary\",\"marker\":{\"colorbar\":{\"outlinewidth\":0,\"ticks\":\"\"}}}],\"scattercarpet\":[{\"type\":\"scattercarpet\",\"marker\":{\"colorbar\":{\"outlinewidth\":0,\"ticks\":\"\"}}}],\"carpet\":[{\"aaxis\":{\"endlinecolor\":\"#2a3f5f\",\"gridcolor\":\"white\",\"linecolor\":\"white\",\"minorgridcolor\":\"white\",\"startlinecolor\":\"#2a3f5f\"},\"baxis\":{\"endlinecolor\":\"#2a3f5f\",\"gridcolor\":\"white\",\"linecolor\":\"white\",\"minorgridcolor\":\"white\",\"startlinecolor\":\"#2a3f5f\"},\"type\":\"carpet\"}],\"table\":[{\"cells\":{\"fill\":{\"color\":\"#EBF0F8\"},\"line\":{\"color\":\"white\"}},\"header\":{\"fill\":{\"color\":\"#C8D4E3\"},\"line\":{\"color\":\"white\"}},\"type\":\"table\"}],\"barpolar\":[{\"marker\":{\"line\":{\"color\":\"#E5ECF6\",\"width\":0.5},\"pattern\":{\"fillmode\":\"overlay\",\"size\":10,\"solidity\":0.2}},\"type\":\"barpolar\"}],\"pie\":[{\"automargin\":true,\"type\":\"pie\"}]},\"layout\":{\"autotypenumbers\":\"strict\",\"colorway\":[\"#636efa\",\"#EF553B\",\"#00cc96\",\"#ab63fa\",\"#FFA15A\",\"#19d3f3\",\"#FF6692\",\"#B6E880\",\"#FF97FF\",\"#FECB52\"],\"font\":{\"color\":\"#2a3f5f\"},\"hovermode\":\"closest\",\"hoverlabel\":{\"align\":\"left\"},\"paper_bgcolor\":\"white\",\"plot_bgcolor\":\"#E5ECF6\",\"polar\":{\"bgcolor\":\"#E5ECF6\",\"angularaxis\":{\"gridcolor\":\"white\",\"linecolor\":\"white\",\"ticks\":\"\"},\"radialaxis\":{\"gridcolor\":\"white\",\"linecolor\":\"white\",\"ticks\":\"\"}},\"ternary\":{\"bgcolor\":\"#E5ECF6\",\"aaxis\":{\"gridcolor\":\"white\",\"linecolor\":\"white\",\"ticks\":\"\"},\"baxis\":{\"gridcolor\":\"white\",\"linecolor\":\"white\",\"ticks\":\"\"},\"caxis\":{\"gridcolor\":\"white\",\"linecolor\":\"white\",\"ticks\":\"\"}},\"coloraxis\":{\"colorbar\":{\"outlinewidth\":0,\"ticks\":\"\"}},\"colorscale\":{\"sequential\":[[0.0,\"#0d0887\"],[0.1111111111111111,\"#46039f\"],[0.2222222222222222,\"#7201a8\"],[0.3333333333333333,\"#9c179e\"],[0.4444444444444444,\"#bd3786\"],[0.5555555555555556,\"#d8576b\"],[0.6666666666666666,\"#ed7953\"],[0.7777777777777778,\"#fb9f3a\"],[0.8888888888888888,\"#fdca26\"],[1.0,\"#f0f921\"]],\"sequentialminus\":[[0.0,\"#0d0887\"],[0.1111111111111111,\"#46039f\"],[0.2222222222222222,\"#7201a8\"],[0.3333333333333333,\"#9c179e\"],[0.4444444444444444,\"#bd3786\"],[0.5555555555555556,\"#d8576b\"],[0.6666666666666666,\"#ed7953\"],[0.7777777777777778,\"#fb9f3a\"],[0.8888888888888888,\"#fdca26\"],[1.0,\"#f0f921\"]],\"diverging\":[[0,\"#8e0152\"],[0.1,\"#c51b7d\"],[0.2,\"#de77ae\"],[0.3,\"#f1b6da\"],[0.4,\"#fde0ef\"],[0.5,\"#f7f7f7\"],[0.6,\"#e6f5d0\"],[0.7,\"#b8e186\"],[0.8,\"#7fbc41\"],[0.9,\"#4d9221\"],[1,\"#276419\"]]},\"xaxis\":{\"gridcolor\":\"white\",\"linecolor\":\"white\",\"ticks\":\"\",\"title\":{\"standoff\":15},\"zerolinecolor\":\"white\",\"automargin\":true,\"zerolinewidth\":2},\"yaxis\":{\"gridcolor\":\"white\",\"linecolor\":\"white\",\"ticks\":\"\",\"title\":{\"standoff\":15},\"zerolinecolor\":\"white\",\"automargin\":true,\"zerolinewidth\":2},\"scene\":{\"xaxis\":{\"backgroundcolor\":\"#E5ECF6\",\"gridcolor\":\"white\",\"linecolor\":\"white\",\"showbackground\":true,\"ticks\":\"\",\"zerolinecolor\":\"white\",\"gridwidth\":2},\"yaxis\":{\"backgroundcolor\":\"#E5ECF6\",\"gridcolor\":\"white\",\"linecolor\":\"white\",\"showbackground\":true,\"ticks\":\"\",\"zerolinecolor\":\"white\",\"gridwidth\":2},\"zaxis\":{\"backgroundcolor\":\"#E5ECF6\",\"gridcolor\":\"white\",\"linecolor\":\"white\",\"showbackground\":true,\"ticks\":\"\",\"zerolinecolor\":\"white\",\"gridwidth\":2}},\"shapedefaults\":{\"line\":{\"color\":\"#2a3f5f\"}},\"annotationdefaults\":{\"arrowcolor\":\"#2a3f5f\",\"arrowhead\":0,\"arrowwidth\":1},\"geo\":{\"bgcolor\":\"white\",\"landcolor\":\"#E5ECF6\",\"subunitcolor\":\"white\",\"showland\":true,\"showlakes\":true,\"lakecolor\":\"white\"},\"title\":{\"x\":0.05},\"mapbox\":{\"style\":\"light\"}}},\"xaxis\":{\"rangeslider\":{\"visible\":false}}},                        {\"responsive\": true}                    ).then(function(){\n",
       "                            \n",
       "var gd = document.getElementById('6540b62e-376d-4157-893e-fab8608a09bb');\n",
       "var x = new MutationObserver(function (mutations, observer) {{\n",
       "        var display = window.getComputedStyle(gd).display;\n",
       "        if (!display || display === 'none') {{\n",
       "            console.log([gd, 'removed!']);\n",
       "            Plotly.purge(gd);\n",
       "            observer.disconnect();\n",
       "        }}\n",
       "}});\n",
       "\n",
       "// Listen for the removal of the full notebook cells\n",
       "var notebookContainer = gd.closest('#notebook-container');\n",
       "if (notebookContainer) {{\n",
       "    x.observe(notebookContainer, {childList: true});\n",
       "}}\n",
       "\n",
       "// Listen for the clearing of the current output cell\n",
       "var outputEl = gd.closest('.output');\n",
       "if (outputEl) {{\n",
       "    x.observe(outputEl, {childList: true});\n",
       "}}\n",
       "\n",
       "                        })                };                });            </script>        </div>"
      ]
     },
     "metadata": {},
     "output_type": "display_data"
    }
   ],
   "source": [
    "import plotly.graph_objects as go\n",
    "\n",
    "from datetime import datetime\n",
    "\n",
    "for symbol in symbol_list:\n",
    "    data_to_plot = master_data[master_data['Symbol']==symbol]\n",
    "    data_to_plot = data_to_plot[data_to_plot['bullish_murubuzo']==True]\n",
    "    print(symbol)\n",
    "    fig = go.Figure(data=[go.Candlestick(x=data_to_plot['Date'],\n",
    "                    open=data_to_plot['OpenPrice'],\n",
    "                    high=data_to_plot['HighPrice'],\n",
    "                    low=data_to_plot['LowPrice'],\n",
    "                    close=data_to_plot['ClosePrice'])])\n",
    "    fig.update_layout(xaxis_rangeslider_visible=False)\n",
    "    fig.show()\n"
   ]
  },
  {
   "cell_type": "code",
   "execution_count": null,
   "metadata": {},
   "outputs": [],
   "source": [
    "#TODO :  Write test cases"
   ]
  },
  {
   "cell_type": "markdown",
   "metadata": {},
   "source": [
    "Candlesticks_pattern\n",
    "1. Single Candlestick pattern\n",
    "    - Marubuzo -> Open=Low, High = Close (0.5% relaxation)\n",
    "    - Dojis -> Open = Close (0.5-1% relaxation)\n",
    "    - Paper_umbrella ->  length of lower shadow > length of real body\n",
    "    \n",
    "    "
   ]
  }
 ],
 "metadata": {
  "kernelspec": {
   "display_name": "Python 3",
   "language": "python",
   "name": "python3"
  },
  "language_info": {
   "codemirror_mode": {
    "name": "ipython",
    "version": 3
   },
   "file_extension": ".py",
   "mimetype": "text/x-python",
   "name": "python",
   "nbconvert_exporter": "python",
   "pygments_lexer": "ipython3",
   "version": "3.12.8"
  }
 },
 "nbformat": 4,
 "nbformat_minor": 2
}
